{
  "cells": [
    {
      "cell_type": "markdown",
      "metadata": {
        "id": "view-in-github",
        "colab_type": "text"
      },
      "source": [
        "<a href=\"https://colab.research.google.com/github/SrijaG29/Movie-Data-Analysis-and-Recommendations-Using-PySpark/blob/main/Movies_ratings_analysis.ipynb\" target=\"_parent\"><img src=\"https://colab.research.google.com/assets/colab-badge.svg\" alt=\"Open In Colab\"/></a>"
      ]
    },
    {
      "cell_type": "markdown",
      "source": [
        "To create a project using the movie and ratings datasets with PySpark, here’s a step-by-step guide along with some ideas for questions you can answer. This will help demonstrate your PySpark skills and data analysis capabilities on your resume.\n",
        "\n",
        "### Step 1: Data Exploration\n",
        "1. **Load the datasets into PySpark**:\n",
        "   - Load the movie dataset (`movies.csv`) and ratings dataset (`ratings.csv`) into PySpark DataFrames.\n",
        "\n",
        "2. **Inspect the Data**:\n",
        "   - Display the schema and first few rows of both DataFrames to understand the data structure.\n",
        "\n",
        "### Step 2: Data Cleaning and Preparation\n",
        "1. **Handle Missing Values**:\n",
        "   - Check for any missing values and decide how to handle them (e.g., drop rows, fill with default values).\n",
        "\n",
        "2. **Data Transformation**:\n",
        "   - Extract the year from the movie title and create a new column `year`.\n",
        "   - Split the `genres` column into an array of genres.\n",
        "\n",
        "3. **Join the Datasets**:\n",
        "   - Perform an inner join on the `movieId` column to combine the movie and ratings datasets.\n",
        "\n",
        "### Step 3: Data Analysis\n",
        "1. **Top-Rated Movies**:\n",
        "   - Find the top 10 movies with the highest average rating.\n",
        "\n",
        "2. **Popular Genres**:\n",
        "   - Identify the most popular genres based on the number of ratings.\n",
        "\n",
        "3. **User Behavior**:\n",
        "   - Analyze the distribution of ratings by users. For example, find how many movies each user has rated.\n",
        "\n",
        "4. **Yearly Trends**:\n",
        "   - Determine how the average movie rating has changed over the years.\n",
        "\n",
        "5. **Genre-Based Recommendations**:\n",
        "   - For a given genre, list the top 5 movies based on average ratings.\n",
        "\n",
        "6. **Movies with the Most Reviews**:\n",
        "   - Identify the movies with the highest number of ratings.\n",
        "\n",
        "### Step 4: Advanced Analysis\n",
        "1. **User-Specific Recommendations**:\n",
        "   - Build a basic recommendation system by suggesting top-rated movies that a user has not rated yet.\n",
        "\n",
        "2. **Correlate Ratings and Release Year**:\n",
        "   - Analyze if there’s any correlation between the release year and the average rating of movies.\n",
        "\n",
        "3. **Genre Diversity in Top-Rated Movies**:\n",
        "   - Examine the genre diversity among the top 100 highest-rated movies.\n",
        "\n",
        "### Step 5: Performance Optimization\n",
        "1. **Cache and Persist**:\n",
        "   - Use caching and persistence in PySpark to optimize the performance of your queries.\n",
        "\n",
        "2. **Partitioning**:\n",
        "   - Apply partitioning to the data to improve the efficiency of operations, especially for large datasets.\n",
        "\n",
        "### Step 6: Visualization\n",
        "1. **Visualize Data**:\n",
        "   - Use PySpark with an external library like Matplotlib, Seaborn, or even Power BI to create visualizations such as:\n",
        "     - Distribution of ratings.\n",
        "     - Average rating per genre.\n",
        "     - Trends in movie ratings over the years.\n",
        "\n",
        "### Conclusion\n",
        "This project structure not only demonstrates your technical ability to handle and analyze data using PySpark but also your ability to derive meaningful insights from complex datasets. Once complete, you can showcase this project in your portfolio or resume, highlighting key aspects such as data cleaning, transformation, analysis, and visualization."
      ],
      "metadata": {
        "id": "hv2_SgsjCy9-"
      }
    },
    {
      "cell_type": "code",
      "source": [
        "!pip install pyspark"
      ],
      "metadata": {
        "colab": {
          "base_uri": "https://localhost:8080/"
        },
        "id": "XIxLKTPjLB1H",
        "outputId": "e47d0801-3a3f-4ce3-ee57-898545efe4e6"
      },
      "execution_count": 1,
      "outputs": [
        {
          "output_type": "stream",
          "name": "stdout",
          "text": [
            "Collecting pyspark\n",
            "  Downloading pyspark-3.5.2.tar.gz (317.3 MB)\n",
            "\u001b[2K     \u001b[90m━━━━━━━━━━━━━━━━━━━━━━━━━━━━━━━━━━━━━━━━\u001b[0m \u001b[32m317.3/317.3 MB\u001b[0m \u001b[31m4.6 MB/s\u001b[0m eta \u001b[36m0:00:00\u001b[0m\n",
            "\u001b[?25h  Preparing metadata (setup.py) ... \u001b[?25l\u001b[?25hdone\n",
            "Requirement already satisfied: py4j==0.10.9.7 in /usr/local/lib/python3.10/dist-packages (from pyspark) (0.10.9.7)\n",
            "Building wheels for collected packages: pyspark\n",
            "  Building wheel for pyspark (setup.py) ... \u001b[?25l\u001b[?25hdone\n",
            "  Created wheel for pyspark: filename=pyspark-3.5.2-py2.py3-none-any.whl size=317812365 sha256=f369641de924ad36735292233cd80c06e0d4d73e90d057c60e706f42ca839103\n",
            "  Stored in directory: /root/.cache/pip/wheels/34/34/bd/03944534c44b677cd5859f248090daa9fb27b3c8f8e5f49574\n",
            "Successfully built pyspark\n",
            "Installing collected packages: pyspark\n",
            "Successfully installed pyspark-3.5.2\n"
          ]
        }
      ]
    },
    {
      "cell_type": "code",
      "source": [
        "from pyspark.sql import SparkSession"
      ],
      "metadata": {
        "id": "O30ZFHRgLDVH"
      },
      "execution_count": 2,
      "outputs": []
    },
    {
      "cell_type": "code",
      "source": [
        "spark = (\n",
        "    SparkSession\n",
        "    .builder\n",
        "    .appName(\"Movie ratings\")\n",
        "    .master(\"local[*]\")\n",
        "    .getOrCreate()\n",
        ")"
      ],
      "metadata": {
        "id": "9vzD3nE_L0_S"
      },
      "execution_count": 3,
      "outputs": []
    },
    {
      "cell_type": "code",
      "source": [
        "spark"
      ],
      "metadata": {
        "id": "vPNQe1yDKYWX",
        "outputId": "36a2ac84-f3fe-41d2-82ed-96c2e19ffe48",
        "colab": {
          "base_uri": "https://localhost:8080/",
          "height": 219
        }
      },
      "execution_count": 4,
      "outputs": [
        {
          "output_type": "execute_result",
          "data": {
            "text/plain": [
              "<pyspark.sql.session.SparkSession at 0x797f1525ab60>"
            ],
            "text/html": [
              "\n",
              "            <div>\n",
              "                <p><b>SparkSession - in-memory</b></p>\n",
              "                \n",
              "        <div>\n",
              "            <p><b>SparkContext</b></p>\n",
              "\n",
              "            <p><a href=\"http://28d605983ae9:4040\">Spark UI</a></p>\n",
              "\n",
              "            <dl>\n",
              "              <dt>Version</dt>\n",
              "                <dd><code>v3.5.2</code></dd>\n",
              "              <dt>Master</dt>\n",
              "                <dd><code>local[*]</code></dd>\n",
              "              <dt>AppName</dt>\n",
              "                <dd><code>Movie ratings</code></dd>\n",
              "            </dl>\n",
              "        </div>\n",
              "        \n",
              "            </div>\n",
              "        "
            ]
          },
          "metadata": {},
          "execution_count": 4
        }
      ]
    },
    {
      "cell_type": "markdown",
      "source": [
        "**Step 1: Data Exploration**\n",
        "Load the datasets into PySpark session **\"spark\"**:\n",
        "\n",
        "Load the movie dataset (movies.csv) and ratings dataset (ratings.csv) into PySpark DataFrames.\n",
        "Inspect the Data:\n",
        "\n",
        "Display the schema and first few rows of both DataFrames to understand the data structure."
      ],
      "metadata": {
        "id": "xsL0AzuVQhvW"
      }
    },
    {
      "cell_type": "code",
      "source": [
        "movies_df = spark.read.format(\"csv\").option(\"header\",True).load(\"/content/movies.csv\")\n",
        "movies_df.show(truncate = False)"
      ],
      "metadata": {
        "colab": {
          "base_uri": "https://localhost:8080/"
        },
        "id": "wZiKaEPUMKNf",
        "outputId": "6c8ce437-08ae-40e0-971b-4f8afef6f9e0"
      },
      "execution_count": 81,
      "outputs": [
        {
          "output_type": "stream",
          "name": "stdout",
          "text": [
            "+-------+-------------------------------------+-------------------------------------------+\n",
            "|movieId|title                                |genres                                     |\n",
            "+-------+-------------------------------------+-------------------------------------------+\n",
            "|1      |Toy Story (1995)                     |Adventure|Animation|Children|Comedy|Fantasy|\n",
            "|2      |Jumanji (1995)                       |Adventure|Children|Fantasy                 |\n",
            "|3      |Grumpier Old Men (1995)              |Comedy|Romance                             |\n",
            "|4      |Waiting to Exhale (1995)             |Comedy|Drama|Romance                       |\n",
            "|5      |Father of the Bride Part II (1995)   |Comedy                                     |\n",
            "|6      |Heat (1995)                          |Action|Crime|Thriller                      |\n",
            "|7      |Sabrina (1995)                       |Comedy|Romance                             |\n",
            "|8      |Tom and Huck (1995)                  |Adventure|Children                         |\n",
            "|9      |Sudden Death (1995)                  |Action                                     |\n",
            "|10     |GoldenEye (1995)                     |Action|Adventure|Thriller                  |\n",
            "|11     |American President, The (1995)       |Comedy|Drama|Romance                       |\n",
            "|12     |Dracula: Dead and Loving It (1995)   |Comedy|Horror                              |\n",
            "|13     |Balto (1995)                         |Adventure|Animation|Children               |\n",
            "|14     |Nixon (1995)                         |Drama                                      |\n",
            "|15     |Cutthroat Island (1995)              |Action|Adventure|Romance                   |\n",
            "|16     |Casino (1995)                        |Crime|Drama                                |\n",
            "|17     |Sense and Sensibility (1995)         |Drama|Romance                              |\n",
            "|18     |Four Rooms (1995)                    |Comedy                                     |\n",
            "|19     |Ace Ventura: When Nature Calls (1995)|Comedy                                     |\n",
            "|20     |Money Train (1995)                   |Action|Comedy|Crime|Drama|Thriller         |\n",
            "+-------+-------------------------------------+-------------------------------------------+\n",
            "only showing top 20 rows\n",
            "\n"
          ]
        }
      ]
    },
    {
      "cell_type": "code",
      "source": [
        "ratings_df = spark.read.format(\"csv\").option(\"header\",True).load(\"/content/ratings.csv\")\n",
        "ratings_df.show(truncate = False)"
      ],
      "metadata": {
        "colab": {
          "base_uri": "https://localhost:8080/"
        },
        "id": "KQQNT_c-MVTS",
        "outputId": "d2d8d5a3-8ede-4bd1-abc9-4528a3320509"
      },
      "execution_count": 66,
      "outputs": [
        {
          "output_type": "stream",
          "name": "stdout",
          "text": [
            "+------+-------+------+---------+\n",
            "|userId|movieId|rating|timestamp|\n",
            "+------+-------+------+---------+\n",
            "|1     |17     |4.0   |944249077|\n",
            "|1     |25     |1.0   |944250228|\n",
            "|1     |29     |2.0   |943230976|\n",
            "|1     |30     |5.0   |944249077|\n",
            "|1     |32     |5.0   |943228858|\n",
            "|1     |34     |2.0   |943228491|\n",
            "|1     |36     |1.0   |944249008|\n",
            "|1     |80     |5.0   |944248943|\n",
            "|1     |110    |3.0   |943231119|\n",
            "|1     |111    |5.0   |944249008|\n",
            "|1     |161    |1.0   |943231162|\n",
            "|1     |166    |5.0   |943228442|\n",
            "|1     |176    |4.0   |944079496|\n",
            "|1     |223    |3.0   |944082810|\n",
            "|1     |232    |5.0   |943228442|\n",
            "|1     |260    |5.0   |943228696|\n",
            "|1     |302    |4.0   |944253272|\n",
            "|1     |306    |5.0   |944248888|\n",
            "|1     |307    |5.0   |944253207|\n",
            "|1     |322    |4.0   |944053801|\n",
            "+------+-------+------+---------+\n",
            "only showing top 20 rows\n",
            "\n"
          ]
        }
      ]
    },
    {
      "cell_type": "markdown",
      "source": [
        "**Step 2: Data Cleaning and Preparation**"
      ],
      "metadata": {
        "id": "8cmtJIHUQtYc"
      }
    },
    {
      "cell_type": "markdown",
      "source": [
        "**Handle Missing Values:**\n",
        "\n",
        "Check for any missing values and decide how to handle them (e.g., drop rows, fill with default values)."
      ],
      "metadata": {
        "id": "wK_wVenGUoMQ"
      }
    },
    {
      "cell_type": "code",
      "source": [
        "from pyspark.sql.functions import sum,col,when,split"
      ],
      "metadata": {
        "id": "pjpOu0uERrQw"
      },
      "execution_count": 67,
      "outputs": []
    },
    {
      "cell_type": "code",
      "source": [
        "print(movies_df.dtypes)"
      ],
      "metadata": {
        "id": "QZdEgmidSigd",
        "outputId": "75802cf8-50f0-4e08-f5f7-682253f5f3e9",
        "colab": {
          "base_uri": "https://localhost:8080/"
        }
      },
      "execution_count": 68,
      "outputs": [
        {
          "output_type": "stream",
          "name": "stdout",
          "text": [
            "[('movieId', 'string'), ('title', 'string'), ('genres', 'string')]\n"
          ]
        }
      ]
    },
    {
      "cell_type": "code",
      "source": [
        "print(ratings_df.dtypes)"
      ],
      "metadata": {
        "id": "bzpKw9mhSnfR",
        "outputId": "128d4949-cd1a-41a5-ad4b-4d9876def68d",
        "colab": {
          "base_uri": "https://localhost:8080/"
        }
      },
      "execution_count": 69,
      "outputs": [
        {
          "output_type": "stream",
          "name": "stdout",
          "text": [
            "[('userId', 'string'), ('movieId', 'string'), ('rating', 'string'), ('timestamp', 'string')]\n"
          ]
        }
      ]
    },
    {
      "cell_type": "code",
      "source": [
        "# Create an empty list to hold column expressions for missing values\n",
        "missing_value_expressions_movies = []\n",
        "\n",
        "# Loop through each column in the DataFrame\n",
        "for column in movies_df.columns:\n",
        "    # Count the number of null values in the current column\n",
        "    missing_expr = sum(when(col(column).isNull(), 1).otherwise(0)).alias(column)\n",
        "    missing_value_expressions_movies.append(missing_expr)\n",
        "\n",
        "# Aggregate the missing value counts\n",
        "missing_movies_df = movies_df.agg(*missing_value_expressions_movies)\n",
        "\n",
        "# Show the results\n",
        "missing_movies_df.show()"
      ],
      "metadata": {
        "id": "tuurr3b5Q_MW",
        "outputId": "fb0eef28-36b6-4fe0-a259-5ef02d7fbd4e",
        "colab": {
          "base_uri": "https://localhost:8080/"
        }
      },
      "execution_count": 70,
      "outputs": [
        {
          "output_type": "stream",
          "name": "stdout",
          "text": [
            "+-------+-----+------+\n",
            "|movieId|title|genres|\n",
            "+-------+-----+------+\n",
            "|      0|    0|     0|\n",
            "+-------+-----+------+\n",
            "\n"
          ]
        }
      ]
    },
    {
      "cell_type": "code",
      "source": [
        "# Create an empty list to hold column expressions for missing values\n",
        "missing_value_expressions_ratings = []\n",
        "\n",
        "# Loop through each column in the DataFrame\n",
        "for column in ratings_df.columns:\n",
        "    # Count the number of null values in the current column\n",
        "    missing_expr = sum(when(col(column).isNull(), 1).otherwise(0)).alias(column)\n",
        "    missing_value_expressions_ratings.append(missing_expr)\n",
        "\n",
        "# Aggregate the missing value counts\n",
        "missing_ratings_df = ratings_df.agg(*missing_value_expressions_ratings)\n",
        "\n",
        "# Show the results\n",
        "missing_ratings_df.show()"
      ],
      "metadata": {
        "id": "lOvr5VMhTJda",
        "outputId": "8e6063d8-937b-4c15-e621-01ebf48edecd",
        "colab": {
          "base_uri": "https://localhost:8080/"
        }
      },
      "execution_count": 71,
      "outputs": [
        {
          "output_type": "stream",
          "name": "stdout",
          "text": [
            "+------+-------+------+---------+\n",
            "|userId|movieId|rating|timestamp|\n",
            "+------+-------+------+---------+\n",
            "|     0|      0|     0|        0|\n",
            "+------+-------+------+---------+\n",
            "\n"
          ]
        }
      ]
    },
    {
      "cell_type": "markdown",
      "source": [
        "**\" There are no null values in these datasets. \"**"
      ],
      "metadata": {
        "id": "8zzVU0unUdcm"
      }
    },
    {
      "cell_type": "markdown",
      "source": [
        "**Data Transformation:**\n",
        "\n",
        "Extract the year from the movie title and create a new column year. Split the genres column into an array of genres."
      ],
      "metadata": {
        "id": "RHbbgyjBUsev"
      }
    },
    {
      "cell_type": "code",
      "source": [
        "movies_df.show(truncate = False)"
      ],
      "metadata": {
        "id": "a0OKbuUMUHvw",
        "outputId": "e50c1a39-984d-4a70-abea-03d85f622abc",
        "colab": {
          "base_uri": "https://localhost:8080/"
        }
      },
      "execution_count": 82,
      "outputs": [
        {
          "output_type": "stream",
          "name": "stdout",
          "text": [
            "+-------+-------------------------------------+-------------------------------------------+\n",
            "|movieId|title                                |genres                                     |\n",
            "+-------+-------------------------------------+-------------------------------------------+\n",
            "|1      |Toy Story (1995)                     |Adventure|Animation|Children|Comedy|Fantasy|\n",
            "|2      |Jumanji (1995)                       |Adventure|Children|Fantasy                 |\n",
            "|3      |Grumpier Old Men (1995)              |Comedy|Romance                             |\n",
            "|4      |Waiting to Exhale (1995)             |Comedy|Drama|Romance                       |\n",
            "|5      |Father of the Bride Part II (1995)   |Comedy                                     |\n",
            "|6      |Heat (1995)                          |Action|Crime|Thriller                      |\n",
            "|7      |Sabrina (1995)                       |Comedy|Romance                             |\n",
            "|8      |Tom and Huck (1995)                  |Adventure|Children                         |\n",
            "|9      |Sudden Death (1995)                  |Action                                     |\n",
            "|10     |GoldenEye (1995)                     |Action|Adventure|Thriller                  |\n",
            "|11     |American President, The (1995)       |Comedy|Drama|Romance                       |\n",
            "|12     |Dracula: Dead and Loving It (1995)   |Comedy|Horror                              |\n",
            "|13     |Balto (1995)                         |Adventure|Animation|Children               |\n",
            "|14     |Nixon (1995)                         |Drama                                      |\n",
            "|15     |Cutthroat Island (1995)              |Action|Adventure|Romance                   |\n",
            "|16     |Casino (1995)                        |Crime|Drama                                |\n",
            "|17     |Sense and Sensibility (1995)         |Drama|Romance                              |\n",
            "|18     |Four Rooms (1995)                    |Comedy                                     |\n",
            "|19     |Ace Ventura: When Nature Calls (1995)|Comedy                                     |\n",
            "|20     |Money Train (1995)                   |Action|Comedy|Crime|Drama|Thriller         |\n",
            "+-------+-------------------------------------+-------------------------------------------+\n",
            "only showing top 20 rows\n",
            "\n"
          ]
        }
      ]
    },
    {
      "cell_type": "markdown",
      "source": [
        "Extracting year from title."
      ],
      "metadata": {
        "id": "1HNZXhKia0wg"
      }
    },
    {
      "cell_type": "code",
      "source": [
        "from pyspark.sql.functions import expr,trim"
      ],
      "metadata": {
        "id": "Y7fhCe2kTbD0"
      },
      "execution_count": 13,
      "outputs": []
    },
    {
      "cell_type": "code",
      "source": [
        "movies_df = movies_df.withColumn(\"movie_name\",split(col(\"title\"),\"\\\\(\").getItem(0))\\\n",
        "                     .withColumn(\"year\", expr(\"substring_index(title, '(', -1)\"))\\\n",
        "                     .withColumn(\"year\", trim(col(\"year\")).substr(1, 4))\n",
        "\n",
        "movies_df.show(truncate=False)"
      ],
      "metadata": {
        "id": "f13_qyxGTYHY",
        "outputId": "862d3743-18fa-4354-fbe9-e047b9f0c672",
        "colab": {
          "base_uri": "https://localhost:8080/"
        }
      },
      "execution_count": 86,
      "outputs": [
        {
          "output_type": "stream",
          "name": "stdout",
          "text": [
            "+-------+-------------------------------------+-------------------------------------------+-------------------------------+----+\n",
            "|movieId|title                                |genres                                     |movie_name                     |year|\n",
            "+-------+-------------------------------------+-------------------------------------------+-------------------------------+----+\n",
            "|1      |Toy Story (1995)                     |Adventure|Animation|Children|Comedy|Fantasy|Toy Story                      |1995|\n",
            "|2      |Jumanji (1995)                       |Adventure|Children|Fantasy                 |Jumanji                        |1995|\n",
            "|3      |Grumpier Old Men (1995)              |Comedy|Romance                             |Grumpier Old Men               |1995|\n",
            "|4      |Waiting to Exhale (1995)             |Comedy|Drama|Romance                       |Waiting to Exhale              |1995|\n",
            "|5      |Father of the Bride Part II (1995)   |Comedy                                     |Father of the Bride Part II    |1995|\n",
            "|6      |Heat (1995)                          |Action|Crime|Thriller                      |Heat                           |1995|\n",
            "|7      |Sabrina (1995)                       |Comedy|Romance                             |Sabrina                        |1995|\n",
            "|8      |Tom and Huck (1995)                  |Adventure|Children                         |Tom and Huck                   |1995|\n",
            "|9      |Sudden Death (1995)                  |Action                                     |Sudden Death                   |1995|\n",
            "|10     |GoldenEye (1995)                     |Action|Adventure|Thriller                  |GoldenEye                      |1995|\n",
            "|11     |American President, The (1995)       |Comedy|Drama|Romance                       |American President, The        |1995|\n",
            "|12     |Dracula: Dead and Loving It (1995)   |Comedy|Horror                              |Dracula: Dead and Loving It    |1995|\n",
            "|13     |Balto (1995)                         |Adventure|Animation|Children               |Balto                          |1995|\n",
            "|14     |Nixon (1995)                         |Drama                                      |Nixon                          |1995|\n",
            "|15     |Cutthroat Island (1995)              |Action|Adventure|Romance                   |Cutthroat Island               |1995|\n",
            "|16     |Casino (1995)                        |Crime|Drama                                |Casino                         |1995|\n",
            "|17     |Sense and Sensibility (1995)         |Drama|Romance                              |Sense and Sensibility          |1995|\n",
            "|18     |Four Rooms (1995)                    |Comedy                                     |Four Rooms                     |1995|\n",
            "|19     |Ace Ventura: When Nature Calls (1995)|Comedy                                     |Ace Ventura: When Nature Calls |1995|\n",
            "|20     |Money Train (1995)                   |Action|Comedy|Crime|Drama|Thriller         |Money Train                    |1995|\n",
            "+-------+-------------------------------------+-------------------------------------------+-------------------------------+----+\n",
            "only showing top 20 rows\n",
            "\n"
          ]
        }
      ]
    },
    {
      "cell_type": "code",
      "source": [
        "# x = movies_df.filter(col('genres') == '(no genres listed)')\n",
        "x = movies_df.filter(col('genres') == 'Comedy')\n",
        "x.show()"
      ],
      "metadata": {
        "colab": {
          "base_uri": "https://localhost:8080/"
        },
        "id": "rGV9kpcwWPvK",
        "outputId": "72d48e25-5713-47c6-985b-8572348b50eb"
      },
      "execution_count": 87,
      "outputs": [
        {
          "output_type": "stream",
          "name": "stdout",
          "text": [
            "+-------+--------------------+------+--------------------+----+\n",
            "|movieId|               title|genres|          movie_name|year|\n",
            "+-------+--------------------+------+--------------------+----+\n",
            "|      5|Father of the Bri...|Comedy|Father of the Bri...|1995|\n",
            "|     18|   Four Rooms (1995)|Comedy|         Four Rooms |1995|\n",
            "|     19|Ace Ventura: When...|Comedy|Ace Ventura: When...|1995|\n",
            "|     65|     Bio-Dome (1996)|Comedy|           Bio-Dome |1996|\n",
            "|     69|       Friday (1995)|Comedy|             Friday |1995|\n",
            "|     88|  Black Sheep (1996)|Comedy|        Black Sheep |1996|\n",
            "|    102|    Mr. Wrong (1996)|Comedy|          Mr. Wrong |1996|\n",
            "|    104|Happy Gilmore (1996)|Comedy|      Happy Gilmore |1996|\n",
            "|    115|Happiness Is in t...|Comedy|Happiness Is in t...|1995|\n",
            "|    119|Steal Big, Steal ...|Comedy|Steal Big, Steal ...|1995|\n",
            "|    125|Flirting With Dis...|Comedy|Flirting With Dis...|1996|\n",
            "|    135|Down Periscope (1...|Comedy|     Down Periscope |1996|\n",
            "|    141|Birdcage, The (1996)|Comedy|      Birdcage, The |1996|\n",
            "|    144|Brothers McMullen...|Comedy|Brothers McMullen...|1995|\n",
            "|    174|    Jury Duty (1995)|Comedy|          Jury Duty |1995|\n",
            "|    176|Living in Oblivio...|Comedy| Living in Oblivion |1995|\n",
            "|    187|   Party Girl (1995)|Comedy|         Party Girl |1995|\n",
            "|    203|To Wong Foo, Than...|Comedy|To Wong Foo, Than...|1995|\n",
            "|    216|Billy Madison (1995)|Comedy|      Billy Madison |1995|\n",
            "|    223|       Clerks (1994)|Comedy|             Clerks |1994|\n",
            "+-------+--------------------+------+--------------------+----+\n",
            "only showing top 20 rows\n",
            "\n"
          ]
        }
      ]
    },
    {
      "cell_type": "code",
      "source": [
        "x = movies_df.filter(col('genres').contains('(no genres listed)'))\n",
        "x.show(truncate=False)"
      ],
      "metadata": {
        "colab": {
          "base_uri": "https://localhost:8080/"
        },
        "id": "ILO3_WP_YZNY",
        "outputId": "1b0934bb-935d-48fb-f15c-16123db8ded4"
      },
      "execution_count": 89,
      "outputs": [
        {
          "output_type": "stream",
          "name": "stdout",
          "text": [
            "+-------+-----------------------------------------------+------------------+------------------------------------+----+\n",
            "|movieId|title                                          |genres            |movie_name                          |year|\n",
            "+-------+-----------------------------------------------+------------------+------------------------------------+----+\n",
            "|83773  |Away with Words (San tiao ren) (1999)          |(no genres listed)|Away with Words                     |1999|\n",
            "|84768  |Glitterbug (1994)                              |(no genres listed)|Glitterbug                          |1994|\n",
            "|86493  |Age of the Earth, The (A Idade da Terra) (1980)|(no genres listed)|Age of the Earth, The               |1980|\n",
            "|87061  |Trails (Veredas) (1978)                        |(no genres listed)|Trails                              |1978|\n",
            "|91246  |Milky Way (Tejút) (2007)                       |(no genres listed)|Milky Way                           |2007|\n",
            "|92435  |Dancing Hawk, The (Tanczacy jastrzab) (1978)   |(no genres listed)|Dancing Hawk, The                   |1978|\n",
            "|92641  |Warsaw Bridge (Pont de Varsòvia) (1990)        |(no genres listed)|Warsaw Bridge                       |1990|\n",
            "|94431  |Ella Lola, a la Trilby (1898)                  |(no genres listed)|Ella Lola, a la Trilby              |1898|\n",
            "|95750  |Promise of the Flesh (Yukcheui yaksok) (1975)  |(no genres listed)|Promise of the Flesh                |1975|\n",
            "|96479  |Nocturno 29 (1968)                             |(no genres listed)|Nocturno 29                         |1968|\n",
            "|96651  |Les hautes solitudes (1974)                    |(no genres listed)|Les hautes solitudes                |1974|\n",
            "|113545 |Primus Hallucino-Genetics Live 2004 (2004)     |(no genres listed)|Primus Hallucino-Genetics Live 2004 |2004|\n",
            "|114335 |La cravate (1957)                              |(no genres listed)|La cravate                          |1957|\n",
            "|114725 |Study in Choreography for Camera, A (1945)     |(no genres listed)|Study in Choreography for Camera, A |1945|\n",
            "|115004 |It's My Mother's Birthday Today (2008)         |(no genres listed)|It's My Mother's Birthday Today     |2008|\n",
            "|115006 |Spare Bed-Room (1969)                          |(no genres listed)|Spare Bed-Room                      |1969|\n",
            "|115893 |Madame Bovary (2000)                           |(no genres listed)|Madame Bovary                       |2000|\n",
            "|116046 |Christmas Oranges (2012)                       |(no genres listed)|Christmas Oranges                   |2012|\n",
            "|116054 |Clockwork Mice (1995)                          |(no genres listed)|Clockwork Mice                      |1995|\n",
            "|116096 |Lettera Amorosa (1995)                         |(no genres listed)|Lettera Amorosa                     |1995|\n",
            "+-------+-----------------------------------------------+------------------+------------------------------------+----+\n",
            "only showing top 20 rows\n",
            "\n"
          ]
        }
      ]
    },
    {
      "cell_type": "code",
      "source": [
        "# dropping the column title\n",
        "\n",
        "movies_df = movies_df.drop(movies_df.title)\n",
        "movies_df.show(truncate = False)"
      ],
      "metadata": {
        "id": "SVR0dz8AYj1h",
        "outputId": "e25001ba-b112-4e8a-9874-77efa854f9d1",
        "colab": {
          "base_uri": "https://localhost:8080/"
        }
      },
      "execution_count": 94,
      "outputs": [
        {
          "output_type": "stream",
          "name": "stdout",
          "text": [
            "+-------+-------------------------------------------+-------------------------------+----+\n",
            "|movieId|genres                                     |movie_name                     |year|\n",
            "+-------+-------------------------------------------+-------------------------------+----+\n",
            "|1      |Adventure|Animation|Children|Comedy|Fantasy|Toy Story                      |1995|\n",
            "|2      |Adventure|Children|Fantasy                 |Jumanji                        |1995|\n",
            "|3      |Comedy|Romance                             |Grumpier Old Men               |1995|\n",
            "|4      |Comedy|Drama|Romance                       |Waiting to Exhale              |1995|\n",
            "|5      |Comedy                                     |Father of the Bride Part II    |1995|\n",
            "|6      |Action|Crime|Thriller                      |Heat                           |1995|\n",
            "|7      |Comedy|Romance                             |Sabrina                        |1995|\n",
            "|8      |Adventure|Children                         |Tom and Huck                   |1995|\n",
            "|9      |Action                                     |Sudden Death                   |1995|\n",
            "|10     |Action|Adventure|Thriller                  |GoldenEye                      |1995|\n",
            "|11     |Comedy|Drama|Romance                       |American President, The        |1995|\n",
            "|12     |Comedy|Horror                              |Dracula: Dead and Loving It    |1995|\n",
            "|13     |Adventure|Animation|Children               |Balto                          |1995|\n",
            "|14     |Drama                                      |Nixon                          |1995|\n",
            "|15     |Action|Adventure|Romance                   |Cutthroat Island               |1995|\n",
            "|16     |Crime|Drama                                |Casino                         |1995|\n",
            "|17     |Drama|Romance                              |Sense and Sensibility          |1995|\n",
            "|18     |Comedy                                     |Four Rooms                     |1995|\n",
            "|19     |Comedy                                     |Ace Ventura: When Nature Calls |1995|\n",
            "|20     |Action|Comedy|Crime|Drama|Thriller         |Money Train                    |1995|\n",
            "+-------+-------------------------------------------+-------------------------------+----+\n",
            "only showing top 20 rows\n",
            "\n"
          ]
        }
      ]
    },
    {
      "cell_type": "code",
      "source": [
        "genres_df = movies_df.select(movies_df.movieId,movies_df.genres)\n",
        "genres_df.show(truncate = False)"
      ],
      "metadata": {
        "id": "HNVEsYOdayY8",
        "outputId": "5ed248ed-7767-44af-abc8-8aa4fc5a76c3",
        "colab": {
          "base_uri": "https://localhost:8080/"
        }
      },
      "execution_count": 17,
      "outputs": [
        {
          "output_type": "stream",
          "name": "stdout",
          "text": [
            "+-------+-------------------------------------------+\n",
            "|movieId|genres                                     |\n",
            "+-------+-------------------------------------------+\n",
            "|1      |Adventure|Animation|Children|Comedy|Fantasy|\n",
            "|2      |Adventure|Children|Fantasy                 |\n",
            "|3      |Comedy|Romance                             |\n",
            "|4      |Comedy|Drama|Romance                       |\n",
            "|5      |Comedy                                     |\n",
            "|6      |Action|Crime|Thriller                      |\n",
            "|7      |Comedy|Romance                             |\n",
            "|8      |Adventure|Children                         |\n",
            "|9      |Action                                     |\n",
            "|10     |Action|Adventure|Thriller                  |\n",
            "|11     |Comedy|Drama|Romance                       |\n",
            "|12     |Comedy|Horror                              |\n",
            "|13     |Adventure|Animation|Children               |\n",
            "|14     |Drama                                      |\n",
            "|15     |Action|Adventure|Romance                   |\n",
            "|16     |Crime|Drama                                |\n",
            "|17     |Drama|Romance                              |\n",
            "|18     |Comedy                                     |\n",
            "|19     |Comedy                                     |\n",
            "|20     |Action|Comedy|Crime|Drama|Thriller         |\n",
            "+-------+-------------------------------------------+\n",
            "only showing top 20 rows\n",
            "\n"
          ]
        }
      ]
    },
    {
      "cell_type": "code",
      "source": [
        "genres_df = genres_df.withColumn(\"gener\",split(genres_df.genres,\"\\|\"))\n",
        "genres_df.show(truncate = False)"
      ],
      "metadata": {
        "id": "08z_LWsYbWfS",
        "outputId": "d5a1089b-fe64-4fc6-eb15-388d7915c5e2",
        "colab": {
          "base_uri": "https://localhost:8080/"
        }
      },
      "execution_count": 18,
      "outputs": [
        {
          "output_type": "stream",
          "name": "stdout",
          "text": [
            "+-------+-------------------------------------------+-------------------------------------------------+\n",
            "|movieId|genres                                     |gener                                            |\n",
            "+-------+-------------------------------------------+-------------------------------------------------+\n",
            "|1      |Adventure|Animation|Children|Comedy|Fantasy|[Adventure, Animation, Children, Comedy, Fantasy]|\n",
            "|2      |Adventure|Children|Fantasy                 |[Adventure, Children, Fantasy]                   |\n",
            "|3      |Comedy|Romance                             |[Comedy, Romance]                                |\n",
            "|4      |Comedy|Drama|Romance                       |[Comedy, Drama, Romance]                         |\n",
            "|5      |Comedy                                     |[Comedy]                                         |\n",
            "|6      |Action|Crime|Thriller                      |[Action, Crime, Thriller]                        |\n",
            "|7      |Comedy|Romance                             |[Comedy, Romance]                                |\n",
            "|8      |Adventure|Children                         |[Adventure, Children]                            |\n",
            "|9      |Action                                     |[Action]                                         |\n",
            "|10     |Action|Adventure|Thriller                  |[Action, Adventure, Thriller]                    |\n",
            "|11     |Comedy|Drama|Romance                       |[Comedy, Drama, Romance]                         |\n",
            "|12     |Comedy|Horror                              |[Comedy, Horror]                                 |\n",
            "|13     |Adventure|Animation|Children               |[Adventure, Animation, Children]                 |\n",
            "|14     |Drama                                      |[Drama]                                          |\n",
            "|15     |Action|Adventure|Romance                   |[Action, Adventure, Romance]                     |\n",
            "|16     |Crime|Drama                                |[Crime, Drama]                                   |\n",
            "|17     |Drama|Romance                              |[Drama, Romance]                                 |\n",
            "|18     |Comedy                                     |[Comedy]                                         |\n",
            "|19     |Comedy                                     |[Comedy]                                         |\n",
            "|20     |Action|Comedy|Crime|Drama|Thriller         |[Action, Comedy, Crime, Drama, Thriller]         |\n",
            "+-------+-------------------------------------------+-------------------------------------------------+\n",
            "only showing top 20 rows\n",
            "\n"
          ]
        }
      ]
    },
    {
      "cell_type": "code",
      "source": [
        "genres_df = genres_df.drop(genres_df.genres)\n",
        "genres_df.show(truncate = False)"
      ],
      "metadata": {
        "id": "2caCnEIJc7kt",
        "outputId": "692b4504-2b67-4512-ec53-340581bb3266",
        "colab": {
          "base_uri": "https://localhost:8080/"
        }
      },
      "execution_count": 19,
      "outputs": [
        {
          "output_type": "stream",
          "name": "stdout",
          "text": [
            "+-------+-------------------------------------------------+\n",
            "|movieId|gener                                            |\n",
            "+-------+-------------------------------------------------+\n",
            "|1      |[Adventure, Animation, Children, Comedy, Fantasy]|\n",
            "|2      |[Adventure, Children, Fantasy]                   |\n",
            "|3      |[Comedy, Romance]                                |\n",
            "|4      |[Comedy, Drama, Romance]                         |\n",
            "|5      |[Comedy]                                         |\n",
            "|6      |[Action, Crime, Thriller]                        |\n",
            "|7      |[Comedy, Romance]                                |\n",
            "|8      |[Adventure, Children]                            |\n",
            "|9      |[Action]                                         |\n",
            "|10     |[Action, Adventure, Thriller]                    |\n",
            "|11     |[Comedy, Drama, Romance]                         |\n",
            "|12     |[Comedy, Horror]                                 |\n",
            "|13     |[Adventure, Animation, Children]                 |\n",
            "|14     |[Drama]                                          |\n",
            "|15     |[Action, Adventure, Romance]                     |\n",
            "|16     |[Crime, Drama]                                   |\n",
            "|17     |[Drama, Romance]                                 |\n",
            "|18     |[Comedy]                                         |\n",
            "|19     |[Comedy]                                         |\n",
            "|20     |[Action, Comedy, Crime, Drama, Thriller]         |\n",
            "+-------+-------------------------------------------------+\n",
            "only showing top 20 rows\n",
            "\n"
          ]
        }
      ]
    },
    {
      "cell_type": "markdown",
      "source": [
        "**Join the Datasets:**\n",
        "\n",
        "Perform an inner join on the movieId column to combine the movie and ratings datasets."
      ],
      "metadata": {
        "id": "TEe8gYDVUyL6"
      }
    },
    {
      "cell_type": "code",
      "source": [
        "movies_ratings_df = movies_df.join(ratings_df,on='movieId',how='inner')\n",
        "movies_ratings_df.show(truncate = False)"
      ],
      "metadata": {
        "id": "1Ouya_VFdNl4",
        "colab": {
          "base_uri": "https://localhost:8080/"
        },
        "outputId": "a00f617f-0554-4e3b-b934-911a66179025"
      },
      "execution_count": 20,
      "outputs": [
        {
          "output_type": "stream",
          "name": "stdout",
          "text": [
            "+-------+--------------------------------------+-----------------------------------+----+------+------+---------+\n",
            "|movieId|genres                                |movie_name                         |year|userId|rating|timestamp|\n",
            "+-------+--------------------------------------+-----------------------------------+----+------+------+---------+\n",
            "|17     |Drama|Romance                         |Sense and Sensibility              |1995|1     |4.0   |944249077|\n",
            "|25     |Drama|Romance                         |Leaving Las Vegas                  |1995|1     |1.0   |944250228|\n",
            "|29     |Adventure|Drama|Fantasy|Mystery|Sci-Fi|City of Lost Children, The         |1995|1     |2.0   |943230976|\n",
            "|30     |Crime|Drama                           |Shanghai Triad                     |1995|1     |5.0   |944249077|\n",
            "|32     |Mystery|Sci-Fi|Thriller               |Twelve Monkeys                     |1995|1     |5.0   |943228858|\n",
            "|34     |Children|Drama                        |Babe                               |1995|1     |2.0   |943228491|\n",
            "|36     |Crime|Drama                           |Dead Man Walking                   |1995|1     |1.0   |944249008|\n",
            "|80     |Children|Drama                        |White Balloon, The                 |1995|1     |5.0   |944248943|\n",
            "|110    |Action|Drama|War                      |Braveheart                         |1995|1     |3.0   |943231119|\n",
            "|111    |Crime|Drama|Thriller                  |Taxi Driver                        |1976|1     |5.0   |944249008|\n",
            "|161    |Drama|Thriller|War                    |Crimson Tide                       |1995|1     |1.0   |943231162|\n",
            "|166    |Comedy|Crime|Drama                    |Doom Generation, The               |1995|1     |5.0   |943228442|\n",
            "|176    |Comedy                                |Living in Oblivion                 |1995|1     |4.0   |944079496|\n",
            "|223    |Comedy                                |Clerks                             |1994|1     |3.0   |944082810|\n",
            "|232    |Comedy|Drama|Romance                  |Eat Drink Man Woman                |1994|1     |5.0   |943228442|\n",
            "|260    |Action|Adventure|Sci-Fi               |Star Wars: Episode IV - A New Hope |1977|1     |5.0   |943228696|\n",
            "|302    |Drama|Romance                         |Queen Margot                       |1994|1     |4.0   |944253272|\n",
            "|306    |Drama                                 |Three Colors: Red                  |1994|1     |5.0   |944248888|\n",
            "|307    |Drama                                 |Three Colors: Blue                 |1993|1     |5.0   |944253207|\n",
            "|322    |Comedy|Drama                          |Swimming with Sharks               |1995|1     |4.0   |944053801|\n",
            "+-------+--------------------------------------+-----------------------------------+----+------+------+---------+\n",
            "only showing top 20 rows\n",
            "\n"
          ]
        }
      ]
    },
    {
      "cell_type": "markdown",
      "source": [
        "**Step 3: Data Analysis**\n",
        "\n"
      ],
      "metadata": {
        "id": "Qnoe8WBYC6FE"
      }
    },
    {
      "cell_type": "markdown",
      "source": [
        "**Top-Rated Movies:**\n",
        "\n",
        "Find the top 10 movies with the highest average rating."
      ],
      "metadata": {
        "id": "pSUxspUTDAf1"
      }
    },
    {
      "cell_type": "code",
      "source": [
        "from pyspark.sql.functions import avg,desc,asc\n",
        "top_ten_movies = movies_ratings_df.groupby('movieId','movie_name').agg(avg('rating').alias('Avg_rating'))\n",
        "top_ten_movies = top_ten_movies.orderBy(top_ten_movies.Avg_rating.desc())\n",
        "top_ten_movies.show(10,truncate = False)"
      ],
      "metadata": {
        "colab": {
          "base_uri": "https://localhost:8080/"
        },
        "id": "gXx-dL6tDU9t",
        "outputId": "7c11d387-f25b-43a4-fb60-224fa0f50f47"
      },
      "execution_count": 21,
      "outputs": [
        {
          "output_type": "stream",
          "name": "stdout",
          "text": [
            "+-------+----------------------------------+----------+\n",
            "|movieId|movie_name                        |Avg_rating|\n",
            "+-------+----------------------------------+----------+\n",
            "|267940 |Silvery Moon                      |5.0       |\n",
            "|284191 |The Red Suitcase                  |5.0       |\n",
            "|148084 |Emmanuelle in Soho                |5.0       |\n",
            "|166267 |Finnish Blood Swedish Heart       |5.0       |\n",
            "|126959 |The Epic of Everest               |5.0       |\n",
            "|141064 |Uomo e galantuomo                 |5.0       |\n",
            "|287247 |The Beach Boys: Making Pet Sounds |5.0       |\n",
            "|203060 |Worlds of Ursula K. Le Guin       |5.0       |\n",
            "|244224 |Selfie                            |5.0       |\n",
            "|111401 |Home and the World, The           |5.0       |\n",
            "+-------+----------------------------------+----------+\n",
            "only showing top 10 rows\n",
            "\n"
          ]
        }
      ]
    },
    {
      "cell_type": "markdown",
      "source": [
        "**Popular Genres:**\n",
        "\n",
        "Identify the most popular genres based on the number of ratings.\n"
      ],
      "metadata": {
        "id": "GjPXt06ZDFyp"
      }
    },
    {
      "cell_type": "code",
      "source": [
        "from pyspark.sql.functions import count\n",
        "\n",
        "popular_genres = movies_ratings_df.groupBy('genres').agg(count('rating').alias('No_of_ratings'))\n",
        "popular_genres = popular_genres.sort(popular_genres.No_of_ratings.desc())\n",
        "popular_genres.show(truncate = False)"
      ],
      "metadata": {
        "colab": {
          "base_uri": "https://localhost:8080/"
        },
        "id": "VhxiSHmDFNTU",
        "outputId": "65c45fdd-aa03-42f5-f5c6-cb010516b909"
      },
      "execution_count": 22,
      "outputs": [
        {
          "output_type": "stream",
          "name": "stdout",
          "text": [
            "+--------------------------------+-------------+\n",
            "|genres                          |No_of_ratings|\n",
            "+--------------------------------+-------------+\n",
            "|Drama                           |405611       |\n",
            "|Comedy                          |340763       |\n",
            "|Comedy|Romance                  |197856       |\n",
            "|Drama|Romance                   |176116       |\n",
            "|Comedy|Drama                    |167208       |\n",
            "|Comedy|Drama|Romance            |158487       |\n",
            "|Action|Adventure|Sci-Fi         |144021       |\n",
            "|Crime|Drama                     |137683       |\n",
            "|Action|Crime|Thriller           |87817        |\n",
            "|Drama|Thriller                  |84616        |\n",
            "|Action|Adventure|Sci-Fi|Thriller|79065        |\n",
            "|Action|Adventure|Thriller       |75067        |\n",
            "|Action|Sci-Fi|Thriller          |71351        |\n",
            "|Crime|Drama|Thriller            |70518        |\n",
            "|Drama|War                       |64149        |\n",
            "|Action|Crime|Drama|Thriller     |59467        |\n",
            "|Comedy|Crime                    |58213        |\n",
            "|Action|Drama|War                |58148        |\n",
            "|Documentary                     |57314        |\n",
            "|Horror                          |48206        |\n",
            "+--------------------------------+-------------+\n",
            "only showing top 20 rows\n",
            "\n"
          ]
        }
      ]
    },
    {
      "cell_type": "markdown",
      "source": [
        "**User Behavior:**\n",
        "\n",
        "Analyze the distribution of ratings by users. For example, find how many movies each user has rated.\n"
      ],
      "metadata": {
        "id": "UZH5YsrYDLdS"
      }
    },
    {
      "cell_type": "code",
      "source": [
        "user_rating = movies_ratings_df.groupBy('userId').agg(count('userId').alias('No_of_ratings')).orderBy(movies_ratings_df.userId.asc())\n",
        "user_rating.show(truncate = False)"
      ],
      "metadata": {
        "colab": {
          "base_uri": "https://localhost:8080/"
        },
        "id": "OZ4lARQUG-uG",
        "outputId": "622b81af-f38b-4147-a318-c61d8a87f1b9"
      },
      "execution_count": 23,
      "outputs": [
        {
          "output_type": "stream",
          "name": "stdout",
          "text": [
            "+------+-------------+\n",
            "|userId|No_of_ratings|\n",
            "+------+-------------+\n",
            "|1     |141          |\n",
            "|10    |660          |\n",
            "|100   |248          |\n",
            "|1000  |27           |\n",
            "|10000 |165          |\n",
            "|10001 |25           |\n",
            "|10002 |35           |\n",
            "|10003 |447          |\n",
            "|10004 |212          |\n",
            "|10005 |420          |\n",
            "|10006 |63           |\n",
            "|10007 |89           |\n",
            "|10008 |91           |\n",
            "|10009 |59           |\n",
            "|1001  |102          |\n",
            "|10010 |137          |\n",
            "|10011 |20           |\n",
            "|10012 |64           |\n",
            "|10013 |30           |\n",
            "|10014 |88           |\n",
            "+------+-------------+\n",
            "only showing top 20 rows\n",
            "\n"
          ]
        }
      ]
    },
    {
      "cell_type": "markdown",
      "source": [
        "**Yearly Trends:**\n",
        "\n",
        "Determine how the average movie rating has changed over the years.\n"
      ],
      "metadata": {
        "id": "_I27yDxmDOHR"
      }
    },
    {
      "cell_type": "code",
      "source": [
        "movies_ratings_df.select('year').show()"
      ],
      "metadata": {
        "id": "MRlwI14IR2pL",
        "outputId": "b54ffcf5-cac7-4672-b389-dd016c6b95e5",
        "colab": {
          "base_uri": "https://localhost:8080/"
        }
      },
      "execution_count": 24,
      "outputs": [
        {
          "output_type": "stream",
          "name": "stdout",
          "text": [
            "+----+\n",
            "|year|\n",
            "+----+\n",
            "|1995|\n",
            "|1995|\n",
            "|1995|\n",
            "|1995|\n",
            "|1995|\n",
            "|1995|\n",
            "|1995|\n",
            "|1995|\n",
            "|1995|\n",
            "|1976|\n",
            "|1995|\n",
            "|1995|\n",
            "|1995|\n",
            "|1994|\n",
            "|1994|\n",
            "|1977|\n",
            "|1994|\n",
            "|1994|\n",
            "|1993|\n",
            "|1995|\n",
            "+----+\n",
            "only showing top 20 rows\n",
            "\n"
          ]
        }
      ]
    },
    {
      "cell_type": "code",
      "source": [
        "avg_rating_year = movies_ratings_df.groupBy('year').agg(avg('rating').alias('Avg_rating'))\n",
        "avg_rating_year.show(truncate = False)"
      ],
      "metadata": {
        "id": "mfquYcqzLFg5",
        "outputId": "8d2ed122-16df-4212-cdd7-eb7a5ea3e05e",
        "colab": {
          "base_uri": "https://localhost:8080/"
        }
      },
      "execution_count": 25,
      "outputs": [
        {
          "output_type": "stream",
          "name": "stdout",
          "text": [
            "+----+------------------+\n",
            "|year|Avg_rating        |\n",
            "+----+------------------+\n",
            "|1953|3.6956057541020453|\n",
            "|1903|2.947058823529412 |\n",
            "|1957|4.022665522665522 |\n",
            "|1897|2.796875          |\n",
            "|1987|3.5515874990669087|\n",
            "|1956|3.718933333333333 |\n",
            "|2016|3.544669946699467 |\n",
            "|1936|3.848736325914749 |\n",
            "|2012|3.534303460694162 |\n",
            "|2020|3.3116364999464496|\n",
            "|1958|3.8176854830847224|\n",
            "|1910|2.7777777777777777|\n",
            "|1943|3.667924528301887 |\n",
            "|1915|3.0153846153846153|\n",
            "|1972|3.965176268271711 |\n",
            "|1931|3.9023941068139965|\n",
            "|1988|3.5300534613766303|\n",
            "|1938|3.889705882352941 |\n",
            "|1926|3.846683354192741 |\n",
            "|1911|3.6538461538461537|\n",
            "+----+------------------+\n",
            "only showing top 20 rows\n",
            "\n"
          ]
        }
      ]
    },
    {
      "cell_type": "markdown",
      "source": [
        "**Genre-Based Recommendations:**\n",
        "\n",
        "For a given genre, list the top 5 movies based on average ratings.\n"
      ],
      "metadata": {
        "id": "VeuW6dMwDP1E"
      }
    },
    {
      "cell_type": "code",
      "source": [
        "genre_input = input(\"Enter the genre to filter movies: \")\n",
        "\n",
        "top_five_movies = (movies_ratings_df.filter(col('genres') == genre_input)\\\n",
        "                   .groupBy('movie_name')\\\n",
        "                   .agg(avg('rating').alias('Avg_rating'))\\\n",
        "                   .orderBy(col('Avg_rating').desc())\n",
        "                   .limit(5))\n",
        "top_five_movies.show(truncate = False)\n"
      ],
      "metadata": {
        "id": "qU5R0daGXmJi",
        "outputId": "e893ddaf-f19c-4b1b-effe-d6cc6692231b",
        "colab": {
          "base_uri": "https://localhost:8080/"
        }
      },
      "execution_count": 26,
      "outputs": [
        {
          "output_type": "stream",
          "name": "stdout",
          "text": [
            "Enter the genre to filter movies: Action\n",
            "+----------------------------+----------+\n",
            "|movie_name                  |Avg_rating|\n",
            "+----------------------------+----------+\n",
            "|Buffalo Girls               |5.0       |\n",
            "|Dreadnaught                 |5.0       |\n",
            "|The Division: Agent Origins |5.0       |\n",
            "|Drunken Master 3            |5.0       |\n",
            "|Reich                       |5.0       |\n",
            "+----------------------------+----------+\n",
            "\n"
          ]
        }
      ]
    },
    {
      "cell_type": "code",
      "source": [
        "x = movies_df.filter(col(\"title\").like(\"%Dreadnaught%\"))\n",
        "x.select(x.genres).show()"
      ],
      "metadata": {
        "id": "dJRR51xpZWKS",
        "outputId": "c94ec31b-45ba-4d44-b841-4e4a21746ed0",
        "colab": {
          "base_uri": "https://localhost:8080/"
        }
      },
      "execution_count": 27,
      "outputs": [
        {
          "output_type": "stream",
          "name": "stdout",
          "text": [
            "+------+\n",
            "|genres|\n",
            "+------+\n",
            "|Action|\n",
            "+------+\n",
            "\n"
          ]
        }
      ]
    },
    {
      "cell_type": "markdown",
      "source": [
        "**Movies with the Most Reviews:**\n",
        "\n",
        "Identify the movies with the highest number of ratings."
      ],
      "metadata": {
        "id": "pST_IMd2DRj9"
      }
    },
    {
      "cell_type": "code",
      "source": [
        "from pyspark.sql.functions import desc"
      ],
      "metadata": {
        "id": "eaD9ciA3alvz"
      },
      "execution_count": 28,
      "outputs": []
    },
    {
      "cell_type": "code",
      "source": [
        "most_reviews = movies_ratings_df.groupBy('movieId','movie_name')\\\n",
        "              .agg(count(col('rating')).alias('No_of_reviews'))\\\n",
        "              .orderBy(col('No_of_reviews').desc())\\\n",
        "              .limit(1)\n",
        "most_reviews.show(truncate = False)"
      ],
      "metadata": {
        "id": "EvSoE32NZ6N9",
        "outputId": "0057fc42-4225-4b43-d486-5bc6f8aca2fc",
        "colab": {
          "base_uri": "https://localhost:8080/"
        }
      },
      "execution_count": 29,
      "outputs": [
        {
          "output_type": "stream",
          "name": "stdout",
          "text": [
            "+-------+--------------------------+-------------+\n",
            "|movieId|movie_name                |No_of_reviews|\n",
            "+-------+--------------------------+-------------+\n",
            "|318    |Shawshank Redemption, The |18549        |\n",
            "+-------+--------------------------+-------------+\n",
            "\n"
          ]
        }
      ]
    },
    {
      "cell_type": "code",
      "source": [
        "x = movies_df.filter(col(\"title\").like(\"Shawshank Redemption%\"))\n",
        "x.show(truncate = False)"
      ],
      "metadata": {
        "id": "HnZpjosQbLq8",
        "outputId": "1b47ff7b-b581-48a0-ee0a-f95700b8dd80",
        "colab": {
          "base_uri": "https://localhost:8080/"
        }
      },
      "execution_count": 30,
      "outputs": [
        {
          "output_type": "stream",
          "name": "stdout",
          "text": [
            "+-------+-----------+--------------------------+----+\n",
            "|movieId|genres     |movie_name                |year|\n",
            "+-------+-----------+--------------------------+----+\n",
            "|318    |Crime|Drama|Shawshank Redemption, The |1994|\n",
            "+-------+-----------+--------------------------+----+\n",
            "\n"
          ]
        }
      ]
    },
    {
      "cell_type": "markdown",
      "source": [
        "**Step 4: Advanced Analysis**\n"
      ],
      "metadata": {
        "id": "PHgnTyYSbWfH"
      }
    },
    {
      "cell_type": "markdown",
      "source": [
        "**User-Specific Recommendations:**\n",
        "\n",
        "Build a basic recommendation system by suggesting top-rated movies that a user has not rated yet.\n"
      ],
      "metadata": {
        "id": "cloHEQ2Vbcrs"
      }
    },
    {
      "cell_type": "code",
      "source": [
        "top_rated_movies = movies_ratings_df.groupBy('movieId', 'movie_name')\\\n",
        "    .agg(avg(col('rating')).alias('Avg_rating'))\\\n",
        "    .orderBy(col('Avg_rating').desc())\\\n",
        "    .limit(100)\\\n",
        "    .select('movieId','movie_name')\n",
        "\n",
        "top_rated_movies.show(truncate = False)"
      ],
      "metadata": {
        "id": "1zGIhYDjbiLQ",
        "outputId": "fb8d39c4-416d-4259-f155-dfbaf92e18e2",
        "colab": {
          "base_uri": "https://localhost:8080/"
        }
      },
      "execution_count": 31,
      "outputs": [
        {
          "output_type": "stream",
          "name": "stdout",
          "text": [
            "+-------+--------------------------------------------------------------------------------+\n",
            "|movieId|movie_name                                                                      |\n",
            "+-------+--------------------------------------------------------------------------------+\n",
            "|152916 |Scene from the Elevator Ascending Eiffel Tower                                  |\n",
            "|234919 |How It Feels to Be Run Over                                                     |\n",
            "|195369 |Reich                                                                           |\n",
            "|111901 |Cinderella                                                                      |\n",
            "|208090 |The Fallen of World War II                                                      |\n",
            "|247252 |Caught by a Wave                                                                |\n",
            "|203060 |Worlds of Ursula K. Le Guin                                                     |\n",
            "|205593 |The Maiden Danced to Death                                                      |\n",
            "|248008 |Summer Dreams: The Story of the Beach Boys                                      |\n",
            "|268214 |Where Is Anne Frank                                                             |\n",
            "|168558 |Finding Rin Tin Tin                                                             |\n",
            "|189015 |Girl Lost                                                                       |\n",
            "|284191 |The Red Suitcase                                                                |\n",
            "|278754 |One Piece: Episode of Chopper Plus: Bloom in the Winter, Miracle Cherry Blossom |\n",
            "|82467  |Forever Amber                                                                   |\n",
            "|267940 |Silvery Moon                                                                    |\n",
            "|111401 |Home and the World, The                                                         |\n",
            "|120867 |Tropico                                                                         |\n",
            "|267928 |Unreal News Reel                                                                |\n",
            "|126959 |The Epic of Everest                                                             |\n",
            "+-------+--------------------------------------------------------------------------------+\n",
            "only showing top 20 rows\n",
            "\n"
          ]
        }
      ]
    },
    {
      "cell_type": "code",
      "source": [
        "total_users = movies_ratings_df.select('userId').distinct().count()\n",
        "print(total_users)"
      ],
      "metadata": {
        "id": "RaAoiAUJns59",
        "outputId": "57e6b2f7-9f61-470a-da2f-19ab872a83bb",
        "colab": {
          "base_uri": "https://localhost:8080/"
        }
      },
      "execution_count": 32,
      "outputs": [
        {
          "output_type": "stream",
          "name": "stdout",
          "text": [
            "36112\n"
          ]
        }
      ]
    },
    {
      "cell_type": "code",
      "source": [
        "user_id_input = input('Enter user id')\n",
        "\n",
        "user_ratings = movies_ratings_df.filter(col('userId') == user_id_input).select('movieId','movie_name')\n",
        "user_ratings.show(truncate = False)"
      ],
      "metadata": {
        "id": "Aav-nF2zl-TM",
        "outputId": "9e7f866d-8792-42a7-8daa-e5afd51ee2cb",
        "colab": {
          "base_uri": "https://localhost:8080/"
        }
      },
      "execution_count": 33,
      "outputs": [
        {
          "output_type": "stream",
          "name": "stdout",
          "text": [
            "Enter user id100\n",
            "+-------+-----------------------------------+\n",
            "|movieId|movie_name                         |\n",
            "+-------+-----------------------------------+\n",
            "|1      |Toy Story                          |\n",
            "|2      |Jumanji                            |\n",
            "|5      |Father of the Bride Part II        |\n",
            "|31     |Dangerous Minds                    |\n",
            "|34     |Babe                               |\n",
            "|47     |Seven                              |\n",
            "|50     |Usual Suspects, The                |\n",
            "|104    |Happy Gilmore                      |\n",
            "|150    |Apollo 13                          |\n",
            "|165    |Die Hard: With a Vengeance         |\n",
            "|260    |Star Wars: Episode IV - A New Hope |\n",
            "|293    |Léon: The Professional             |\n",
            "|296    |Pulp Fiction                       |\n",
            "|318    |Shawshank Redemption, The          |\n",
            "|356    |Forrest Gump                       |\n",
            "|357    |Four Weddings and a Funeral        |\n",
            "|364    |Lion King, The                     |\n",
            "|377    |Speed                              |\n",
            "|480    |Jurassic Park                      |\n",
            "|500    |Mrs. Doubtfire                     |\n",
            "+-------+-----------------------------------+\n",
            "only showing top 20 rows\n",
            "\n"
          ]
        }
      ]
    },
    {
      "cell_type": "markdown",
      "source": [
        "\n",
        "The **left anti join** in PySpark is similar to the join functionality, but it returns only columns from the left DataFrame for non-matched records."
      ],
      "metadata": {
        "id": "dJo1yLfRrtdv"
      }
    },
    {
      "cell_type": "code",
      "source": [
        "recommended_movies_df = top_rated_movies.join(user_ratings, on='movieId', how='left_anti')\n",
        "recommended_movies_df.show(truncate = False)"
      ],
      "metadata": {
        "id": "xJJwmnnyqblL",
        "outputId": "25860090-7a31-4e34-f2de-6af5f15db005",
        "colab": {
          "base_uri": "https://localhost:8080/"
        }
      },
      "execution_count": 34,
      "outputs": [
        {
          "output_type": "stream",
          "name": "stdout",
          "text": [
            "+-------+----------------------------------------------------------------------+\n",
            "|movieId|movie_name                                                            |\n",
            "+-------+----------------------------------------------------------------------+\n",
            "|250648 |From Hare to Heir                                                     |\n",
            "|222374 |The Colossus of Destiny: A Melvins Tale                               |\n",
            "|216372 |Adoring                                                               |\n",
            "|199710 |L'arroseur arrosé                                                     |\n",
            "|80210  |End of Poverty, The                                                   |\n",
            "|154606 |Pastorale                                                             |\n",
            "|161818 |VeggieTales: Duke and the Great Pie War                               |\n",
            "|267940 |Silvery Moon                                                          |\n",
            "|83558  |On the Occasion of Remembering the Turning Gate                       |\n",
            "|126959 |The Epic of Everest                                                   |\n",
            "|251616 |Breaking Boundaries: The Science of Our Planet                        |\n",
            "|244224 |Selfie                                                                |\n",
            "|251514 |Tim Minchin and the Heritage Orchestra: Live at the Royal Albert Hall |\n",
            "|226640 |Zabardast                                                             |\n",
            "|264301 |Tom Petty, Somewhere You Feel Free                                    |\n",
            "|106230 |Free Radicals:  A History of Experimental Film                        |\n",
            "|172071 |Atelier Fontana                                                       |\n",
            "|149644 |Beyond the Blackboard                                                 |\n",
            "|257983 |Domingo                                                               |\n",
            "|229055 |Bullets of Justice                                                    |\n",
            "+-------+----------------------------------------------------------------------+\n",
            "only showing top 20 rows\n",
            "\n"
          ]
        }
      ]
    },
    {
      "cell_type": "markdown",
      "source": [
        "left_anti join will keep only the movies that are not in the user’s rated movies list."
      ],
      "metadata": {
        "id": "ybIQKDcJr9Yc"
      }
    },
    {
      "cell_type": "markdown",
      "source": [
        "**Correlate Ratings and Release Year:**\n",
        "\n",
        "Analyze if there’s any correlation between the release year and the average rating of movies.\n"
      ],
      "metadata": {
        "id": "hSIlWQuGbeum"
      }
    },
    {
      "cell_type": "code",
      "source": [
        "avg_rating_year = movies_ratings_df.groupBy('year').agg(avg(col('rating')).alias('Avg_rating'))\n",
        "avg_rating_year.show(truncate = False)"
      ],
      "metadata": {
        "colab": {
          "base_uri": "https://localhost:8080/"
        },
        "id": "6KPIRsSPKZP-",
        "outputId": "51cb8a18-b4db-472a-f8f4-6851ab25abe2"
      },
      "execution_count": 38,
      "outputs": [
        {
          "output_type": "stream",
          "name": "stdout",
          "text": [
            "+----+------------------+\n",
            "|year|Avg_rating        |\n",
            "+----+------------------+\n",
            "|1953|3.6956057541020453|\n",
            "|1903|2.947058823529412 |\n",
            "|1957|4.022665522665522 |\n",
            "|1897|2.796875          |\n",
            "|1987|3.5515874990669087|\n",
            "|1956|3.718933333333333 |\n",
            "|2016|3.544669946699467 |\n",
            "|1936|3.848736325914749 |\n",
            "|2012|3.534303460694162 |\n",
            "|2020|3.3116364999464496|\n",
            "|1958|3.8176854830847224|\n",
            "|1910|2.7777777777777777|\n",
            "|1943|3.667924528301887 |\n",
            "|1915|3.0153846153846153|\n",
            "|1972|3.965176268271711 |\n",
            "|1931|3.9023941068139965|\n",
            "|1988|3.5300534613766303|\n",
            "|1938|3.889705882352941 |\n",
            "|1926|3.846683354192741 |\n",
            "|1911|3.6538461538461537|\n",
            "+----+------------------+\n",
            "only showing top 20 rows\n",
            "\n"
          ]
        }
      ]
    },
    {
      "cell_type": "code",
      "source": [
        "avg_rating_year_pd = avg_rating_year.toPandas()\n",
        "correlation = avg_rating_year_pd['year'].astype(float).corr(avg_rating_year_pd['Avg_rating'])\n",
        "print(\"Correlation between release year and average rating: \",correlation)\n"
      ],
      "metadata": {
        "colab": {
          "base_uri": "https://localhost:8080/"
        },
        "id": "po0M4r6jKA4E",
        "outputId": "6dabb8c1-59ed-4d82-922d-d83254c6623f"
      },
      "execution_count": 40,
      "outputs": [
        {
          "output_type": "stream",
          "name": "stdout",
          "text": [
            "Correlation between release year and average rating:  0.5714955278992014\n"
          ]
        }
      ]
    },
    {
      "cell_type": "markdown",
      "source": [
        "In this we are caluclatuing Pearson correlation coefficient between the year and Avg_rating columns."
      ],
      "metadata": {
        "id": "omfJeuoAL6mC"
      }
    },
    {
      "cell_type": "markdown",
      "source": [
        "**Conclusion:** There appears to be a moderate trend where newer movies (those released more recently) tend to receive slightly higher average ratings than older movies as pearson correlation coefficient is between 0.5 to 0.7 so this comes under moderate strength."
      ],
      "metadata": {
        "id": "xnfCd9lGMeYM"
      }
    },
    {
      "cell_type": "markdown",
      "source": [
        "**Genre Diversity in Top-Rated Movies:**\n",
        "\n",
        "Examine the genre diversity among the top 100 highest-rated movies."
      ],
      "metadata": {
        "id": "_ExUqekmbgqF"
      }
    },
    {
      "cell_type": "code",
      "source": [
        "top_rated_movies = movies_ratings_df.groupBy('movieId', 'movie_name')\\\n",
        "    .agg(avg(col('rating')).alias('Avg_rating'))\\\n",
        "    .orderBy(col('Avg_rating').desc())\\\n",
        "    .limit(100)\\\n",
        "    .select('movieId','movie_name')\n",
        "\n",
        "top_rated_movies.show(truncate = False)"
      ],
      "metadata": {
        "colab": {
          "base_uri": "https://localhost:8080/"
        },
        "id": "ZwOWTkRHM2KD",
        "outputId": "ceec75bc-0dfe-40d3-eea2-39121cd3298d"
      },
      "execution_count": 52,
      "outputs": [
        {
          "output_type": "stream",
          "name": "stdout",
          "text": [
            "+-------+--------------------------------------------------------------------------------+\n",
            "|movieId|movie_name                                                                      |\n",
            "+-------+--------------------------------------------------------------------------------+\n",
            "|234919 |How It Feels to Be Run Over                                                     |\n",
            "|152916 |Scene from the Elevator Ascending Eiffel Tower                                  |\n",
            "|111901 |Cinderella                                                                      |\n",
            "|195369 |Reich                                                                           |\n",
            "|247252 |Caught by a Wave                                                                |\n",
            "|208090 |The Fallen of World War II                                                      |\n",
            "|205593 |The Maiden Danced to Death                                                      |\n",
            "|203060 |Worlds of Ursula K. Le Guin                                                     |\n",
            "|268214 |Where Is Anne Frank                                                             |\n",
            "|248008 |Summer Dreams: The Story of the Beach Boys                                      |\n",
            "|189015 |Girl Lost                                                                       |\n",
            "|168558 |Finding Rin Tin Tin                                                             |\n",
            "|278754 |One Piece: Episode of Chopper Plus: Bloom in the Winter, Miracle Cherry Blossom |\n",
            "|284191 |The Red Suitcase                                                                |\n",
            "|267940 |Silvery Moon                                                                    |\n",
            "|82467  |Forever Amber                                                                   |\n",
            "|120867 |Tropico                                                                         |\n",
            "|111401 |Home and the World, The                                                         |\n",
            "|126959 |The Epic of Everest                                                             |\n",
            "|267928 |Unreal News Reel                                                                |\n",
            "+-------+--------------------------------------------------------------------------------+\n",
            "only showing top 20 rows\n",
            "\n"
          ]
        }
      ]
    },
    {
      "cell_type": "code",
      "source": [
        "from pyspark.sql.functions import explode,countDistinct"
      ],
      "metadata": {
        "id": "aUMxAAudOFYE"
      },
      "execution_count": 43,
      "outputs": []
    },
    {
      "cell_type": "code",
      "source": [
        "movies_df_aliased = movies_df.alias('m')\n",
        "top_rated_movies_aliased = top_rated_movies.alias('t')\n",
        "\n",
        "\n",
        "genres_split_df = movies_df_aliased.withColumn(\"genre\", explode(split(col(\"genres\"), \"\\\\|\"))) \\\n",
        "                                   .join(top_rated_movies_aliased, on=\"movieId\") \\\n",
        "                                   .select('m.movie_name', 'genre')\n",
        "\n",
        "genres_split_df.show(truncate=False)\n"
      ],
      "metadata": {
        "colab": {
          "base_uri": "https://localhost:8080/"
        },
        "id": "2sUXzOlWO4kM",
        "outputId": "6a179429-b2e8-4842-c459-3ebf93f52f0a"
      },
      "execution_count": 47,
      "outputs": [
        {
          "output_type": "stream",
          "name": "stdout",
          "text": [
            "+------------------------------------------------+-----------+\n",
            "|movie_name                                      |genre      |\n",
            "+------------------------------------------------+-----------+\n",
            "|Death Takes a Holiday                           |Fantasy    |\n",
            "|Death Takes a Holiday                           |Romance    |\n",
            "|Ceremony, The                                   |Comedy     |\n",
            "|Ceremony, The                                   |Drama      |\n",
            "|Voyager                                         |Drama      |\n",
            "|End of Poverty, The                             |Documentary|\n",
            "|On the Occasion of Remembering the Turning Gate |Drama      |\n",
            "|Time That Remains, The                          |Drama      |\n",
            "|Unexpected Love, An                             |Drama      |\n",
            "|Old Fashioned Way, The                          |Comedy     |\n",
            "|Treed Murray                                    |Drama      |\n",
            "|Human Scale, The                                |Documentary|\n",
            "|Free Radicals:  A History of Experimental Film  |Documentary|\n",
            "|Pianomania                                      |Documentary|\n",
            "|Arsène Lupin                                    |Mystery    |\n",
            "|Arsène Lupin                                    |Romance    |\n",
            "|Cinderella                                      |Fantasy    |\n",
            "|Cinderella                                      |Romance    |\n",
            "|Tropico                                         |Drama      |\n",
            "|Tropico                                         |Fantasy    |\n",
            "+------------------------------------------------+-----------+\n",
            "only showing top 20 rows\n",
            "\n"
          ]
        }
      ]
    },
    {
      "cell_type": "code",
      "source": [
        "# Count distinct genres\n",
        "genre_diversity = genres_split_df.groupBy(\"movie_name\") \\\n",
        "                                .agg(countDistinct(\"genre\").alias(\"distinct_genres\"))\n",
        "genre_diversity = genre_diversity.orderBy(col('distinct_genres').asc())\n",
        "genre_diversity.show(truncate = False)"
      ],
      "metadata": {
        "colab": {
          "base_uri": "https://localhost:8080/"
        },
        "id": "9tb-1UVyOT2e",
        "outputId": "1e82c02d-728f-4207-f3a6-83f82264772f"
      },
      "execution_count": 59,
      "outputs": [
        {
          "output_type": "stream",
          "name": "stdout",
          "text": [
            "+-----------------------------------------------+---------------+\n",
            "|movie_name                                     |distinct_genres|\n",
            "+-----------------------------------------------+---------------+\n",
            "|Rolli and the Golden Key                       |1              |\n",
            "|Lil Rel: RELevent                              |1              |\n",
            "|The Rashevski Tango                            |1              |\n",
            "|Adoring                                        |1              |\n",
            "|Treed Murray                                   |1              |\n",
            "|L'arroseur arrosé                              |1              |\n",
            "|Breaking Boundaries: The Science of Our Planet |1              |\n",
            "|Selfie                                         |1              |\n",
            "|Path of Blood                                  |1              |\n",
            "|The Cookie Carnival                            |1              |\n",
            "|Time That Remains, The                         |1              |\n",
            "|First Contact                                  |1              |\n",
            "|The Connection                                 |1              |\n",
            "|The Colossus of Destiny: A Melvins Tale        |1              |\n",
            "|People Just Do Nothing: Big in Japan           |1              |\n",
            "|The Perfect Nanny                              |1              |\n",
            "|Zabardast                                      |1              |\n",
            "|The Maestro                                    |1              |\n",
            "|Unexpected Love, An                            |1              |\n",
            "|The Wrong Girl                                 |1              |\n",
            "+-----------------------------------------------+---------------+\n",
            "only showing top 20 rows\n",
            "\n"
          ]
        }
      ]
    },
    {
      "cell_type": "code",
      "source": [
        "x = genres_split_df.filter(col('genre') == '(no genres listed)')\n",
        "x.show(truncate = False)"
      ],
      "metadata": {
        "colab": {
          "base_uri": "https://localhost:8080/"
        },
        "id": "ztHO5_jlVKfI",
        "outputId": "970217e1-43f6-42d2-eeb2-de211d36b4e2"
      },
      "execution_count": 60,
      "outputs": [
        {
          "output_type": "stream",
          "name": "stdout",
          "text": [
            "+-----------------------------------------------+------------------+\n",
            "|movie_name                                     |genre             |\n",
            "+-----------------------------------------------+------------------+\n",
            "|Sally Hemings: An American Scandal             |(no genres listed)|\n",
            "|Dangerous Child                                |(no genres listed)|\n",
            "|Michael Jackson: Video Greatest Hits - HIStory |(no genres listed)|\n",
            "|Lebedyne ozero-zona                            |(no genres listed)|\n",
            "|Vintage Tomorrows                              |(no genres listed)|\n",
            "|Lana Del Rey: The Greatest Story Never Told    |(no genres listed)|\n",
            "|Stream of Love                                 |(no genres listed)|\n",
            "|1968                                           |(no genres listed)|\n",
            "|L'arroseur arrosé                              |(no genres listed)|\n",
            "|The Maiden Danced to Death                     |(no genres listed)|\n",
            "|Inside 'The Talented Mr. Ripley'               |(no genres listed)|\n",
            "+-----------------------------------------------+------------------+\n",
            "\n"
          ]
        }
      ]
    },
    {
      "cell_type": "code",
      "source": [
        "movies_ratings_df.filter(col('movie_name').like(\"%A Sister's Revenge%\")).show(truncate = False)\n"
      ],
      "metadata": {
        "colab": {
          "base_uri": "https://localhost:8080/"
        },
        "id": "JqyH5mM4QNv-",
        "outputId": "0a866803-f2d4-41d8-97b6-77a1b0413587"
      },
      "execution_count": 56,
      "outputs": [
        {
          "output_type": "stream",
          "name": "stdout",
          "text": [
            "+-------+----------------------+-------------------+----+------+------+----------+\n",
            "|movieId|genres                |movie_name         |year|userId|rating|timestamp |\n",
            "+-------+----------------------+-------------------+----+------+------+----------+\n",
            "|137018 |Drama|Mystery|Thriller|A Sister's Revenge |2013|9785  |5.0   |1436142277|\n",
            "+-------+----------------------+-------------------+----+------+------+----------+\n",
            "\n"
          ]
        }
      ]
    },
    {
      "cell_type": "markdown",
      "source": [
        "**Total Genre Counts:**\n",
        "\n",
        "You might want to count how many times each genre appears across all the top 100 movies.\n"
      ],
      "metadata": {
        "id": "09F2dNP6S4Dx"
      }
    },
    {
      "cell_type": "code",
      "source": [
        "total_count = genres_split_df.groupBy('genre').agg(count(col('genre')).alias('No_of_count'))\n",
        "total_count = total_count.orderBy(col('No_of_count').desc())\n",
        "total_count.show(truncate = False)"
      ],
      "metadata": {
        "colab": {
          "base_uri": "https://localhost:8080/"
        },
        "id": "honA_vpPS-2b",
        "outputId": "f86fe549-e9ec-4eee-fded-9ba620887e93"
      },
      "execution_count": 95,
      "outputs": [
        {
          "output_type": "stream",
          "name": "stdout",
          "text": [
            "+------------------+-----------+\n",
            "|genre             |No_of_count|\n",
            "+------------------+-----------+\n",
            "|Drama             |34         |\n",
            "|Documentary       |22         |\n",
            "|Comedy            |21         |\n",
            "|Romance           |15         |\n",
            "|(no genres listed)|11         |\n",
            "|Fantasy           |8          |\n",
            "|Animation         |8          |\n",
            "|Thriller          |7          |\n",
            "|Crime             |6          |\n",
            "|Mystery           |6          |\n",
            "|Horror            |5          |\n",
            "|Children          |5          |\n",
            "|Sci-Fi            |5          |\n",
            "|Action            |4          |\n",
            "|War               |3          |\n",
            "|Adventure         |2          |\n",
            "+------------------+-----------+\n",
            "\n"
          ]
        }
      ]
    },
    {
      "cell_type": "markdown",
      "source": [
        "**Percentage Representation:**\n",
        "\n",
        "Calculate the percentage representation of each genre among the top-rated movies to understand which genres dominate."
      ],
      "metadata": {
        "id": "-rY5JeNdS9e9"
      }
    },
    {
      "cell_type": "code",
      "source": [
        "from pyspark.sql.functions import col, avg\n",
        "\n",
        "most_rated_year = movies_ratings_df.groupBy(col('year'),col('movie_name')) \\\n",
        "    .agg(avg(col('rating')).alias('Avg_rating'))\n",
        "\n",
        "# most_rated_year= most_rated_year.orderBy(col('Avg_rating').desc())\n",
        "\n",
        "\n",
        "most_rated_year.show(truncate=False)"
      ],
      "metadata": {
        "colab": {
          "base_uri": "https://localhost:8080/"
        },
        "id": "L3QM82ZdZzGu",
        "outputId": "df27217a-7cbf-46b1-a0e4-ac250deebfed"
      },
      "execution_count": 103,
      "outputs": [
        {
          "output_type": "stream",
          "name": "stdout",
          "text": [
            "+----+------------------------------------------+------------------+\n",
            "|year|movie_name                                |Avg_rating        |\n",
            "+----+------------------------------------------+------------------+\n",
            "|1999|Liberty Heights                           |3.5559701492537314|\n",
            "|2004|Phantom of the Opera, The                 |3.481216457960644 |\n",
            "|2006|Eragon                                    |2.4310344827586206|\n",
            "|2007|National Treasure: Book of Secrets        |3.251366120218579 |\n",
            "|2012|Sinister                                  |3.57              |\n",
            "|1995|Pride and Prejudice                       |3.9887152777777777|\n",
            "|1989|Sea of Love                               |3.4524793388429753|\n",
            "|2014|Blended                                   |3.3251121076233185|\n",
            "|1994|Three Colors: White                       |3.856945722171113 |\n",
            "|1997|Ice Storm, The                            |3.8108736059479553|\n",
            "|1990|King of New York                          |3.484320557491289 |\n",
            "|1998|Very Bad Things                           |2.7893617021276595|\n",
            "|1981|Excalibur                                 |3.593545751633987 |\n",
            "|1963|Lord of the Flies                         |3.5482897384305834|\n",
            "|1988|Mystic Pizza                              |3.261520737327189 |\n",
            "|2002|24 Hour Party People                      |3.605654761904762 |\n",
            "|2003|Dark Blue                                 |3.225225225225225 |\n",
            "|2008|Harold & Kumar Escape from Guantanamo Bay |3.0385356454720616|\n",
            "|2017|Molly's Game                              |3.762836185819071 |\n",
            "|1997|Open Your Eyes                            |3.870401337792642 |\n",
            "+----+------------------------------------------+------------------+\n",
            "only showing top 20 rows\n",
            "\n"
          ]
        }
      ]
    },
    {
      "cell_type": "code",
      "source": [
        "from pyspark.sql.functions import col, avg\n",
        "\n",
        "most_rated_year = movies_ratings_df.groupBy(col('year')) \\\n",
        "    .agg(avg(col('rating')).alias('Avg_rating'))\n",
        "\n",
        "most_rated_year= most_rated_year.orderBy(col('Avg_rating').desc())\n",
        "\n",
        "\n",
        "most_rated_year.show(truncate=False)"
      ],
      "metadata": {
        "id": "OiQ8y_H8bGnp",
        "outputId": "12d707d8-c2a0-420c-8075-bdba8de6ba6c",
        "colab": {
          "base_uri": "https://localhost:8080/"
        }
      },
      "execution_count": 101,
      "outputs": [
        {
          "output_type": "stream",
          "name": "stdout",
          "text": [
            "+----+------------------+\n",
            "|year|Avg_rating        |\n",
            "+----+------------------+\n",
            "|1957|4.022665522665522 |\n",
            "|1954|4.004514672686231 |\n",
            "|1946|3.9740790436691875|\n",
            "|1972|3.965176268271711 |\n",
            "|1942|3.961504640937958 |\n",
            "|1962|3.940851449275362 |\n",
            "|1944|3.9371643394199785|\n",
            "|1941|3.9285191286838734|\n",
            "|1934|3.920393559928444 |\n",
            "|1931|3.9023941068139965|\n",
            "|1974|3.8981538225831165|\n",
            "|1964|3.894499120429801 |\n",
            "|1952|3.893018018018018 |\n",
            "|1975|3.892570281124498 |\n",
            "|1938|3.889705882352941 |\n",
            "|1951|3.882144284572342 |\n",
            "|1948|3.8773248168326133|\n",
            "|1939|3.8682272057619906|\n",
            "|1927|3.864066852367688 |\n",
            "|1949|3.855448053443907 |\n",
            "+----+------------------+\n",
            "only showing top 20 rows\n",
            "\n"
          ]
        }
      ]
    },
    {
      "cell_type": "markdown",
      "source": [
        "**Step 5: Performance Optimization**\n"
      ],
      "metadata": {
        "id": "dghnTYxbbrpK"
      }
    },
    {
      "cell_type": "markdown",
      "source": [
        "**Cache and Persist:**\n",
        "\n",
        "Use caching and persistence in PySpark to optimize the performance of your queries.\n"
      ],
      "metadata": {
        "id": "_xkZ3HA1bzPS"
      }
    },
    {
      "cell_type": "markdown",
      "source": [
        "**Partitioning:**\n",
        "\n",
        "Apply partitioning to the data to improve the efficiency of operations, especially for large datasets.\n"
      ],
      "metadata": {
        "id": "9NqIhsoJb0Jt"
      }
    },
    {
      "cell_type": "markdown",
      "source": [
        "**Step 6: Visualization**\n",
        "\n",
        "**Visualize Data:**\n",
        "Use PySpark with an external library like Matplotlib, Seaborn, or even Power BI to create visualizations such as:\n",
        "Distribution of ratings.\n",
        "Average rating per genre.\n",
        "Trends in movie ratings over the years."
      ],
      "metadata": {
        "id": "TSK8gffbb30I"
      }
    }
  ],
  "metadata": {
    "colab": {
      "name": "Welcome To Colab",
      "provenance": [],
      "include_colab_link": true
    },
    "kernelspec": {
      "display_name": "Python 3",
      "name": "python3"
    }
  },
  "nbformat": 4,
  "nbformat_minor": 0
}