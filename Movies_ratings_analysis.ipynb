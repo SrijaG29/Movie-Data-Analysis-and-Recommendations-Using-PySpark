{
  "cells": [
    {
      "cell_type": "markdown",
      "metadata": {
        "id": "view-in-github",
        "colab_type": "text"
      },
      "source": [
        "<a href=\"https://colab.research.google.com/github/SrijaG29/Movie-Data-Analysis-and-Recommendations-Using-PySpark/blob/main/Movies_ratings_analysis.ipynb\" target=\"_parent\"><img src=\"https://colab.research.google.com/assets/colab-badge.svg\" alt=\"Open In Colab\"/></a>"
      ]
    },
    {
      "cell_type": "markdown",
      "source": [
        "To create a project using the movie and ratings datasets with PySpark, here’s a step-by-step guide along with some ideas for questions you can answer. This will help demonstrate your PySpark skills and data analysis capabilities on your resume.\n",
        "\n",
        "### Step 1: Data Exploration\n",
        "1. **Load the datasets into PySpark**:\n",
        "   - Load the movie dataset (`movies.csv`) and ratings dataset (`ratings.csv`) into PySpark DataFrames.\n",
        "\n",
        "2. **Inspect the Data**:\n",
        "   - Display the schema and first few rows of both DataFrames to understand the data structure.\n",
        "\n",
        "### Step 2: Data Cleaning and Preparation\n",
        "1. **Handle Missing Values**:\n",
        "   - Check for any missing values and decide how to handle them (e.g., drop rows, fill with default values).\n",
        "\n",
        "2. **Data Transformation**:\n",
        "   - Extract the year from the movie title and create a new column `year`.\n",
        "   - Split the `genres` column into an array of genres.\n",
        "\n",
        "3. **Join the Datasets**:\n",
        "   - Perform an inner join on the `movieId` column to combine the movie and ratings datasets.\n",
        "\n",
        "### Step 3: Data Analysis\n",
        "1. **Top-Rated Movies**:\n",
        "   - Find the top 10 movies with the highest average rating.\n",
        "\n",
        "2. **Popular Genres**:\n",
        "   - Identify the most popular genres based on the number of ratings.\n",
        "\n",
        "3. **User Behavior**:\n",
        "   - Analyze the distribution of ratings by users. For example, find how many movies each user has rated.\n",
        "\n",
        "4. **Yearly Trends**:\n",
        "   - Determine how the average movie rating has changed over the years.\n",
        "\n",
        "5. **Genre-Based Recommendations**:\n",
        "   - For a given genre, list the top 5 movies based on average ratings.\n",
        "\n",
        "6. **Movies with the Most Reviews**:\n",
        "   - Identify the movies with the highest number of ratings.\n",
        "\n",
        "### Step 4: Advanced Analysis\n",
        "1. **User-Specific Recommendations**:\n",
        "   - Build a basic recommendation system by suggesting top-rated movies that a user has not rated yet.\n",
        "\n",
        "2. **Correlate Ratings and Release Year**:\n",
        "   - Analyze if there’s any correlation between the release year and the average rating of movies.\n",
        "\n",
        "3. **Genre Diversity in Top-Rated Movies**:\n",
        "   - Examine the genre diversity among the top 100 highest-rated movies.\n",
        "\n",
        "### Step 5: Performance Optimization\n",
        "1. **Cache and Persist**:\n",
        "   - Use caching and persistence in PySpark to optimize the performance of your queries.\n",
        "\n",
        "2. **Partitioning**:\n",
        "   - Apply partitioning to the data to improve the efficiency of operations, especially for large datasets.\n",
        "\n",
        "### Step 6: Visualization\n",
        "1. **Visualize Data**:\n",
        "   - Use PySpark with an external library like Matplotlib, Seaborn, or even Power BI to create visualizations such as:\n",
        "     - Distribution of ratings.\n",
        "     - Average rating per genre.\n",
        "     - Trends in movie ratings over the years.\n",
        "\n",
        "### Conclusion\n",
        "This project structure not only demonstrates your technical ability to handle and analyze data using PySpark but also your ability to derive meaningful insights from complex datasets. Once complete, you can showcase this project in your portfolio or resume, highlighting key aspects such as data cleaning, transformation, analysis, and visualization."
      ],
      "metadata": {
        "id": "hv2_SgsjCy9-"
      }
    },
    {
      "cell_type": "code",
      "source": [
        "# Step 1: Download the ZIP file\n",
        "!wget https://files.grouplens.org/datasets/movielens/ml-latest-small.zip -O movielens.zip\n",
        "\n",
        "# Step 2: Extract the ZIP file\n",
        "!unzip movielens.zip -d movielens_data\n"
      ],
      "metadata": {
        "id": "2ClVZYf3Wge-",
        "outputId": "cce232a2-7bcd-4bb7-fa64-30f8aae686fd",
        "colab": {
          "base_uri": "https://localhost:8080/"
        }
      },
      "execution_count": 1,
      "outputs": [
        {
          "output_type": "stream",
          "name": "stdout",
          "text": [
            "--2024-08-27 06:35:55--  https://files.grouplens.org/datasets/movielens/ml-latest-small.zip\n",
            "Resolving files.grouplens.org (files.grouplens.org)... 128.101.65.152\n",
            "Connecting to files.grouplens.org (files.grouplens.org)|128.101.65.152|:443... connected.\n",
            "HTTP request sent, awaiting response... 200 OK\n",
            "Length: 978202 (955K) [application/zip]\n",
            "Saving to: ‘movielens.zip’\n",
            "\n",
            "movielens.zip       100%[===================>] 955.28K  2.29MB/s    in 0.4s    \n",
            "\n",
            "2024-08-27 06:35:56 (2.29 MB/s) - ‘movielens.zip’ saved [978202/978202]\n",
            "\n",
            "Archive:  movielens.zip\n",
            "   creating: movielens_data/ml-latest-small/\n",
            "  inflating: movielens_data/ml-latest-small/links.csv  \n",
            "  inflating: movielens_data/ml-latest-small/tags.csv  \n",
            "  inflating: movielens_data/ml-latest-small/ratings.csv  \n",
            "  inflating: movielens_data/ml-latest-small/README.txt  \n",
            "  inflating: movielens_data/ml-latest-small/movies.csv  \n"
          ]
        }
      ]
    },
    {
      "cell_type": "code",
      "source": [
        "!pip install pyspark"
      ],
      "metadata": {
        "colab": {
          "base_uri": "https://localhost:8080/"
        },
        "id": "XIxLKTPjLB1H",
        "outputId": "cec2398e-655e-4eda-b282-b5af97f3f0ba"
      },
      "execution_count": 2,
      "outputs": [
        {
          "output_type": "stream",
          "name": "stdout",
          "text": [
            "Collecting pyspark\n",
            "  Downloading pyspark-3.5.2.tar.gz (317.3 MB)\n",
            "\u001b[2K     \u001b[90m━━━━━━━━━━━━━━━━━━━━━━━━━━━━━━━━━━━━━━━━\u001b[0m \u001b[32m317.3/317.3 MB\u001b[0m \u001b[31m4.4 MB/s\u001b[0m eta \u001b[36m0:00:00\u001b[0m\n",
            "\u001b[?25h  Preparing metadata (setup.py) ... \u001b[?25l\u001b[?25hdone\n",
            "Requirement already satisfied: py4j==0.10.9.7 in /usr/local/lib/python3.10/dist-packages (from pyspark) (0.10.9.7)\n",
            "Building wheels for collected packages: pyspark\n",
            "  Building wheel for pyspark (setup.py) ... \u001b[?25l\u001b[?25hdone\n",
            "  Created wheel for pyspark: filename=pyspark-3.5.2-py2.py3-none-any.whl size=317812365 sha256=a331c16773a47cb7bca13fbf14d2b0dfa8585730d464edefb372faeb483ecee3\n",
            "  Stored in directory: /root/.cache/pip/wheels/34/34/bd/03944534c44b677cd5859f248090daa9fb27b3c8f8e5f49574\n",
            "Successfully built pyspark\n",
            "Installing collected packages: pyspark\n",
            "Successfully installed pyspark-3.5.2\n"
          ]
        }
      ]
    },
    {
      "cell_type": "code",
      "source": [
        "from pyspark.sql import SparkSession"
      ],
      "metadata": {
        "id": "O30ZFHRgLDVH"
      },
      "execution_count": 3,
      "outputs": []
    },
    {
      "cell_type": "code",
      "source": [
        "spark = (\n",
        "    SparkSession\n",
        "    .builder\n",
        "    .appName(\"Movie ratings\")\n",
        "    .master(\"local[*]\")\n",
        "    .getOrCreate()\n",
        ")"
      ],
      "metadata": {
        "id": "9vzD3nE_L0_S"
      },
      "execution_count": 4,
      "outputs": []
    },
    {
      "cell_type": "code",
      "source": [
        "spark"
      ],
      "metadata": {
        "id": "vPNQe1yDKYWX",
        "outputId": "d9fc9987-3996-4720-f13e-c65084eed5e5",
        "colab": {
          "base_uri": "https://localhost:8080/",
          "height": 219
        }
      },
      "execution_count": 5,
      "outputs": [
        {
          "output_type": "execute_result",
          "data": {
            "text/plain": [
              "<pyspark.sql.session.SparkSession at 0x79cad8662770>"
            ],
            "text/html": [
              "\n",
              "            <div>\n",
              "                <p><b>SparkSession - in-memory</b></p>\n",
              "                \n",
              "        <div>\n",
              "            <p><b>SparkContext</b></p>\n",
              "\n",
              "            <p><a href=\"http://8145a4fff448:4040\">Spark UI</a></p>\n",
              "\n",
              "            <dl>\n",
              "              <dt>Version</dt>\n",
              "                <dd><code>v3.5.2</code></dd>\n",
              "              <dt>Master</dt>\n",
              "                <dd><code>local[*]</code></dd>\n",
              "              <dt>AppName</dt>\n",
              "                <dd><code>Movie ratings</code></dd>\n",
              "            </dl>\n",
              "        </div>\n",
              "        \n",
              "            </div>\n",
              "        "
            ]
          },
          "metadata": {},
          "execution_count": 5
        }
      ]
    },
    {
      "cell_type": "markdown",
      "source": [
        "**Step 1: Data Exploration**\n",
        "Load the datasets into PySpark session **\"spark\"**:\n",
        "\n",
        "Load the movie dataset (movies.csv) and ratings dataset (ratings.csv) into PySpark DataFrames.\n",
        "Inspect the Data:\n",
        "\n",
        "Display the schema and first few rows of both DataFrames to understand the data structure."
      ],
      "metadata": {
        "id": "xsL0AzuVQhvW"
      }
    },
    {
      "cell_type": "code",
      "source": [
        "movies_df = spark.read.format(\"csv\").option(\"header\",True).load(\"/content/movielens_data/ml-latest-small/movies.csv\")\n",
        "movies_df.show(truncate = False)"
      ],
      "metadata": {
        "colab": {
          "base_uri": "https://localhost:8080/"
        },
        "id": "wZiKaEPUMKNf",
        "outputId": "0fb3b689-7302-44c5-b00a-4f1eab0e3856"
      },
      "execution_count": 6,
      "outputs": [
        {
          "output_type": "stream",
          "name": "stdout",
          "text": [
            "+-------+-------------------------------------+-------------------------------------------+\n",
            "|movieId|title                                |genres                                     |\n",
            "+-------+-------------------------------------+-------------------------------------------+\n",
            "|1      |Toy Story (1995)                     |Adventure|Animation|Children|Comedy|Fantasy|\n",
            "|2      |Jumanji (1995)                       |Adventure|Children|Fantasy                 |\n",
            "|3      |Grumpier Old Men (1995)              |Comedy|Romance                             |\n",
            "|4      |Waiting to Exhale (1995)             |Comedy|Drama|Romance                       |\n",
            "|5      |Father of the Bride Part II (1995)   |Comedy                                     |\n",
            "|6      |Heat (1995)                          |Action|Crime|Thriller                      |\n",
            "|7      |Sabrina (1995)                       |Comedy|Romance                             |\n",
            "|8      |Tom and Huck (1995)                  |Adventure|Children                         |\n",
            "|9      |Sudden Death (1995)                  |Action                                     |\n",
            "|10     |GoldenEye (1995)                     |Action|Adventure|Thriller                  |\n",
            "|11     |American President, The (1995)       |Comedy|Drama|Romance                       |\n",
            "|12     |Dracula: Dead and Loving It (1995)   |Comedy|Horror                              |\n",
            "|13     |Balto (1995)                         |Adventure|Animation|Children               |\n",
            "|14     |Nixon (1995)                         |Drama                                      |\n",
            "|15     |Cutthroat Island (1995)              |Action|Adventure|Romance                   |\n",
            "|16     |Casino (1995)                        |Crime|Drama                                |\n",
            "|17     |Sense and Sensibility (1995)         |Drama|Romance                              |\n",
            "|18     |Four Rooms (1995)                    |Comedy                                     |\n",
            "|19     |Ace Ventura: When Nature Calls (1995)|Comedy                                     |\n",
            "|20     |Money Train (1995)                   |Action|Comedy|Crime|Drama|Thriller         |\n",
            "+-------+-------------------------------------+-------------------------------------------+\n",
            "only showing top 20 rows\n",
            "\n"
          ]
        }
      ]
    },
    {
      "cell_type": "code",
      "source": [
        "ratings_df = spark.read.format(\"csv\").option(\"header\",True).load(\"/content/movielens_data/ml-latest-small/ratings.csv\")\n",
        "ratings_df.show(truncate = False)"
      ],
      "metadata": {
        "colab": {
          "base_uri": "https://localhost:8080/"
        },
        "id": "KQQNT_c-MVTS",
        "outputId": "080ebea7-180c-4550-c4ca-db7490585589"
      },
      "execution_count": 7,
      "outputs": [
        {
          "output_type": "stream",
          "name": "stdout",
          "text": [
            "+------+-------+------+---------+\n",
            "|userId|movieId|rating|timestamp|\n",
            "+------+-------+------+---------+\n",
            "|1     |1      |4.0   |964982703|\n",
            "|1     |3      |4.0   |964981247|\n",
            "|1     |6      |4.0   |964982224|\n",
            "|1     |47     |5.0   |964983815|\n",
            "|1     |50     |5.0   |964982931|\n",
            "|1     |70     |3.0   |964982400|\n",
            "|1     |101    |5.0   |964980868|\n",
            "|1     |110    |4.0   |964982176|\n",
            "|1     |151    |5.0   |964984041|\n",
            "|1     |157    |5.0   |964984100|\n",
            "|1     |163    |5.0   |964983650|\n",
            "|1     |216    |5.0   |964981208|\n",
            "|1     |223    |3.0   |964980985|\n",
            "|1     |231    |5.0   |964981179|\n",
            "|1     |235    |4.0   |964980908|\n",
            "|1     |260    |5.0   |964981680|\n",
            "|1     |296    |3.0   |964982967|\n",
            "|1     |316    |3.0   |964982310|\n",
            "|1     |333    |5.0   |964981179|\n",
            "|1     |349    |4.0   |964982563|\n",
            "+------+-------+------+---------+\n",
            "only showing top 20 rows\n",
            "\n"
          ]
        }
      ]
    },
    {
      "cell_type": "markdown",
      "source": [
        "**Step 2: Data Cleaning and Preparation**"
      ],
      "metadata": {
        "id": "8cmtJIHUQtYc"
      }
    },
    {
      "cell_type": "markdown",
      "source": [
        "**Handle Missing Values:**\n",
        "\n",
        "Check for any missing values and decide how to handle them (e.g., drop rows, fill with default values)."
      ],
      "metadata": {
        "id": "wK_wVenGUoMQ"
      }
    },
    {
      "cell_type": "code",
      "source": [
        "from pyspark.sql.functions import sum,col,when,split"
      ],
      "metadata": {
        "id": "pjpOu0uERrQw"
      },
      "execution_count": 8,
      "outputs": []
    },
    {
      "cell_type": "code",
      "source": [
        "print(movies_df.dtypes)"
      ],
      "metadata": {
        "id": "QZdEgmidSigd",
        "outputId": "ea46ba6e-6567-46c6-965b-b78e32ca4568",
        "colab": {
          "base_uri": "https://localhost:8080/"
        }
      },
      "execution_count": 9,
      "outputs": [
        {
          "output_type": "stream",
          "name": "stdout",
          "text": [
            "[('movieId', 'string'), ('title', 'string'), ('genres', 'string')]\n"
          ]
        }
      ]
    },
    {
      "cell_type": "code",
      "source": [
        "print(ratings_df.dtypes)"
      ],
      "metadata": {
        "id": "bzpKw9mhSnfR",
        "outputId": "25ea8085-fd3b-4770-d8ab-6171b007e0c1",
        "colab": {
          "base_uri": "https://localhost:8080/"
        }
      },
      "execution_count": 10,
      "outputs": [
        {
          "output_type": "stream",
          "name": "stdout",
          "text": [
            "[('userId', 'string'), ('movieId', 'string'), ('rating', 'string'), ('timestamp', 'string')]\n"
          ]
        }
      ]
    },
    {
      "cell_type": "code",
      "source": [
        "from pyspark.sql import functions as F\n",
        "\n",
        "# Create a list of expressions to count nulls in each column\n",
        "null_counts_expr = [F.count(F.when(F.col(c).isNull(), c)).alias(c) for c in movies_df.columns]\n",
        "\n",
        "# Use the list in select()\n",
        "null_counts = movies_df.select(*null_counts_expr)\n",
        "\n",
        "# Show the result\n",
        "null_counts.show()\n"
      ],
      "metadata": {
        "id": "anKOF0dxot23",
        "outputId": "dc0a061a-da0a-4d56-efff-4f24c1034c62",
        "colab": {
          "base_uri": "https://localhost:8080/"
        }
      },
      "execution_count": 11,
      "outputs": [
        {
          "output_type": "stream",
          "name": "stdout",
          "text": [
            "+-------+-----+------+\n",
            "|movieId|title|genres|\n",
            "+-------+-----+------+\n",
            "|      0|    0|     0|\n",
            "+-------+-----+------+\n",
            "\n"
          ]
        }
      ]
    },
    {
      "cell_type": "code",
      "source": [
        "# Create a list of expressions to count nulls in each column\n",
        "null_counts_expr = [F.count(F.when(F.col(c).isNull(), c)).alias(c) for c in ratings_df.columns]\n",
        "\n",
        "# Use the list in select()\n",
        "null_counts = ratings_df.select(*null_counts_expr)\n",
        "\n",
        "# Show the result\n",
        "null_counts.show()"
      ],
      "metadata": {
        "id": "lOvr5VMhTJda",
        "outputId": "282bdb31-8577-4094-f859-041172118273",
        "colab": {
          "base_uri": "https://localhost:8080/"
        }
      },
      "execution_count": 12,
      "outputs": [
        {
          "output_type": "stream",
          "name": "stdout",
          "text": [
            "+------+-------+------+---------+\n",
            "|userId|movieId|rating|timestamp|\n",
            "+------+-------+------+---------+\n",
            "|     0|      0|     0|        0|\n",
            "+------+-------+------+---------+\n",
            "\n"
          ]
        }
      ]
    },
    {
      "cell_type": "markdown",
      "source": [
        "**\" There are no null values in these datasets. \"**"
      ],
      "metadata": {
        "id": "8zzVU0unUdcm"
      }
    },
    {
      "cell_type": "markdown",
      "source": [
        "**Data Transformation:**\n",
        "\n",
        "Extract the year from the movie title and create a new column year. Split the genres column into an array of genres."
      ],
      "metadata": {
        "id": "RHbbgyjBUsev"
      }
    },
    {
      "cell_type": "code",
      "source": [
        "movies_df.show(truncate = False)"
      ],
      "metadata": {
        "id": "a0OKbuUMUHvw",
        "outputId": "5659e99b-0d6d-49bd-fc56-1a26f23d3f5c",
        "colab": {
          "base_uri": "https://localhost:8080/"
        }
      },
      "execution_count": 13,
      "outputs": [
        {
          "output_type": "stream",
          "name": "stdout",
          "text": [
            "+-------+-------------------------------------+-------------------------------------------+\n",
            "|movieId|title                                |genres                                     |\n",
            "+-------+-------------------------------------+-------------------------------------------+\n",
            "|1      |Toy Story (1995)                     |Adventure|Animation|Children|Comedy|Fantasy|\n",
            "|2      |Jumanji (1995)                       |Adventure|Children|Fantasy                 |\n",
            "|3      |Grumpier Old Men (1995)              |Comedy|Romance                             |\n",
            "|4      |Waiting to Exhale (1995)             |Comedy|Drama|Romance                       |\n",
            "|5      |Father of the Bride Part II (1995)   |Comedy                                     |\n",
            "|6      |Heat (1995)                          |Action|Crime|Thriller                      |\n",
            "|7      |Sabrina (1995)                       |Comedy|Romance                             |\n",
            "|8      |Tom and Huck (1995)                  |Adventure|Children                         |\n",
            "|9      |Sudden Death (1995)                  |Action                                     |\n",
            "|10     |GoldenEye (1995)                     |Action|Adventure|Thriller                  |\n",
            "|11     |American President, The (1995)       |Comedy|Drama|Romance                       |\n",
            "|12     |Dracula: Dead and Loving It (1995)   |Comedy|Horror                              |\n",
            "|13     |Balto (1995)                         |Adventure|Animation|Children               |\n",
            "|14     |Nixon (1995)                         |Drama                                      |\n",
            "|15     |Cutthroat Island (1995)              |Action|Adventure|Romance                   |\n",
            "|16     |Casino (1995)                        |Crime|Drama                                |\n",
            "|17     |Sense and Sensibility (1995)         |Drama|Romance                              |\n",
            "|18     |Four Rooms (1995)                    |Comedy                                     |\n",
            "|19     |Ace Ventura: When Nature Calls (1995)|Comedy                                     |\n",
            "|20     |Money Train (1995)                   |Action|Comedy|Crime|Drama|Thriller         |\n",
            "+-------+-------------------------------------+-------------------------------------------+\n",
            "only showing top 20 rows\n",
            "\n"
          ]
        }
      ]
    },
    {
      "cell_type": "code",
      "source": [
        "total_count = movies_df.count()\n",
        "print(total_count)"
      ],
      "metadata": {
        "id": "TJVeGUayrldw",
        "outputId": "5ad6f618-c092-471b-f0dd-fcae3e4394c0",
        "colab": {
          "base_uri": "https://localhost:8080/"
        }
      },
      "execution_count": 14,
      "outputs": [
        {
          "output_type": "stream",
          "name": "stdout",
          "text": [
            "9742\n"
          ]
        }
      ]
    },
    {
      "cell_type": "markdown",
      "source": [
        "Extracting year from title."
      ],
      "metadata": {
        "id": "1HNZXhKia0wg"
      }
    },
    {
      "cell_type": "code",
      "source": [
        "from pyspark.sql.functions import udf\n",
        "from pyspark.sql.types import IntegerType\n",
        "\n",
        "def year_extract(x):\n",
        "  try:\n",
        "    f = x.split('(')[-1].strip(')')\n",
        "    return int(f)\n",
        "  except:\n",
        "    return None\n",
        "\n",
        "x_udf = udf(year_extract,IntegerType())\n",
        "\n",
        "movies_df = movies_df.withColumn('year',x_udf(col('title')))\n",
        "movies_df.show(truncate = False)"
      ],
      "metadata": {
        "id": "epDPxEgXFA2T",
        "outputId": "4dad9c06-a355-4bc9-9e14-5839f70e660d",
        "colab": {
          "base_uri": "https://localhost:8080/"
        }
      },
      "execution_count": 15,
      "outputs": [
        {
          "output_type": "stream",
          "name": "stdout",
          "text": [
            "+-------+-------------------------------------+-------------------------------------------+----+\n",
            "|movieId|title                                |genres                                     |year|\n",
            "+-------+-------------------------------------+-------------------------------------------+----+\n",
            "|1      |Toy Story (1995)                     |Adventure|Animation|Children|Comedy|Fantasy|1995|\n",
            "|2      |Jumanji (1995)                       |Adventure|Children|Fantasy                 |1995|\n",
            "|3      |Grumpier Old Men (1995)              |Comedy|Romance                             |1995|\n",
            "|4      |Waiting to Exhale (1995)             |Comedy|Drama|Romance                       |1995|\n",
            "|5      |Father of the Bride Part II (1995)   |Comedy                                     |1995|\n",
            "|6      |Heat (1995)                          |Action|Crime|Thriller                      |1995|\n",
            "|7      |Sabrina (1995)                       |Comedy|Romance                             |1995|\n",
            "|8      |Tom and Huck (1995)                  |Adventure|Children                         |1995|\n",
            "|9      |Sudden Death (1995)                  |Action                                     |1995|\n",
            "|10     |GoldenEye (1995)                     |Action|Adventure|Thriller                  |1995|\n",
            "|11     |American President, The (1995)       |Comedy|Drama|Romance                       |1995|\n",
            "|12     |Dracula: Dead and Loving It (1995)   |Comedy|Horror                              |1995|\n",
            "|13     |Balto (1995)                         |Adventure|Animation|Children               |1995|\n",
            "|14     |Nixon (1995)                         |Drama                                      |1995|\n",
            "|15     |Cutthroat Island (1995)              |Action|Adventure|Romance                   |1995|\n",
            "|16     |Casino (1995)                        |Crime|Drama                                |1995|\n",
            "|17     |Sense and Sensibility (1995)         |Drama|Romance                              |1995|\n",
            "|18     |Four Rooms (1995)                    |Comedy                                     |1995|\n",
            "|19     |Ace Ventura: When Nature Calls (1995)|Comedy                                     |1995|\n",
            "|20     |Money Train (1995)                   |Action|Comedy|Crime|Drama|Thriller         |1995|\n",
            "+-------+-------------------------------------+-------------------------------------------+----+\n",
            "only showing top 20 rows\n",
            "\n"
          ]
        }
      ]
    },
    {
      "cell_type": "code",
      "source": [
        "from pyspark.sql.functions import asc\n",
        "# f = movies_df.orderBy(movies_df.year.desc())\n",
        "f = movies_df.orderBy(movies_df.year.asc())\n",
        "f.show(truncate = False)"
      ],
      "metadata": {
        "id": "YfU090p9sqTf",
        "outputId": "f0c1466c-f5bc-482e-b04f-67eecdf5d7b8",
        "colab": {
          "base_uri": "https://localhost:8080/"
        }
      },
      "execution_count": 16,
      "outputs": [
        {
          "output_type": "stream",
          "name": "stdout",
          "text": [
            "+-------+---------------------------------------------------+-----------------------------------------+----+\n",
            "|movieId|title                                              |genres                                   |year|\n",
            "+-------+---------------------------------------------------+-----------------------------------------+----+\n",
            "|40697  |Babylon 5                                          |Sci-Fi                                   |NULL|\n",
            "|7789   |\"11'09\"\"01 - September 11 (2002)\"                  |Drama                                    |NULL|\n",
            "|27008  |From Dusk Till Dawn 2: Texas Blood Money (1999)    |Comedy|Crime|Horror                      |NULL|\n",
            "|116668 |Dead Snow 2: Red vs. Dead (2014)                   |Action|Comedy|Horror                     |NULL|\n",
            "|58404  |Justice League: The New Frontier (2008)            |Action|Adventure|Animation|Fantasy|Sci-Fi|NULL|\n",
            "|58842  |Assembly (Ji jie hao) (2007)                       |Action|Drama|War                         |NULL|\n",
            "|94494  |96 Minutes (2011)                                  |Drama|Thriller                           |NULL|\n",
            "|95004  |Superman/Doomsday (2007)                           |Action|Animation                         |NULL|\n",
            "|95193  |Pocahontas II: Journey to a New World (1998)       |Adventure|Animation|Children             |NULL|\n",
            "|96608  |Runaway Brain (1995)                               |Animation|Comedy|Sci-Fi                  |NULL|\n",
            "|102084 |Justice League: Doom (2012)                        |Action|Animation|Fantasy                 |NULL|\n",
            "|104017 |3 dev adam (Three Giant Men) (1973)                |Action|Adventure|Sci-Fi                  |NULL|\n",
            "|106648 |Guilty of Romance (Koi no tsumi) (2011)            |Crime|Drama|Horror                       |NULL|\n",
            "|140956 |Ready Player One                                   |Action|Sci-Fi|Thriller                   |NULL|\n",
            "|143410 |Hyena Road                                         |(no genres listed)                       |NULL|\n",
            "|147250 |The Adventures of Sherlock Holmes and Doctor Watson|(no genres listed)                       |NULL|\n",
            "|149334 |Nocturnal Animals                                  |Drama|Thriller                           |NULL|\n",
            "|156605 |Paterson                                           |(no genres listed)                       |NULL|\n",
            "|162414 |Moonlight                                          |Drama                                    |NULL|\n",
            "|167570 |The OA                                             |(no genres listed)                       |NULL|\n",
            "+-------+---------------------------------------------------+-----------------------------------------+----+\n",
            "only showing top 20 rows\n",
            "\n"
          ]
        }
      ]
    },
    {
      "cell_type": "markdown",
      "source": [
        "Few columns are None so we will remove those columns."
      ],
      "metadata": {
        "id": "VaFZeCuDIQbq"
      }
    },
    {
      "cell_type": "code",
      "source": [
        "null_count = movies_df.filter(col(\"year\").isNull()).count()\n",
        "print(null_count)"
      ],
      "metadata": {
        "id": "mk0E5570JbWB",
        "outputId": "1c011944-10f5-45f3-c9fb-e90cdfa53aa8",
        "colab": {
          "base_uri": "https://localhost:8080/"
        }
      },
      "execution_count": 17,
      "outputs": [
        {
          "output_type": "stream",
          "name": "stdout",
          "text": [
            "25\n"
          ]
        }
      ]
    },
    {
      "cell_type": "code",
      "source": [
        "movies_df = movies_df.dropna(subset=['year'])\n",
        "movies_df.show(truncate = False)"
      ],
      "metadata": {
        "id": "4fC2lGYhIMDx",
        "outputId": "9eec1ec1-b05d-468f-c9e0-c053b47f5b57",
        "colab": {
          "base_uri": "https://localhost:8080/"
        }
      },
      "execution_count": 18,
      "outputs": [
        {
          "output_type": "stream",
          "name": "stdout",
          "text": [
            "+-------+-------------------------------------+-------------------------------------------+----+\n",
            "|movieId|title                                |genres                                     |year|\n",
            "+-------+-------------------------------------+-------------------------------------------+----+\n",
            "|1      |Toy Story (1995)                     |Adventure|Animation|Children|Comedy|Fantasy|1995|\n",
            "|2      |Jumanji (1995)                       |Adventure|Children|Fantasy                 |1995|\n",
            "|3      |Grumpier Old Men (1995)              |Comedy|Romance                             |1995|\n",
            "|4      |Waiting to Exhale (1995)             |Comedy|Drama|Romance                       |1995|\n",
            "|5      |Father of the Bride Part II (1995)   |Comedy                                     |1995|\n",
            "|6      |Heat (1995)                          |Action|Crime|Thriller                      |1995|\n",
            "|7      |Sabrina (1995)                       |Comedy|Romance                             |1995|\n",
            "|8      |Tom and Huck (1995)                  |Adventure|Children                         |1995|\n",
            "|9      |Sudden Death (1995)                  |Action                                     |1995|\n",
            "|10     |GoldenEye (1995)                     |Action|Adventure|Thriller                  |1995|\n",
            "|11     |American President, The (1995)       |Comedy|Drama|Romance                       |1995|\n",
            "|12     |Dracula: Dead and Loving It (1995)   |Comedy|Horror                              |1995|\n",
            "|13     |Balto (1995)                         |Adventure|Animation|Children               |1995|\n",
            "|14     |Nixon (1995)                         |Drama                                      |1995|\n",
            "|15     |Cutthroat Island (1995)              |Action|Adventure|Romance                   |1995|\n",
            "|16     |Casino (1995)                        |Crime|Drama                                |1995|\n",
            "|17     |Sense and Sensibility (1995)         |Drama|Romance                              |1995|\n",
            "|18     |Four Rooms (1995)                    |Comedy                                     |1995|\n",
            "|19     |Ace Ventura: When Nature Calls (1995)|Comedy                                     |1995|\n",
            "|20     |Money Train (1995)                   |Action|Comedy|Crime|Drama|Thriller         |1995|\n",
            "+-------+-------------------------------------+-------------------------------------------+----+\n",
            "only showing top 20 rows\n",
            "\n"
          ]
        }
      ]
    },
    {
      "cell_type": "code",
      "source": [
        "null_count = movies_df.filter(col(\"year\").isNull()).count()\n",
        "print(null_count)"
      ],
      "metadata": {
        "id": "SBoyeSA5JRPG",
        "outputId": "6c4ba1bf-4fe3-46aa-def3-39641b1eac48",
        "colab": {
          "base_uri": "https://localhost:8080/"
        }
      },
      "execution_count": 19,
      "outputs": [
        {
          "output_type": "stream",
          "name": "stdout",
          "text": [
            "0\n"
          ]
        }
      ]
    },
    {
      "cell_type": "code",
      "source": [
        "from pyspark.sql.functions import asc\n",
        "# f = movies_df.orderBy(movies_df.year.desc())\n",
        "f = movies_df.orderBy(movies_df.year.asc())\n",
        "f.show(truncate = False)"
      ],
      "metadata": {
        "id": "aUn076S_te0D",
        "outputId": "38f00054-7727-49c4-8533-096860f9044c",
        "colab": {
          "base_uri": "https://localhost:8080/"
        }
      },
      "execution_count": 20,
      "outputs": [
        {
          "output_type": "stream",
          "name": "stdout",
          "text": [
            "+-------+--------------------------------------------------------------------+-------------------------------+----+\n",
            "|movieId|title                                                               |genres                         |year|\n",
            "+-------+--------------------------------------------------------------------+-------------------------------+----+\n",
            "|32898  |Trip to the Moon, A (Voyage dans la lune, Le) (1902)                |Action|Adventure|Fantasy|Sci-Fi|1902|\n",
            "|49389  |The Great Train Robbery (1903)                                      |Crime|Western                  |1903|\n",
            "|140541 |The Electric Hotel (1908)                                           |Animation|Comedy|Sci-Fi        |1908|\n",
            "|7065   |Birth of a Nation, The (1915)                                       |Drama|War                      |1915|\n",
            "|7243   |Intolerance: Love's Struggle Throughout the Ages (1916)             |Drama                          |1916|\n",
            "|62383  |20,000 Leagues Under the Sea (1916)                                 |Action|Adventure|Sci-Fi        |1916|\n",
            "|72921  |Snow White (1916)                                                   |Fantasy|Romance                |1916|\n",
            "|102747 |Rink, The (1916)                                                    |Comedy                         |1916|\n",
            "|8511   |Immigrant, The (1917)                                               |Comedy                         |1917|\n",
            "|3132   |Daddy Long Legs (1919)                                              |Comedy|Drama                   |1919|\n",
            "|6987   |Cabinet of Dr. Caligari, The (Cabinet des Dr. Caligari., Das) (1920)|Crime|Fantasy|Horror           |1920|\n",
            "|82848  |One Week (1920)                                                     |Comedy                         |1920|\n",
            "|3310   |Kid, The (1921)                                                     |Comedy|Drama                   |1921|\n",
            "|1348   |Nosferatu (Nosferatu, eine Symphonie des Grauens) (1922)            |Horror                         |1922|\n",
            "|3641   |Woman of Paris, A (1923)                                            |Drama                          |1923|\n",
            "|8235   |Safety Last! (1923)                                                 |Action|Comedy|Romance          |1923|\n",
            "|8609   |Our Hospitality (1923)                                              |Comedy                         |1923|\n",
            "|25746  |Hunchback of Notre Dame, The (1923)                                 |Drama|Horror                   |1923|\n",
            "|25753  |Greed (1924)                                                        |Drama                          |1924|\n",
            "|25750  |Sherlock Jr. (1924)                                                 |Comedy|Fantasy|Romance         |1924|\n",
            "+-------+--------------------------------------------------------------------+-------------------------------+----+\n",
            "only showing top 20 rows\n",
            "\n"
          ]
        }
      ]
    },
    {
      "cell_type": "code",
      "source": [
        "genres_df = movies_df.select(movies_df.movieId,movies_df.genres)\n",
        "genres_df.show(truncate = False)"
      ],
      "metadata": {
        "id": "HNVEsYOdayY8",
        "outputId": "96131482-e65c-4132-dcc9-215129eb7602",
        "colab": {
          "base_uri": "https://localhost:8080/"
        }
      },
      "execution_count": 21,
      "outputs": [
        {
          "output_type": "stream",
          "name": "stdout",
          "text": [
            "+-------+-------------------------------------------+\n",
            "|movieId|genres                                     |\n",
            "+-------+-------------------------------------------+\n",
            "|1      |Adventure|Animation|Children|Comedy|Fantasy|\n",
            "|2      |Adventure|Children|Fantasy                 |\n",
            "|3      |Comedy|Romance                             |\n",
            "|4      |Comedy|Drama|Romance                       |\n",
            "|5      |Comedy                                     |\n",
            "|6      |Action|Crime|Thriller                      |\n",
            "|7      |Comedy|Romance                             |\n",
            "|8      |Adventure|Children                         |\n",
            "|9      |Action                                     |\n",
            "|10     |Action|Adventure|Thriller                  |\n",
            "|11     |Comedy|Drama|Romance                       |\n",
            "|12     |Comedy|Horror                              |\n",
            "|13     |Adventure|Animation|Children               |\n",
            "|14     |Drama                                      |\n",
            "|15     |Action|Adventure|Romance                   |\n",
            "|16     |Crime|Drama                                |\n",
            "|17     |Drama|Romance                              |\n",
            "|18     |Comedy                                     |\n",
            "|19     |Comedy                                     |\n",
            "|20     |Action|Comedy|Crime|Drama|Thriller         |\n",
            "+-------+-------------------------------------------+\n",
            "only showing top 20 rows\n",
            "\n"
          ]
        }
      ]
    },
    {
      "cell_type": "code",
      "source": [
        "genres_df = genres_df.withColumn(\"gener\",split(genres_df.genres,\"\\|\"))\n",
        "genres_df.show(truncate = False)"
      ],
      "metadata": {
        "id": "08z_LWsYbWfS",
        "outputId": "5feb2215-0949-42b3-f778-8feb2773ede0",
        "colab": {
          "base_uri": "https://localhost:8080/"
        }
      },
      "execution_count": 22,
      "outputs": [
        {
          "output_type": "stream",
          "name": "stdout",
          "text": [
            "+-------+-------------------------------------------+-------------------------------------------------+\n",
            "|movieId|genres                                     |gener                                            |\n",
            "+-------+-------------------------------------------+-------------------------------------------------+\n",
            "|1      |Adventure|Animation|Children|Comedy|Fantasy|[Adventure, Animation, Children, Comedy, Fantasy]|\n",
            "|2      |Adventure|Children|Fantasy                 |[Adventure, Children, Fantasy]                   |\n",
            "|3      |Comedy|Romance                             |[Comedy, Romance]                                |\n",
            "|4      |Comedy|Drama|Romance                       |[Comedy, Drama, Romance]                         |\n",
            "|5      |Comedy                                     |[Comedy]                                         |\n",
            "|6      |Action|Crime|Thriller                      |[Action, Crime, Thriller]                        |\n",
            "|7      |Comedy|Romance                             |[Comedy, Romance]                                |\n",
            "|8      |Adventure|Children                         |[Adventure, Children]                            |\n",
            "|9      |Action                                     |[Action]                                         |\n",
            "|10     |Action|Adventure|Thriller                  |[Action, Adventure, Thriller]                    |\n",
            "|11     |Comedy|Drama|Romance                       |[Comedy, Drama, Romance]                         |\n",
            "|12     |Comedy|Horror                              |[Comedy, Horror]                                 |\n",
            "|13     |Adventure|Animation|Children               |[Adventure, Animation, Children]                 |\n",
            "|14     |Drama                                      |[Drama]                                          |\n",
            "|15     |Action|Adventure|Romance                   |[Action, Adventure, Romance]                     |\n",
            "|16     |Crime|Drama                                |[Crime, Drama]                                   |\n",
            "|17     |Drama|Romance                              |[Drama, Romance]                                 |\n",
            "|18     |Comedy                                     |[Comedy]                                         |\n",
            "|19     |Comedy                                     |[Comedy]                                         |\n",
            "|20     |Action|Comedy|Crime|Drama|Thriller         |[Action, Comedy, Crime, Drama, Thriller]         |\n",
            "+-------+-------------------------------------------+-------------------------------------------------+\n",
            "only showing top 20 rows\n",
            "\n"
          ]
        }
      ]
    },
    {
      "cell_type": "code",
      "source": [
        "genres_df = genres_df.drop(genres_df.genres)\n",
        "genres_df.show(truncate = False)"
      ],
      "metadata": {
        "id": "2caCnEIJc7kt",
        "outputId": "29618c3d-8bff-43d6-ea3b-63ff9563badf",
        "colab": {
          "base_uri": "https://localhost:8080/"
        }
      },
      "execution_count": 23,
      "outputs": [
        {
          "output_type": "stream",
          "name": "stdout",
          "text": [
            "+-------+-------------------------------------------------+\n",
            "|movieId|gener                                            |\n",
            "+-------+-------------------------------------------------+\n",
            "|1      |[Adventure, Animation, Children, Comedy, Fantasy]|\n",
            "|2      |[Adventure, Children, Fantasy]                   |\n",
            "|3      |[Comedy, Romance]                                |\n",
            "|4      |[Comedy, Drama, Romance]                         |\n",
            "|5      |[Comedy]                                         |\n",
            "|6      |[Action, Crime, Thriller]                        |\n",
            "|7      |[Comedy, Romance]                                |\n",
            "|8      |[Adventure, Children]                            |\n",
            "|9      |[Action]                                         |\n",
            "|10     |[Action, Adventure, Thriller]                    |\n",
            "|11     |[Comedy, Drama, Romance]                         |\n",
            "|12     |[Comedy, Horror]                                 |\n",
            "|13     |[Adventure, Animation, Children]                 |\n",
            "|14     |[Drama]                                          |\n",
            "|15     |[Action, Adventure, Romance]                     |\n",
            "|16     |[Crime, Drama]                                   |\n",
            "|17     |[Drama, Romance]                                 |\n",
            "|18     |[Comedy]                                         |\n",
            "|19     |[Comedy]                                         |\n",
            "|20     |[Action, Comedy, Crime, Drama, Thriller]         |\n",
            "+-------+-------------------------------------------------+\n",
            "only showing top 20 rows\n",
            "\n"
          ]
        }
      ]
    },
    {
      "cell_type": "markdown",
      "source": [
        "In movies_df there are rows in genre which have value like (no genre listed) so we will remove them."
      ],
      "metadata": {
        "id": "Lhd0oOEkO6mp"
      }
    },
    {
      "cell_type": "code",
      "source": [
        "from pyspark.sql.functions import udf, col\n",
        "from pyspark.sql.types import StringType\n",
        "\n",
        "def clean_genre(x):\n",
        "    if x != '(no genres listed)':\n",
        "        return x\n",
        "    else:\n",
        "        return None\n",
        "\n",
        "clean_genre_udf = udf(clean_genre, StringType())\n",
        "movies_df = movies_df.withColumn('genres', clean_genre_udf(col('genres')))\n",
        "movies_df.show(truncate=False)"
      ],
      "metadata": {
        "id": "gsjF2HdcPEyx",
        "outputId": "518b586b-29c6-4d2e-e505-173dcbcb041e",
        "colab": {
          "base_uri": "https://localhost:8080/"
        }
      },
      "execution_count": 24,
      "outputs": [
        {
          "output_type": "stream",
          "name": "stdout",
          "text": [
            "+-------+-------------------------------------+-------------------------------------------+----+\n",
            "|movieId|title                                |genres                                     |year|\n",
            "+-------+-------------------------------------+-------------------------------------------+----+\n",
            "|1      |Toy Story (1995)                     |Adventure|Animation|Children|Comedy|Fantasy|1995|\n",
            "|2      |Jumanji (1995)                       |Adventure|Children|Fantasy                 |1995|\n",
            "|3      |Grumpier Old Men (1995)              |Comedy|Romance                             |1995|\n",
            "|4      |Waiting to Exhale (1995)             |Comedy|Drama|Romance                       |1995|\n",
            "|5      |Father of the Bride Part II (1995)   |Comedy                                     |1995|\n",
            "|6      |Heat (1995)                          |Action|Crime|Thriller                      |1995|\n",
            "|7      |Sabrina (1995)                       |Comedy|Romance                             |1995|\n",
            "|8      |Tom and Huck (1995)                  |Adventure|Children                         |1995|\n",
            "|9      |Sudden Death (1995)                  |Action                                     |1995|\n",
            "|10     |GoldenEye (1995)                     |Action|Adventure|Thriller                  |1995|\n",
            "|11     |American President, The (1995)       |Comedy|Drama|Romance                       |1995|\n",
            "|12     |Dracula: Dead and Loving It (1995)   |Comedy|Horror                              |1995|\n",
            "|13     |Balto (1995)                         |Adventure|Animation|Children               |1995|\n",
            "|14     |Nixon (1995)                         |Drama                                      |1995|\n",
            "|15     |Cutthroat Island (1995)              |Action|Adventure|Romance                   |1995|\n",
            "|16     |Casino (1995)                        |Crime|Drama                                |1995|\n",
            "|17     |Sense and Sensibility (1995)         |Drama|Romance                              |1995|\n",
            "|18     |Four Rooms (1995)                    |Comedy                                     |1995|\n",
            "|19     |Ace Ventura: When Nature Calls (1995)|Comedy                                     |1995|\n",
            "|20     |Money Train (1995)                   |Action|Comedy|Crime|Drama|Thriller         |1995|\n",
            "+-------+-------------------------------------+-------------------------------------------+----+\n",
            "only showing top 20 rows\n",
            "\n"
          ]
        }
      ]
    },
    {
      "cell_type": "markdown",
      "source": [
        "Checking for null values."
      ],
      "metadata": {
        "id": "8vcF9-nRQirG"
      }
    },
    {
      "cell_type": "code",
      "source": [
        "null_count = movies_df.filter(col(\"genres\").isNull()).count()\n",
        "print(null_count)"
      ],
      "metadata": {
        "id": "sE8r1bn-QgK6",
        "outputId": "a14fbaca-dde0-4ff0-904b-922c5e897cac",
        "colab": {
          "base_uri": "https://localhost:8080/"
        }
      },
      "execution_count": 25,
      "outputs": [
        {
          "output_type": "stream",
          "name": "stdout",
          "text": [
            "25\n"
          ]
        }
      ]
    },
    {
      "cell_type": "code",
      "source": [
        "total_rows = movies_df.count()\n",
        "print(total_rows)"
      ],
      "metadata": {
        "id": "plTwafA1qkWr",
        "outputId": "6d54a5ea-bd5b-4aa3-e824-39ef575bcbe2",
        "colab": {
          "base_uri": "https://localhost:8080/"
        }
      },
      "execution_count": 26,
      "outputs": [
        {
          "output_type": "stream",
          "name": "stdout",
          "text": [
            "9717\n"
          ]
        }
      ]
    },
    {
      "cell_type": "code",
      "source": [
        "movies_df = movies_df.filter(movies_df.genres.isNotNull())\n",
        "movies_df.show(truncate=False)"
      ],
      "metadata": {
        "id": "kTL7yHEbQq3h",
        "outputId": "02c41f44-d785-4faa-c11e-b04753fbf483",
        "colab": {
          "base_uri": "https://localhost:8080/"
        }
      },
      "execution_count": 27,
      "outputs": [
        {
          "output_type": "stream",
          "name": "stdout",
          "text": [
            "+-------+-------------------------------------+-------------------------------------------+----+\n",
            "|movieId|title                                |genres                                     |year|\n",
            "+-------+-------------------------------------+-------------------------------------------+----+\n",
            "|1      |Toy Story (1995)                     |Adventure|Animation|Children|Comedy|Fantasy|1995|\n",
            "|2      |Jumanji (1995)                       |Adventure|Children|Fantasy                 |1995|\n",
            "|3      |Grumpier Old Men (1995)              |Comedy|Romance                             |1995|\n",
            "|4      |Waiting to Exhale (1995)             |Comedy|Drama|Romance                       |1995|\n",
            "|5      |Father of the Bride Part II (1995)   |Comedy                                     |1995|\n",
            "|6      |Heat (1995)                          |Action|Crime|Thriller                      |1995|\n",
            "|7      |Sabrina (1995)                       |Comedy|Romance                             |1995|\n",
            "|8      |Tom and Huck (1995)                  |Adventure|Children                         |1995|\n",
            "|9      |Sudden Death (1995)                  |Action                                     |1995|\n",
            "|10     |GoldenEye (1995)                     |Action|Adventure|Thriller                  |1995|\n",
            "|11     |American President, The (1995)       |Comedy|Drama|Romance                       |1995|\n",
            "|12     |Dracula: Dead and Loving It (1995)   |Comedy|Horror                              |1995|\n",
            "|13     |Balto (1995)                         |Adventure|Animation|Children               |1995|\n",
            "|14     |Nixon (1995)                         |Drama                                      |1995|\n",
            "|15     |Cutthroat Island (1995)              |Action|Adventure|Romance                   |1995|\n",
            "|16     |Casino (1995)                        |Crime|Drama                                |1995|\n",
            "|17     |Sense and Sensibility (1995)         |Drama|Romance                              |1995|\n",
            "|18     |Four Rooms (1995)                    |Comedy                                     |1995|\n",
            "|19     |Ace Ventura: When Nature Calls (1995)|Comedy                                     |1995|\n",
            "|20     |Money Train (1995)                   |Action|Comedy|Crime|Drama|Thriller         |1995|\n",
            "+-------+-------------------------------------+-------------------------------------------+----+\n",
            "only showing top 20 rows\n",
            "\n"
          ]
        }
      ]
    },
    {
      "cell_type": "code",
      "source": [
        "null_count = movies_df.filter(col(\"genres\").isNull()).count()\n",
        "print(null_count)"
      ],
      "metadata": {
        "id": "l2jVJMcuQw37",
        "outputId": "f880cbcc-7295-41de-8a39-398994eb66bc",
        "colab": {
          "base_uri": "https://localhost:8080/"
        }
      },
      "execution_count": 28,
      "outputs": [
        {
          "output_type": "stream",
          "name": "stdout",
          "text": [
            "0\n"
          ]
        }
      ]
    },
    {
      "cell_type": "code",
      "source": [
        "total_rows = movies_df.count()\n",
        "print(total_rows)"
      ],
      "metadata": {
        "id": "k1oqEDstq8QK",
        "outputId": "34e8dfa2-d34d-4783-d826-0395157ba8c0",
        "colab": {
          "base_uri": "https://localhost:8080/"
        }
      },
      "execution_count": 29,
      "outputs": [
        {
          "output_type": "stream",
          "name": "stdout",
          "text": [
            "9692\n"
          ]
        }
      ]
    },
    {
      "cell_type": "markdown",
      "source": [
        "**Join the Datasets:**\n",
        "\n",
        "Perform an inner join on the movieId column to combine the movie and ratings datasets."
      ],
      "metadata": {
        "id": "TEe8gYDVUyL6"
      }
    },
    {
      "cell_type": "code",
      "source": [
        "movies_ratings_df = movies_df.join(ratings_df,on='movieId',how='inner')\n",
        "movies_ratings_df.show(truncate = False)"
      ],
      "metadata": {
        "id": "1Ouya_VFdNl4",
        "colab": {
          "base_uri": "https://localhost:8080/"
        },
        "outputId": "ddb192c2-315d-46f5-a49f-f9cdaa121588"
      },
      "execution_count": 30,
      "outputs": [
        {
          "output_type": "stream",
          "name": "stdout",
          "text": [
            "+-------+-----------------------------------------+-------------------------------------------+----+------+------+---------+\n",
            "|movieId|title                                    |genres                                     |year|userId|rating|timestamp|\n",
            "+-------+-----------------------------------------+-------------------------------------------+----+------+------+---------+\n",
            "|1      |Toy Story (1995)                         |Adventure|Animation|Children|Comedy|Fantasy|1995|1     |4.0   |964982703|\n",
            "|3      |Grumpier Old Men (1995)                  |Comedy|Romance                             |1995|1     |4.0   |964981247|\n",
            "|6      |Heat (1995)                              |Action|Crime|Thriller                      |1995|1     |4.0   |964982224|\n",
            "|47     |Seven (a.k.a. Se7en) (1995)              |Mystery|Thriller                           |1995|1     |5.0   |964983815|\n",
            "|50     |Usual Suspects, The (1995)               |Crime|Mystery|Thriller                     |1995|1     |5.0   |964982931|\n",
            "|70     |From Dusk Till Dawn (1996)               |Action|Comedy|Horror|Thriller              |1996|1     |3.0   |964982400|\n",
            "|101    |Bottle Rocket (1996)                     |Adventure|Comedy|Crime|Romance             |1996|1     |5.0   |964980868|\n",
            "|110    |Braveheart (1995)                        |Action|Drama|War                           |1995|1     |4.0   |964982176|\n",
            "|151    |Rob Roy (1995)                           |Action|Drama|Romance|War                   |1995|1     |5.0   |964984041|\n",
            "|157    |Canadian Bacon (1995)                    |Comedy|War                                 |1995|1     |5.0   |964984100|\n",
            "|163    |Desperado (1995)                         |Action|Romance|Western                     |1995|1     |5.0   |964983650|\n",
            "|216    |Billy Madison (1995)                     |Comedy                                     |1995|1     |5.0   |964981208|\n",
            "|223    |Clerks (1994)                            |Comedy                                     |1994|1     |3.0   |964980985|\n",
            "|231    |Dumb & Dumber (Dumb and Dumber) (1994)   |Adventure|Comedy                           |1994|1     |5.0   |964981179|\n",
            "|235    |Ed Wood (1994)                           |Comedy|Drama                               |1994|1     |4.0   |964980908|\n",
            "|260    |Star Wars: Episode IV - A New Hope (1977)|Action|Adventure|Sci-Fi                    |1977|1     |5.0   |964981680|\n",
            "|296    |Pulp Fiction (1994)                      |Comedy|Crime|Drama|Thriller                |1994|1     |3.0   |964982967|\n",
            "|316    |Stargate (1994)                          |Action|Adventure|Sci-Fi                    |1994|1     |3.0   |964982310|\n",
            "|333    |Tommy Boy (1995)                         |Comedy                                     |1995|1     |5.0   |964981179|\n",
            "|349    |Clear and Present Danger (1994)          |Action|Crime|Drama|Thriller                |1994|1     |4.0   |964982563|\n",
            "+-------+-----------------------------------------+-------------------------------------------+----+------+------+---------+\n",
            "only showing top 20 rows\n",
            "\n"
          ]
        }
      ]
    },
    {
      "cell_type": "markdown",
      "source": [
        "Now we will change the data types of each column accordingly.\n",
        "\n",
        "movieId -> int\n",
        "\n",
        "userId -> int\n",
        "\n",
        "ratings -> Float"
      ],
      "metadata": {
        "id": "kZ-ihj27uPXy"
      }
    },
    {
      "cell_type": "code",
      "source": [
        "print(movies_ratings_df.dtypes)"
      ],
      "metadata": {
        "id": "Pa8soluQuFLc",
        "outputId": "59b6d03e-db45-4f00-e93f-3eca94326a40",
        "colab": {
          "base_uri": "https://localhost:8080/"
        }
      },
      "execution_count": 31,
      "outputs": [
        {
          "output_type": "stream",
          "name": "stdout",
          "text": [
            "[('movieId', 'string'), ('title', 'string'), ('genres', 'string'), ('year', 'int'), ('userId', 'string'), ('rating', 'string'), ('timestamp', 'string')]\n"
          ]
        }
      ]
    },
    {
      "cell_type": "code",
      "source": [
        "# Change the data types of multiple columns\n",
        "movies_ratings_df = movies_ratings_df.withColumn(\"movieId\", F.col(\"movieId\").cast(\"integer\")) \\\n",
        "                     .withColumn(\"rating\", F.col(\"rating\").cast(\"float\"))\\\n",
        "                     .withColumn(\"userId\", F.col(\"userId\").cast(\"integer\"))\n",
        "\n",
        "print(movies_ratings_df.dtypes)\n",
        "\n"
      ],
      "metadata": {
        "id": "w9D2j15XuUUi",
        "outputId": "46e6423e-fc3f-40b1-cd42-936e78fa28e0",
        "colab": {
          "base_uri": "https://localhost:8080/"
        }
      },
      "execution_count": 32,
      "outputs": [
        {
          "output_type": "stream",
          "name": "stdout",
          "text": [
            "[('movieId', 'int'), ('title', 'string'), ('genres', 'string'), ('year', 'int'), ('userId', 'int'), ('rating', 'float'), ('timestamp', 'string')]\n"
          ]
        }
      ]
    },
    {
      "cell_type": "code",
      "source": [
        "movies_ratings_df.count()"
      ],
      "metadata": {
        "id": "XY9mRFjrOIVS",
        "outputId": "5ae36fda-adcb-4bfd-b8aa-63577dfd702b",
        "colab": {
          "base_uri": "https://localhost:8080/"
        }
      },
      "execution_count": 33,
      "outputs": [
        {
          "output_type": "execute_result",
          "data": {
            "text/plain": [
              "100766"
            ]
          },
          "metadata": {},
          "execution_count": 33
        }
      ]
    },
    {
      "cell_type": "markdown",
      "source": [
        "**Step 3: Data Analysis**\n",
        "\n"
      ],
      "metadata": {
        "id": "Qnoe8WBYC6FE"
      }
    },
    {
      "cell_type": "markdown",
      "source": [
        "**Top-Rated Movies:**\n",
        "\n",
        "Find the top 10 movies with the highest average rating."
      ],
      "metadata": {
        "id": "pSUxspUTDAf1"
      }
    },
    {
      "cell_type": "code",
      "source": [
        "from pyspark.sql.functions import avg,desc,asc\n",
        "top_ten_movies = movies_ratings_df.groupby('movieId','title').agg(avg('rating').alias('Avg_rating'))\n",
        "top_ten_movies = top_ten_movies.orderBy(top_ten_movies.Avg_rating.desc())\n",
        "top_ten_movies.show(10,truncate = False)"
      ],
      "metadata": {
        "colab": {
          "base_uri": "https://localhost:8080/"
        },
        "id": "gXx-dL6tDU9t",
        "outputId": "a7af9fa1-27c9-4ea8-f23d-956648f1bcac"
      },
      "execution_count": null,
      "outputs": [
        {
          "output_type": "stream",
          "name": "stdout",
          "text": [
            "+-------+-------------------------------------------------------+----------+\n",
            "|movieId|title                                                  |Avg_rating|\n",
            "+-------+-------------------------------------------------------+----------+\n",
            "|267928 |Unreal News Reel (1923)                                |5.0       |\n",
            "|189587 |The Idiot Cycle (2009)                                 |5.0       |\n",
            "|240070 |SpongeBob SquarePants: Heroes of Bikini Bottom (2011)  |5.0       |\n",
            "|266250 |Brian Wilson: I Just Wasn't Made for These Times (1995)|5.0       |\n",
            "|221334 |Bavaria - A magical journey (2012)                     |5.0       |\n",
            "|228813 |The Hero's Journey: The World of Joseph Campbell (1987)|5.0       |\n",
            "|287247 |The Beach Boys: Making Pet Sounds (2017)               |5.0       |\n",
            "|226832 |The Beast (2014)                                       |5.0       |\n",
            "|199756 |Zum Teufel mit der Penne (1968)                        |5.0       |\n",
            "|223908 |Lung (2016)                                            |5.0       |\n",
            "+-------+-------------------------------------------------------+----------+\n",
            "only showing top 10 rows\n",
            "\n"
          ]
        }
      ]
    },
    {
      "cell_type": "markdown",
      "source": [
        "**Popular Genres:**\n",
        "\n",
        "Identify the most popular genres based on the number of ratings.\n"
      ],
      "metadata": {
        "id": "GjPXt06ZDFyp"
      }
    },
    {
      "cell_type": "code",
      "source": [
        "from pyspark.sql.functions import count\n",
        "\n",
        "popular_genres = movies_ratings_df.groupBy('genres').agg(count('rating').alias('No_of_ratings'))\n",
        "popular_genres = popular_genres.sort(popular_genres.No_of_ratings.desc())\n",
        "popular_genres.show(truncate = False)"
      ],
      "metadata": {
        "colab": {
          "base_uri": "https://localhost:8080/"
        },
        "id": "VhxiSHmDFNTU",
        "outputId": "1227ac59-647c-4f1f-d119-f4a458675c21"
      },
      "execution_count": null,
      "outputs": [
        {
          "output_type": "stream",
          "name": "stdout",
          "text": [
            "+--------------------------------+-------------+\n",
            "|genres                          |No_of_ratings|\n",
            "+--------------------------------+-------------+\n",
            "|Drama                           |2247114      |\n",
            "|Comedy                          |1876631      |\n",
            "|Comedy|Romance                  |1090830      |\n",
            "|Drama|Romance                   |978575       |\n",
            "|Comedy|Drama                    |919399       |\n",
            "|Comedy|Drama|Romance            |871837       |\n",
            "|Action|Adventure|Sci-Fi         |799753       |\n",
            "|Crime|Drama                     |762923       |\n",
            "|Action|Crime|Thriller           |482833       |\n",
            "|Drama|Thriller                  |464062       |\n",
            "|Action|Adventure|Sci-Fi|Thriller|438591       |\n",
            "|Action|Adventure|Thriller       |415166       |\n",
            "|Action|Sci-Fi|Thriller          |395940       |\n",
            "|Crime|Drama|Thriller            |387572       |\n",
            "|Drama|War                       |359478       |\n",
            "|Action|Crime|Drama|Thriller     |327357       |\n",
            "|Action|Drama|War                |325357       |\n",
            "|Comedy|Crime                    |321352       |\n",
            "|Documentary                     |314730       |\n",
            "|Horror                          |262108       |\n",
            "+--------------------------------+-------------+\n",
            "only showing top 20 rows\n",
            "\n"
          ]
        }
      ]
    },
    {
      "cell_type": "markdown",
      "source": [
        "**User Behavior:**\n",
        "\n",
        "Analyze the distribution of ratings by users. For example, find how many movies each user has rated.\n"
      ],
      "metadata": {
        "id": "UZH5YsrYDLdS"
      }
    },
    {
      "cell_type": "code",
      "source": [
        "user_rating = movies_ratings_df.groupBy('userId').agg(count('userId').alias('No_of_ratings')).orderBy(movies_ratings_df.userId.asc())\n",
        "user_rating.show(truncate = False)"
      ],
      "metadata": {
        "colab": {
          "base_uri": "https://localhost:8080/"
        },
        "id": "OZ4lARQUG-uG",
        "outputId": "632e9f46-627c-497e-8503-70d5395ceb4c"
      },
      "execution_count": null,
      "outputs": [
        {
          "output_type": "stream",
          "name": "stdout",
          "text": [
            "+------+-------------+\n",
            "|userId|No_of_ratings|\n",
            "+------+-------------+\n",
            "|1     |141          |\n",
            "|2     |52           |\n",
            "|3     |147          |\n",
            "|4     |27           |\n",
            "|5     |33           |\n",
            "|6     |26           |\n",
            "|7     |44           |\n",
            "|8     |30           |\n",
            "|9     |58           |\n",
            "|10    |660          |\n",
            "|11    |20           |\n",
            "|12    |23           |\n",
            "|13    |65           |\n",
            "|14    |29           |\n",
            "|15    |82           |\n",
            "|16    |294          |\n",
            "|17    |86           |\n",
            "|18    |138          |\n",
            "|19    |47           |\n",
            "|20    |139          |\n",
            "+------+-------------+\n",
            "only showing top 20 rows\n",
            "\n"
          ]
        }
      ]
    },
    {
      "cell_type": "markdown",
      "source": [
        "**Yearly Trends:**\n",
        "\n",
        "Determine how the average movie rating has changed over the years.\n"
      ],
      "metadata": {
        "id": "_I27yDxmDOHR"
      }
    },
    {
      "cell_type": "code",
      "source": [
        "movies_ratings_df.select('year').show()"
      ],
      "metadata": {
        "id": "MRlwI14IR2pL",
        "outputId": "58333ad9-1734-4ca2-84e0-3db25972b827",
        "colab": {
          "base_uri": "https://localhost:8080/"
        }
      },
      "execution_count": null,
      "outputs": [
        {
          "output_type": "stream",
          "name": "stdout",
          "text": [
            "+----+\n",
            "|year|\n",
            "+----+\n",
            "|1995|\n",
            "|1995|\n",
            "|1995|\n",
            "|1995|\n",
            "|1995|\n",
            "|1995|\n",
            "|1995|\n",
            "|1995|\n",
            "|1995|\n",
            "|1976|\n",
            "|1995|\n",
            "|1995|\n",
            "|1995|\n",
            "|1994|\n",
            "|1994|\n",
            "|1977|\n",
            "|1994|\n",
            "|1994|\n",
            "|1993|\n",
            "|1995|\n",
            "+----+\n",
            "only showing top 20 rows\n",
            "\n"
          ]
        }
      ]
    },
    {
      "cell_type": "code",
      "source": [
        "avg_rating_year = movies_ratings_df.groupBy('year').agg(avg('rating').alias('Avg_rating'))\n",
        "avg_rating_year.show(truncate = False)"
      ],
      "metadata": {
        "id": "mfquYcqzLFg5",
        "outputId": "4d9c853b-0d1b-4dee-a781-959919944efe",
        "colab": {
          "base_uri": "https://localhost:8080/"
        }
      },
      "execution_count": null,
      "outputs": [
        {
          "output_type": "stream",
          "name": "stdout",
          "text": [
            "+----+------------------+\n",
            "|year|Avg_rating        |\n",
            "+----+------------------+\n",
            "|1959|3.8107774040575713|\n",
            "|1990|3.4513714113949603|\n",
            "|1896|2.9234972677595628|\n",
            "|1903|3.066532258064516 |\n",
            "|1975|3.8815535107687804|\n",
            "|1977|3.8233296303051407|\n",
            "|1888|2.577272727272727 |\n",
            "|1924|3.763372956909361 |\n",
            "|2003|3.47684039842985  |\n",
            "|2007|3.507449919061784 |\n",
            "|1892|2.7777777777777777|\n",
            "|2018|3.4762552780695954|\n",
            "|1974|3.8950891613262746|\n",
            "|2015|3.5664814492136325|\n",
            "|2023|3.345118898623279 |\n",
            "|1927|3.8604250713372035|\n",
            "|1955|3.719717275877964 |\n",
            "|1890|2.238095238095238 |\n",
            "|2006|3.555690373687808 |\n",
            "|1978|3.4619190067903967|\n",
            "+----+------------------+\n",
            "only showing top 20 rows\n",
            "\n"
          ]
        }
      ]
    },
    {
      "cell_type": "markdown",
      "source": [
        "**Genre-Based Recommendations:**\n",
        "\n",
        "For a given genre, list the top 5 movies based on average ratings.\n"
      ],
      "metadata": {
        "id": "VeuW6dMwDP1E"
      }
    },
    {
      "cell_type": "code",
      "source": [
        "genre_input = input(\"Enter the genre to filter movies: \")\n",
        "\n",
        "top_five_movies = (movies_ratings_df.filter(col('genres') == genre_input)\\\n",
        "                   .groupBy('title')\\\n",
        "                   .agg(avg('rating').alias('Avg_rating'))\\\n",
        "                   .orderBy(col('Avg_rating').desc())\n",
        "                   .limit(5))\n",
        "top_five_movies.show(truncate = False)\n"
      ],
      "metadata": {
        "id": "qU5R0daGXmJi",
        "outputId": "c300fb55-ad04-43a1-8a05-a8df509a8035",
        "colab": {
          "base_uri": "https://localhost:8080/"
        }
      },
      "execution_count": null,
      "outputs": [
        {
          "output_type": "stream",
          "name": "stdout",
          "text": [
            "Enter the genre to filter movies: Action\n",
            "+--------------------------+----------+\n",
            "|title                     |Avg_rating|\n",
            "+--------------------------+----------+\n",
            "|Drunken Master 3 (1994)   |5.0       |\n",
            "|FB: Fighting Beat (2007)  |5.0       |\n",
            "|Legend of a Fighter (1982)|5.0       |\n",
            "|Shanghai 13 (1984)        |5.0       |\n",
            "|Street Level (2016)       |5.0       |\n",
            "+--------------------------+----------+\n",
            "\n"
          ]
        }
      ]
    },
    {
      "cell_type": "markdown",
      "source": [
        "**Movies with the Most Reviews:**\n",
        "\n",
        "Identify the movies with the highest number of ratings."
      ],
      "metadata": {
        "id": "pST_IMd2DRj9"
      }
    },
    {
      "cell_type": "code",
      "source": [
        "from pyspark.sql.functions import desc"
      ],
      "metadata": {
        "id": "eaD9ciA3alvz"
      },
      "execution_count": null,
      "outputs": []
    },
    {
      "cell_type": "code",
      "source": [
        "most_reviews = movies_ratings_df.groupBy('movieId','title')\\\n",
        "              .agg(count(col('rating')).alias('No_of_reviews'))\\\n",
        "              .orderBy(col('No_of_reviews').desc())\\\n",
        "              .limit(1)\n",
        "most_reviews.show(truncate = False)"
      ],
      "metadata": {
        "id": "EvSoE32NZ6N9",
        "outputId": "d7a53f8d-46b9-4d9c-d07f-45a8bb1e82b2",
        "colab": {
          "base_uri": "https://localhost:8080/"
        }
      },
      "execution_count": null,
      "outputs": [
        {
          "output_type": "stream",
          "name": "stdout",
          "text": [
            "+-------+--------------------------------+-------------+\n",
            "|movieId|title                           |No_of_reviews|\n",
            "+-------+--------------------------------+-------------+\n",
            "|318    |Shawshank Redemption, The (1994)|102929       |\n",
            "+-------+--------------------------------+-------------+\n",
            "\n"
          ]
        }
      ]
    },
    {
      "cell_type": "code",
      "source": [
        "x = movies_df.filter(col(\"title\").like(\"Shawshank Redemption%\"))\n",
        "x.show(truncate = False)"
      ],
      "metadata": {
        "id": "HnZpjosQbLq8",
        "outputId": "4bf9e736-b8b8-44d8-9a17-b6f0b28b3ed3",
        "colab": {
          "base_uri": "https://localhost:8080/"
        }
      },
      "execution_count": null,
      "outputs": [
        {
          "output_type": "stream",
          "name": "stdout",
          "text": [
            "+-------+--------------------------------+-----------+----+\n",
            "|movieId|title                           |genres     |year|\n",
            "+-------+--------------------------------+-----------+----+\n",
            "|318    |Shawshank Redemption, The (1994)|Crime|Drama|1994|\n",
            "+-------+--------------------------------+-----------+----+\n",
            "\n"
          ]
        }
      ]
    },
    {
      "cell_type": "markdown",
      "source": [
        "**Step 4: Advanced Analysis**\n"
      ],
      "metadata": {
        "id": "PHgnTyYSbWfH"
      }
    },
    {
      "cell_type": "markdown",
      "source": [
        "**User-Specific Recommendations:**\n",
        "\n",
        "Build a basic recommendation system by suggesting top-rated movies that a user has not rated yet.\n"
      ],
      "metadata": {
        "id": "cloHEQ2Vbcrs"
      }
    },
    {
      "cell_type": "code",
      "source": [
        "top_rated_movies = movies_ratings_df.groupBy('movieId', 'title')\\\n",
        "    .agg(avg(col('rating')).alias('Avg_rating'))\\\n",
        "    .orderBy(col('Avg_rating').desc())\\\n",
        "    .limit(100)\\\n",
        "    .select('movieId','title')\n",
        "\n",
        "top_rated_movies.show(truncate = False)"
      ],
      "metadata": {
        "id": "1zGIhYDjbiLQ",
        "outputId": "a014bcc5-7764-4e2a-d09a-9eaa53c349fd",
        "colab": {
          "base_uri": "https://localhost:8080/"
        }
      },
      "execution_count": null,
      "outputs": [
        {
          "output_type": "stream",
          "name": "stdout",
          "text": [
            "+-------+-------------------------------------------------------+\n",
            "|movieId|title                                                  |\n",
            "+-------+-------------------------------------------------------+\n",
            "|136996 |The Wrong Girl (1999)                                  |\n",
            "|117656 |Drunken Master 3 (1994)                                |\n",
            "|277798 |Frank & Zed (2020)                                     |\n",
            "|289775 |Toma (2021)                                            |\n",
            "|226640 |Zabardast (2018)                                       |\n",
            "|248740 |Legs - Atavism (2012)                                  |\n",
            "|226832 |The Beast (2014)                                       |\n",
            "|282565 |The Book of the Sea (2018)                             |\n",
            "|266250 |Brian Wilson: I Just Wasn't Made for These Times (1995)|\n",
            "|292047 |Bamboo Doll of Echizen (1963)                          |\n",
            "|289249 |Cirque du Soleil: Quidam (1999)                        |\n",
            "|267928 |Unreal News Reel (1923)                                |\n",
            "|137018 |A Sister's Revenge (2013)                              |\n",
            "|200016 |The Nagano Tapes (2018)                                |\n",
            "|216372 |Adoring (2019)                                         |\n",
            "|222374 |The Colossus of Destiny: A Melvins Tale (2016)         |\n",
            "|141064 |Uomo e galantuomo (1975)                               |\n",
            "|221334 |Bavaria - A magical journey (2012)                     |\n",
            "|282531 |A Night at the Kindergarten (2022)                     |\n",
            "|287247 |The Beach Boys: Making Pet Sounds (2017)               |\n",
            "+-------+-------------------------------------------------------+\n",
            "only showing top 20 rows\n",
            "\n"
          ]
        }
      ]
    },
    {
      "cell_type": "code",
      "source": [
        "total_users = movies_ratings_df.select('userId').distinct().count()\n",
        "print(total_users)"
      ],
      "metadata": {
        "id": "RaAoiAUJns59",
        "outputId": "23d38f8c-7bf6-40d6-cd51-e4c0b55e0b2d",
        "colab": {
          "base_uri": "https://localhost:8080/"
        }
      },
      "execution_count": null,
      "outputs": [
        {
          "output_type": "stream",
          "name": "stdout",
          "text": [
            "200948\n"
          ]
        }
      ]
    },
    {
      "cell_type": "code",
      "source": [
        "distinct_user_ids = movies_ratings_df.select(movies_ratings_df.userId).distinct()\n",
        "distinct_user_ids.show(truncate = False)"
      ],
      "metadata": {
        "id": "CGHCumLU2UIB",
        "outputId": "9abcd568-a341-45f4-e0d4-d9a5f86e6e4e",
        "colab": {
          "base_uri": "https://localhost:8080/"
        }
      },
      "execution_count": null,
      "outputs": [
        {
          "output_type": "stream",
          "name": "stdout",
          "text": [
            "+------+\n",
            "|userId|\n",
            "+------+\n",
            "|148   |\n",
            "|463   |\n",
            "|471   |\n",
            "|496   |\n",
            "|833   |\n",
            "|1088  |\n",
            "|1238  |\n",
            "|1342  |\n",
            "|1580  |\n",
            "|1591  |\n",
            "|1645  |\n",
            "|1829  |\n",
            "|1959  |\n",
            "|2122  |\n",
            "|2142  |\n",
            "|2366  |\n",
            "|2659  |\n",
            "|2866  |\n",
            "|3175  |\n",
            "|3749  |\n",
            "+------+\n",
            "only showing top 20 rows\n",
            "\n"
          ]
        }
      ]
    },
    {
      "cell_type": "code",
      "source": [
        "user_id_input = input('Enter user id')\n",
        "\n",
        "user_ratings = movies_ratings_df.filter(col('userId') == user_id_input).select('movieId','title')\n",
        "user_ratings.show(truncate = False)"
      ],
      "metadata": {
        "id": "Aav-nF2zl-TM",
        "outputId": "42294aea-bd6f-4993-d6bc-24bf677f379f",
        "colab": {
          "base_uri": "https://localhost:8080/"
        }
      },
      "execution_count": null,
      "outputs": [
        {
          "output_type": "stream",
          "name": "stdout",
          "text": [
            "Enter user id1\n",
            "+-------+---------------------------------------------------------------+\n",
            "|movieId|title                                                          |\n",
            "+-------+---------------------------------------------------------------+\n",
            "|17     |Sense and Sensibility (1995)                                   |\n",
            "|25     |Leaving Las Vegas (1995)                                       |\n",
            "|29     |City of Lost Children, The (Cité des enfants perdus, La) (1995)|\n",
            "|30     |Shanghai Triad (Yao a yao yao dao waipo qiao) (1995)           |\n",
            "|32     |Twelve Monkeys (a.k.a. 12 Monkeys) (1995)                      |\n",
            "|34     |Babe (1995)                                                    |\n",
            "|36     |Dead Man Walking (1995)                                        |\n",
            "|80     |White Balloon, The (Badkonake sefid) (1995)                    |\n",
            "|110    |Braveheart (1995)                                              |\n",
            "|111    |Taxi Driver (1976)                                             |\n",
            "|161    |Crimson Tide (1995)                                            |\n",
            "|166    |Doom Generation, The (1995)                                    |\n",
            "|176    |Living in Oblivion (1995)                                      |\n",
            "|223    |Clerks (1994)                                                  |\n",
            "|232    |Eat Drink Man Woman (Yin shi nan nu) (1994)                    |\n",
            "|260    |Star Wars: Episode IV - A New Hope (1977)                      |\n",
            "|302    |Queen Margot (Reine Margot, La) (1994)                         |\n",
            "|306    |Three Colors: Red (Trois couleurs: Rouge) (1994)               |\n",
            "|307    |Three Colors: Blue (Trois couleurs: Bleu) (1993)               |\n",
            "|322    |Swimming with Sharks (1995)                                    |\n",
            "+-------+---------------------------------------------------------------+\n",
            "only showing top 20 rows\n",
            "\n"
          ]
        }
      ]
    },
    {
      "cell_type": "markdown",
      "source": [
        "\n",
        "The **left anti join** in PySpark is similar to the join functionality, but it returns only columns from the left DataFrame for non-matched records."
      ],
      "metadata": {
        "id": "dJo1yLfRrtdv"
      }
    },
    {
      "cell_type": "code",
      "source": [
        "recommended_movies_df = top_rated_movies.join(user_ratings, on='movieId', how='left_anti')\n",
        "recommended_movies_df.show(truncate = False)"
      ],
      "metadata": {
        "id": "xJJwmnnyqblL",
        "outputId": "fbbb83d1-1e5a-4a0b-a1df-ada23f8642a1",
        "colab": {
          "base_uri": "https://localhost:8080/"
        }
      },
      "execution_count": null,
      "outputs": [
        {
          "output_type": "stream",
          "name": "stdout",
          "text": [
            "+-------+-------------------------------------------------------+\n",
            "|movieId|title                                                  |\n",
            "+-------+-------------------------------------------------------+\n",
            "|267948 |Christmas Cracker (1963)                               |\n",
            "|243480 |Jealousy Is My Middle Name (2002)                      |\n",
            "|247138 |The Science of Sleep (2016)                            |\n",
            "|172071 |Atelier Fontana (2011)                                 |\n",
            "|140369 |War Arrow (1954)                                       |\n",
            "|285265 |Love in Bloom (2022)                                   |\n",
            "|214182 |The Wedding Do Over (2018)                             |\n",
            "|289249 |Cirque du Soleil: Quidam (1999)                        |\n",
            "|257905 |The Sauce of Love (2021)                               |\n",
            "|228813 |The Hero's Journey: The World of Joseph Campbell (1987)|\n",
            "|143422 |2 (2007)                                               |\n",
            "|282531 |A Night at the Kindergarten (2022)                     |\n",
            "|267038 |Christmas in the Rockies (2021)                        |\n",
            "|267940 |Silvery Moon (1933)                                    |\n",
            "|237368 |Picture Perfect Royal Christmas (2019)                 |\n",
            "|226640 |Zabardast (2018)                                       |\n",
            "|290858 |The Wedding Veil Expectations (2023)                   |\n",
            "|137018 |A Sister's Revenge (2013)                              |\n",
            "|266054 |See You Next Christmas (2021)                          |\n",
            "|213177 |The Light in the Forest (1958)                         |\n",
            "+-------+-------------------------------------------------------+\n",
            "only showing top 20 rows\n",
            "\n"
          ]
        }
      ]
    },
    {
      "cell_type": "markdown",
      "source": [
        "left_anti join will keep only the movies that are not in the user’s rated movies list."
      ],
      "metadata": {
        "id": "ybIQKDcJr9Yc"
      }
    },
    {
      "cell_type": "markdown",
      "source": [
        "**Correlate Ratings and Release Year:**\n",
        "\n",
        "Analyze if there’s any correlation between the release year and the average rating of movies.\n"
      ],
      "metadata": {
        "id": "hSIlWQuGbeum"
      }
    },
    {
      "cell_type": "code",
      "source": [
        "avg_rating_year = movies_ratings_df.groupBy('year').agg(avg(col('rating')).alias('Avg_rating'))\n",
        "avg_rating_year.show(truncate = False)"
      ],
      "metadata": {
        "colab": {
          "base_uri": "https://localhost:8080/"
        },
        "id": "6KPIRsSPKZP-",
        "outputId": "585b225b-eed8-4912-9cda-79dfb5958454"
      },
      "execution_count": null,
      "outputs": [
        {
          "output_type": "stream",
          "name": "stdout",
          "text": [
            "+----+------------------+\n",
            "|year|Avg_rating        |\n",
            "+----+------------------+\n",
            "|1959|3.8107774040575713|\n",
            "|1990|3.4513714113949603|\n",
            "|1896|2.9234972677595628|\n",
            "|1903|3.066532258064516 |\n",
            "|1975|3.8815535107687804|\n",
            "|1977|3.8233296303051407|\n",
            "|1888|2.577272727272727 |\n",
            "|1924|3.763372956909361 |\n",
            "|2003|3.47684039842985  |\n",
            "|2007|3.507449919061784 |\n",
            "|1892|2.7777777777777777|\n",
            "|2018|3.4762552780695954|\n",
            "|1974|3.8950891613262746|\n",
            "|2015|3.5664814492136325|\n",
            "|2023|3.345118898623279 |\n",
            "|1927|3.8604250713372035|\n",
            "|1955|3.719717275877964 |\n",
            "|1890|2.238095238095238 |\n",
            "|2006|3.555690373687808 |\n",
            "|1978|3.4619190067903967|\n",
            "+----+------------------+\n",
            "only showing top 20 rows\n",
            "\n"
          ]
        }
      ]
    },
    {
      "cell_type": "code",
      "source": [
        "avg_rating_year_pd = avg_rating_year.toPandas()\n",
        "correlation = avg_rating_year_pd['year'].astype(float).corr(avg_rating_year_pd['Avg_rating'])\n",
        "print(\"Correlation between release year and average rating: \",correlation)\n"
      ],
      "metadata": {
        "colab": {
          "base_uri": "https://localhost:8080/"
        },
        "id": "po0M4r6jKA4E",
        "outputId": "0aaf10d6-f388-4355-f1f4-65b42c8f1fef"
      },
      "execution_count": null,
      "outputs": [
        {
          "output_type": "stream",
          "name": "stdout",
          "text": [
            "Correlation between release year and average rating:  0.3809941166120315\n"
          ]
        }
      ]
    },
    {
      "cell_type": "markdown",
      "source": [
        "In this we are caluclatuing Pearson correlation coefficient between the year and Avg_rating columns."
      ],
      "metadata": {
        "id": "omfJeuoAL6mC"
      }
    },
    {
      "cell_type": "markdown",
      "source": [
        "**Conclusion:** There appears to be a moderate trend where newer movies (those released more recently) tend to receive slightly higher average ratings than older movies as pearson correlation coefficient comes under moderate strength."
      ],
      "metadata": {
        "id": "xnfCd9lGMeYM"
      }
    },
    {
      "cell_type": "markdown",
      "source": [
        "**Genre Diversity in Top-Rated Movies:**\n",
        "\n",
        "Examine the genre diversity among the top 100 highest-rated movies."
      ],
      "metadata": {
        "id": "_ExUqekmbgqF"
      }
    },
    {
      "cell_type": "code",
      "source": [
        "top_rated_movies = movies_ratings_df.groupBy('movieId', 'title')\\\n",
        "    .agg(avg(col('rating')).alias('Avg_rating'))\\\n",
        "    .orderBy(col('Avg_rating').desc())\\\n",
        "    .limit(100)\\\n",
        "    .select('movieId','title')\n",
        "\n",
        "top_rated_movies.show(truncate = False)"
      ],
      "metadata": {
        "colab": {
          "base_uri": "https://localhost:8080/"
        },
        "id": "ZwOWTkRHM2KD",
        "outputId": "acf1dd67-4519-4884-e629-d4e7293c03cb"
      },
      "execution_count": null,
      "outputs": [
        {
          "output_type": "stream",
          "name": "stdout",
          "text": [
            "+-------+-------------------------------------------------------+\n",
            "|movieId|title                                                  |\n",
            "+-------+-------------------------------------------------------+\n",
            "|136996 |The Wrong Girl (1999)                                  |\n",
            "|117656 |Drunken Master 3 (1994)                                |\n",
            "|277798 |Frank & Zed (2020)                                     |\n",
            "|289775 |Toma (2021)                                            |\n",
            "|226640 |Zabardast (2018)                                       |\n",
            "|248740 |Legs - Atavism (2012)                                  |\n",
            "|226832 |The Beast (2014)                                       |\n",
            "|282565 |The Book of the Sea (2018)                             |\n",
            "|266250 |Brian Wilson: I Just Wasn't Made for These Times (1995)|\n",
            "|292047 |Bamboo Doll of Echizen (1963)                          |\n",
            "|289249 |Cirque du Soleil: Quidam (1999)                        |\n",
            "|267928 |Unreal News Reel (1923)                                |\n",
            "|137018 |A Sister's Revenge (2013)                              |\n",
            "|200016 |The Nagano Tapes (2018)                                |\n",
            "|216372 |Adoring (2019)                                         |\n",
            "|222374 |The Colossus of Destiny: A Melvins Tale (2016)         |\n",
            "|141064 |Uomo e galantuomo (1975)                               |\n",
            "|221334 |Bavaria - A magical journey (2012)                     |\n",
            "|282531 |A Night at the Kindergarten (2022)                     |\n",
            "|287247 |The Beach Boys: Making Pet Sounds (2017)               |\n",
            "+-------+-------------------------------------------------------+\n",
            "only showing top 20 rows\n",
            "\n"
          ]
        }
      ]
    },
    {
      "cell_type": "code",
      "source": [
        "from pyspark.sql.functions import explode,countDistinct"
      ],
      "metadata": {
        "id": "aUMxAAudOFYE"
      },
      "execution_count": null,
      "outputs": []
    },
    {
      "cell_type": "code",
      "source": [
        "movies_df_aliased = movies_df.alias('m')\n",
        "top_rated_movies_aliased = top_rated_movies.alias('t')\n",
        "\n",
        "\n",
        "genres_split_df = movies_df_aliased.withColumn(\"genre\", explode(split(col(\"genres\"), \"\\\\|\"))) \\\n",
        "                                   .join(top_rated_movies_aliased, on=\"movieId\") \\\n",
        "                                   .select('m.title', 'genre')\n",
        "\n",
        "genres_split_df.show(truncate=False)\n"
      ],
      "metadata": {
        "colab": {
          "base_uri": "https://localhost:8080/"
        },
        "id": "2sUXzOlWO4kM",
        "outputId": "c0ae4187-43a7-4bfe-8a6e-06d8bb95c8e8"
      },
      "execution_count": null,
      "outputs": [
        {
          "metadata": {
            "tags": null
          },
          "name": "stdout",
          "output_type": "stream",
          "text": [
            "+------------------------------+-----------+\n",
            "|title                         |genre      |\n",
            "+------------------------------+-----------+\n",
            "|Fitzgerald (2002)             |Drama      |\n",
            "|Until They Sail (1957)        |Drama      |\n",
            "|Until They Sail (1957)        |Romance    |\n",
            "|Until They Sail (1957)        |War        |\n",
            "|A Sister's Revenge (2013)     |Drama      |\n",
            "|A Sister's Revenge (2013)     |Mystery    |\n",
            "|A Sister's Revenge (2013)     |Thriller   |\n",
            "|The Perfect Neighbor (2005)   |Drama      |\n",
            "|The Perfect Neighbor (2005)   |Thriller   |\n",
            "|War Arrow (1954)              |Adventure  |\n",
            "|War Arrow (1954)              |Drama      |\n",
            "|War Arrow (1954)              |Romance    |\n",
            "|War Arrow (1954)              |War        |\n",
            "|War Arrow (1954)              |Western    |\n",
            "|Uomo e galantuomo (1975)      |Comedy     |\n",
            "|2 (2007)                      |Drama      |\n",
            "|Tammy and the Doctor (1963)   |Comedy     |\n",
            "|Tammy and the Doctor (1963)   |Romance    |\n",
            "|Who Killed Chea Vichea? (2010)|Documentary|\n",
            "|The Far Pavilions (1984)      |Drama      |\n",
            "+------------------------------+-----------+\n",
            "only showing top 20 rows\n",
            "\n"
          ]
        }
      ]
    },
    {
      "cell_type": "code",
      "source": [
        "# Count distinct genres\n",
        "genre_diversity = genres_split_df.groupBy(\"title\") \\\n",
        "                                .agg(countDistinct(\"genre\").alias(\"distinct_genres\"))\n",
        "genre_diversity = genre_diversity.orderBy(col('distinct_genres').desc())\n",
        "genre_diversity.show(truncate = False)"
      ],
      "metadata": {
        "colab": {
          "base_uri": "https://localhost:8080/"
        },
        "id": "9tb-1UVyOT2e",
        "outputId": "09dd32f3-4548-4aae-d83c-35799e99c985"
      },
      "execution_count": null,
      "outputs": [
        {
          "output_type": "stream",
          "name": "stdout",
          "text": [
            "+--------------------------------------------------+---------------+\n",
            "|title                                             |distinct_genres|\n",
            "+--------------------------------------------------+---------------+\n",
            "|War Arrow (1954)                                  |5              |\n",
            "|Christmas Cracker (1963)                          |4              |\n",
            "|The Light in the Forest (1958)                    |4              |\n",
            "|Me Sinto Bem com Você (2021)                      |3              |\n",
            "|Silvery Moon (1933)                               |3              |\n",
            "|Paper Marriage (1988)                             |3              |\n",
            "|Until They Sail (1957)                            |3              |\n",
            "|A Sister's Revenge (2013)                         |3              |\n",
            "|See You Next Christmas (2021)                     |3              |\n",
            "|Nico the Unicorn (1998)                           |3              |\n",
            "|The Final Exit of the Disciples of Ascensia (2019)|3              |\n",
            "|B&B Merry (2022)                                  |3              |\n",
            "|Lung (2016)                                       |3              |\n",
            "|The Beast (2014)                                  |3              |\n",
            "|The Sauce of Love (2021)                          |3              |\n",
            "|The Trouble with Mistletoe (2017)                 |2              |\n",
            "|The Wedding Veil Expectations (2023)              |2              |\n",
            "|Return to Christmas Creek (2018)                  |2              |\n",
            "|Alien Girl (2010)                                 |2              |\n",
            "|Daredevils of the Red Circle (1939)               |2              |\n",
            "+--------------------------------------------------+---------------+\n",
            "only showing top 20 rows\n",
            "\n"
          ]
        }
      ]
    },
    {
      "cell_type": "markdown",
      "source": [
        "**Total Genre Counts:**\n",
        "\n",
        "You might want to count how many times each genre appears across all the top 100 movies.\n"
      ],
      "metadata": {
        "id": "09F2dNP6S4Dx"
      }
    },
    {
      "cell_type": "code",
      "source": [
        "total_count = genres_split_df.groupBy('genre').agg(count(col('genre')).alias('No_of_count'))\n",
        "total_count = total_count.orderBy(col('No_of_count').desc())\n",
        "total_count.show(truncate = False)"
      ],
      "metadata": {
        "colab": {
          "base_uri": "https://localhost:8080/"
        },
        "id": "honA_vpPS-2b",
        "outputId": "b27b4a1b-e216-4a9f-ebff-96e23c55dd84"
      },
      "execution_count": null,
      "outputs": [
        {
          "output_type": "stream",
          "name": "stdout",
          "text": [
            "+-----------+-----------+\n",
            "|genre      |No_of_count|\n",
            "+-----------+-----------+\n",
            "|Romance    |52         |\n",
            "|Comedy     |33         |\n",
            "|Drama      |31         |\n",
            "|Documentary|15         |\n",
            "|Animation  |6          |\n",
            "|Children   |5          |\n",
            "|Action     |5          |\n",
            "|Thriller   |4          |\n",
            "|War        |4          |\n",
            "|Horror     |4          |\n",
            "|Adventure  |3          |\n",
            "|Fantasy    |3          |\n",
            "|Mystery    |2          |\n",
            "|Western    |2          |\n",
            "|Crime      |1          |\n",
            "|Sci-Fi     |1          |\n",
            "+-----------+-----------+\n",
            "\n"
          ]
        }
      ]
    },
    {
      "cell_type": "markdown",
      "source": [
        "**Percentage Representation:**\n",
        "\n",
        "Calculate the percentage representation of each genre among the top-rated movies to understand which genres dominate."
      ],
      "metadata": {
        "id": "-rY5JeNdS9e9"
      }
    },
    {
      "cell_type": "code",
      "source": [
        "from pyspark.sql.functions import round, col\n",
        "\n",
        "percentage_count = total_count.withColumn('percentage_out_of_5',(col('No_of_count') / 5) * 100)\n",
        "percentage_count.show(truncate=False)"
      ],
      "metadata": {
        "id": "19W52WlHTpik",
        "outputId": "63f7fb81-0452-4e72-f66d-ffae2f093541",
        "colab": {
          "base_uri": "https://localhost:8080/"
        }
      },
      "execution_count": null,
      "outputs": [
        {
          "output_type": "stream",
          "name": "stdout",
          "text": [
            "+-----------+-----------+-------------------+\n",
            "|genre      |No_of_count|percentage_out_of_5|\n",
            "+-----------+-----------+-------------------+\n",
            "|Romance    |52         |1040.0             |\n",
            "|Comedy     |33         |660.0              |\n",
            "|Drama      |31         |620.0              |\n",
            "|Documentary|15         |300.0              |\n",
            "|Animation  |6          |120.0              |\n",
            "|Children   |5          |100.0              |\n",
            "|Action     |5          |100.0              |\n",
            "|Thriller   |4          |80.0               |\n",
            "|War        |4          |80.0               |\n",
            "|Horror     |4          |80.0               |\n",
            "|Adventure  |3          |60.0               |\n",
            "|Fantasy    |3          |60.0               |\n",
            "|Mystery    |2          |40.0               |\n",
            "|Western    |2          |40.0               |\n",
            "|Crime      |1          |20.0               |\n",
            "|Sci-Fi     |1          |20.0               |\n",
            "+-----------+-----------+-------------------+\n",
            "\n"
          ]
        }
      ]
    },
    {
      "cell_type": "markdown",
      "source": [
        "**Step 5: Performance Optimization**\n"
      ],
      "metadata": {
        "id": "dghnTYxbbrpK"
      }
    },
    {
      "cell_type": "markdown",
      "source": [
        "**Cache and Persist:**\n",
        "\n",
        "Use caching and persistence in PySpark to optimize the performance of your queries.\n"
      ],
      "metadata": {
        "id": "_xkZ3HA1bzPS"
      }
    },
    {
      "cell_type": "markdown",
      "source": [
        "**Partitioning:**\n",
        "\n",
        "Apply partitioning to the data to improve the efficiency of operations, especially for large datasets.\n"
      ],
      "metadata": {
        "id": "9NqIhsoJb0Jt"
      }
    },
    {
      "cell_type": "markdown",
      "source": [
        "**Step 6: Visualization**\n",
        "\n",
        "**Visualize Data:**\n",
        "Use PySpark with an external library like Matplotlib, Seaborn, or even Power BI to create visualizations such as:\n",
        "Distribution of ratings.\n",
        "Average rating per genre.\n",
        "Trends in movie ratings over the years."
      ],
      "metadata": {
        "id": "TSK8gffbb30I"
      }
    },
    {
      "cell_type": "markdown",
      "source": [
        "**Pyspark MLib:**"
      ],
      "metadata": {
        "id": "Wua-VSXJXcF5"
      }
    },
    {
      "cell_type": "markdown",
      "source": [
        "1Q) Can we predict whether a user will give a movie a high rating (e.g., 4 or 5 stars) based on the movie's genre, year, and user's past ratings?"
      ],
      "metadata": {
        "id": "0BJ142BKXfsi"
      }
    },
    {
      "cell_type": "markdown",
      "source": [
        "For this we need to do data preprocessing."
      ],
      "metadata": {
        "id": "naDBgsFYXtgh"
      }
    },
    {
      "cell_type": "code",
      "source": [
        "movies_ratings_df = movies_ratings_df.withColumn('genres',split('genres','\\|'))\n",
        "movies_ratings_df.show(truncate = False)"
      ],
      "metadata": {
        "id": "QVLVxjGMXtDt",
        "outputId": "5397b4e2-21c4-41ce-9a7c-41ae15ead83e",
        "colab": {
          "base_uri": "https://localhost:8080/"
        }
      },
      "execution_count": 34,
      "outputs": [
        {
          "output_type": "stream",
          "name": "stdout",
          "text": [
            "+-------+-----------------------------------------+-------------------------------------------------+----+------+------+---------+\n",
            "|movieId|title                                    |genres                                           |year|userId|rating|timestamp|\n",
            "+-------+-----------------------------------------+-------------------------------------------------+----+------+------+---------+\n",
            "|1      |Toy Story (1995)                         |[Adventure, Animation, Children, Comedy, Fantasy]|1995|1     |4.0   |964982703|\n",
            "|3      |Grumpier Old Men (1995)                  |[Comedy, Romance]                                |1995|1     |4.0   |964981247|\n",
            "|6      |Heat (1995)                              |[Action, Crime, Thriller]                        |1995|1     |4.0   |964982224|\n",
            "|47     |Seven (a.k.a. Se7en) (1995)              |[Mystery, Thriller]                              |1995|1     |5.0   |964983815|\n",
            "|50     |Usual Suspects, The (1995)               |[Crime, Mystery, Thriller]                       |1995|1     |5.0   |964982931|\n",
            "|70     |From Dusk Till Dawn (1996)               |[Action, Comedy, Horror, Thriller]               |1996|1     |3.0   |964982400|\n",
            "|101    |Bottle Rocket (1996)                     |[Adventure, Comedy, Crime, Romance]              |1996|1     |5.0   |964980868|\n",
            "|110    |Braveheart (1995)                        |[Action, Drama, War]                             |1995|1     |4.0   |964982176|\n",
            "|151    |Rob Roy (1995)                           |[Action, Drama, Romance, War]                    |1995|1     |5.0   |964984041|\n",
            "|157    |Canadian Bacon (1995)                    |[Comedy, War]                                    |1995|1     |5.0   |964984100|\n",
            "|163    |Desperado (1995)                         |[Action, Romance, Western]                       |1995|1     |5.0   |964983650|\n",
            "|216    |Billy Madison (1995)                     |[Comedy]                                         |1995|1     |5.0   |964981208|\n",
            "|223    |Clerks (1994)                            |[Comedy]                                         |1994|1     |3.0   |964980985|\n",
            "|231    |Dumb & Dumber (Dumb and Dumber) (1994)   |[Adventure, Comedy]                              |1994|1     |5.0   |964981179|\n",
            "|235    |Ed Wood (1994)                           |[Comedy, Drama]                                  |1994|1     |4.0   |964980908|\n",
            "|260    |Star Wars: Episode IV - A New Hope (1977)|[Action, Adventure, Sci-Fi]                      |1977|1     |5.0   |964981680|\n",
            "|296    |Pulp Fiction (1994)                      |[Comedy, Crime, Drama, Thriller]                 |1994|1     |3.0   |964982967|\n",
            "|316    |Stargate (1994)                          |[Action, Adventure, Sci-Fi]                      |1994|1     |3.0   |964982310|\n",
            "|333    |Tommy Boy (1995)                         |[Comedy]                                         |1995|1     |5.0   |964981179|\n",
            "|349    |Clear and Present Danger (1994)          |[Action, Crime, Drama, Thriller]                 |1994|1     |4.0   |964982563|\n",
            "+-------+-----------------------------------------+-------------------------------------------------+----+------+------+---------+\n",
            "only showing top 20 rows\n",
            "\n"
          ]
        }
      ]
    },
    {
      "cell_type": "code",
      "source": [
        "from pyspark.sql.functions import explode\n",
        "array_genres = movies_ratings_df.select('genres')\n",
        "array_genres.show(truncate = False)"
      ],
      "metadata": {
        "id": "nocQbeEnX62b",
        "outputId": "eda71b0b-d671-4087-b78d-0e0c5e39ad9f",
        "colab": {
          "base_uri": "https://localhost:8080/"
        }
      },
      "execution_count": 35,
      "outputs": [
        {
          "output_type": "stream",
          "name": "stdout",
          "text": [
            "+-------------------------------------------------+\n",
            "|genres                                           |\n",
            "+-------------------------------------------------+\n",
            "|[Adventure, Animation, Children, Comedy, Fantasy]|\n",
            "|[Comedy, Romance]                                |\n",
            "|[Action, Crime, Thriller]                        |\n",
            "|[Mystery, Thriller]                              |\n",
            "|[Crime, Mystery, Thriller]                       |\n",
            "|[Action, Comedy, Horror, Thriller]               |\n",
            "|[Adventure, Comedy, Crime, Romance]              |\n",
            "|[Action, Drama, War]                             |\n",
            "|[Action, Drama, Romance, War]                    |\n",
            "|[Comedy, War]                                    |\n",
            "|[Action, Romance, Western]                       |\n",
            "|[Comedy]                                         |\n",
            "|[Comedy]                                         |\n",
            "|[Adventure, Comedy]                              |\n",
            "|[Comedy, Drama]                                  |\n",
            "|[Action, Adventure, Sci-Fi]                      |\n",
            "|[Comedy, Crime, Drama, Thriller]                 |\n",
            "|[Action, Adventure, Sci-Fi]                      |\n",
            "|[Comedy]                                         |\n",
            "|[Action, Crime, Drama, Thriller]                 |\n",
            "+-------------------------------------------------+\n",
            "only showing top 20 rows\n",
            "\n"
          ]
        }
      ]
    },
    {
      "cell_type": "code",
      "source": [
        "genres_exploded_df =  array_genres.withColumn('genres',explode('genres'))\n",
        "genres_exploded_df.show(truncate = False)"
      ],
      "metadata": {
        "id": "36lqHLzUX-Wp",
        "outputId": "b2b09722-562b-495d-96d0-2157159e7d35",
        "colab": {
          "base_uri": "https://localhost:8080/"
        }
      },
      "execution_count": 36,
      "outputs": [
        {
          "output_type": "stream",
          "name": "stdout",
          "text": [
            "+---------+\n",
            "|genres   |\n",
            "+---------+\n",
            "|Adventure|\n",
            "|Animation|\n",
            "|Children |\n",
            "|Comedy   |\n",
            "|Fantasy  |\n",
            "|Comedy   |\n",
            "|Romance  |\n",
            "|Action   |\n",
            "|Crime    |\n",
            "|Thriller |\n",
            "|Mystery  |\n",
            "|Thriller |\n",
            "|Crime    |\n",
            "|Mystery  |\n",
            "|Thriller |\n",
            "|Action   |\n",
            "|Comedy   |\n",
            "|Horror   |\n",
            "|Thriller |\n",
            "|Adventure|\n",
            "+---------+\n",
            "only showing top 20 rows\n",
            "\n"
          ]
        }
      ]
    },
    {
      "cell_type": "code",
      "source": [
        "genres_exploded_df = genres_exploded_df.distinct()\n",
        "genres_exploded_df.show()"
      ],
      "metadata": {
        "id": "q1FSvc2JX_Hx",
        "outputId": "7eb6a251-8bdb-4ff9-f1ed-d2b7685fbcdd",
        "colab": {
          "base_uri": "https://localhost:8080/"
        }
      },
      "execution_count": 37,
      "outputs": [
        {
          "output_type": "stream",
          "name": "stdout",
          "text": [
            "+-----------+\n",
            "|     genres|\n",
            "+-----------+\n",
            "|      Crime|\n",
            "|    Romance|\n",
            "|   Thriller|\n",
            "|  Adventure|\n",
            "|      Drama|\n",
            "|        War|\n",
            "|Documentary|\n",
            "|    Fantasy|\n",
            "|    Mystery|\n",
            "|    Musical|\n",
            "|  Animation|\n",
            "|  Film-Noir|\n",
            "|       IMAX|\n",
            "|     Horror|\n",
            "|    Western|\n",
            "|     Comedy|\n",
            "|   Children|\n",
            "|     Action|\n",
            "|     Sci-Fi|\n",
            "+-----------+\n",
            "\n"
          ]
        }
      ]
    },
    {
      "cell_type": "code",
      "source": [
        "genres_list = genres_exploded_df.collect()\n",
        "print(genres_list[0][0])"
      ],
      "metadata": {
        "id": "RYPLcrDxYDKF",
        "outputId": "36e7f65d-c7c7-41ae-f322-e1f15a024a0a",
        "colab": {
          "base_uri": "https://localhost:8080/"
        }
      },
      "execution_count": 38,
      "outputs": [
        {
          "output_type": "stream",
          "name": "stdout",
          "text": [
            "Crime\n"
          ]
        }
      ]
    },
    {
      "cell_type": "code",
      "source": [
        "l = len(genres_list)\n",
        "print(l)"
      ],
      "metadata": {
        "id": "5N5UD7lwYDnh",
        "outputId": "092bb4e7-6d94-4d88-8537-1daade5f007e",
        "colab": {
          "base_uri": "https://localhost:8080/"
        }
      },
      "execution_count": 39,
      "outputs": [
        {
          "output_type": "stream",
          "name": "stdout",
          "text": [
            "19\n"
          ]
        }
      ]
    },
    {
      "cell_type": "code",
      "source": [
        "movies_ratings_df1 = movies_ratings_df.select('*')\n",
        "movies_ratings_df1.show(truncate = False)"
      ],
      "metadata": {
        "id": "EV7Pz0axYFkq",
        "outputId": "e28fc4e3-08bb-47f3-dfae-70853e57f0c4",
        "colab": {
          "base_uri": "https://localhost:8080/"
        }
      },
      "execution_count": 40,
      "outputs": [
        {
          "output_type": "stream",
          "name": "stdout",
          "text": [
            "+-------+-----------------------------------------+-------------------------------------------------+----+------+------+---------+\n",
            "|movieId|title                                    |genres                                           |year|userId|rating|timestamp|\n",
            "+-------+-----------------------------------------+-------------------------------------------------+----+------+------+---------+\n",
            "|1      |Toy Story (1995)                         |[Adventure, Animation, Children, Comedy, Fantasy]|1995|1     |4.0   |964982703|\n",
            "|3      |Grumpier Old Men (1995)                  |[Comedy, Romance]                                |1995|1     |4.0   |964981247|\n",
            "|6      |Heat (1995)                              |[Action, Crime, Thriller]                        |1995|1     |4.0   |964982224|\n",
            "|47     |Seven (a.k.a. Se7en) (1995)              |[Mystery, Thriller]                              |1995|1     |5.0   |964983815|\n",
            "|50     |Usual Suspects, The (1995)               |[Crime, Mystery, Thriller]                       |1995|1     |5.0   |964982931|\n",
            "|70     |From Dusk Till Dawn (1996)               |[Action, Comedy, Horror, Thriller]               |1996|1     |3.0   |964982400|\n",
            "|101    |Bottle Rocket (1996)                     |[Adventure, Comedy, Crime, Romance]              |1996|1     |5.0   |964980868|\n",
            "|110    |Braveheart (1995)                        |[Action, Drama, War]                             |1995|1     |4.0   |964982176|\n",
            "|151    |Rob Roy (1995)                           |[Action, Drama, Romance, War]                    |1995|1     |5.0   |964984041|\n",
            "|157    |Canadian Bacon (1995)                    |[Comedy, War]                                    |1995|1     |5.0   |964984100|\n",
            "|163    |Desperado (1995)                         |[Action, Romance, Western]                       |1995|1     |5.0   |964983650|\n",
            "|216    |Billy Madison (1995)                     |[Comedy]                                         |1995|1     |5.0   |964981208|\n",
            "|223    |Clerks (1994)                            |[Comedy]                                         |1994|1     |3.0   |964980985|\n",
            "|231    |Dumb & Dumber (Dumb and Dumber) (1994)   |[Adventure, Comedy]                              |1994|1     |5.0   |964981179|\n",
            "|235    |Ed Wood (1994)                           |[Comedy, Drama]                                  |1994|1     |4.0   |964980908|\n",
            "|260    |Star Wars: Episode IV - A New Hope (1977)|[Action, Adventure, Sci-Fi]                      |1977|1     |5.0   |964981680|\n",
            "|296    |Pulp Fiction (1994)                      |[Comedy, Crime, Drama, Thriller]                 |1994|1     |3.0   |964982967|\n",
            "|316    |Stargate (1994)                          |[Action, Adventure, Sci-Fi]                      |1994|1     |3.0   |964982310|\n",
            "|333    |Tommy Boy (1995)                         |[Comedy]                                         |1995|1     |5.0   |964981179|\n",
            "|349    |Clear and Present Danger (1994)          |[Action, Crime, Drama, Thriller]                 |1994|1     |4.0   |964982563|\n",
            "+-------+-----------------------------------------+-------------------------------------------------+----+------+------+---------+\n",
            "only showing top 20 rows\n",
            "\n"
          ]
        }
      ]
    },
    {
      "cell_type": "code",
      "source": [
        "\n",
        "from pyspark.sql.functions import lit\n",
        "\n",
        "for i in range(l):\n",
        "    movies_ratings_df1 = movies_ratings_df1.withColumn(str(genres_list[i][0]),lit(0))\n",
        "movies_ratings_df1.show(truncate = False)\n"
      ],
      "metadata": {
        "id": "mhXkU8nQYH28",
        "outputId": "c325de87-79d0-4772-8764-be5df7d5fd55",
        "colab": {
          "base_uri": "https://localhost:8080/"
        }
      },
      "execution_count": 41,
      "outputs": [
        {
          "output_type": "stream",
          "name": "stdout",
          "text": [
            "+-------+-----------------------------------------+-------------------------------------------------+----+------+------+---------+-----+-------+--------+---------+-----+---+-----------+-------+-------+-------+---------+---------+----+------+-------+------+--------+------+------+\n",
            "|movieId|title                                    |genres                                           |year|userId|rating|timestamp|Crime|Romance|Thriller|Adventure|Drama|War|Documentary|Fantasy|Mystery|Musical|Animation|Film-Noir|IMAX|Horror|Western|Comedy|Children|Action|Sci-Fi|\n",
            "+-------+-----------------------------------------+-------------------------------------------------+----+------+------+---------+-----+-------+--------+---------+-----+---+-----------+-------+-------+-------+---------+---------+----+------+-------+------+--------+------+------+\n",
            "|1      |Toy Story (1995)                         |[Adventure, Animation, Children, Comedy, Fantasy]|1995|1     |4.0   |964982703|0    |0      |0       |0        |0    |0  |0          |0      |0      |0      |0        |0        |0   |0     |0      |0     |0       |0     |0     |\n",
            "|3      |Grumpier Old Men (1995)                  |[Comedy, Romance]                                |1995|1     |4.0   |964981247|0    |0      |0       |0        |0    |0  |0          |0      |0      |0      |0        |0        |0   |0     |0      |0     |0       |0     |0     |\n",
            "|6      |Heat (1995)                              |[Action, Crime, Thriller]                        |1995|1     |4.0   |964982224|0    |0      |0       |0        |0    |0  |0          |0      |0      |0      |0        |0        |0   |0     |0      |0     |0       |0     |0     |\n",
            "|47     |Seven (a.k.a. Se7en) (1995)              |[Mystery, Thriller]                              |1995|1     |5.0   |964983815|0    |0      |0       |0        |0    |0  |0          |0      |0      |0      |0        |0        |0   |0     |0      |0     |0       |0     |0     |\n",
            "|50     |Usual Suspects, The (1995)               |[Crime, Mystery, Thriller]                       |1995|1     |5.0   |964982931|0    |0      |0       |0        |0    |0  |0          |0      |0      |0      |0        |0        |0   |0     |0      |0     |0       |0     |0     |\n",
            "|70     |From Dusk Till Dawn (1996)               |[Action, Comedy, Horror, Thriller]               |1996|1     |3.0   |964982400|0    |0      |0       |0        |0    |0  |0          |0      |0      |0      |0        |0        |0   |0     |0      |0     |0       |0     |0     |\n",
            "|101    |Bottle Rocket (1996)                     |[Adventure, Comedy, Crime, Romance]              |1996|1     |5.0   |964980868|0    |0      |0       |0        |0    |0  |0          |0      |0      |0      |0        |0        |0   |0     |0      |0     |0       |0     |0     |\n",
            "|110    |Braveheart (1995)                        |[Action, Drama, War]                             |1995|1     |4.0   |964982176|0    |0      |0       |0        |0    |0  |0          |0      |0      |0      |0        |0        |0   |0     |0      |0     |0       |0     |0     |\n",
            "|151    |Rob Roy (1995)                           |[Action, Drama, Romance, War]                    |1995|1     |5.0   |964984041|0    |0      |0       |0        |0    |0  |0          |0      |0      |0      |0        |0        |0   |0     |0      |0     |0       |0     |0     |\n",
            "|157    |Canadian Bacon (1995)                    |[Comedy, War]                                    |1995|1     |5.0   |964984100|0    |0      |0       |0        |0    |0  |0          |0      |0      |0      |0        |0        |0   |0     |0      |0     |0       |0     |0     |\n",
            "|163    |Desperado (1995)                         |[Action, Romance, Western]                       |1995|1     |5.0   |964983650|0    |0      |0       |0        |0    |0  |0          |0      |0      |0      |0        |0        |0   |0     |0      |0     |0       |0     |0     |\n",
            "|216    |Billy Madison (1995)                     |[Comedy]                                         |1995|1     |5.0   |964981208|0    |0      |0       |0        |0    |0  |0          |0      |0      |0      |0        |0        |0   |0     |0      |0     |0       |0     |0     |\n",
            "|223    |Clerks (1994)                            |[Comedy]                                         |1994|1     |3.0   |964980985|0    |0      |0       |0        |0    |0  |0          |0      |0      |0      |0        |0        |0   |0     |0      |0     |0       |0     |0     |\n",
            "|231    |Dumb & Dumber (Dumb and Dumber) (1994)   |[Adventure, Comedy]                              |1994|1     |5.0   |964981179|0    |0      |0       |0        |0    |0  |0          |0      |0      |0      |0        |0        |0   |0     |0      |0     |0       |0     |0     |\n",
            "|235    |Ed Wood (1994)                           |[Comedy, Drama]                                  |1994|1     |4.0   |964980908|0    |0      |0       |0        |0    |0  |0          |0      |0      |0      |0        |0        |0   |0     |0      |0     |0       |0     |0     |\n",
            "|260    |Star Wars: Episode IV - A New Hope (1977)|[Action, Adventure, Sci-Fi]                      |1977|1     |5.0   |964981680|0    |0      |0       |0        |0    |0  |0          |0      |0      |0      |0        |0        |0   |0     |0      |0     |0       |0     |0     |\n",
            "|296    |Pulp Fiction (1994)                      |[Comedy, Crime, Drama, Thriller]                 |1994|1     |3.0   |964982967|0    |0      |0       |0        |0    |0  |0          |0      |0      |0      |0        |0        |0   |0     |0      |0     |0       |0     |0     |\n",
            "|316    |Stargate (1994)                          |[Action, Adventure, Sci-Fi]                      |1994|1     |3.0   |964982310|0    |0      |0       |0        |0    |0  |0          |0      |0      |0      |0        |0        |0   |0     |0      |0     |0       |0     |0     |\n",
            "|333    |Tommy Boy (1995)                         |[Comedy]                                         |1995|1     |5.0   |964981179|0    |0      |0       |0        |0    |0  |0          |0      |0      |0      |0        |0        |0   |0     |0      |0     |0       |0     |0     |\n",
            "|349    |Clear and Present Danger (1994)          |[Action, Crime, Drama, Thriller]                 |1994|1     |4.0   |964982563|0    |0      |0       |0        |0    |0  |0          |0      |0      |0      |0        |0        |0   |0     |0      |0     |0       |0     |0     |\n",
            "+-------+-----------------------------------------+-------------------------------------------------+----+------+------+---------+-----+-------+--------+---------+-----+---+-----------+-------+-------+-------+---------+---------+----+------+-------+------+--------+------+------+\n",
            "only showing top 20 rows\n",
            "\n"
          ]
        }
      ]
    },
    {
      "cell_type": "code",
      "source": [
        "def genres_update(x, y):\n",
        "    if y in x:\n",
        "        return 1\n",
        "    else:\n",
        "        return 0\n",
        "\n",
        "\n",
        "x_udf = udf(genres_update, IntegerType())\n",
        "\n",
        "for i in range(l):\n",
        "    genre = genres_list[i][0]\n",
        "    movies_ratings_df1 = movies_ratings_df1.withColumn(genre, x_udf(col('genres'), lit(genre)))\n",
        "\n",
        "\n",
        "movies_ratings_df1.show(truncate=False)"
      ],
      "metadata": {
        "id": "bo4K96FwYM3r",
        "outputId": "65b0feec-ffe2-4d09-e867-eb068e6df4a2",
        "colab": {
          "base_uri": "https://localhost:8080/"
        }
      },
      "execution_count": 42,
      "outputs": [
        {
          "output_type": "stream",
          "name": "stdout",
          "text": [
            "+-------+-----------------------------------------+-------------------------------------------------+----+------+------+---------+-----+-------+--------+---------+-----+---+-----------+-------+-------+-------+---------+---------+----+------+-------+------+--------+------+------+\n",
            "|movieId|title                                    |genres                                           |year|userId|rating|timestamp|Crime|Romance|Thriller|Adventure|Drama|War|Documentary|Fantasy|Mystery|Musical|Animation|Film-Noir|IMAX|Horror|Western|Comedy|Children|Action|Sci-Fi|\n",
            "+-------+-----------------------------------------+-------------------------------------------------+----+------+------+---------+-----+-------+--------+---------+-----+---+-----------+-------+-------+-------+---------+---------+----+------+-------+------+--------+------+------+\n",
            "|1      |Toy Story (1995)                         |[Adventure, Animation, Children, Comedy, Fantasy]|1995|1     |4.0   |964982703|0    |0      |0       |1        |0    |0  |0          |1      |0      |0      |1        |0        |0   |0     |0      |1     |1       |0     |0     |\n",
            "|3      |Grumpier Old Men (1995)                  |[Comedy, Romance]                                |1995|1     |4.0   |964981247|0    |1      |0       |0        |0    |0  |0          |0      |0      |0      |0        |0        |0   |0     |0      |1     |0       |0     |0     |\n",
            "|6      |Heat (1995)                              |[Action, Crime, Thriller]                        |1995|1     |4.0   |964982224|1    |0      |1       |0        |0    |0  |0          |0      |0      |0      |0        |0        |0   |0     |0      |0     |0       |1     |0     |\n",
            "|47     |Seven (a.k.a. Se7en) (1995)              |[Mystery, Thriller]                              |1995|1     |5.0   |964983815|0    |0      |1       |0        |0    |0  |0          |0      |1      |0      |0        |0        |0   |0     |0      |0     |0       |0     |0     |\n",
            "|50     |Usual Suspects, The (1995)               |[Crime, Mystery, Thriller]                       |1995|1     |5.0   |964982931|1    |0      |1       |0        |0    |0  |0          |0      |1      |0      |0        |0        |0   |0     |0      |0     |0       |0     |0     |\n",
            "|70     |From Dusk Till Dawn (1996)               |[Action, Comedy, Horror, Thriller]               |1996|1     |3.0   |964982400|0    |0      |1       |0        |0    |0  |0          |0      |0      |0      |0        |0        |0   |1     |0      |1     |0       |1     |0     |\n",
            "|101    |Bottle Rocket (1996)                     |[Adventure, Comedy, Crime, Romance]              |1996|1     |5.0   |964980868|1    |1      |0       |1        |0    |0  |0          |0      |0      |0      |0        |0        |0   |0     |0      |1     |0       |0     |0     |\n",
            "|110    |Braveheart (1995)                        |[Action, Drama, War]                             |1995|1     |4.0   |964982176|0    |0      |0       |0        |1    |1  |0          |0      |0      |0      |0        |0        |0   |0     |0      |0     |0       |1     |0     |\n",
            "|151    |Rob Roy (1995)                           |[Action, Drama, Romance, War]                    |1995|1     |5.0   |964984041|0    |1      |0       |0        |1    |1  |0          |0      |0      |0      |0        |0        |0   |0     |0      |0     |0       |1     |0     |\n",
            "|157    |Canadian Bacon (1995)                    |[Comedy, War]                                    |1995|1     |5.0   |964984100|0    |0      |0       |0        |0    |1  |0          |0      |0      |0      |0        |0        |0   |0     |0      |1     |0       |0     |0     |\n",
            "|163    |Desperado (1995)                         |[Action, Romance, Western]                       |1995|1     |5.0   |964983650|0    |1      |0       |0        |0    |0  |0          |0      |0      |0      |0        |0        |0   |0     |1      |0     |0       |1     |0     |\n",
            "|216    |Billy Madison (1995)                     |[Comedy]                                         |1995|1     |5.0   |964981208|0    |0      |0       |0        |0    |0  |0          |0      |0      |0      |0        |0        |0   |0     |0      |1     |0       |0     |0     |\n",
            "|223    |Clerks (1994)                            |[Comedy]                                         |1994|1     |3.0   |964980985|0    |0      |0       |0        |0    |0  |0          |0      |0      |0      |0        |0        |0   |0     |0      |1     |0       |0     |0     |\n",
            "|231    |Dumb & Dumber (Dumb and Dumber) (1994)   |[Adventure, Comedy]                              |1994|1     |5.0   |964981179|0    |0      |0       |1        |0    |0  |0          |0      |0      |0      |0        |0        |0   |0     |0      |1     |0       |0     |0     |\n",
            "|235    |Ed Wood (1994)                           |[Comedy, Drama]                                  |1994|1     |4.0   |964980908|0    |0      |0       |0        |1    |0  |0          |0      |0      |0      |0        |0        |0   |0     |0      |1     |0       |0     |0     |\n",
            "|260    |Star Wars: Episode IV - A New Hope (1977)|[Action, Adventure, Sci-Fi]                      |1977|1     |5.0   |964981680|0    |0      |0       |1        |0    |0  |0          |0      |0      |0      |0        |0        |0   |0     |0      |0     |0       |1     |1     |\n",
            "|296    |Pulp Fiction (1994)                      |[Comedy, Crime, Drama, Thriller]                 |1994|1     |3.0   |964982967|1    |0      |1       |0        |1    |0  |0          |0      |0      |0      |0        |0        |0   |0     |0      |1     |0       |0     |0     |\n",
            "|316    |Stargate (1994)                          |[Action, Adventure, Sci-Fi]                      |1994|1     |3.0   |964982310|0    |0      |0       |1        |0    |0  |0          |0      |0      |0      |0        |0        |0   |0     |0      |0     |0       |1     |1     |\n",
            "|333    |Tommy Boy (1995)                         |[Comedy]                                         |1995|1     |5.0   |964981179|0    |0      |0       |0        |0    |0  |0          |0      |0      |0      |0        |0        |0   |0     |0      |1     |0       |0     |0     |\n",
            "|349    |Clear and Present Danger (1994)          |[Action, Crime, Drama, Thriller]                 |1994|1     |4.0   |964982563|1    |0      |1       |0        |1    |0  |0          |0      |0      |0      |0        |0        |0   |0     |0      |0     |0       |1     |0     |\n",
            "+-------+-----------------------------------------+-------------------------------------------------+----+------+------+---------+-----+-------+--------+---------+-----+---+-----------+-------+-------+-------+---------+---------+----+------+-------+------+--------+------+------+\n",
            "only showing top 20 rows\n",
            "\n"
          ]
        }
      ]
    },
    {
      "cell_type": "code",
      "source": [
        "print(movies_ratings_df1.dtypes)"
      ],
      "metadata": {
        "id": "HsGpexWgYSSN",
        "outputId": "5ffb3b7c-a531-4f8a-ddae-7e933cb15332",
        "colab": {
          "base_uri": "https://localhost:8080/"
        }
      },
      "execution_count": 43,
      "outputs": [
        {
          "output_type": "stream",
          "name": "stdout",
          "text": [
            "[('movieId', 'int'), ('title', 'string'), ('genres', 'array<string>'), ('year', 'int'), ('userId', 'int'), ('rating', 'float'), ('timestamp', 'string'), ('Crime', 'int'), ('Romance', 'int'), ('Thriller', 'int'), ('Adventure', 'int'), ('Drama', 'int'), ('War', 'int'), ('Documentary', 'int'), ('Fantasy', 'int'), ('Mystery', 'int'), ('Musical', 'int'), ('Animation', 'int'), ('Film-Noir', 'int'), ('IMAX', 'int'), ('Horror', 'int'), ('Western', 'int'), ('Comedy', 'int'), ('Children', 'int'), ('Action', 'int'), ('Sci-Fi', 'int')]\n"
          ]
        }
      ]
    },
    {
      "cell_type": "code",
      "source": [
        "movies_ratings_df1 = movies_ratings_df1.drop('movieId','title','genres','year','timestamp')\n",
        "movies_ratings_df1.show()"
      ],
      "metadata": {
        "id": "0KvM8OzDYUzk",
        "outputId": "3a9aafd1-9fc1-4b81-f2d7-dda6506aa428",
        "colab": {
          "base_uri": "https://localhost:8080/"
        }
      },
      "execution_count": 44,
      "outputs": [
        {
          "output_type": "stream",
          "name": "stdout",
          "text": [
            "+------+------+-----+-------+--------+---------+-----+---+-----------+-------+-------+-------+---------+---------+----+------+-------+------+--------+------+------+\n",
            "|userId|rating|Crime|Romance|Thriller|Adventure|Drama|War|Documentary|Fantasy|Mystery|Musical|Animation|Film-Noir|IMAX|Horror|Western|Comedy|Children|Action|Sci-Fi|\n",
            "+------+------+-----+-------+--------+---------+-----+---+-----------+-------+-------+-------+---------+---------+----+------+-------+------+--------+------+------+\n",
            "|     1|   4.0|    0|      0|       0|        1|    0|  0|          0|      1|      0|      0|        1|        0|   0|     0|      0|     1|       1|     0|     0|\n",
            "|     1|   4.0|    0|      1|       0|        0|    0|  0|          0|      0|      0|      0|        0|        0|   0|     0|      0|     1|       0|     0|     0|\n",
            "|     1|   4.0|    1|      0|       1|        0|    0|  0|          0|      0|      0|      0|        0|        0|   0|     0|      0|     0|       0|     1|     0|\n",
            "|     1|   5.0|    0|      0|       1|        0|    0|  0|          0|      0|      1|      0|        0|        0|   0|     0|      0|     0|       0|     0|     0|\n",
            "|     1|   5.0|    1|      0|       1|        0|    0|  0|          0|      0|      1|      0|        0|        0|   0|     0|      0|     0|       0|     0|     0|\n",
            "|     1|   3.0|    0|      0|       1|        0|    0|  0|          0|      0|      0|      0|        0|        0|   0|     1|      0|     1|       0|     1|     0|\n",
            "|     1|   5.0|    1|      1|       0|        1|    0|  0|          0|      0|      0|      0|        0|        0|   0|     0|      0|     1|       0|     0|     0|\n",
            "|     1|   4.0|    0|      0|       0|        0|    1|  1|          0|      0|      0|      0|        0|        0|   0|     0|      0|     0|       0|     1|     0|\n",
            "|     1|   5.0|    0|      1|       0|        0|    1|  1|          0|      0|      0|      0|        0|        0|   0|     0|      0|     0|       0|     1|     0|\n",
            "|     1|   5.0|    0|      0|       0|        0|    0|  1|          0|      0|      0|      0|        0|        0|   0|     0|      0|     1|       0|     0|     0|\n",
            "|     1|   5.0|    0|      1|       0|        0|    0|  0|          0|      0|      0|      0|        0|        0|   0|     0|      1|     0|       0|     1|     0|\n",
            "|     1|   5.0|    0|      0|       0|        0|    0|  0|          0|      0|      0|      0|        0|        0|   0|     0|      0|     1|       0|     0|     0|\n",
            "|     1|   3.0|    0|      0|       0|        0|    0|  0|          0|      0|      0|      0|        0|        0|   0|     0|      0|     1|       0|     0|     0|\n",
            "|     1|   5.0|    0|      0|       0|        1|    0|  0|          0|      0|      0|      0|        0|        0|   0|     0|      0|     1|       0|     0|     0|\n",
            "|     1|   4.0|    0|      0|       0|        0|    1|  0|          0|      0|      0|      0|        0|        0|   0|     0|      0|     1|       0|     0|     0|\n",
            "|     1|   5.0|    0|      0|       0|        1|    0|  0|          0|      0|      0|      0|        0|        0|   0|     0|      0|     0|       0|     1|     1|\n",
            "|     1|   3.0|    1|      0|       1|        0|    1|  0|          0|      0|      0|      0|        0|        0|   0|     0|      0|     1|       0|     0|     0|\n",
            "|     1|   3.0|    0|      0|       0|        1|    0|  0|          0|      0|      0|      0|        0|        0|   0|     0|      0|     0|       0|     1|     1|\n",
            "|     1|   5.0|    0|      0|       0|        0|    0|  0|          0|      0|      0|      0|        0|        0|   0|     0|      0|     1|       0|     0|     0|\n",
            "|     1|   4.0|    1|      0|       1|        0|    1|  0|          0|      0|      0|      0|        0|        0|   0|     0|      0|     0|       0|     1|     0|\n",
            "+------+------+-----+-------+--------+---------+-----+---+-----------+-------+-------+-------+---------+---------+----+------+-------+------+--------+------+------+\n",
            "only showing top 20 rows\n",
            "\n"
          ]
        }
      ]
    },
    {
      "cell_type": "code",
      "source": [
        "# print(f.dtypes)\n",
        "print(genres_list)"
      ],
      "metadata": {
        "id": "y_WBZ28PYWCO",
        "outputId": "a82aa51e-ccab-41bd-d2d3-1d835976798e",
        "colab": {
          "base_uri": "https://localhost:8080/"
        }
      },
      "execution_count": 45,
      "outputs": [
        {
          "output_type": "stream",
          "name": "stdout",
          "text": [
            "[Row(genres='Crime'), Row(genres='Romance'), Row(genres='Thriller'), Row(genres='Adventure'), Row(genres='Drama'), Row(genres='War'), Row(genres='Documentary'), Row(genres='Fantasy'), Row(genres='Mystery'), Row(genres='Musical'), Row(genres='Animation'), Row(genres='Film-Noir'), Row(genres='IMAX'), Row(genres='Horror'), Row(genres='Western'), Row(genres='Comedy'), Row(genres='Children'), Row(genres='Action'), Row(genres='Sci-Fi')]\n"
          ]
        }
      ]
    },
    {
      "cell_type": "code",
      "source": [
        "movies_ratings_df1 = movies_ratings_df1.withColumn('userId',col('userId').cast('int'))\\\n",
        "    .withColumn('rating',col('rating').cast('int'))\n",
        "\n",
        "print(movies_ratings_df1.dtypes)"
      ],
      "metadata": {
        "id": "BFe4xfgYYbEU",
        "outputId": "1ca3eda9-0607-45cc-c5a7-286a3267482d",
        "colab": {
          "base_uri": "https://localhost:8080/"
        }
      },
      "execution_count": 46,
      "outputs": [
        {
          "output_type": "stream",
          "name": "stdout",
          "text": [
            "[('userId', 'int'), ('rating', 'int'), ('Crime', 'int'), ('Romance', 'int'), ('Thriller', 'int'), ('Adventure', 'int'), ('Drama', 'int'), ('War', 'int'), ('Documentary', 'int'), ('Fantasy', 'int'), ('Mystery', 'int'), ('Musical', 'int'), ('Animation', 'int'), ('Film-Noir', 'int'), ('IMAX', 'int'), ('Horror', 'int'), ('Western', 'int'), ('Comedy', 'int'), ('Children', 'int'), ('Action', 'int'), ('Sci-Fi', 'int')]\n"
          ]
        }
      ]
    },
    {
      "cell_type": "code",
      "source": [
        "from pyspark.ml.feature import VectorAssembler\n",
        "\n",
        "\n",
        "assembler = VectorAssembler(inputCols = ['userId','Crime','Romance','Thriller','Adventure','Drama','War','Documentary','Fantasy','Mystery','Musical','Animation','Film-Noir','IMAX','Horror','Western','Comedy','Children','Action','Sci-Fi'],outputCol = 'user_details')\n",
        "\n",
        "movies_ratings_df1 = assembler.transform(movies_ratings_df1)\n",
        "\n",
        "movies_ratings_df1.show(truncate = False)"
      ],
      "metadata": {
        "id": "pIzxOSziYdqs",
        "outputId": "a825298c-c912-45ed-f3cd-5f45ba1dda8b",
        "colab": {
          "base_uri": "https://localhost:8080/"
        }
      },
      "execution_count": 47,
      "outputs": [
        {
          "output_type": "stream",
          "name": "stdout",
          "text": [
            "+------+------+-----+-------+--------+---------+-----+---+-----------+-------+-------+-------+---------+---------+----+------+-------+------+--------+------+------+-----------------------------------------------+\n",
            "|userId|rating|Crime|Romance|Thriller|Adventure|Drama|War|Documentary|Fantasy|Mystery|Musical|Animation|Film-Noir|IMAX|Horror|Western|Comedy|Children|Action|Sci-Fi|user_details                                   |\n",
            "+------+------+-----+-------+--------+---------+-----+---+-----------+-------+-------+-------+---------+---------+----+------+-------+------+--------+------+------+-----------------------------------------------+\n",
            "|1     |4     |0    |0      |0       |1        |0    |0  |0          |1      |0      |0      |1        |0        |0   |0     |0      |1     |1       |0     |0     |(20,[0,4,8,11,16,17],[1.0,1.0,1.0,1.0,1.0,1.0])|\n",
            "|1     |4     |0    |1      |0       |0        |0    |0  |0          |0      |0      |0      |0        |0        |0   |0     |0      |1     |0       |0     |0     |(20,[0,2,16],[1.0,1.0,1.0])                    |\n",
            "|1     |4     |1    |0      |1       |0        |0    |0  |0          |0      |0      |0      |0        |0        |0   |0     |0      |0     |0       |1     |0     |(20,[0,1,3,18],[1.0,1.0,1.0,1.0])              |\n",
            "|1     |5     |0    |0      |1       |0        |0    |0  |0          |0      |1      |0      |0        |0        |0   |0     |0      |0     |0       |0     |0     |(20,[0,3,9],[1.0,1.0,1.0])                     |\n",
            "|1     |5     |1    |0      |1       |0        |0    |0  |0          |0      |1      |0      |0        |0        |0   |0     |0      |0     |0       |0     |0     |(20,[0,1,3,9],[1.0,1.0,1.0,1.0])               |\n",
            "|1     |3     |0    |0      |1       |0        |0    |0  |0          |0      |0      |0      |0        |0        |0   |1     |0      |1     |0       |1     |0     |(20,[0,3,14,16,18],[1.0,1.0,1.0,1.0,1.0])      |\n",
            "|1     |5     |1    |1      |0       |1        |0    |0  |0          |0      |0      |0      |0        |0        |0   |0     |0      |1     |0       |0     |0     |(20,[0,1,2,4,16],[1.0,1.0,1.0,1.0,1.0])        |\n",
            "|1     |4     |0    |0      |0       |0        |1    |1  |0          |0      |0      |0      |0        |0        |0   |0     |0      |0     |0       |1     |0     |(20,[0,5,6,18],[1.0,1.0,1.0,1.0])              |\n",
            "|1     |5     |0    |1      |0       |0        |1    |1  |0          |0      |0      |0      |0        |0        |0   |0     |0      |0     |0       |1     |0     |(20,[0,2,5,6,18],[1.0,1.0,1.0,1.0,1.0])        |\n",
            "|1     |5     |0    |0      |0       |0        |0    |1  |0          |0      |0      |0      |0        |0        |0   |0     |0      |1     |0       |0     |0     |(20,[0,6,16],[1.0,1.0,1.0])                    |\n",
            "|1     |5     |0    |1      |0       |0        |0    |0  |0          |0      |0      |0      |0        |0        |0   |0     |1      |0     |0       |1     |0     |(20,[0,2,15,18],[1.0,1.0,1.0,1.0])             |\n",
            "|1     |5     |0    |0      |0       |0        |0    |0  |0          |0      |0      |0      |0        |0        |0   |0     |0      |1     |0       |0     |0     |(20,[0,16],[1.0,1.0])                          |\n",
            "|1     |3     |0    |0      |0       |0        |0    |0  |0          |0      |0      |0      |0        |0        |0   |0     |0      |1     |0       |0     |0     |(20,[0,16],[1.0,1.0])                          |\n",
            "|1     |5     |0    |0      |0       |1        |0    |0  |0          |0      |0      |0      |0        |0        |0   |0     |0      |1     |0       |0     |0     |(20,[0,4,16],[1.0,1.0,1.0])                    |\n",
            "|1     |4     |0    |0      |0       |0        |1    |0  |0          |0      |0      |0      |0        |0        |0   |0     |0      |1     |0       |0     |0     |(20,[0,5,16],[1.0,1.0,1.0])                    |\n",
            "|1     |5     |0    |0      |0       |1        |0    |0  |0          |0      |0      |0      |0        |0        |0   |0     |0      |0     |0       |1     |1     |(20,[0,4,18,19],[1.0,1.0,1.0,1.0])             |\n",
            "|1     |3     |1    |0      |1       |0        |1    |0  |0          |0      |0      |0      |0        |0        |0   |0     |0      |1     |0       |0     |0     |(20,[0,1,3,5,16],[1.0,1.0,1.0,1.0,1.0])        |\n",
            "|1     |3     |0    |0      |0       |1        |0    |0  |0          |0      |0      |0      |0        |0        |0   |0     |0      |0     |0       |1     |1     |(20,[0,4,18,19],[1.0,1.0,1.0,1.0])             |\n",
            "|1     |5     |0    |0      |0       |0        |0    |0  |0          |0      |0      |0      |0        |0        |0   |0     |0      |1     |0       |0     |0     |(20,[0,16],[1.0,1.0])                          |\n",
            "|1     |4     |1    |0      |1       |0        |1    |0  |0          |0      |0      |0      |0        |0        |0   |0     |0      |0     |0       |1     |0     |(20,[0,1,3,5,18],[1.0,1.0,1.0,1.0,1.0])        |\n",
            "+------+------+-----+-------+--------+---------+-----+---+-----------+-------+-------+-------+---------+---------+----+------+-------+------+--------+------+------+-----------------------------------------------+\n",
            "only showing top 20 rows\n",
            "\n"
          ]
        }
      ]
    },
    {
      "cell_type": "code",
      "source": [
        " movies_ratings_df1.select('user_details').show(truncate = False)"
      ],
      "metadata": {
        "id": "5ZOCCPy_YhwA",
        "outputId": "ec6f1c6e-dd82-4b52-a9bb-3b4c3d4decd2",
        "colab": {
          "base_uri": "https://localhost:8080/"
        }
      },
      "execution_count": 48,
      "outputs": [
        {
          "output_type": "stream",
          "name": "stdout",
          "text": [
            "+-----------------------------------------------+\n",
            "|user_details                                   |\n",
            "+-----------------------------------------------+\n",
            "|(20,[0,4,8,11,16,17],[1.0,1.0,1.0,1.0,1.0,1.0])|\n",
            "|(20,[0,2,16],[1.0,1.0,1.0])                    |\n",
            "|(20,[0,1,3,18],[1.0,1.0,1.0,1.0])              |\n",
            "|(20,[0,3,9],[1.0,1.0,1.0])                     |\n",
            "|(20,[0,1,3,9],[1.0,1.0,1.0,1.0])               |\n",
            "|(20,[0,3,14,16,18],[1.0,1.0,1.0,1.0,1.0])      |\n",
            "|(20,[0,1,2,4,16],[1.0,1.0,1.0,1.0,1.0])        |\n",
            "|(20,[0,5,6,18],[1.0,1.0,1.0,1.0])              |\n",
            "|(20,[0,2,5,6,18],[1.0,1.0,1.0,1.0,1.0])        |\n",
            "|(20,[0,6,16],[1.0,1.0,1.0])                    |\n",
            "|(20,[0,2,15,18],[1.0,1.0,1.0,1.0])             |\n",
            "|(20,[0,16],[1.0,1.0])                          |\n",
            "|(20,[0,16],[1.0,1.0])                          |\n",
            "|(20,[0,4,16],[1.0,1.0,1.0])                    |\n",
            "|(20,[0,5,16],[1.0,1.0,1.0])                    |\n",
            "|(20,[0,4,18,19],[1.0,1.0,1.0,1.0])             |\n",
            "|(20,[0,1,3,5,16],[1.0,1.0,1.0,1.0,1.0])        |\n",
            "|(20,[0,4,18,19],[1.0,1.0,1.0,1.0])             |\n",
            "|(20,[0,16],[1.0,1.0])                          |\n",
            "|(20,[0,1,3,5,18],[1.0,1.0,1.0,1.0,1.0])        |\n",
            "+-----------------------------------------------+\n",
            "only showing top 20 rows\n",
            "\n"
          ]
        }
      ]
    },
    {
      "cell_type": "code",
      "source": [
        "movie_data_training = movies_ratings_df1.select('rating','user_details')\n",
        "movie_data_training.show(truncate = False)"
      ],
      "metadata": {
        "id": "LwfhP0_6YnFo",
        "outputId": "9b893d77-eb61-4e64-a57c-3c3d15293edf",
        "colab": {
          "base_uri": "https://localhost:8080/"
        }
      },
      "execution_count": 49,
      "outputs": [
        {
          "output_type": "stream",
          "name": "stdout",
          "text": [
            "+------+-----------------------------------------------+\n",
            "|rating|user_details                                   |\n",
            "+------+-----------------------------------------------+\n",
            "|4     |(20,[0,4,8,11,16,17],[1.0,1.0,1.0,1.0,1.0,1.0])|\n",
            "|4     |(20,[0,2,16],[1.0,1.0,1.0])                    |\n",
            "|4     |(20,[0,1,3,18],[1.0,1.0,1.0,1.0])              |\n",
            "|5     |(20,[0,3,9],[1.0,1.0,1.0])                     |\n",
            "|5     |(20,[0,1,3,9],[1.0,1.0,1.0,1.0])               |\n",
            "|3     |(20,[0,3,14,16,18],[1.0,1.0,1.0,1.0,1.0])      |\n",
            "|5     |(20,[0,1,2,4,16],[1.0,1.0,1.0,1.0,1.0])        |\n",
            "|4     |(20,[0,5,6,18],[1.0,1.0,1.0,1.0])              |\n",
            "|5     |(20,[0,2,5,6,18],[1.0,1.0,1.0,1.0,1.0])        |\n",
            "|5     |(20,[0,6,16],[1.0,1.0,1.0])                    |\n",
            "|5     |(20,[0,2,15,18],[1.0,1.0,1.0,1.0])             |\n",
            "|5     |(20,[0,16],[1.0,1.0])                          |\n",
            "|3     |(20,[0,16],[1.0,1.0])                          |\n",
            "|5     |(20,[0,4,16],[1.0,1.0,1.0])                    |\n",
            "|4     |(20,[0,5,16],[1.0,1.0,1.0])                    |\n",
            "|5     |(20,[0,4,18,19],[1.0,1.0,1.0,1.0])             |\n",
            "|3     |(20,[0,1,3,5,16],[1.0,1.0,1.0,1.0,1.0])        |\n",
            "|3     |(20,[0,4,18,19],[1.0,1.0,1.0,1.0])             |\n",
            "|5     |(20,[0,16],[1.0,1.0])                          |\n",
            "|4     |(20,[0,1,3,5,18],[1.0,1.0,1.0,1.0,1.0])        |\n",
            "+------+-----------------------------------------------+\n",
            "only showing top 20 rows\n",
            "\n"
          ]
        }
      ]
    },
    {
      "cell_type": "code",
      "source": [
        "train_data, test_data = movie_data_training.randomSplit([0.8, 0.2], seed=42)"
      ],
      "metadata": {
        "id": "lwM1jcTiYrzT"
      },
      "execution_count": 50,
      "outputs": []
    },
    {
      "cell_type": "code",
      "source": [
        "train_data.show(truncate = False)\n",
        "train_data.groupBy(\"rating\").count().show()"
      ],
      "metadata": {
        "id": "Xag4VtnBYuoO",
        "outputId": "9ec75a04-c9e2-4995-abb0-236421bae1b9",
        "colab": {
          "base_uri": "https://localhost:8080/"
        }
      },
      "execution_count": 62,
      "outputs": [
        {
          "output_type": "stream",
          "name": "stdout",
          "text": [
            "+------+------------------------------------------------------------+\n",
            "|rating|user_details                                                |\n",
            "+------+------------------------------------------------------------+\n",
            "|0     |(20,[0,1,2,5],[22.0,1.0,1.0,1.0])                           |\n",
            "|0     |(20,[0,1,2,5],[153.0,1.0,1.0,1.0])                          |\n",
            "|0     |(20,[0,1,2,5,8,9,12],[462.0,1.0,1.0,1.0,1.0,1.0,1.0])       |\n",
            "|0     |(20,[0,1,2,5,16],[298.0,1.0,1.0,1.0,1.0])                   |\n",
            "|0     |(20,[0,1,2,9,16],[580.0,1.0,1.0,1.0,1.0])                   |\n",
            "|0     |(20,[0,1,3],[21.0,1.0,1.0])                                 |\n",
            "|0     |(20,[0,1,3,4],[358.0,1.0,1.0,1.0])                          |\n",
            "|0     |(20,[0,1,3,4,14,18],[22.0,1.0,1.0,1.0,1.0,1.0])             |\n",
            "|0     |(20,[0,1,3,4,14,18],[41.0,1.0,1.0,1.0,1.0,1.0])             |\n",
            "|0     |(20,[0,1,3,4,16,18],[274.0,1.0,1.0,1.0,1.0,1.0])            |\n",
            "|0     |(20,[0,1,3,4,16,18],[438.0,1.0,1.0,1.0,1.0,1.0])            |\n",
            "|0     |(20,[0,1,3,5],[22.0,1.0,1.0,1.0])                           |\n",
            "|0     |(20,[0,1,3,5],[573.0,1.0,1.0,1.0])                          |\n",
            "|0     |(20,[0,1,3,5],[599.0,1.0,1.0,1.0])                          |\n",
            "|0     |(20,[0,1,3,5,8,9],[573.0,1.0,1.0,1.0,1.0,1.0])              |\n",
            "|0     |(20,[0,1,3,5,9],[138.0,1.0,1.0,1.0,1.0])                    |\n",
            "|0     |(20,[0,1,3,5,9],[160.0,1.0,1.0,1.0,1.0])                    |\n",
            "|0     |(20,[0,1,3,5,9],[160.0,1.0,1.0,1.0,1.0])                    |\n",
            "|0     |(20,[0,1,3,5,9,13,18,19],[41.0,1.0,1.0,1.0,1.0,1.0,1.0,1.0])|\n",
            "|0     |(20,[0,1,3,5,9,18],[22.0,1.0,1.0,1.0,1.0,1.0])              |\n",
            "+------+------------------------------------------------------------+\n",
            "only showing top 20 rows\n",
            "\n",
            "+------+-----+\n",
            "|rating|count|\n",
            "+------+-----+\n",
            "|     1| 3688|\n",
            "|     3|26408|\n",
            "|     5|10585|\n",
            "|     4|28229|\n",
            "|     2|10485|\n",
            "|     0| 1132|\n",
            "+------+-----+\n",
            "\n"
          ]
        }
      ]
    },
    {
      "cell_type": "code",
      "source": [
        "test_data.show(truncate = False)\n",
        "test_data.groupBy(\"rating\").count().show()"
      ],
      "metadata": {
        "id": "xQXqOVzTYwwi",
        "outputId": "4742f96c-10ae-4843-f808-f561d2aa43d8",
        "colab": {
          "base_uri": "https://localhost:8080/"
        }
      },
      "execution_count": 63,
      "outputs": [
        {
          "output_type": "stream",
          "name": "stdout",
          "text": [
            "+------+------------------------------------------------+\n",
            "|rating|user_details                                    |\n",
            "+------+------------------------------------------------+\n",
            "|0     |(20,[0,1,2,5],[159.0,1.0,1.0,1.0])              |\n",
            "|0     |(20,[0,1,2,16],[307.0,1.0,1.0,1.0])             |\n",
            "|0     |(20,[0,1,3],[517.0,1.0,1.0])                    |\n",
            "|0     |(20,[0,1,3,4,16,18],[310.0,1.0,1.0,1.0,1.0,1.0])|\n",
            "|0     |(20,[0,1,3,5,9],[51.0,1.0,1.0,1.0,1.0])         |\n",
            "|0     |(20,[0,1,3,5,9],[298.0,1.0,1.0,1.0,1.0])        |\n",
            "|0     |(20,[0,1,3,5,16],[159.0,1.0,1.0,1.0,1.0])       |\n",
            "|0     |(20,[0,1,3,5,18],[393.0,1.0,1.0,1.0,1.0])       |\n",
            "|0     |(20,[0,1,3,9,12,18],[393.0,1.0,1.0,1.0,1.0,1.0])|\n",
            "|0     |(20,[0,1,3,9,14],[477.0,1.0,1.0,1.0,1.0])       |\n",
            "|0     |(20,[0,1,3,9,14],[599.0,1.0,1.0,1.0,1.0])       |\n",
            "|0     |(20,[0,1,3,9,18,19],[399.0,1.0,1.0,1.0,1.0,1.0])|\n",
            "|0     |(20,[0,1,3,14],[111.0,1.0,1.0,1.0])             |\n",
            "|0     |(20,[0,1,3,14],[489.0,1.0,1.0,1.0])             |\n",
            "|0     |(20,[0,1,3,16,18],[310.0,1.0,1.0,1.0,1.0])      |\n",
            "|0     |(20,[0,1,3,18],[154.0,1.0,1.0,1.0])             |\n",
            "|0     |(20,[0,1,3,18],[551.0,1.0,1.0,1.0])             |\n",
            "|0     |(20,[0,1,5,16],[393.0,1.0,1.0,1.0])             |\n",
            "|0     |(20,[0,1,10,16],[480.0,1.0,1.0,1.0])            |\n",
            "|0     |(20,[0,1,16],[22.0,1.0,1.0])                    |\n",
            "+------+------------------------------------------------+\n",
            "only showing top 20 rows\n",
            "\n",
            "+------+-----+\n",
            "|rating|count|\n",
            "+------+-----+\n",
            "|     1|  911|\n",
            "|     3| 6756|\n",
            "|     5| 2616|\n",
            "|     4| 7117|\n",
            "|     2| 2605|\n",
            "|     0|  234|\n",
            "+------+-----+\n",
            "\n"
          ]
        }
      ]
    },
    {
      "cell_type": "code",
      "source": [
        "from pyspark.ml.classification import RandomForestClassifier\n",
        "\n",
        "rf = RandomForestClassifier(featuresCol=\"user_details\", labelCol=\"rating\",numTrees=20)\n",
        "\n",
        "model = rf.fit(train_data)"
      ],
      "metadata": {
        "id": "bplME3bTY6Je"
      },
      "execution_count": 64,
      "outputs": []
    },
    {
      "cell_type": "code",
      "source": [
        "predictions = model.transform(test_data)"
      ],
      "metadata": {
        "id": "SAZz-7NDY4ig"
      },
      "execution_count": 65,
      "outputs": []
    },
    {
      "cell_type": "code",
      "source": [
        "predictions.show(truncate=False)"
      ],
      "metadata": {
        "id": "Re4c8HGcYyyP",
        "outputId": "517e7734-7ed6-46d4-8b7a-1e14254b13ea",
        "colab": {
          "base_uri": "https://localhost:8080/"
        }
      },
      "execution_count": 66,
      "outputs": [
        {
          "output_type": "stream",
          "name": "stdout",
          "text": [
            "+------+------------------------------------------------+------------------------------------------------------------------------------------------------------------------+---------------------------------------------------------------------------------------------------------------------------+----------+\n",
            "|rating|user_details                                    |rawPrediction                                                                                                     |probability                                                                                                                |prediction|\n",
            "+------+------------------------------------------------+------------------------------------------------------------------------------------------------------------------+---------------------------------------------------------------------------------------------------------------------------+----------+\n",
            "|0     |(20,[0,1,2,5],[159.0,1.0,1.0,1.0])              |[0.20848784162781306,0.5873290271453385,1.9796877763324057,5.921825192251291,7.861458506181975,3.4412116564611788]|[0.010424392081390652,0.029366451357266926,0.09898438881662028,0.29609125961256455,0.39307292530909876,0.17206058282305894]|4.0       |\n",
            "|0     |(20,[0,1,2,16],[307.0,1.0,1.0,1.0])             |[0.32788447458920966,1.1625897450229767,3.0858330610077185,6.83886739749558,6.328683869142641,2.2561414527418737] |[0.016394223729460485,0.05812948725114884,0.15429165305038592,0.341943369874779,0.3164341934571321,0.11280707263709369]    |3.0       |\n",
            "|0     |(20,[0,1,3],[517.0,1.0,1.0])                    |[0.2594898864565227,0.8527836948573777,2.4632226732108653,6.479948130416601,7.162752438509964,2.781803176548671]  |[0.012974494322826135,0.04263918474286889,0.12316113366054326,0.3239974065208301,0.3581376219254982,0.13909015882743353]   |4.0       |\n",
            "|0     |(20,[0,1,3,4,16,18],[310.0,1.0,1.0,1.0,1.0,1.0])|[0.3380416940943163,1.1423589875852316,3.080593185551054,7.006645745173278,6.204393977998605,2.2279664095975114]  |[0.016902084704715818,0.05711794937926159,0.15402965927755272,0.350332287258664,0.31021969889993034,0.11139832047987559]   |3.0       |\n",
            "|0     |(20,[0,1,3,5,9],[51.0,1.0,1.0,1.0,1.0])         |[0.1933329259070972,0.5946620231507574,1.9368582624886401,6.077456691761882,8.017339538435861,3.1803505582557627] |[0.009666646295354858,0.029733101157537866,0.096842913124432,0.30387283458809405,0.40086697692179296,0.15901752791278811]  |4.0       |\n",
            "|0     |(20,[0,1,3,5,9],[298.0,1.0,1.0,1.0,1.0])        |[0.1933329259070972,0.5946620231507574,1.9368582624886401,6.077456691761882,8.017339538435861,3.1803505582557627] |[0.009666646295354858,0.029733101157537866,0.096842913124432,0.30387283458809405,0.40086697692179296,0.15901752791278811]  |4.0       |\n",
            "|0     |(20,[0,1,3,5,16],[159.0,1.0,1.0,1.0,1.0])       |[0.20022316474465907,0.6179453416030152,2.044323405634895,5.9936179563629475,7.853412798188742,3.2904773334657422]|[0.010011158237232953,0.03089726708015076,0.10221617028174475,0.2996808978181474,0.3926706399094371,0.1645238666732871]    |4.0       |\n",
            "|0     |(20,[0,1,3,5,18],[393.0,1.0,1.0,1.0,1.0])       |[0.2114421337433685,0.6347050560189732,2.118246158422909,6.368489461242826,7.6557731860029685,3.0113440045689543] |[0.010572106687168426,0.03173525280094866,0.10591230792114545,0.31842447306214133,0.38278865930014844,0.15056720022844772] |4.0       |\n",
            "|0     |(20,[0,1,3,9,12,18],[393.0,1.0,1.0,1.0,1.0,1.0])|[0.2150619580575439,0.5977071612322475,2.005839210293663,6.18561131812863,7.9746373038887,3.021143048399215]      |[0.010753097902877198,0.029885358061612383,0.10029196051468316,0.30928056590643155,0.3987318651944351,0.1510571524199608]  |4.0       |\n",
            "|0     |(20,[0,1,3,9,14],[477.0,1.0,1.0,1.0,1.0])       |[0.3544177257561375,0.9373615478943857,2.5176938206029575,6.367467287671262,7.033546989074692,2.7895126290005656] |[0.017720886287806874,0.046868077394719286,0.12588469103014788,0.3183733643835631,0.3516773494537346,0.13947563145002828]  |4.0       |\n",
            "|0     |(20,[0,1,3,9,14],[599.0,1.0,1.0,1.0,1.0])       |[0.34122526412285004,1.4118960330555157,3.455931378065037,7.0785468348039515,5.66747042398302,2.0449300659696243] |[0.017061263206142506,0.0705948016527758,0.1727965689032519,0.35392734174019763,0.28337352119915105,0.10224650329848124]   |3.0       |\n",
            "|0     |(20,[0,1,3,9,18,19],[399.0,1.0,1.0,1.0,1.0,1.0])|[0.25432893785235494,0.7322854096068219,2.302971672643512,6.454747109292321,7.374107656905395,2.881559213699595]  |[0.012716446892617746,0.03661427048034109,0.11514858363217559,0.32273735546461607,0.36870538284526977,0.14407796068497974] |4.0       |\n",
            "|0     |(20,[0,1,3,14],[111.0,1.0,1.0,1.0])             |[0.30771617653761846,0.9493696314215938,2.679096654369461,6.374840088552932,6.851918526490222,2.837058922628174]  |[0.015385808826880922,0.04746848157107969,0.13395483271847305,0.3187420044276466,0.3425959263245111,0.1418529461314087]    |4.0       |\n",
            "|0     |(20,[0,1,3,14],[489.0,1.0,1.0,1.0])             |[0.30771617653761846,0.9493696314215938,2.679096654369461,6.374840088552932,6.851918526490222,2.837058922628174]  |[0.015385808826880922,0.04746848157107969,0.13395483271847305,0.3187420044276466,0.3425959263245111,0.1418529461314087]    |4.0       |\n",
            "|0     |(20,[0,1,3,16,18],[310.0,1.0,1.0,1.0,1.0])      |[0.34788101688833206,1.166668984455293,3.105007682433718,7.023456154734339,6.156483598506489,2.2005025629818276]  |[0.017394050844416604,0.058333449222764656,0.1552503841216859,0.35117280773671694,0.30782417992532446,0.11002512814909138] |3.0       |\n",
            "|0     |(20,[0,1,3,18],[154.0,1.0,1.0,1.0])             |[0.2724125856730397,0.9129419937438504,2.6502979313043555,6.885228097663247,6.758609557648707,2.520509833966801]  |[0.013620629283651986,0.04564709968719252,0.13251489656521778,0.34426140488316237,0.33793047788243535,0.12602549169834004] |3.0       |\n",
            "|0     |(20,[0,1,3,18],[551.0,1.0,1.0,1.0])             |[0.2724125856730397,0.9129419937438504,2.6502979313043555,6.885228097663247,6.758609557648707,2.520509833966801]  |[0.013620629283651986,0.04564709968719252,0.13251489656521778,0.34426140488316237,0.33793047788243535,0.12602549169834004] |3.0       |\n",
            "|0     |(20,[0,1,5,16],[393.0,1.0,1.0,1.0])             |[0.20662341288669947,0.625522349543071,2.0432426187127635,6.048176705334634,7.887211638626638,3.1892232748961935] |[0.010331170644334973,0.031276117477153545,0.10216213093563817,0.3024088352667317,0.39436058193133194,0.15946116374480968] |4.0       |\n",
            "|0     |(20,[0,1,10,16],[480.0,1.0,1.0,1.0])            |[0.3219094933123354,1.0801602018015486,2.8824618781098557,7.01153297215035,6.305822375554462,2.398113079071448]   |[0.016095474665616772,0.05400801009007743,0.14412309390549277,0.3505766486075175,0.3152911187777231,0.1199056539535724]    |3.0       |\n",
            "|0     |(20,[0,1,16],[22.0,1.0,1.0])                    |[0.3345120088080963,1.1349638319598103,3.03708829454459,6.778091070989171,6.338137032533745,2.377207761164587]    |[0.016725600440404814,0.056748191597990515,0.1518544147272295,0.33890455354945853,0.31690685162668725,0.11886038805822936] |3.0       |\n",
            "+------+------------------------------------------------+------------------------------------------------------------------------------------------------------------------+---------------------------------------------------------------------------------------------------------------------------+----------+\n",
            "only showing top 20 rows\n",
            "\n"
          ]
        }
      ]
    },
    {
      "cell_type": "code",
      "source": [
        "predictions.groupBy('prediction').count().show()"
      ],
      "metadata": {
        "id": "XmK-AYGLMD_d",
        "outputId": "9cddd8ac-58ec-44d7-c644-c6aec4f0c237",
        "colab": {
          "base_uri": "https://localhost:8080/"
        }
      },
      "execution_count": 67,
      "outputs": [
        {
          "output_type": "stream",
          "name": "stdout",
          "text": [
            "+----------+-----+\n",
            "|prediction|count|\n",
            "+----------+-----+\n",
            "|       4.0|12768|\n",
            "|       3.0| 7471|\n",
            "+----------+-----+\n",
            "\n"
          ]
        }
      ]
    },
    {
      "cell_type": "code",
      "source": [
        "from pyspark.ml.evaluation import MulticlassClassificationEvaluator\n",
        "evaluator = MulticlassClassificationEvaluator(\n",
        "    labelCol=\"rating\",\n",
        "    predictionCol=\"prediction\",\n",
        "    metricName=\"accuracy\"\n",
        ")\n",
        "accuracy = evaluator.evaluate(predictions)\n",
        "print(accuracy)"
      ],
      "metadata": {
        "id": "wA8Aglz0nbd4",
        "outputId": "f4438f80-18e1-445b-efb7-b36648e8558d",
        "colab": {
          "base_uri": "https://localhost:8080/"
        }
      },
      "execution_count": 69,
      "outputs": [
        {
          "output_type": "stream",
          "name": "stdout",
          "text": [
            "0.37926775038292404\n"
          ]
        }
      ]
    },
    {
      "cell_type": "code",
      "source": [
        "from pyspark.ml.regression import RandomForestRegressor\n",
        "dt = RandomForestRegressor(\n",
        "    featuresCol=\"user_details\",\n",
        "    labelCol=\"rating\"\n",
        ")\n",
        "\n",
        "dt_model = dt.fit(train_data)"
      ],
      "metadata": {
        "id": "EwtB7a2vn83B"
      },
      "execution_count": 78,
      "outputs": []
    },
    {
      "cell_type": "code",
      "source": [
        "dt_predictions =dt_model.transform(test_data)"
      ],
      "metadata": {
        "id": "2vo-E_ZeoHT-"
      },
      "execution_count": 79,
      "outputs": []
    },
    {
      "cell_type": "code",
      "source": [
        "dt_predictions.show()"
      ],
      "metadata": {
        "id": "WRzFiOmkzGDA",
        "outputId": "367653a2-8532-46ea-a8cd-86a97ec6ade5",
        "colab": {
          "base_uri": "https://localhost:8080/"
        }
      },
      "execution_count": 81,
      "outputs": [
        {
          "output_type": "stream",
          "name": "stdout",
          "text": [
            "+------+--------------------+------------------+\n",
            "|rating|        user_details|        prediction|\n",
            "+------+--------------------+------------------+\n",
            "|     0|(20,[0,1,2,5],[15...|3.5994130115648915|\n",
            "|     0|(20,[0,1,2,16],[3...| 3.145741202671794|\n",
            "|     0|(20,[0,1,3],[517....|3.4220843522784725|\n",
            "|     0|(20,[0,1,3,4,16,1...|3.1235446137990985|\n",
            "|     0|(20,[0,1,3,5,9],[...|3.5500368153389963|\n",
            "|     0|(20,[0,1,3,5,9],[...| 3.533358205967648|\n",
            "|     0|(20,[0,1,3,5,16],...| 3.617680791464584|\n",
            "|     0|(20,[0,1,3,5,18],...|3.5007354083360864|\n",
            "|     0|(20,[0,1,3,9,12,1...|3.4708277021634637|\n",
            "|     0|(20,[0,1,3,9,14],...|  3.43574196091336|\n",
            "|     0|(20,[0,1,3,9,14],...|3.2294246873310684|\n",
            "|     0|(20,[0,1,3,9,18,1...| 3.400370448785888|\n",
            "|     0|(20,[0,1,3,14],[1...|3.4306476245509336|\n",
            "|     0|(20,[0,1,3,14],[4...| 3.439115334929464|\n",
            "|     0|(20,[0,1,3,16,18]...|3.0888253269171266|\n",
            "|     0|(20,[0,1,3,18],[1...| 3.322083210797575|\n",
            "|     0|(20,[0,1,3,18],[5...|3.3072621731302894|\n",
            "|     0|(20,[0,1,5,16],[3...| 3.523941830574118|\n",
            "|     0|(20,[0,1,10,16],[...|3.2030703062161563|\n",
            "|     0|(20,[0,1,16],[22....|3.2752340635506116|\n",
            "+------+--------------------+------------------+\n",
            "only showing top 20 rows\n",
            "\n"
          ]
        }
      ]
    },
    {
      "cell_type": "code",
      "source": [
        "from pyspark.ml.evaluation import MulticlassClassificationEvaluator\n",
        "evaluator = MulticlassClassificationEvaluator(\n",
        "    labelCol=\"rating\",\n",
        "    predictionCol=\"prediction\",\n",
        "    metricName=\"accuracy\"\n",
        ")\n",
        "accuracy = evaluator.evaluate(dt_predictions)\n",
        "print(accuracy)"
      ],
      "metadata": {
        "id": "Qclg7J8bopIy",
        "outputId": "fc8214d2-4ed6-42d5-f81f-1ca9d87b5c36",
        "colab": {
          "base_uri": "https://localhost:8080/"
        }
      },
      "execution_count": 80,
      "outputs": [
        {
          "output_type": "stream",
          "name": "stdout",
          "text": [
            "0.0\n"
          ]
        }
      ]
    },
    {
      "cell_type": "code",
      "source": [
        "model.save(\"logistic_regression_recommendation\")"
      ],
      "metadata": {
        "id": "SXlY_dJoCVGw"
      },
      "execution_count": 66,
      "outputs": []
    },
    {
      "cell_type": "code",
      "source": [
        "from pyspark.ml.classification import LogisticRegressionModel\n",
        "model1 = LogisticRegressionModel.load(\"/content/logistic_regression_recommendation\")"
      ],
      "metadata": {
        "id": "0yUynDbNCsAJ"
      },
      "execution_count": 67,
      "outputs": []
    },
    {
      "cell_type": "code",
      "source": [
        "user_id = 148\n",
        "generes = ['Action','Adventure','Thriller']"
      ],
      "metadata": {
        "id": "dPVmcbJXY7L_"
      },
      "execution_count": 68,
      "outputs": []
    },
    {
      "cell_type": "code",
      "source": [
        "d ={}\n",
        "\n",
        "for i in range(l):\n",
        "    d[genres_list[i][0]] = i+1\n",
        "\n",
        "print(d)\n",
        "\n"
      ],
      "metadata": {
        "id": "Irs6j0uWY-Nj",
        "outputId": "e8cf5ea3-3d8d-47b9-fc38-d922da3d1fbe",
        "colab": {
          "base_uri": "https://localhost:8080/"
        }
      },
      "execution_count": 69,
      "outputs": [
        {
          "output_type": "stream",
          "name": "stdout",
          "text": [
            "{'Crime': 1, 'Romance': 2, 'Thriller': 3, 'Adventure': 4, 'Drama': 5, 'War': 6, 'Documentary': 7, 'Fantasy': 8, 'Mystery': 9, 'Musical': 10, 'Animation': 11, 'Film-Noir': 12, 'IMAX': 13, 'Horror': 14, 'Western': 15, 'Comedy': 16, 'Children': 17, 'Action': 18, 'Sci-Fi': 19}\n"
          ]
        }
      ]
    },
    {
      "cell_type": "code",
      "source": [
        "details = [0]*20\n",
        "print(details)"
      ],
      "metadata": {
        "id": "92g2JMO-ZATg",
        "outputId": "440f350c-cfb5-46f3-a52c-0c05ed6bb564",
        "colab": {
          "base_uri": "https://localhost:8080/"
        }
      },
      "execution_count": 70,
      "outputs": [
        {
          "output_type": "stream",
          "name": "stdout",
          "text": [
            "[0, 0, 0, 0, 0, 0, 0, 0, 0, 0, 0, 0, 0, 0, 0, 0, 0, 0, 0, 0]\n"
          ]
        }
      ]
    },
    {
      "cell_type": "code",
      "source": [
        "details[0] = 148\n",
        "\n",
        "for i in generes:\n",
        "    details[d.get(i)] = 1\n",
        "\n",
        "print(details)"
      ],
      "metadata": {
        "id": "4NkrokoSZBDE",
        "outputId": "4396a1fd-8af3-4e8c-a9a7-b2c26cf78a98",
        "colab": {
          "base_uri": "https://localhost:8080/"
        }
      },
      "execution_count": 71,
      "outputs": [
        {
          "output_type": "stream",
          "name": "stdout",
          "text": [
            "[148, 0, 0, 1, 1, 0, 0, 0, 0, 0, 0, 0, 0, 0, 0, 0, 0, 0, 1, 0]\n"
          ]
        }
      ]
    },
    {
      "cell_type": "code",
      "source": [
        "from pyspark.sql.types import IntegerType,StructType,StructField\n",
        "schema = StructType(\n",
        "    [\n",
        "        StructField('userId',IntegerType()),\n",
        "        StructField('Crime',IntegerType()),\n",
        "        StructField('Romance',IntegerType()),\n",
        "        StructField('Thriller',IntegerType()),\n",
        "        StructField('Adventure',IntegerType()),\n",
        "        StructField('Drama',IntegerType()),\n",
        "        StructField('War',IntegerType()),\n",
        "        StructField('Documentary',IntegerType()),\n",
        "        StructField('Fantasy',IntegerType()),\n",
        "        StructField('Mystery',IntegerType()),\n",
        "        StructField('Musical',IntegerType()),\n",
        "        StructField('Animation',IntegerType()),\n",
        "        StructField('Film-Noir',IntegerType()),\n",
        "        StructField('IMAX',IntegerType()),\n",
        "        StructField('Horror',IntegerType()),\n",
        "        StructField('Western',IntegerType()),\n",
        "        StructField('Comedy',IntegerType()),\n",
        "        StructField('Children',IntegerType()),\n",
        "        StructField('Action',IntegerType()),\n",
        "        StructField('Sci-Fi',IntegerType())\n",
        "    ]\n",
        ")"
      ],
      "metadata": {
        "id": "Adc4CriKZCso"
      },
      "execution_count": 78,
      "outputs": []
    },
    {
      "cell_type": "code",
      "source": [
        "data = tuple(details)\n",
        "print(data)"
      ],
      "metadata": {
        "id": "FfWrhjTXZFiZ",
        "outputId": "19b2b7df-ae7b-4835-fb9c-0828008395ec",
        "colab": {
          "base_uri": "https://localhost:8080/"
        }
      },
      "execution_count": 85,
      "outputs": [
        {
          "output_type": "stream",
          "name": "stdout",
          "text": [
            "(148, 0, 0, 1, 1, 0, 0, 0, 0, 0, 0, 0, 0, 0, 0, 0, 0, 0, 1, 0)\n"
          ]
        }
      ]
    },
    {
      "cell_type": "code",
      "source": [
        "df = spark.createDataFrame([data],schema=schema)\n",
        "df.show()"
      ],
      "metadata": {
        "id": "hRQXZa16ZHU_",
        "outputId": "c145ad0c-e1dd-4167-a5c3-bdf997fe7221",
        "colab": {
          "base_uri": "https://localhost:8080/"
        }
      },
      "execution_count": 86,
      "outputs": [
        {
          "output_type": "stream",
          "name": "stdout",
          "text": [
            "+------+-----+-------+--------+---------+-----+---+-----------+-------+-------+-------+---------+---------+----+------+-------+------+--------+------+------+\n",
            "|userId|Crime|Romance|Thriller|Adventure|Drama|War|Documentary|Fantasy|Mystery|Musical|Animation|Film-Noir|IMAX|Horror|Western|Comedy|Children|Action|Sci-Fi|\n",
            "+------+-----+-------+--------+---------+-----+---+-----------+-------+-------+-------+---------+---------+----+------+-------+------+--------+------+------+\n",
            "|   148|    0|      0|       1|        1|    0|  0|          0|      0|      0|      0|        0|        0|   0|     0|      0|     0|       0|     1|     0|\n",
            "+------+-----+-------+--------+---------+-----+---+-----------+-------+-------+-------+---------+---------+----+------+-------+------+--------+------+------+\n",
            "\n"
          ]
        }
      ]
    },
    {
      "cell_type": "code",
      "source": [
        "from pyspark.ml.feature import VectorAssembler\n",
        "\n",
        "\n",
        "assembler = VectorAssembler(inputCols = ['userId','Crime','Romance','Thriller','Adventure','Drama','War','Documentary','Fantasy','Mystery','Musical','Animation','Film-Noir','IMAX','Horror','Western','Comedy','Children','Action','Sci-Fi'],outputCol = 'user_details')\n",
        "\n",
        "df = assembler.transform(df)\n",
        "\n",
        "df.show(truncate = False)"
      ],
      "metadata": {
        "id": "YFqcTuDcZJKa",
        "outputId": "0e8d024a-b334-45ca-862b-da7ded0574f6",
        "colab": {
          "base_uri": "https://localhost:8080/"
        }
      },
      "execution_count": 87,
      "outputs": [
        {
          "output_type": "stream",
          "name": "stdout",
          "text": [
            "+------+-----+-------+--------+---------+-----+---+-----------+-------+-------+-------+---------+---------+----+------+-------+------+--------+------+------+-----------------------------------+\n",
            "|userId|Crime|Romance|Thriller|Adventure|Drama|War|Documentary|Fantasy|Mystery|Musical|Animation|Film-Noir|IMAX|Horror|Western|Comedy|Children|Action|Sci-Fi|user_details                       |\n",
            "+------+-----+-------+--------+---------+-----+---+-----------+-------+-------+-------+---------+---------+----+------+-------+------+--------+------+------+-----------------------------------+\n",
            "|148   |0    |0      |1       |1        |0    |0  |0          |0      |0      |0      |0        |0        |0   |0     |0      |0     |0       |1     |0     |(20,[0,3,4,18],[148.0,1.0,1.0,1.0])|\n",
            "+------+-----+-------+--------+---------+-----+---+-----------+-------+-------+-------+---------+---------+----+------+-------+------+--------+------+------+-----------------------------------+\n",
            "\n"
          ]
        }
      ]
    },
    {
      "cell_type": "code",
      "source": [
        "x = df.select('user_details')\n",
        "x.show()"
      ],
      "metadata": {
        "id": "5LuQMGgEZLFy",
        "outputId": "f66b1c82-91b9-4b18-9bce-d8e1cd3150f7",
        "colab": {
          "base_uri": "https://localhost:8080/"
        }
      },
      "execution_count": 88,
      "outputs": [
        {
          "output_type": "stream",
          "name": "stdout",
          "text": [
            "+--------------------+\n",
            "|        user_details|\n",
            "+--------------------+\n",
            "|(20,[0,3,4,18],[1...|\n",
            "+--------------------+\n",
            "\n"
          ]
        }
      ]
    },
    {
      "cell_type": "code",
      "source": [
        "prediction_1 = model1.transform(x)"
      ],
      "metadata": {
        "id": "uHWe9XruZP5i"
      },
      "execution_count": 89,
      "outputs": []
    },
    {
      "cell_type": "code",
      "source": [
        "prediction_1.show(truncate = False)"
      ],
      "metadata": {
        "id": "QZAAPtD9ZNHF",
        "outputId": "5a8dca3c-5809-43e9-c3b8-d7a7182fa1bf",
        "colab": {
          "base_uri": "https://localhost:8080/"
        }
      },
      "execution_count": 90,
      "outputs": [
        {
          "output_type": "stream",
          "name": "stdout",
          "text": [
            "+-----------------------------------+---------------------------------------------------------------------------------------------------------------------+---------------------------------------------------------------------------------------------------------------------+----------+\n",
            "|user_details                       |rawPrediction                                                                                                        |probability                                                                                                          |prediction|\n",
            "+-----------------------------------+---------------------------------------------------------------------------------------------------------------------+---------------------------------------------------------------------------------------------------------------------+----------+\n",
            "|(20,[0,3,4,18],[148.0,1.0,1.0,1.0])|[-1.84208195762524,-0.6892472122680454,0.2508165899346523,1.217662518368797,1.0672835565617929,-0.004433494971956581]|[0.01717488456683451,0.05439557792658407,0.13926055357796485,0.3662047462903687,0.31507592176897,0.10788831586927801]|3.0       |\n",
            "+-----------------------------------+---------------------------------------------------------------------------------------------------------------------+---------------------------------------------------------------------------------------------------------------------+----------+\n",
            "\n"
          ]
        }
      ]
    },
    {
      "cell_type": "code",
      "source": [
        "unique_user_id = movies_ratings_df.select(movies_ratings_df.userId)\n",
        "unique_user_id.show()"
      ],
      "metadata": {
        "id": "iUpCnRUr3jMI",
        "outputId": "3ab5ad03-64a6-47e2-aa60-f510df5b290c",
        "colab": {
          "base_uri": "https://localhost:8080/"
        }
      },
      "execution_count": 91,
      "outputs": [
        {
          "output_type": "stream",
          "name": "stdout",
          "text": [
            "+------+\n",
            "|userId|\n",
            "+------+\n",
            "|     1|\n",
            "|     1|\n",
            "|     1|\n",
            "|     1|\n",
            "|     1|\n",
            "|     1|\n",
            "|     1|\n",
            "|     1|\n",
            "|     1|\n",
            "|     1|\n",
            "|     1|\n",
            "|     1|\n",
            "|     1|\n",
            "|     1|\n",
            "|     1|\n",
            "|     1|\n",
            "|     1|\n",
            "|     1|\n",
            "|     1|\n",
            "|     1|\n",
            "+------+\n",
            "only showing top 20 rows\n",
            "\n"
          ]
        }
      ]
    },
    {
      "cell_type": "code",
      "source": [
        "unique_user_id = unique_user_id.distinct()\n",
        "unique_user_id.show()"
      ],
      "metadata": {
        "id": "KfhmSCkaFIYq",
        "outputId": "8b2052ac-cd26-4ec4-f831-ef9756dee40d",
        "colab": {
          "base_uri": "https://localhost:8080/"
        }
      },
      "execution_count": 92,
      "outputs": [
        {
          "output_type": "stream",
          "name": "stdout",
          "text": [
            "+------+\n",
            "|userId|\n",
            "+------+\n",
            "|   148|\n",
            "|   463|\n",
            "|   471|\n",
            "|   496|\n",
            "|   833|\n",
            "|  1088|\n",
            "|  1238|\n",
            "|  1342|\n",
            "|  1580|\n",
            "|  1591|\n",
            "|  1645|\n",
            "|  1829|\n",
            "|  1959|\n",
            "|  2122|\n",
            "|  2142|\n",
            "|  2366|\n",
            "|  2659|\n",
            "|  2866|\n",
            "|  3175|\n",
            "|  3749|\n",
            "+------+\n",
            "only showing top 20 rows\n",
            "\n"
          ]
        }
      ]
    },
    {
      "cell_type": "code",
      "source": [
        "users_list = unique_user_id.collect()"
      ],
      "metadata": {
        "id": "shrEe1q0GyIL"
      },
      "execution_count": 93,
      "outputs": []
    },
    {
      "cell_type": "code",
      "source": [
        "ul = len(users_list)\n",
        "print(ul)"
      ],
      "metadata": {
        "id": "-EMFVziRG5fq",
        "outputId": "bd59eea0-647d-4dca-cda8-a2e9e2e303cb",
        "colab": {
          "base_uri": "https://localhost:8080/"
        }
      },
      "execution_count": 94,
      "outputs": [
        {
          "output_type": "stream",
          "name": "stdout",
          "text": [
            "200948\n"
          ]
        }
      ]
    },
    {
      "cell_type": "code",
      "source": [
        "details = [0]*20\n",
        "for i in generes:\n",
        "    details[d.get(i)] = 1\n",
        "\n",
        "print(details)\n"
      ],
      "metadata": {
        "id": "09-B85G6JUgL",
        "outputId": "1b85e300-090c-4938-824b-db5ca70d548a",
        "colab": {
          "base_uri": "https://localhost:8080/"
        }
      },
      "execution_count": 97,
      "outputs": [
        {
          "output_type": "stream",
          "name": "stdout",
          "text": [
            "[0, 0, 0, 1, 1, 0, 0, 0, 0, 0, 0, 0, 0, 0, 0, 0, 0, 0, 1, 0]\n"
          ]
        }
      ]
    },
    {
      "cell_type": "code",
      "source": [
        "x = []\n",
        "for i in users_list:\n",
        "  details[0] = i[0]\n",
        "  x.append(tuple(details))\n"
      ],
      "metadata": {
        "id": "z0Wgemk2Hc0G"
      },
      "execution_count": 100,
      "outputs": []
    },
    {
      "cell_type": "code",
      "source": [
        "print(x[1])"
      ],
      "metadata": {
        "id": "H-BAOJAKJ_Xi",
        "outputId": "9652c5e7-d451-4dc6-d0e9-51998e851d1e",
        "colab": {
          "base_uri": "https://localhost:8080/"
        }
      },
      "execution_count": 102,
      "outputs": [
        {
          "output_type": "stream",
          "name": "stdout",
          "text": [
            "(463, 0, 0, 1, 1, 0, 0, 0, 0, 0, 0, 0, 0, 0, 0, 0, 0, 0, 1, 0)\n"
          ]
        }
      ]
    },
    {
      "cell_type": "code",
      "source": [
        "df = spark.createDataFrame(x,schema=schema)\n",
        "df.show()"
      ],
      "metadata": {
        "id": "r3C5ngseKGjV",
        "outputId": "72a0903b-615d-4992-d005-a007c0fe824a",
        "colab": {
          "base_uri": "https://localhost:8080/"
        }
      },
      "execution_count": 103,
      "outputs": [
        {
          "output_type": "stream",
          "name": "stdout",
          "text": [
            "+------+-----+-------+--------+---------+-----+---+-----------+-------+-------+-------+---------+---------+----+------+-------+------+--------+------+------+\n",
            "|userId|Crime|Romance|Thriller|Adventure|Drama|War|Documentary|Fantasy|Mystery|Musical|Animation|Film-Noir|IMAX|Horror|Western|Comedy|Children|Action|Sci-Fi|\n",
            "+------+-----+-------+--------+---------+-----+---+-----------+-------+-------+-------+---------+---------+----+------+-------+------+--------+------+------+\n",
            "|   148|    0|      0|       1|        1|    0|  0|          0|      0|      0|      0|        0|        0|   0|     0|      0|     0|       0|     1|     0|\n",
            "|   463|    0|      0|       1|        1|    0|  0|          0|      0|      0|      0|        0|        0|   0|     0|      0|     0|       0|     1|     0|\n",
            "|   471|    0|      0|       1|        1|    0|  0|          0|      0|      0|      0|        0|        0|   0|     0|      0|     0|       0|     1|     0|\n",
            "|   496|    0|      0|       1|        1|    0|  0|          0|      0|      0|      0|        0|        0|   0|     0|      0|     0|       0|     1|     0|\n",
            "|   833|    0|      0|       1|        1|    0|  0|          0|      0|      0|      0|        0|        0|   0|     0|      0|     0|       0|     1|     0|\n",
            "|  1088|    0|      0|       1|        1|    0|  0|          0|      0|      0|      0|        0|        0|   0|     0|      0|     0|       0|     1|     0|\n",
            "|  1238|    0|      0|       1|        1|    0|  0|          0|      0|      0|      0|        0|        0|   0|     0|      0|     0|       0|     1|     0|\n",
            "|  1342|    0|      0|       1|        1|    0|  0|          0|      0|      0|      0|        0|        0|   0|     0|      0|     0|       0|     1|     0|\n",
            "|  1580|    0|      0|       1|        1|    0|  0|          0|      0|      0|      0|        0|        0|   0|     0|      0|     0|       0|     1|     0|\n",
            "|  1591|    0|      0|       1|        1|    0|  0|          0|      0|      0|      0|        0|        0|   0|     0|      0|     0|       0|     1|     0|\n",
            "|  1645|    0|      0|       1|        1|    0|  0|          0|      0|      0|      0|        0|        0|   0|     0|      0|     0|       0|     1|     0|\n",
            "|  1829|    0|      0|       1|        1|    0|  0|          0|      0|      0|      0|        0|        0|   0|     0|      0|     0|       0|     1|     0|\n",
            "|  1959|    0|      0|       1|        1|    0|  0|          0|      0|      0|      0|        0|        0|   0|     0|      0|     0|       0|     1|     0|\n",
            "|  2122|    0|      0|       1|        1|    0|  0|          0|      0|      0|      0|        0|        0|   0|     0|      0|     0|       0|     1|     0|\n",
            "|  2142|    0|      0|       1|        1|    0|  0|          0|      0|      0|      0|        0|        0|   0|     0|      0|     0|       0|     1|     0|\n",
            "|  2366|    0|      0|       1|        1|    0|  0|          0|      0|      0|      0|        0|        0|   0|     0|      0|     0|       0|     1|     0|\n",
            "|  2659|    0|      0|       1|        1|    0|  0|          0|      0|      0|      0|        0|        0|   0|     0|      0|     0|       0|     1|     0|\n",
            "|  2866|    0|      0|       1|        1|    0|  0|          0|      0|      0|      0|        0|        0|   0|     0|      0|     0|       0|     1|     0|\n",
            "|  3175|    0|      0|       1|        1|    0|  0|          0|      0|      0|      0|        0|        0|   0|     0|      0|     0|       0|     1|     0|\n",
            "|  3749|    0|      0|       1|        1|    0|  0|          0|      0|      0|      0|        0|        0|   0|     0|      0|     0|       0|     1|     0|\n",
            "+------+-----+-------+--------+---------+-----+---+-----------+-------+-------+-------+---------+---------+----+------+-------+------+--------+------+------+\n",
            "only showing top 20 rows\n",
            "\n"
          ]
        }
      ]
    },
    {
      "cell_type": "code",
      "source": [
        "from pyspark.ml.feature import VectorAssembler\n",
        "\n",
        "\n",
        "assembler = VectorAssembler(inputCols = ['userId','Crime','Romance','Thriller','Adventure','Drama','War','Documentary','Fantasy','Mystery','Musical','Animation','Film-Noir','IMAX','Horror','Western','Comedy','Children','Action','Sci-Fi'],outputCol = 'user_details')\n",
        "\n",
        "df = assembler.transform(df)\n",
        "\n",
        "df.show(truncate = False)"
      ],
      "metadata": {
        "id": "ifv9-R2RKZbj",
        "outputId": "f0ec51de-2cfe-4213-fb17-c19ed4e1d0f1",
        "colab": {
          "base_uri": "https://localhost:8080/"
        }
      },
      "execution_count": 104,
      "outputs": [
        {
          "output_type": "stream",
          "name": "stdout",
          "text": [
            "+------+-----+-------+--------+---------+-----+---+-----------+-------+-------+-------+---------+---------+----+------+-------+------+--------+------+------+------------------------------------+\n",
            "|userId|Crime|Romance|Thriller|Adventure|Drama|War|Documentary|Fantasy|Mystery|Musical|Animation|Film-Noir|IMAX|Horror|Western|Comedy|Children|Action|Sci-Fi|user_details                        |\n",
            "+------+-----+-------+--------+---------+-----+---+-----------+-------+-------+-------+---------+---------+----+------+-------+------+--------+------+------+------------------------------------+\n",
            "|148   |0    |0      |1       |1        |0    |0  |0          |0      |0      |0      |0        |0        |0   |0     |0      |0     |0       |1     |0     |(20,[0,3,4,18],[148.0,1.0,1.0,1.0]) |\n",
            "|463   |0    |0      |1       |1        |0    |0  |0          |0      |0      |0      |0        |0        |0   |0     |0      |0     |0       |1     |0     |(20,[0,3,4,18],[463.0,1.0,1.0,1.0]) |\n",
            "|471   |0    |0      |1       |1        |0    |0  |0          |0      |0      |0      |0        |0        |0   |0     |0      |0     |0       |1     |0     |(20,[0,3,4,18],[471.0,1.0,1.0,1.0]) |\n",
            "|496   |0    |0      |1       |1        |0    |0  |0          |0      |0      |0      |0        |0        |0   |0     |0      |0     |0       |1     |0     |(20,[0,3,4,18],[496.0,1.0,1.0,1.0]) |\n",
            "|833   |0    |0      |1       |1        |0    |0  |0          |0      |0      |0      |0        |0        |0   |0     |0      |0     |0       |1     |0     |(20,[0,3,4,18],[833.0,1.0,1.0,1.0]) |\n",
            "|1088  |0    |0      |1       |1        |0    |0  |0          |0      |0      |0      |0        |0        |0   |0     |0      |0     |0       |1     |0     |(20,[0,3,4,18],[1088.0,1.0,1.0,1.0])|\n",
            "|1238  |0    |0      |1       |1        |0    |0  |0          |0      |0      |0      |0        |0        |0   |0     |0      |0     |0       |1     |0     |(20,[0,3,4,18],[1238.0,1.0,1.0,1.0])|\n",
            "|1342  |0    |0      |1       |1        |0    |0  |0          |0      |0      |0      |0        |0        |0   |0     |0      |0     |0       |1     |0     |(20,[0,3,4,18],[1342.0,1.0,1.0,1.0])|\n",
            "|1580  |0    |0      |1       |1        |0    |0  |0          |0      |0      |0      |0        |0        |0   |0     |0      |0     |0       |1     |0     |(20,[0,3,4,18],[1580.0,1.0,1.0,1.0])|\n",
            "|1591  |0    |0      |1       |1        |0    |0  |0          |0      |0      |0      |0        |0        |0   |0     |0      |0     |0       |1     |0     |(20,[0,3,4,18],[1591.0,1.0,1.0,1.0])|\n",
            "|1645  |0    |0      |1       |1        |0    |0  |0          |0      |0      |0      |0        |0        |0   |0     |0      |0     |0       |1     |0     |(20,[0,3,4,18],[1645.0,1.0,1.0,1.0])|\n",
            "|1829  |0    |0      |1       |1        |0    |0  |0          |0      |0      |0      |0        |0        |0   |0     |0      |0     |0       |1     |0     |(20,[0,3,4,18],[1829.0,1.0,1.0,1.0])|\n",
            "|1959  |0    |0      |1       |1        |0    |0  |0          |0      |0      |0      |0        |0        |0   |0     |0      |0     |0       |1     |0     |(20,[0,3,4,18],[1959.0,1.0,1.0,1.0])|\n",
            "|2122  |0    |0      |1       |1        |0    |0  |0          |0      |0      |0      |0        |0        |0   |0     |0      |0     |0       |1     |0     |(20,[0,3,4,18],[2122.0,1.0,1.0,1.0])|\n",
            "|2142  |0    |0      |1       |1        |0    |0  |0          |0      |0      |0      |0        |0        |0   |0     |0      |0     |0       |1     |0     |(20,[0,3,4,18],[2142.0,1.0,1.0,1.0])|\n",
            "|2366  |0    |0      |1       |1        |0    |0  |0          |0      |0      |0      |0        |0        |0   |0     |0      |0     |0       |1     |0     |(20,[0,3,4,18],[2366.0,1.0,1.0,1.0])|\n",
            "|2659  |0    |0      |1       |1        |0    |0  |0          |0      |0      |0      |0        |0        |0   |0     |0      |0     |0       |1     |0     |(20,[0,3,4,18],[2659.0,1.0,1.0,1.0])|\n",
            "|2866  |0    |0      |1       |1        |0    |0  |0          |0      |0      |0      |0        |0        |0   |0     |0      |0     |0       |1     |0     |(20,[0,3,4,18],[2866.0,1.0,1.0,1.0])|\n",
            "|3175  |0    |0      |1       |1        |0    |0  |0          |0      |0      |0      |0        |0        |0   |0     |0      |0     |0       |1     |0     |(20,[0,3,4,18],[3175.0,1.0,1.0,1.0])|\n",
            "|3749  |0    |0      |1       |1        |0    |0  |0          |0      |0      |0      |0        |0        |0   |0     |0      |0     |0       |1     |0     |(20,[0,3,4,18],[3749.0,1.0,1.0,1.0])|\n",
            "+------+-----+-------+--------+---------+-----+---+-----------+-------+-------+-------+---------+---------+----+------+-------+------+--------+------+------+------------------------------------+\n",
            "only showing top 20 rows\n",
            "\n"
          ]
        }
      ]
    },
    {
      "cell_type": "code",
      "source": [
        "df = df.select(df.user_details)\n",
        "df.show(truncate = False)"
      ],
      "metadata": {
        "id": "dlbK-I1dK0dI",
        "outputId": "1da84aea-941c-465d-92f8-cc8b7ea0f221",
        "colab": {
          "base_uri": "https://localhost:8080/"
        }
      },
      "execution_count": 105,
      "outputs": [
        {
          "output_type": "stream",
          "name": "stdout",
          "text": [
            "+------------------------------------+\n",
            "|user_details                        |\n",
            "+------------------------------------+\n",
            "|(20,[0,3,4,18],[148.0,1.0,1.0,1.0]) |\n",
            "|(20,[0,3,4,18],[463.0,1.0,1.0,1.0]) |\n",
            "|(20,[0,3,4,18],[471.0,1.0,1.0,1.0]) |\n",
            "|(20,[0,3,4,18],[496.0,1.0,1.0,1.0]) |\n",
            "|(20,[0,3,4,18],[833.0,1.0,1.0,1.0]) |\n",
            "|(20,[0,3,4,18],[1088.0,1.0,1.0,1.0])|\n",
            "|(20,[0,3,4,18],[1238.0,1.0,1.0,1.0])|\n",
            "|(20,[0,3,4,18],[1342.0,1.0,1.0,1.0])|\n",
            "|(20,[0,3,4,18],[1580.0,1.0,1.0,1.0])|\n",
            "|(20,[0,3,4,18],[1591.0,1.0,1.0,1.0])|\n",
            "|(20,[0,3,4,18],[1645.0,1.0,1.0,1.0])|\n",
            "|(20,[0,3,4,18],[1829.0,1.0,1.0,1.0])|\n",
            "|(20,[0,3,4,18],[1959.0,1.0,1.0,1.0])|\n",
            "|(20,[0,3,4,18],[2122.0,1.0,1.0,1.0])|\n",
            "|(20,[0,3,4,18],[2142.0,1.0,1.0,1.0])|\n",
            "|(20,[0,3,4,18],[2366.0,1.0,1.0,1.0])|\n",
            "|(20,[0,3,4,18],[2659.0,1.0,1.0,1.0])|\n",
            "|(20,[0,3,4,18],[2866.0,1.0,1.0,1.0])|\n",
            "|(20,[0,3,4,18],[3175.0,1.0,1.0,1.0])|\n",
            "|(20,[0,3,4,18],[3749.0,1.0,1.0,1.0])|\n",
            "+------------------------------------+\n",
            "only showing top 20 rows\n",
            "\n"
          ]
        }
      ]
    },
    {
      "cell_type": "code",
      "source": [
        "prediction_2 = model1.transform(df)"
      ],
      "metadata": {
        "id": "-im7BugbK9DM"
      },
      "execution_count": 106,
      "outputs": []
    },
    {
      "cell_type": "code",
      "source": [
        "prediction_2.show(truncate = False)"
      ],
      "metadata": {
        "id": "b69aWuuxLCju",
        "outputId": "17e2ce70-20a5-473d-c594-dd7fd96f29a2",
        "colab": {
          "base_uri": "https://localhost:8080/"
        }
      },
      "execution_count": 107,
      "outputs": [
        {
          "output_type": "stream",
          "name": "stdout",
          "text": [
            "+------------------------------------+-------------------------------------------------------------------------------------------------------------------------+--------------------------------------------------------------------------------------------------------------------------+----------+\n",
            "|user_details                        |rawPrediction                                                                                                            |probability                                                                                                               |prediction|\n",
            "+------------------------------------+-------------------------------------------------------------------------------------------------------------------------+--------------------------------------------------------------------------------------------------------------------------+----------+\n",
            "|(20,[0,3,4,18],[148.0,1.0,1.0,1.0]) |[-1.84208195762524,-0.6892472122680454,0.2508165899346523,1.217662518368797,1.0672835565617929,-0.004433494971956581]    |[0.01717488456683451,0.05439557792658407,0.13926055357796485,0.3662047462903687,0.31507592176897,0.10788831586927801]     |3.0       |\n",
            "|(20,[0,3,4,18],[463.0,1.0,1.0,1.0]) |[-1.8421088193573236,-0.6892806315741159,0.2508238527211835,1.2176859138629077,1.0673050336905325,-0.004425349343183976] |[0.01717416654573488,0.054392947153165686,0.13925948366916596,0.36620784069463425,0.31507797970301094,0.10788758223428827]|3.0       |\n",
            "|(20,[0,3,4,18],[471.0,1.0,1.0,1.0]) |[-1.8421095015600433,-0.6892814803183971,0.2508240371729049,1.2176865080341868,1.067305579141421,-0.004425142470072307]  |[0.017174148310622278,0.0543928803413805,0.13925945649660518,0.366207919282018,0.3150780319673157,0.10788756360205844]    |3.0       |\n",
            "|(20,[0,3,4,18],[496.0,1.0,1.0,1.0]) |[-1.842111633443542,-0.6892841326442757,0.2508246135845344,1.2176883648194337,1.067307283675448,-0.004424495991598276]   |[0.01717409132600518,0.05439267155503317,0.1392593715822652,0.36620816486738095,0.31507819529304887,0.10788750537626664]  |3.0       |\n",
            "|(20,[0,3,4,18],[833.0,1.0,1.0,1.0]) |[-1.8421403712331044,-0.6893198859971194,0.25083238361329957,1.2177133942845617,1.0673302607941313,-0.004415781461768548]|[0.017173323189602067,0.054389857186262214,0.13925822692403433,0.36621147532686116,0.3150803968915107,0.10788672048172956]|3.0       |\n",
            "|(20,[0,3,4,18],[1088.0,1.0,1.0,1.0])|[-1.842162116444791,-0.6893469397210812,0.2508382630119201,1.21773233349408,1.067347647041206,-0.004409187381333612]     |[0.017172741978882484,0.05438772770748031,0.13925736077198722,0.36621398023532203,0.31508206274933764,0.10788612655699023]|3.0       |\n",
            "|(20,[0,3,4,18],[1238.0,1.0,1.0,1.0])|[-1.8421749077457832,-0.6893628536763527,0.25084172148169687,1.217743474205561,1.0673578742453678,-0.0044053085104895084]|[0.017172400098308418,0.054386475108352234,0.13925685126434587,0.3662154536953445,0.315083042649562,0.10788577718408716]  |3.0       |\n",
            "|(20,[0,3,4,18],[1342.0,1.0,1.0,1.0])|[-1.8421837763811377,-0.6893738873520079,0.2508441193540754,1.2177511984321883,1.0673649651069197,-0.0044026191600376186]|[0.017172163064625733,0.05438560665503768,0.13925649800291548,0.366216475287535,0.31508372204003066,0.10788553494985562]  |3.0       |\n",
            "|(20,[0,3,4,18],[1580.0,1.0,1.0,1.0])|[-1.8422040719120454,-0.6893991374943722,0.2508496067927879,1.2177688750277385,1.0673811922708563,-0.00439646468496499]  |[0.017171620632991342,0.054383619280524646,0.13925568956909484,0.366218813141146,0.3150852767773571,0.10788498059888615]  |3.0       |\n",
            "|(20,[0,3,4,18],[1591.0,1.0,1.0,1.0])|[-1.8422050099407847,-0.6894003045177588,0.2508498604139049,1.2177696920132473,1.0673819422658282,-0.004396180234436414] |[0.017171595562986166,0.054383527428678975,0.1392556522042163,0.36621892119250293,0.3150853486342367,0.10788495497737897] |3.0       |\n",
            "|(20,[0,3,4,18],[1645.0,1.0,1.0,1.0])|[-1.842209614809142,-0.6894060335416565,0.2508511054630245,1.2177737026693805,1.0673856240593262,-0.004394783840932559]  |[0.017171472492518783,0.05438307652166648,0.13925546877625877,0.36621945162553876,0.3150857013852585,0.10788482919875858] |3.0       |\n",
            "|(20,[0,3,4,18],[1829.0,1.0,1.0,1.0])|[-1.8422253054716924,-0.6894255546601231,0.25085534785261737,1.2177873686087974,1.0673981694297647,-0.004390025759363786]|[0.017171053147124058,0.05438154012332422,0.1392548437578382,0.36622125901579067,0.31508690334006595,0.10788440061585695] |3.0       |\n",
            "|(20,[0,3,4,18],[1959.0,1.0,1.0,1.0])|[-1.8422363912658857,-0.689439346754692,0.2508583451930906,1.2177970238920812,1.0674070330067047,-0.0043866640712989236] |[0.01717075687591839,0.05438045464831314,0.1392544021644121,0.36622253596585147,0.31508775253641924,0.10788409780908581]  |3.0       |\n",
            "|(20,[0,3,4,18],[2122.0,1.0,1.0,1.0])|[-1.842250291146297,-0.6894566399194204,0.25086210339691467,1.217809130131891,1.0674181465685604,-0.004382449031648333]  |[0.017170385403761874,0.05437909365751137,0.1392538484691336,0.3662241370525553,0.31508881728530924,0.10788371813172862]  |3.0       |\n",
            "|(20,[0,3,4,18],[2142.0,1.0,1.0,1.0])|[-1.8422519966530961,-0.6894587617801233,0.25086256452621825,1.2178106155600885,1.067419510195782,-0.0043819318488691195]|[0.017170339824843193,0.054378926666910424,0.1392537805306749,0.3662243335039752,0.31508894792837217,0.10788367154522398] |3.0       |\n",
            "|(20,[0,3,4,18],[2366.0,1.0,1.0,1.0])|[-1.8422710983292443,-0.6894825266199958,0.2508677291744182,1.2178272523559006,1.0674347828206634,-0.004376139401741946] |[0.017169829348226803,0.05437705640406925,0.1392530196141476,0.3662265337458959,0.3150904111161537,0.10788314977150675]   |3.0       |\n",
            "|(20,[0,3,4,18],[2659.0,1.0,1.0,1.0])|[-1.8422960840038491,-0.689513611879293,0.25087448471871554,1.2178490138789941,1.0674547599594593,-0.004368562674026494] |[0.017169161646737863,0.05437461012185842,0.1392520242921082,0.36622941170215484,0.3150923249777753,0.10788246725936529]  |3.0       |\n",
            "|(20,[0,3,4,18],[2866.0,1.0,1.0,1.0])|[-1.8423137359992183,-0.6895355731375679,0.25087925740700745,1.2178643880608382,1.0674688735012023,-0.004363209832261655]|[0.017168689939662567,0.054372881921432095,0.139251321101411,0.36623144490757314,0.31509367706411445,0.10788198506580679] |3.0       |\n",
            "|(20,[0,3,4,18],[3175.0,1.0,1.0,1.0])|[-1.842340086079262,-0.6895683558854275,0.25088638185474765,1.2178873379264896,1.0674899415417753,-0.004355219358322809] |[0.017167985818432156,0.05437030223700523,0.13925027139406246,0.3662344799415386,0.31509569535352805,0.10788126525543353] |3.0       |\n",
            "|(20,[0,3,4,18],[3749.0,1.0,1.0,1.0])|[-1.8423890341243923,-0.6896292532876004,0.2508996162657601,1.2179299697157582,1.067529077643034,-0.004340376212559421]  |[0.017166677906626064,0.054365510497540674,0.139248321398579,0.36624011770668957,0.315099444403717,0.10787992808684768]   |3.0       |\n",
            "+------------------------------------+-------------------------------------------------------------------------------------------------------------------------+--------------------------------------------------------------------------------------------------------------------------+----------+\n",
            "only showing top 20 rows\n",
            "\n"
          ]
        }
      ]
    },
    {
      "cell_type": "code",
      "source": [
        "prediction_2.filter(prediction_2.prediction == 1.0).show()"
      ],
      "metadata": {
        "id": "1BhPmlMVLG-A",
        "outputId": "f8efcf47-c738-48c1-8d38-0535144d23d1",
        "colab": {
          "base_uri": "https://localhost:8080/"
        }
      },
      "execution_count": 111,
      "outputs": [
        {
          "output_type": "stream",
          "name": "stdout",
          "text": [
            "+------------+-------------+-----------+----------+\n",
            "|user_details|rawPrediction|probability|prediction|\n",
            "+------------+-------------+-----------+----------+\n",
            "+------------+-------------+-----------+----------+\n",
            "\n"
          ]
        }
      ]
    },
    {
      "cell_type": "code",
      "source": [
        "prediction_2.groupBy('prediction').count().show()"
      ],
      "metadata": {
        "id": "e2f5Jx9ULdgV",
        "outputId": "53f08fe8-fa1d-4512-d12f-0b4f6702f5ce",
        "colab": {
          "base_uri": "https://localhost:8080/"
        }
      },
      "execution_count": 112,
      "outputs": [
        {
          "output_type": "stream",
          "name": "stdout",
          "text": [
            "+----------+------+\n",
            "|prediction| count|\n",
            "+----------+------+\n",
            "|       3.0|200948|\n",
            "+----------+------+\n",
            "\n"
          ]
        }
      ]
    },
    {
      "cell_type": "code",
      "source": [],
      "metadata": {
        "id": "lg9lT7_FLzEK"
      },
      "execution_count": null,
      "outputs": []
    }
  ],
  "metadata": {
    "colab": {
      "name": "Welcome To Colab",
      "provenance": [],
      "include_colab_link": true
    },
    "kernelspec": {
      "display_name": "Python 3",
      "name": "python3"
    }
  },
  "nbformat": 4,
  "nbformat_minor": 0
}