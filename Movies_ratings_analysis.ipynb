{
  "cells": [
    {
      "cell_type": "markdown",
      "metadata": {
        "id": "view-in-github",
        "colab_type": "text"
      },
      "source": [
        "<a href=\"https://colab.research.google.com/github/SrijaG29/Movie-Data-Analysis-and-Recommendations-Using-PySpark/blob/main/Movies_ratings_analysis.ipynb\" target=\"_parent\"><img src=\"https://colab.research.google.com/assets/colab-badge.svg\" alt=\"Open In Colab\"/></a>"
      ]
    },
    {
      "cell_type": "markdown",
      "source": [
        "To create a project using the movie and ratings datasets with PySpark, here’s a step-by-step guide along with some ideas for questions you can answer. This will help demonstrate your PySpark skills and data analysis capabilities on your resume.\n",
        "\n",
        "### Step 1: Data Exploration\n",
        "1. **Load the datasets into PySpark**:\n",
        "   - Load the movie dataset (`movies.csv`) and ratings dataset (`ratings.csv`) into PySpark DataFrames.\n",
        "\n",
        "2. **Inspect the Data**:\n",
        "   - Display the schema and first few rows of both DataFrames to understand the data structure.\n",
        "\n",
        "### Step 2: Data Cleaning and Preparation\n",
        "1. **Handle Missing Values**:\n",
        "   - Check for any missing values and decide how to handle them (e.g., drop rows, fill with default values).\n",
        "\n",
        "2. **Data Transformation**:\n",
        "   - Extract the year from the movie title and create a new column `year`.\n",
        "   - Split the `genres` column into an array of genres.\n",
        "\n",
        "3. **Join the Datasets**:\n",
        "   - Perform an inner join on the `movieId` column to combine the movie and ratings datasets.\n",
        "\n",
        "### Step 3: Data Analysis\n",
        "1. **Top-Rated Movies**:\n",
        "   - Find the top 10 movies with the highest average rating.\n",
        "\n",
        "2. **Popular Genres**:\n",
        "   - Identify the most popular genres based on the number of ratings.\n",
        "\n",
        "3. **User Behavior**:\n",
        "   - Analyze the distribution of ratings by users. For example, find how many movies each user has rated.\n",
        "\n",
        "4. **Yearly Trends**:\n",
        "   - Determine how the average movie rating has changed over the years.\n",
        "\n",
        "5. **Genre-Based Recommendations**:\n",
        "   - For a given genre, list the top 5 movies based on average ratings.\n",
        "\n",
        "6. **Movies with the Most Reviews**:\n",
        "   - Identify the movies with the highest number of ratings.\n",
        "\n",
        "### Step 4: Advanced Analysis\n",
        "1. **User-Specific Recommendations**:\n",
        "   - Build a basic recommendation system by suggesting top-rated movies that a user has not rated yet.\n",
        "\n",
        "2. **Correlate Ratings and Release Year**:\n",
        "   - Analyze if there’s any correlation between the release year and the average rating of movies.\n",
        "\n",
        "3. **Genre Diversity in Top-Rated Movies**:\n",
        "   - Examine the genre diversity among the top 100 highest-rated movies.\n",
        "\n",
        "### Step 5: Performance Optimization\n",
        "1. **Cache and Persist**:\n",
        "   - Use caching and persistence in PySpark to optimize the performance of your queries.\n",
        "\n",
        "2. **Partitioning**:\n",
        "   - Apply partitioning to the data to improve the efficiency of operations, especially for large datasets.\n",
        "\n",
        "### Step 6: Visualization\n",
        "1. **Visualize Data**:\n",
        "   - Use PySpark with an external library like Matplotlib, Seaborn, or even Power BI to create visualizations such as:\n",
        "     - Distribution of ratings.\n",
        "     - Average rating per genre.\n",
        "     - Trends in movie ratings over the years.\n",
        "\n",
        "### Conclusion\n",
        "This project structure not only demonstrates your technical ability to handle and analyze data using PySpark but also your ability to derive meaningful insights from complex datasets. Once complete, you can showcase this project in your portfolio or resume, highlighting key aspects such as data cleaning, transformation, analysis, and visualization."
      ],
      "metadata": {
        "id": "hv2_SgsjCy9-"
      }
    },
    {
      "cell_type": "code",
      "source": [
        "!pip install pyspark"
      ],
      "metadata": {
        "colab": {
          "base_uri": "https://localhost:8080/"
        },
        "id": "XIxLKTPjLB1H",
        "outputId": "f1ffd705-78bf-4f33-bae2-775c0c7a0aae"
      },
      "execution_count": 46,
      "outputs": [
        {
          "output_type": "stream",
          "name": "stdout",
          "text": [
            "Requirement already satisfied: pyspark in /usr/local/lib/python3.10/dist-packages (3.5.2)\n",
            "Requirement already satisfied: py4j==0.10.9.7 in /usr/local/lib/python3.10/dist-packages (from pyspark) (0.10.9.7)\n"
          ]
        }
      ]
    },
    {
      "cell_type": "code",
      "source": [
        "from pyspark.sql import SparkSession"
      ],
      "metadata": {
        "id": "O30ZFHRgLDVH"
      },
      "execution_count": 47,
      "outputs": []
    },
    {
      "cell_type": "code",
      "source": [
        "spark = (\n",
        "    SparkSession\n",
        "    .builder\n",
        "    .appName(\"Movie ratings\")\n",
        "    .master(\"local[*]\")\n",
        "    .getOrCreate()\n",
        ")"
      ],
      "metadata": {
        "id": "9vzD3nE_L0_S"
      },
      "execution_count": 48,
      "outputs": []
    },
    {
      "cell_type": "code",
      "source": [
        "spark"
      ],
      "metadata": {
        "id": "vPNQe1yDKYWX",
        "outputId": "f23fbfcc-3b8c-4a06-c340-67f8ea0b614b",
        "colab": {
          "base_uri": "https://localhost:8080/",
          "height": 219
        }
      },
      "execution_count": 49,
      "outputs": [
        {
          "output_type": "execute_result",
          "data": {
            "text/plain": [
              "<pyspark.sql.session.SparkSession at 0x7e1f0c342740>"
            ],
            "text/html": [
              "\n",
              "            <div>\n",
              "                <p><b>SparkSession - in-memory</b></p>\n",
              "                \n",
              "        <div>\n",
              "            <p><b>SparkContext</b></p>\n",
              "\n",
              "            <p><a href=\"http://829558e7d1ac:4040\">Spark UI</a></p>\n",
              "\n",
              "            <dl>\n",
              "              <dt>Version</dt>\n",
              "                <dd><code>v3.5.2</code></dd>\n",
              "              <dt>Master</dt>\n",
              "                <dd><code>local[*]</code></dd>\n",
              "              <dt>AppName</dt>\n",
              "                <dd><code>Movie ratings</code></dd>\n",
              "            </dl>\n",
              "        </div>\n",
              "        \n",
              "            </div>\n",
              "        "
            ]
          },
          "metadata": {},
          "execution_count": 49
        }
      ]
    },
    {
      "cell_type": "markdown",
      "source": [
        "**Step 1: Data Exploration**\n",
        "Load the datasets into PySpark session **\"spark\"**:\n",
        "\n",
        "Load the movie dataset (movies.csv) and ratings dataset (ratings.csv) into PySpark DataFrames.\n",
        "Inspect the Data:\n",
        "\n",
        "Display the schema and first few rows of both DataFrames to understand the data structure."
      ],
      "metadata": {
        "id": "xsL0AzuVQhvW"
      }
    },
    {
      "cell_type": "code",
      "source": [
        "movies_df = spark.read.format(\"csv\").option(\"header\",True).load(\"/content/movies.csv\")\n",
        "movies_df.show(truncate = False)"
      ],
      "metadata": {
        "colab": {
          "base_uri": "https://localhost:8080/"
        },
        "id": "wZiKaEPUMKNf",
        "outputId": "e3afbdff-e854-4568-d806-b842162a6005"
      },
      "execution_count": 78,
      "outputs": [
        {
          "output_type": "stream",
          "name": "stdout",
          "text": [
            "+-------+-------------------------------------+-------------------------------------------+\n",
            "|movieId|title                                |genres                                     |\n",
            "+-------+-------------------------------------+-------------------------------------------+\n",
            "|1      |Toy Story (1995)                     |Adventure|Animation|Children|Comedy|Fantasy|\n",
            "|2      |Jumanji (1995)                       |Adventure|Children|Fantasy                 |\n",
            "|3      |Grumpier Old Men (1995)              |Comedy|Romance                             |\n",
            "|4      |Waiting to Exhale (1995)             |Comedy|Drama|Romance                       |\n",
            "|5      |Father of the Bride Part II (1995)   |Comedy                                     |\n",
            "|6      |Heat (1995)                          |Action|Crime|Thriller                      |\n",
            "|7      |Sabrina (1995)                       |Comedy|Romance                             |\n",
            "|8      |Tom and Huck (1995)                  |Adventure|Children                         |\n",
            "|9      |Sudden Death (1995)                  |Action                                     |\n",
            "|10     |GoldenEye (1995)                     |Action|Adventure|Thriller                  |\n",
            "|11     |American President, The (1995)       |Comedy|Drama|Romance                       |\n",
            "|12     |Dracula: Dead and Loving It (1995)   |Comedy|Horror                              |\n",
            "|13     |Balto (1995)                         |Adventure|Animation|Children               |\n",
            "|14     |Nixon (1995)                         |Drama                                      |\n",
            "|15     |Cutthroat Island (1995)              |Action|Adventure|Romance                   |\n",
            "|16     |Casino (1995)                        |Crime|Drama                                |\n",
            "|17     |Sense and Sensibility (1995)         |Drama|Romance                              |\n",
            "|18     |Four Rooms (1995)                    |Comedy                                     |\n",
            "|19     |Ace Ventura: When Nature Calls (1995)|Comedy                                     |\n",
            "|20     |Money Train (1995)                   |Action|Comedy|Crime|Drama|Thriller         |\n",
            "+-------+-------------------------------------+-------------------------------------------+\n",
            "only showing top 20 rows\n",
            "\n"
          ]
        }
      ]
    },
    {
      "cell_type": "code",
      "source": [
        "ratings_df = spark.read.format(\"csv\").option(\"header\",True).load(\"/content/ratings.csv\")\n",
        "ratings_df.show(truncate = False)"
      ],
      "metadata": {
        "colab": {
          "base_uri": "https://localhost:8080/"
        },
        "id": "KQQNT_c-MVTS",
        "outputId": "9e7e577a-92b1-4377-c3bd-453eb6051e46"
      },
      "execution_count": 51,
      "outputs": [
        {
          "output_type": "stream",
          "name": "stdout",
          "text": [
            "+------+-------+------+---------+\n",
            "|userId|movieId|rating|timestamp|\n",
            "+------+-------+------+---------+\n",
            "|1     |17     |4.0   |944249077|\n",
            "|1     |25     |1.0   |944250228|\n",
            "|1     |29     |2.0   |943230976|\n",
            "|1     |30     |5.0   |944249077|\n",
            "|1     |32     |5.0   |943228858|\n",
            "|1     |34     |2.0   |943228491|\n",
            "|1     |36     |1.0   |944249008|\n",
            "|1     |80     |5.0   |944248943|\n",
            "|1     |110    |3.0   |943231119|\n",
            "|1     |111    |5.0   |944249008|\n",
            "|1     |161    |1.0   |943231162|\n",
            "|1     |166    |5.0   |943228442|\n",
            "|1     |176    |4.0   |944079496|\n",
            "|1     |223    |3.0   |944082810|\n",
            "|1     |232    |5.0   |943228442|\n",
            "|1     |260    |5.0   |943228696|\n",
            "|1     |302    |4.0   |944253272|\n",
            "|1     |306    |5.0   |944248888|\n",
            "|1     |307    |5.0   |944253207|\n",
            "|1     |322    |4.0   |944053801|\n",
            "+------+-------+------+---------+\n",
            "only showing top 20 rows\n",
            "\n"
          ]
        }
      ]
    },
    {
      "cell_type": "markdown",
      "source": [
        "**Step 2: Data Cleaning and Preparation**"
      ],
      "metadata": {
        "id": "8cmtJIHUQtYc"
      }
    },
    {
      "cell_type": "markdown",
      "source": [
        "**Handle Missing Values:**\n",
        "\n",
        "Check for any missing values and decide how to handle them (e.g., drop rows, fill with default values)."
      ],
      "metadata": {
        "id": "wK_wVenGUoMQ"
      }
    },
    {
      "cell_type": "code",
      "source": [
        "from pyspark.sql.functions import sum,col,when,split"
      ],
      "metadata": {
        "id": "pjpOu0uERrQw"
      },
      "execution_count": 52,
      "outputs": []
    },
    {
      "cell_type": "code",
      "source": [
        "print(movies_df.dtypes)"
      ],
      "metadata": {
        "id": "QZdEgmidSigd",
        "outputId": "ae4a3bdf-60ed-4561-ef72-73096207c87c",
        "colab": {
          "base_uri": "https://localhost:8080/"
        }
      },
      "execution_count": 8,
      "outputs": [
        {
          "output_type": "stream",
          "name": "stdout",
          "text": [
            "[('movieId', 'string'), ('title', 'string'), ('genres', 'string')]\n"
          ]
        }
      ]
    },
    {
      "cell_type": "code",
      "source": [
        "print(ratings_df.dtypes)"
      ],
      "metadata": {
        "id": "bzpKw9mhSnfR",
        "outputId": "1f901332-f882-4731-ca17-1ee2e5058902",
        "colab": {
          "base_uri": "https://localhost:8080/"
        }
      },
      "execution_count": 9,
      "outputs": [
        {
          "output_type": "stream",
          "name": "stdout",
          "text": [
            "[('userId', 'string'), ('movieId', 'string'), ('rating', 'string'), ('timestamp', 'string')]\n"
          ]
        }
      ]
    },
    {
      "cell_type": "code",
      "source": [
        "# Create an empty list to hold column expressions for missing values\n",
        "missing_value_expressions_movies = []\n",
        "\n",
        "# Loop through each column in the DataFrame\n",
        "for column in movies_df.columns:\n",
        "    # Count the number of null values in the current column\n",
        "    missing_expr = sum(when(col(column).isNull(), 1).otherwise(0)).alias(column)\n",
        "    missing_value_expressions_movies.append(missing_expr)\n",
        "\n",
        "# Aggregate the missing value counts\n",
        "missing_movies_df = movies_df.agg(*missing_value_expressions_movies)\n",
        "\n",
        "# Show the results\n",
        "missing_movies_df.show()"
      ],
      "metadata": {
        "id": "tuurr3b5Q_MW",
        "outputId": "11d237a9-1937-42ce-fe5c-4a5475d822c8",
        "colab": {
          "base_uri": "https://localhost:8080/"
        }
      },
      "execution_count": 10,
      "outputs": [
        {
          "output_type": "stream",
          "name": "stdout",
          "text": [
            "+-------+-----+------+\n",
            "|movieId|title|genres|\n",
            "+-------+-----+------+\n",
            "|      0|    0|     0|\n",
            "+-------+-----+------+\n",
            "\n"
          ]
        }
      ]
    },
    {
      "cell_type": "code",
      "source": [
        "# Create an empty list to hold column expressions for missing values\n",
        "missing_value_expressions_ratings = []\n",
        "\n",
        "# Loop through each column in the DataFrame\n",
        "for column in ratings_df.columns:\n",
        "    # Count the number of null values in the current column\n",
        "    missing_expr = sum(when(col(column).isNull(), 1).otherwise(0)).alias(column)\n",
        "    missing_value_expressions_ratings.append(missing_expr)\n",
        "\n",
        "# Aggregate the missing value counts\n",
        "missing_ratings_df = ratings_df.agg(*missing_value_expressions_ratings)\n",
        "\n",
        "# Show the results\n",
        "missing_ratings_df.show()"
      ],
      "metadata": {
        "id": "lOvr5VMhTJda",
        "outputId": "584bab7c-00fd-4c62-e4e0-84fad8b5f594",
        "colab": {
          "base_uri": "https://localhost:8080/"
        }
      },
      "execution_count": 11,
      "outputs": [
        {
          "output_type": "stream",
          "name": "stdout",
          "text": [
            "+------+-------+------+---------+\n",
            "|userId|movieId|rating|timestamp|\n",
            "+------+-------+------+---------+\n",
            "|     0|      0|     1|        1|\n",
            "+------+-------+------+---------+\n",
            "\n"
          ]
        }
      ]
    },
    {
      "cell_type": "code",
      "source": [
        "ratings_df = ratings_df.dropna()"
      ],
      "metadata": {
        "id": "_I5RxsoVOxbN"
      },
      "execution_count": null,
      "outputs": []
    },
    {
      "cell_type": "code",
      "source": [
        "null_count = ratings_df.filter(col(\"rating\").isNull()).count()\n",
        "print(null_count)"
      ],
      "metadata": {
        "id": "YOAZY_Gs8CEd",
        "outputId": "8a04aad3-0e37-48a2-d0f5-a22286c19f58",
        "colab": {
          "base_uri": "https://localhost:8080/"
        }
      },
      "execution_count": 104,
      "outputs": [
        {
          "output_type": "stream",
          "name": "stdout",
          "text": [
            "0\n"
          ]
        }
      ]
    },
    {
      "cell_type": "code",
      "source": [
        "null_count = ratings_df.filter(col(\"timestamp\").isNull()).count()\n",
        "print(null_count)"
      ],
      "metadata": {
        "id": "Wcl0udYJOSPd",
        "outputId": "75e921f9-7428-49da-c5af-b7d29d71cc9d",
        "colab": {
          "base_uri": "https://localhost:8080/"
        }
      },
      "execution_count": 105,
      "outputs": [
        {
          "output_type": "stream",
          "name": "stdout",
          "text": [
            "0\n"
          ]
        }
      ]
    },
    {
      "cell_type": "markdown",
      "source": [
        "**\" There are no null values in these datasets. \"**"
      ],
      "metadata": {
        "id": "8zzVU0unUdcm"
      }
    },
    {
      "cell_type": "markdown",
      "source": [
        "**Data Transformation:**\n",
        "\n",
        "Extract the year from the movie title and create a new column year. Split the genres column into an array of genres."
      ],
      "metadata": {
        "id": "RHbbgyjBUsev"
      }
    },
    {
      "cell_type": "code",
      "source": [
        "movies_df.show(truncate = False)"
      ],
      "metadata": {
        "id": "a0OKbuUMUHvw",
        "outputId": "c2d95dd2-37a3-4b58-a7de-999947af2d85",
        "colab": {
          "base_uri": "https://localhost:8080/"
        }
      },
      "execution_count": 53,
      "outputs": [
        {
          "output_type": "stream",
          "name": "stdout",
          "text": [
            "+-------+-------------------------------------+-------------------------------------------+\n",
            "|movieId|title                                |genres                                     |\n",
            "+-------+-------------------------------------+-------------------------------------------+\n",
            "|1      |Toy Story (1995)                     |Adventure|Animation|Children|Comedy|Fantasy|\n",
            "|2      |Jumanji (1995)                       |Adventure|Children|Fantasy                 |\n",
            "|3      |Grumpier Old Men (1995)              |Comedy|Romance                             |\n",
            "|4      |Waiting to Exhale (1995)             |Comedy|Drama|Romance                       |\n",
            "|5      |Father of the Bride Part II (1995)   |Comedy                                     |\n",
            "|6      |Heat (1995)                          |Action|Crime|Thriller                      |\n",
            "|7      |Sabrina (1995)                       |Comedy|Romance                             |\n",
            "|8      |Tom and Huck (1995)                  |Adventure|Children                         |\n",
            "|9      |Sudden Death (1995)                  |Action                                     |\n",
            "|10     |GoldenEye (1995)                     |Action|Adventure|Thriller                  |\n",
            "|11     |American President, The (1995)       |Comedy|Drama|Romance                       |\n",
            "|12     |Dracula: Dead and Loving It (1995)   |Comedy|Horror                              |\n",
            "|13     |Balto (1995)                         |Adventure|Animation|Children               |\n",
            "|14     |Nixon (1995)                         |Drama                                      |\n",
            "|15     |Cutthroat Island (1995)              |Action|Adventure|Romance                   |\n",
            "|16     |Casino (1995)                        |Crime|Drama                                |\n",
            "|17     |Sense and Sensibility (1995)         |Drama|Romance                              |\n",
            "|18     |Four Rooms (1995)                    |Comedy                                     |\n",
            "|19     |Ace Ventura: When Nature Calls (1995)|Comedy                                     |\n",
            "|20     |Money Train (1995)                   |Action|Comedy|Crime|Drama|Thriller         |\n",
            "+-------+-------------------------------------+-------------------------------------------+\n",
            "only showing top 20 rows\n",
            "\n"
          ]
        }
      ]
    },
    {
      "cell_type": "markdown",
      "source": [
        "Extracting year from title."
      ],
      "metadata": {
        "id": "1HNZXhKia0wg"
      }
    },
    {
      "cell_type": "code",
      "source": [
        "# from pyspark.sql.functions import udf\n",
        "from pyspark.sql.types import IntegerType\n",
        "\n",
        "# def multiply_by_2(x):\n",
        "#     return x * 2\n",
        "\n",
        "# multiply_udf = udf(multiply_by_2, IntegerType())\n",
        "\n",
        "# df = df.withColumn(\"new_column\", multiply_udf(F.col(\"existing_column\")))\n",
        "\n",
        "\n",
        "from pyspark.sql.functions import udf\n",
        "\n",
        "def year_extract(x):\n",
        "  try:\n",
        "    f = x.split('(')[-1].strip(')')\n",
        "    return int(f)\n",
        "  except:\n",
        "    return None\n",
        "\n",
        "x_udf = udf(year_extract,IntegerType())\n",
        "\n",
        "movies_df = movies_df.withColumn('year',x_udf(col('title')))\n",
        "movies_df.show(truncate = False)"
      ],
      "metadata": {
        "id": "epDPxEgXFA2T",
        "outputId": "3fae7b0c-3f95-4134-bc25-24cfbaca963c",
        "colab": {
          "base_uri": "https://localhost:8080/"
        }
      },
      "execution_count": 79,
      "outputs": [
        {
          "output_type": "stream",
          "name": "stdout",
          "text": [
            "+-------+-------------------------------------+-------------------------------------------+----+\n",
            "|movieId|title                                |genres                                     |year|\n",
            "+-------+-------------------------------------+-------------------------------------------+----+\n",
            "|1      |Toy Story (1995)                     |Adventure|Animation|Children|Comedy|Fantasy|1995|\n",
            "|2      |Jumanji (1995)                       |Adventure|Children|Fantasy                 |1995|\n",
            "|3      |Grumpier Old Men (1995)              |Comedy|Romance                             |1995|\n",
            "|4      |Waiting to Exhale (1995)             |Comedy|Drama|Romance                       |1995|\n",
            "|5      |Father of the Bride Part II (1995)   |Comedy                                     |1995|\n",
            "|6      |Heat (1995)                          |Action|Crime|Thriller                      |1995|\n",
            "|7      |Sabrina (1995)                       |Comedy|Romance                             |1995|\n",
            "|8      |Tom and Huck (1995)                  |Adventure|Children                         |1995|\n",
            "|9      |Sudden Death (1995)                  |Action                                     |1995|\n",
            "|10     |GoldenEye (1995)                     |Action|Adventure|Thriller                  |1995|\n",
            "|11     |American President, The (1995)       |Comedy|Drama|Romance                       |1995|\n",
            "|12     |Dracula: Dead and Loving It (1995)   |Comedy|Horror                              |1995|\n",
            "|13     |Balto (1995)                         |Adventure|Animation|Children               |1995|\n",
            "|14     |Nixon (1995)                         |Drama                                      |1995|\n",
            "|15     |Cutthroat Island (1995)              |Action|Adventure|Romance                   |1995|\n",
            "|16     |Casino (1995)                        |Crime|Drama                                |1995|\n",
            "|17     |Sense and Sensibility (1995)         |Drama|Romance                              |1995|\n",
            "|18     |Four Rooms (1995)                    |Comedy                                     |1995|\n",
            "|19     |Ace Ventura: When Nature Calls (1995)|Comedy                                     |1995|\n",
            "|20     |Money Train (1995)                   |Action|Comedy|Crime|Drama|Thriller         |1995|\n",
            "+-------+-------------------------------------+-------------------------------------------+----+\n",
            "only showing top 20 rows\n",
            "\n"
          ]
        }
      ]
    },
    {
      "cell_type": "markdown",
      "source": [
        "Few columns are None so we will remove those columns."
      ],
      "metadata": {
        "id": "VaFZeCuDIQbq"
      }
    },
    {
      "cell_type": "code",
      "source": [
        "null_count = movies_df.filter(col(\"year\").isNull()).count()\n",
        "print(null_count)"
      ],
      "metadata": {
        "id": "mk0E5570JbWB",
        "outputId": "5065a294-6ebc-4a71-f19a-da5d6e1ba99b",
        "colab": {
          "base_uri": "https://localhost:8080/"
        }
      },
      "execution_count": 80,
      "outputs": [
        {
          "output_type": "stream",
          "name": "stdout",
          "text": [
            "796\n"
          ]
        }
      ]
    },
    {
      "cell_type": "code",
      "source": [
        "movies_df = movies_df.dropna(subset=['year'])\n",
        "movies_df.show(truncate = False)"
      ],
      "metadata": {
        "id": "4fC2lGYhIMDx",
        "outputId": "e9e59e16-16cf-42bf-b523-c47c0c858d1e",
        "colab": {
          "base_uri": "https://localhost:8080/"
        }
      },
      "execution_count": 81,
      "outputs": [
        {
          "output_type": "stream",
          "name": "stdout",
          "text": [
            "+-------+-------------------------------------+-------------------------------------------+----+\n",
            "|movieId|title                                |genres                                     |year|\n",
            "+-------+-------------------------------------+-------------------------------------------+----+\n",
            "|1      |Toy Story (1995)                     |Adventure|Animation|Children|Comedy|Fantasy|1995|\n",
            "|2      |Jumanji (1995)                       |Adventure|Children|Fantasy                 |1995|\n",
            "|3      |Grumpier Old Men (1995)              |Comedy|Romance                             |1995|\n",
            "|4      |Waiting to Exhale (1995)             |Comedy|Drama|Romance                       |1995|\n",
            "|5      |Father of the Bride Part II (1995)   |Comedy                                     |1995|\n",
            "|6      |Heat (1995)                          |Action|Crime|Thriller                      |1995|\n",
            "|7      |Sabrina (1995)                       |Comedy|Romance                             |1995|\n",
            "|8      |Tom and Huck (1995)                  |Adventure|Children                         |1995|\n",
            "|9      |Sudden Death (1995)                  |Action                                     |1995|\n",
            "|10     |GoldenEye (1995)                     |Action|Adventure|Thriller                  |1995|\n",
            "|11     |American President, The (1995)       |Comedy|Drama|Romance                       |1995|\n",
            "|12     |Dracula: Dead and Loving It (1995)   |Comedy|Horror                              |1995|\n",
            "|13     |Balto (1995)                         |Adventure|Animation|Children               |1995|\n",
            "|14     |Nixon (1995)                         |Drama                                      |1995|\n",
            "|15     |Cutthroat Island (1995)              |Action|Adventure|Romance                   |1995|\n",
            "|16     |Casino (1995)                        |Crime|Drama                                |1995|\n",
            "|17     |Sense and Sensibility (1995)         |Drama|Romance                              |1995|\n",
            "|18     |Four Rooms (1995)                    |Comedy                                     |1995|\n",
            "|19     |Ace Ventura: When Nature Calls (1995)|Comedy                                     |1995|\n",
            "|20     |Money Train (1995)                   |Action|Comedy|Crime|Drama|Thriller         |1995|\n",
            "+-------+-------------------------------------+-------------------------------------------+----+\n",
            "only showing top 20 rows\n",
            "\n"
          ]
        }
      ]
    },
    {
      "cell_type": "code",
      "source": [
        "null_count = movies_df.filter(col(\"year\").isNull()).count()\n",
        "print(null_count)"
      ],
      "metadata": {
        "id": "SBoyeSA5JRPG",
        "outputId": "58c42676-fa91-4301-bc6b-2ed88fba0204",
        "colab": {
          "base_uri": "https://localhost:8080/"
        }
      },
      "execution_count": 82,
      "outputs": [
        {
          "output_type": "stream",
          "name": "stdout",
          "text": [
            "0\n"
          ]
        }
      ]
    },
    {
      "cell_type": "code",
      "source": [
        "genres_df = movies_df.select(movies_df.movieId,movies_df.genres)\n",
        "genres_df.show(truncate = False)"
      ],
      "metadata": {
        "id": "HNVEsYOdayY8",
        "outputId": "c85c8e2f-45a1-4c06-e9de-a1b6e7388a33",
        "colab": {
          "base_uri": "https://localhost:8080/"
        }
      },
      "execution_count": 83,
      "outputs": [
        {
          "output_type": "stream",
          "name": "stdout",
          "text": [
            "+-------+-------------------------------------------+\n",
            "|movieId|genres                                     |\n",
            "+-------+-------------------------------------------+\n",
            "|1      |Adventure|Animation|Children|Comedy|Fantasy|\n",
            "|2      |Adventure|Children|Fantasy                 |\n",
            "|3      |Comedy|Romance                             |\n",
            "|4      |Comedy|Drama|Romance                       |\n",
            "|5      |Comedy                                     |\n",
            "|6      |Action|Crime|Thriller                      |\n",
            "|7      |Comedy|Romance                             |\n",
            "|8      |Adventure|Children                         |\n",
            "|9      |Action                                     |\n",
            "|10     |Action|Adventure|Thriller                  |\n",
            "|11     |Comedy|Drama|Romance                       |\n",
            "|12     |Comedy|Horror                              |\n",
            "|13     |Adventure|Animation|Children               |\n",
            "|14     |Drama                                      |\n",
            "|15     |Action|Adventure|Romance                   |\n",
            "|16     |Crime|Drama                                |\n",
            "|17     |Drama|Romance                              |\n",
            "|18     |Comedy                                     |\n",
            "|19     |Comedy                                     |\n",
            "|20     |Action|Comedy|Crime|Drama|Thriller         |\n",
            "+-------+-------------------------------------------+\n",
            "only showing top 20 rows\n",
            "\n"
          ]
        }
      ]
    },
    {
      "cell_type": "code",
      "source": [
        "genres_df = genres_df.withColumn(\"gener\",split(genres_df.genres,\"\\|\"))\n",
        "genres_df.show(truncate = False)"
      ],
      "metadata": {
        "id": "08z_LWsYbWfS",
        "outputId": "15cc1600-c4af-4fa8-b78f-f0f826e06392",
        "colab": {
          "base_uri": "https://localhost:8080/"
        }
      },
      "execution_count": 84,
      "outputs": [
        {
          "output_type": "stream",
          "name": "stdout",
          "text": [
            "+-------+-------------------------------------------+-------------------------------------------------+\n",
            "|movieId|genres                                     |gener                                            |\n",
            "+-------+-------------------------------------------+-------------------------------------------------+\n",
            "|1      |Adventure|Animation|Children|Comedy|Fantasy|[Adventure, Animation, Children, Comedy, Fantasy]|\n",
            "|2      |Adventure|Children|Fantasy                 |[Adventure, Children, Fantasy]                   |\n",
            "|3      |Comedy|Romance                             |[Comedy, Romance]                                |\n",
            "|4      |Comedy|Drama|Romance                       |[Comedy, Drama, Romance]                         |\n",
            "|5      |Comedy                                     |[Comedy]                                         |\n",
            "|6      |Action|Crime|Thriller                      |[Action, Crime, Thriller]                        |\n",
            "|7      |Comedy|Romance                             |[Comedy, Romance]                                |\n",
            "|8      |Adventure|Children                         |[Adventure, Children]                            |\n",
            "|9      |Action                                     |[Action]                                         |\n",
            "|10     |Action|Adventure|Thriller                  |[Action, Adventure, Thriller]                    |\n",
            "|11     |Comedy|Drama|Romance                       |[Comedy, Drama, Romance]                         |\n",
            "|12     |Comedy|Horror                              |[Comedy, Horror]                                 |\n",
            "|13     |Adventure|Animation|Children               |[Adventure, Animation, Children]                 |\n",
            "|14     |Drama                                      |[Drama]                                          |\n",
            "|15     |Action|Adventure|Romance                   |[Action, Adventure, Romance]                     |\n",
            "|16     |Crime|Drama                                |[Crime, Drama]                                   |\n",
            "|17     |Drama|Romance                              |[Drama, Romance]                                 |\n",
            "|18     |Comedy                                     |[Comedy]                                         |\n",
            "|19     |Comedy                                     |[Comedy]                                         |\n",
            "|20     |Action|Comedy|Crime|Drama|Thriller         |[Action, Comedy, Crime, Drama, Thriller]         |\n",
            "+-------+-------------------------------------------+-------------------------------------------------+\n",
            "only showing top 20 rows\n",
            "\n"
          ]
        }
      ]
    },
    {
      "cell_type": "code",
      "source": [
        "genres_df = genres_df.drop(genres_df.genres)\n",
        "genres_df.show(truncate = False)"
      ],
      "metadata": {
        "id": "2caCnEIJc7kt",
        "outputId": "ac967969-964e-4751-f66c-c6d31756147b",
        "colab": {
          "base_uri": "https://localhost:8080/"
        }
      },
      "execution_count": 85,
      "outputs": [
        {
          "output_type": "stream",
          "name": "stdout",
          "text": [
            "+-------+-------------------------------------------------+\n",
            "|movieId|gener                                            |\n",
            "+-------+-------------------------------------------------+\n",
            "|1      |[Adventure, Animation, Children, Comedy, Fantasy]|\n",
            "|2      |[Adventure, Children, Fantasy]                   |\n",
            "|3      |[Comedy, Romance]                                |\n",
            "|4      |[Comedy, Drama, Romance]                         |\n",
            "|5      |[Comedy]                                         |\n",
            "|6      |[Action, Crime, Thriller]                        |\n",
            "|7      |[Comedy, Romance]                                |\n",
            "|8      |[Adventure, Children]                            |\n",
            "|9      |[Action]                                         |\n",
            "|10     |[Action, Adventure, Thriller]                    |\n",
            "|11     |[Comedy, Drama, Romance]                         |\n",
            "|12     |[Comedy, Horror]                                 |\n",
            "|13     |[Adventure, Animation, Children]                 |\n",
            "|14     |[Drama]                                          |\n",
            "|15     |[Action, Adventure, Romance]                     |\n",
            "|16     |[Crime, Drama]                                   |\n",
            "|17     |[Drama, Romance]                                 |\n",
            "|18     |[Comedy]                                         |\n",
            "|19     |[Comedy]                                         |\n",
            "|20     |[Action, Comedy, Crime, Drama, Thriller]         |\n",
            "+-------+-------------------------------------------------+\n",
            "only showing top 20 rows\n",
            "\n"
          ]
        }
      ]
    },
    {
      "cell_type": "markdown",
      "source": [
        "In movies_df there are rows in genre which have value like (no genre listed) so we will remove them."
      ],
      "metadata": {
        "id": "Lhd0oOEkO6mp"
      }
    },
    {
      "cell_type": "code",
      "source": [
        "from pyspark.sql.types import StringType\n",
        "from pyspark.sql.functions import udf, col\n",
        "\n",
        "def clean_genre(x):\n",
        "    if x != '(no genres listed)':\n",
        "        return x\n",
        "    else:\n",
        "        return None\n",
        "\n",
        "clean_genre_udf = udf(clean_genre, StringType())\n",
        "movies_df = movies_df.withColumn('genres', clean_genre_udf(col('genres')))\n",
        "movies_df.show(truncate=False)"
      ],
      "metadata": {
        "id": "gsjF2HdcPEyx",
        "outputId": "8f6337e1-7116-4b5d-e3cc-c92019e236e5",
        "colab": {
          "base_uri": "https://localhost:8080/"
        }
      },
      "execution_count": 109,
      "outputs": [
        {
          "output_type": "stream",
          "name": "stdout",
          "text": [
            "+-------+-------------------------------------+-------------------------------------------+----+\n",
            "|movieId|title                                |genres                                     |year|\n",
            "+-------+-------------------------------------+-------------------------------------------+----+\n",
            "|1      |Toy Story (1995)                     |Adventure|Animation|Children|Comedy|Fantasy|1995|\n",
            "|2      |Jumanji (1995)                       |Adventure|Children|Fantasy                 |1995|\n",
            "|3      |Grumpier Old Men (1995)              |Comedy|Romance                             |1995|\n",
            "|4      |Waiting to Exhale (1995)             |Comedy|Drama|Romance                       |1995|\n",
            "|5      |Father of the Bride Part II (1995)   |Comedy                                     |1995|\n",
            "|6      |Heat (1995)                          |Action|Crime|Thriller                      |1995|\n",
            "|7      |Sabrina (1995)                       |Comedy|Romance                             |1995|\n",
            "|8      |Tom and Huck (1995)                  |Adventure|Children                         |1995|\n",
            "|9      |Sudden Death (1995)                  |Action                                     |1995|\n",
            "|10     |GoldenEye (1995)                     |Action|Adventure|Thriller                  |1995|\n",
            "|11     |American President, The (1995)       |Comedy|Drama|Romance                       |1995|\n",
            "|12     |Dracula: Dead and Loving It (1995)   |Comedy|Horror                              |1995|\n",
            "|13     |Balto (1995)                         |Adventure|Animation|Children               |1995|\n",
            "|14     |Nixon (1995)                         |Drama                                      |1995|\n",
            "|15     |Cutthroat Island (1995)              |Action|Adventure|Romance                   |1995|\n",
            "|16     |Casino (1995)                        |Crime|Drama                                |1995|\n",
            "|17     |Sense and Sensibility (1995)         |Drama|Romance                              |1995|\n",
            "|18     |Four Rooms (1995)                    |Comedy                                     |1995|\n",
            "|19     |Ace Ventura: When Nature Calls (1995)|Comedy                                     |1995|\n",
            "|20     |Money Train (1995)                   |Action|Comedy|Crime|Drama|Thriller         |1995|\n",
            "+-------+-------------------------------------+-------------------------------------------+----+\n",
            "only showing top 20 rows\n",
            "\n"
          ]
        }
      ]
    },
    {
      "cell_type": "markdown",
      "source": [
        "Checking for null values."
      ],
      "metadata": {
        "id": "8vcF9-nRQirG"
      }
    },
    {
      "cell_type": "code",
      "source": [
        "null_count = movies_df.filter(col(\"genres\").isNull()).count()\n",
        "print(null_count)"
      ],
      "metadata": {
        "id": "sE8r1bn-QgK6",
        "outputId": "40a5110e-dcab-48e5-bd8e-53a7a2d36cba",
        "colab": {
          "base_uri": "https://localhost:8080/"
        }
      },
      "execution_count": 110,
      "outputs": [
        {
          "output_type": "stream",
          "name": "stdout",
          "text": [
            "6702\n"
          ]
        }
      ]
    },
    {
      "cell_type": "code",
      "source": [
        "movies_df = movies_df.filter(movies_df.genres.isNotNull())\n",
        "movies_df.show(truncate=False)"
      ],
      "metadata": {
        "id": "kTL7yHEbQq3h",
        "outputId": "ff5e53bd-87da-404b-8042-92517927b3ef",
        "colab": {
          "base_uri": "https://localhost:8080/"
        }
      },
      "execution_count": 111,
      "outputs": [
        {
          "output_type": "stream",
          "name": "stdout",
          "text": [
            "+-------+-------------------------------------+-------------------------------------------+----+\n",
            "|movieId|title                                |genres                                     |year|\n",
            "+-------+-------------------------------------+-------------------------------------------+----+\n",
            "|1      |Toy Story (1995)                     |Adventure|Animation|Children|Comedy|Fantasy|1995|\n",
            "|2      |Jumanji (1995)                       |Adventure|Children|Fantasy                 |1995|\n",
            "|3      |Grumpier Old Men (1995)              |Comedy|Romance                             |1995|\n",
            "|4      |Waiting to Exhale (1995)             |Comedy|Drama|Romance                       |1995|\n",
            "|5      |Father of the Bride Part II (1995)   |Comedy                                     |1995|\n",
            "|6      |Heat (1995)                          |Action|Crime|Thriller                      |1995|\n",
            "|7      |Sabrina (1995)                       |Comedy|Romance                             |1995|\n",
            "|8      |Tom and Huck (1995)                  |Adventure|Children                         |1995|\n",
            "|9      |Sudden Death (1995)                  |Action                                     |1995|\n",
            "|10     |GoldenEye (1995)                     |Action|Adventure|Thriller                  |1995|\n",
            "|11     |American President, The (1995)       |Comedy|Drama|Romance                       |1995|\n",
            "|12     |Dracula: Dead and Loving It (1995)   |Comedy|Horror                              |1995|\n",
            "|13     |Balto (1995)                         |Adventure|Animation|Children               |1995|\n",
            "|14     |Nixon (1995)                         |Drama                                      |1995|\n",
            "|15     |Cutthroat Island (1995)              |Action|Adventure|Romance                   |1995|\n",
            "|16     |Casino (1995)                        |Crime|Drama                                |1995|\n",
            "|17     |Sense and Sensibility (1995)         |Drama|Romance                              |1995|\n",
            "|18     |Four Rooms (1995)                    |Comedy                                     |1995|\n",
            "|19     |Ace Ventura: When Nature Calls (1995)|Comedy                                     |1995|\n",
            "|20     |Money Train (1995)                   |Action|Comedy|Crime|Drama|Thriller         |1995|\n",
            "+-------+-------------------------------------+-------------------------------------------+----+\n",
            "only showing top 20 rows\n",
            "\n"
          ]
        }
      ]
    },
    {
      "cell_type": "code",
      "source": [
        "null_count = movies_df.filter(col(\"genres\").isNull()).count()\n",
        "print(null_count)"
      ],
      "metadata": {
        "id": "l2jVJMcuQw37",
        "outputId": "2a9b2e89-811f-4063-9eac-3fa448d1e9ce",
        "colab": {
          "base_uri": "https://localhost:8080/"
        }
      },
      "execution_count": 112,
      "outputs": [
        {
          "output_type": "stream",
          "name": "stdout",
          "text": [
            "0\n"
          ]
        }
      ]
    },
    {
      "cell_type": "markdown",
      "source": [
        "**Join the Datasets:**\n",
        "\n",
        "Perform an inner join on the movieId column to combine the movie and ratings datasets."
      ],
      "metadata": {
        "id": "TEe8gYDVUyL6"
      }
    },
    {
      "cell_type": "code",
      "source": [
        "movies_ratings_df = movies_df.join(ratings_df,on='movieId',how='inner')\n",
        "movies_ratings_df.show(truncate = False)"
      ],
      "metadata": {
        "id": "1Ouya_VFdNl4",
        "colab": {
          "base_uri": "https://localhost:8080/"
        },
        "outputId": "aff5f799-5894-4b66-ddef-73e3ce362512"
      },
      "execution_count": 86,
      "outputs": [
        {
          "output_type": "stream",
          "name": "stdout",
          "text": [
            "+-------+---------------------------------------------------------------+--------------------------------------+----+------+------+---------+\n",
            "|movieId|title                                                          |genres                                |year|userId|rating|timestamp|\n",
            "+-------+---------------------------------------------------------------+--------------------------------------+----+------+------+---------+\n",
            "|17     |Sense and Sensibility (1995)                                   |Drama|Romance                         |1995|1     |4.0   |944249077|\n",
            "|25     |Leaving Las Vegas (1995)                                       |Drama|Romance                         |1995|1     |1.0   |944250228|\n",
            "|29     |City of Lost Children, The (Cité des enfants perdus, La) (1995)|Adventure|Drama|Fantasy|Mystery|Sci-Fi|1995|1     |2.0   |943230976|\n",
            "|30     |Shanghai Triad (Yao a yao yao dao waipo qiao) (1995)           |Crime|Drama                           |1995|1     |5.0   |944249077|\n",
            "|32     |Twelve Monkeys (a.k.a. 12 Monkeys) (1995)                      |Mystery|Sci-Fi|Thriller               |1995|1     |5.0   |943228858|\n",
            "|34     |Babe (1995)                                                    |Children|Drama                        |1995|1     |2.0   |943228491|\n",
            "|36     |Dead Man Walking (1995)                                        |Crime|Drama                           |1995|1     |1.0   |944249008|\n",
            "|80     |White Balloon, The (Badkonake sefid) (1995)                    |Children|Drama                        |1995|1     |5.0   |944248943|\n",
            "|110    |Braveheart (1995)                                              |Action|Drama|War                      |1995|1     |3.0   |943231119|\n",
            "|111    |Taxi Driver (1976)                                             |Crime|Drama|Thriller                  |1976|1     |5.0   |944249008|\n",
            "|161    |Crimson Tide (1995)                                            |Drama|Thriller|War                    |1995|1     |1.0   |943231162|\n",
            "|166    |Doom Generation, The (1995)                                    |Comedy|Crime|Drama                    |1995|1     |5.0   |943228442|\n",
            "|176    |Living in Oblivion (1995)                                      |Comedy                                |1995|1     |4.0   |944079496|\n",
            "|223    |Clerks (1994)                                                  |Comedy                                |1994|1     |3.0   |944082810|\n",
            "|232    |Eat Drink Man Woman (Yin shi nan nu) (1994)                    |Comedy|Drama|Romance                  |1994|1     |5.0   |943228442|\n",
            "|260    |Star Wars: Episode IV - A New Hope (1977)                      |Action|Adventure|Sci-Fi               |1977|1     |5.0   |943228696|\n",
            "|302    |Queen Margot (Reine Margot, La) (1994)                         |Drama|Romance                         |1994|1     |4.0   |944253272|\n",
            "|306    |Three Colors: Red (Trois couleurs: Rouge) (1994)               |Drama                                 |1994|1     |5.0   |944248888|\n",
            "|307    |Three Colors: Blue (Trois couleurs: Bleu) (1993)               |Drama                                 |1993|1     |5.0   |944253207|\n",
            "|322    |Swimming with Sharks (1995)                                    |Comedy|Drama                          |1995|1     |4.0   |944053801|\n",
            "+-------+---------------------------------------------------------------+--------------------------------------+----+------+------+---------+\n",
            "only showing top 20 rows\n",
            "\n"
          ]
        }
      ]
    },
    {
      "cell_type": "markdown",
      "source": [
        "**Step 3: Data Analysis**\n",
        "\n"
      ],
      "metadata": {
        "id": "Qnoe8WBYC6FE"
      }
    },
    {
      "cell_type": "markdown",
      "source": [
        "**Top-Rated Movies:**\n",
        "\n",
        "Find the top 10 movies with the highest average rating."
      ],
      "metadata": {
        "id": "pSUxspUTDAf1"
      }
    },
    {
      "cell_type": "code",
      "source": [
        "from pyspark.sql.functions import avg,desc,asc\n",
        "top_ten_movies = movies_ratings_df.groupby('movieId','title').agg(avg('rating').alias('Avg_rating'))\n",
        "top_ten_movies = top_ten_movies.orderBy(top_ten_movies.Avg_rating.desc())\n",
        "top_ten_movies.show(10,truncate = False)"
      ],
      "metadata": {
        "colab": {
          "base_uri": "https://localhost:8080/"
        },
        "id": "gXx-dL6tDU9t",
        "outputId": "ea46a9db-cf9f-4139-b127-9fa79bbfe3b8"
      },
      "execution_count": 87,
      "outputs": [
        {
          "output_type": "stream",
          "name": "stdout",
          "text": [
            "+-------+---------------------------------------+----------+\n",
            "|movieId|title                                  |Avg_rating|\n",
            "+-------+---------------------------------------+----------+\n",
            "|232329 |Snow Trail (1947)                      |5.0       |\n",
            "|189587 |The Idiot Cycle (2009)                 |5.0       |\n",
            "|148084 |Emmanuelle in Soho (1981)              |5.0       |\n",
            "|137032 |The Perfect Neighbor (2005)            |5.0       |\n",
            "|152721 |Black Wind (1964)                      |5.0       |\n",
            "|276277 |Exploited (2022)                       |5.0       |\n",
            "|267948 |Christmas Cracker (1963)               |5.0       |\n",
            "|212947 |Uppity: The Willy T. Ribbs Story (2020)|5.0       |\n",
            "|226356 |Story of a Bad Boy (1999)              |5.0       |\n",
            "|134346 |Samay: When Time Strikes (2003)        |5.0       |\n",
            "+-------+---------------------------------------+----------+\n",
            "only showing top 10 rows\n",
            "\n"
          ]
        }
      ]
    },
    {
      "cell_type": "markdown",
      "source": [
        "**Popular Genres:**\n",
        "\n",
        "Identify the most popular genres based on the number of ratings.\n"
      ],
      "metadata": {
        "id": "GjPXt06ZDFyp"
      }
    },
    {
      "cell_type": "code",
      "source": [
        "from pyspark.sql.functions import count\n",
        "\n",
        "popular_genres = movies_ratings_df.groupBy('genres').agg(count('rating').alias('No_of_ratings'))\n",
        "popular_genres = popular_genres.sort(popular_genres.No_of_ratings.desc())\n",
        "popular_genres.show(truncate = False)"
      ],
      "metadata": {
        "colab": {
          "base_uri": "https://localhost:8080/"
        },
        "id": "VhxiSHmDFNTU",
        "outputId": "d45d76d7-1b25-4f1c-c37e-654f0fe0b7b2"
      },
      "execution_count": 23,
      "outputs": [
        {
          "output_type": "stream",
          "name": "stdout",
          "text": [
            "+--------------------------------+-------------+\n",
            "|genres                          |No_of_ratings|\n",
            "+--------------------------------+-------------+\n",
            "|Drama                           |1900601      |\n",
            "|Comedy                          |1589068      |\n",
            "|Comedy|Romance                  |925186       |\n",
            "|Drama|Romance                   |827297       |\n",
            "|Comedy|Drama                    |777409       |\n",
            "|Comedy|Drama|Romance            |738314       |\n",
            "|Action|Adventure|Sci-Fi         |677323       |\n",
            "|Crime|Drama                     |644541       |\n",
            "|Action|Crime|Thriller           |409571       |\n",
            "|Drama|Thriller                  |395474       |\n",
            "|Action|Adventure|Sci-Fi|Thriller|371381       |\n",
            "|Action|Adventure|Thriller       |351702       |\n",
            "|Action|Sci-Fi|Thriller          |340168       |\n",
            "|Crime|Drama|Thriller            |327702       |\n",
            "|Drama|War                       |302972       |\n",
            "|Action|Crime|Drama|Thriller     |277004       |\n",
            "|Action|Drama|War                |275104       |\n",
            "|Comedy|Crime                    |272197       |\n",
            "|Documentary                     |264755       |\n",
            "|Horror                          |222273       |\n",
            "+--------------------------------+-------------+\n",
            "only showing top 20 rows\n",
            "\n"
          ]
        }
      ]
    },
    {
      "cell_type": "markdown",
      "source": [
        "**User Behavior:**\n",
        "\n",
        "Analyze the distribution of ratings by users. For example, find how many movies each user has rated.\n"
      ],
      "metadata": {
        "id": "UZH5YsrYDLdS"
      }
    },
    {
      "cell_type": "code",
      "source": [
        "user_rating = movies_ratings_df.groupBy('userId').agg(count('userId').alias('No_of_ratings')).orderBy(movies_ratings_df.userId.asc())\n",
        "user_rating.show(truncate = False)"
      ],
      "metadata": {
        "colab": {
          "base_uri": "https://localhost:8080/"
        },
        "id": "OZ4lARQUG-uG",
        "outputId": "4b8d4369-5c4b-4ed8-f63e-310a7e50ecd0"
      },
      "execution_count": 24,
      "outputs": [
        {
          "output_type": "stream",
          "name": "stdout",
          "text": [
            "+------+-------------+\n",
            "|userId|No_of_ratings|\n",
            "+------+-------------+\n",
            "|1     |141          |\n",
            "|10    |660          |\n",
            "|100   |249          |\n",
            "|1000  |27           |\n",
            "|10000 |165          |\n",
            "|100000|197          |\n",
            "|100001|31           |\n",
            "|100002|123          |\n",
            "|100003|186          |\n",
            "|100004|113          |\n",
            "|100005|29           |\n",
            "|100006|44           |\n",
            "|100007|28           |\n",
            "|100008|24           |\n",
            "|100009|265          |\n",
            "|10001 |25           |\n",
            "|100010|288          |\n",
            "|100011|300          |\n",
            "|100012|102          |\n",
            "|100013|28           |\n",
            "+------+-------------+\n",
            "only showing top 20 rows\n",
            "\n"
          ]
        }
      ]
    },
    {
      "cell_type": "markdown",
      "source": [
        "**Yearly Trends:**\n",
        "\n",
        "Determine how the average movie rating has changed over the years.\n"
      ],
      "metadata": {
        "id": "_I27yDxmDOHR"
      }
    },
    {
      "cell_type": "code",
      "source": [
        "movies_ratings_df.select('year').show()"
      ],
      "metadata": {
        "id": "MRlwI14IR2pL",
        "outputId": "720fd316-d714-4c0b-9263-2e78b6e204f1",
        "colab": {
          "base_uri": "https://localhost:8080/"
        }
      },
      "execution_count": 88,
      "outputs": [
        {
          "output_type": "stream",
          "name": "stdout",
          "text": [
            "+----+\n",
            "|year|\n",
            "+----+\n",
            "|1995|\n",
            "|1995|\n",
            "|1995|\n",
            "|1995|\n",
            "|1995|\n",
            "|1995|\n",
            "|1995|\n",
            "|1995|\n",
            "|1995|\n",
            "|1976|\n",
            "|1995|\n",
            "|1995|\n",
            "|1995|\n",
            "|1994|\n",
            "|1994|\n",
            "|1977|\n",
            "|1994|\n",
            "|1994|\n",
            "|1993|\n",
            "|1995|\n",
            "+----+\n",
            "only showing top 20 rows\n",
            "\n"
          ]
        }
      ]
    },
    {
      "cell_type": "code",
      "source": [
        "avg_rating_year = movies_ratings_df.groupBy('year').agg(avg('rating').alias('Avg_rating'))\n",
        "avg_rating_year.show(truncate = False)"
      ],
      "metadata": {
        "id": "mfquYcqzLFg5",
        "outputId": "eff8aa72-fc68-4a7b-ad15-c58274d17931",
        "colab": {
          "base_uri": "https://localhost:8080/"
        }
      },
      "execution_count": 89,
      "outputs": [
        {
          "output_type": "stream",
          "name": "stdout",
          "text": [
            "+----+------------------+\n",
            "|year|Avg_rating        |\n",
            "+----+------------------+\n",
            "|1959|3.8124824072510273|\n",
            "|1990|3.4511998418576675|\n",
            "|1896|2.895             |\n",
            "|1903|3.095622119815668 |\n",
            "|1975|3.882580279336278 |\n",
            "|1977|3.8249607945635127|\n",
            "|1888|2.596774193548387 |\n",
            "|1924|3.7569906790945407|\n",
            "|2003|3.4766174307820195|\n",
            "|2007|3.5071440157352596|\n",
            "|1892|2.1931818181818183|\n",
            "|2018|3.479722733282176 |\n",
            "|1974|3.894832976797762 |\n",
            "|2015|3.564475949876199 |\n",
            "|2023|3.3467310972143265|\n",
            "|1927|3.860412299091544 |\n",
            "|1955|3.723592937893098 |\n",
            "|1890|2.275             |\n",
            "|2006|3.555251218560976 |\n",
            "|1978|3.4619053148430763|\n",
            "+----+------------------+\n",
            "only showing top 20 rows\n",
            "\n"
          ]
        }
      ]
    },
    {
      "cell_type": "markdown",
      "source": [
        "**Genre-Based Recommendations:**\n",
        "\n",
        "For a given genre, list the top 5 movies based on average ratings.\n"
      ],
      "metadata": {
        "id": "VeuW6dMwDP1E"
      }
    },
    {
      "cell_type": "code",
      "source": [
        "genre_input = input(\"Enter the genre to filter movies: \")\n",
        "\n",
        "top_five_movies = (movies_ratings_df.filter(col('genres') == genre_input)\\\n",
        "                   .groupBy('title')\\\n",
        "                   .agg(avg('rating').alias('Avg_rating'))\\\n",
        "                   .orderBy(col('Avg_rating').desc())\n",
        "                   .limit(5))\n",
        "top_five_movies.show(truncate = False)\n"
      ],
      "metadata": {
        "id": "qU5R0daGXmJi",
        "outputId": "c062f9d9-ef5f-433e-96de-3567f0a4d982",
        "colab": {
          "base_uri": "https://localhost:8080/"
        }
      },
      "execution_count": 90,
      "outputs": [
        {
          "output_type": "stream",
          "name": "stdout",
          "text": [
            "Enter the genre to filter movies: Action\n",
            "+-------------------------------+----------+\n",
            "|title                          |Avg_rating|\n",
            "+-------------------------------+----------+\n",
            "|Street Level (2016)            |5.0       |\n",
            "|Yasmine (2014)                 |5.0       |\n",
            "|FB: Fighting Beat (2007)       |5.0       |\n",
            "|Shanghai 13 (1984)             |5.0       |\n",
            "|Angels Hard as They Come (1971)|5.0       |\n",
            "+-------------------------------+----------+\n",
            "\n"
          ]
        }
      ]
    },
    {
      "cell_type": "markdown",
      "source": [
        "**Movies with the Most Reviews:**\n",
        "\n",
        "Identify the movies with the highest number of ratings."
      ],
      "metadata": {
        "id": "pST_IMd2DRj9"
      }
    },
    {
      "cell_type": "code",
      "source": [
        "from pyspark.sql.functions import desc"
      ],
      "metadata": {
        "id": "eaD9ciA3alvz"
      },
      "execution_count": 28,
      "outputs": []
    },
    {
      "cell_type": "code",
      "source": [
        "most_reviews = movies_ratings_df.groupBy('movieId','title')\\\n",
        "              .agg(count(col('rating')).alias('No_of_reviews'))\\\n",
        "              .orderBy(col('No_of_reviews').desc())\\\n",
        "              .limit(1)\n",
        "most_reviews.show(truncate = False)"
      ],
      "metadata": {
        "id": "EvSoE32NZ6N9",
        "outputId": "4835e8ae-2acd-4643-c85b-d42db1bfa534",
        "colab": {
          "base_uri": "https://localhost:8080/"
        }
      },
      "execution_count": 91,
      "outputs": [
        {
          "output_type": "stream",
          "name": "stdout",
          "text": [
            "+-------+--------------------------------+-------------+\n",
            "|movieId|title                           |No_of_reviews|\n",
            "+-------+--------------------------------+-------------+\n",
            "|318    |Shawshank Redemption, The (1994)|87165        |\n",
            "+-------+--------------------------------+-------------+\n",
            "\n"
          ]
        }
      ]
    },
    {
      "cell_type": "code",
      "source": [
        "x = movies_df.filter(col(\"title\").like(\"Shawshank Redemption%\"))\n",
        "x.show(truncate = False)"
      ],
      "metadata": {
        "id": "HnZpjosQbLq8",
        "outputId": "dfcea03c-235d-4548-effb-f82ab13dce92",
        "colab": {
          "base_uri": "https://localhost:8080/"
        }
      },
      "execution_count": 92,
      "outputs": [
        {
          "output_type": "stream",
          "name": "stdout",
          "text": [
            "+-------+--------------------------------+-----------+----+\n",
            "|movieId|title                           |genres     |year|\n",
            "+-------+--------------------------------+-----------+----+\n",
            "|318    |Shawshank Redemption, The (1994)|Crime|Drama|1994|\n",
            "+-------+--------------------------------+-----------+----+\n",
            "\n"
          ]
        }
      ]
    },
    {
      "cell_type": "markdown",
      "source": [
        "**Step 4: Advanced Analysis**\n"
      ],
      "metadata": {
        "id": "PHgnTyYSbWfH"
      }
    },
    {
      "cell_type": "markdown",
      "source": [
        "**User-Specific Recommendations:**\n",
        "\n",
        "Build a basic recommendation system by suggesting top-rated movies that a user has not rated yet.\n"
      ],
      "metadata": {
        "id": "cloHEQ2Vbcrs"
      }
    },
    {
      "cell_type": "code",
      "source": [
        "top_rated_movies = movies_ratings_df.groupBy('movieId', 'title')\\\n",
        "    .agg(avg(col('rating')).alias('Avg_rating'))\\\n",
        "    .orderBy(col('Avg_rating').desc())\\\n",
        "    .limit(100)\\\n",
        "    .select('movieId','title')\n",
        "\n",
        "top_rated_movies.show(truncate = False)"
      ],
      "metadata": {
        "id": "1zGIhYDjbiLQ",
        "outputId": "c3fed60c-7f0d-42ac-d818-d296ba1b4e7d",
        "colab": {
          "base_uri": "https://localhost:8080/"
        }
      },
      "execution_count": 93,
      "outputs": [
        {
          "output_type": "stream",
          "name": "stdout",
          "text": [
            "+-------+-------------------------------------------------------+\n",
            "|movieId|title                                                  |\n",
            "+-------+-------------------------------------------------------+\n",
            "|171279 |Robin Williams - Off the Wall (1978)                   |\n",
            "|137030 |Dangerous Child (2001)                                 |\n",
            "|248742 |Insignificant Details of the Accidental Episode (2011) |\n",
            "|262795 |Kevin Pollak: The Littlest Suspect (2010)              |\n",
            "|184887 |Meditation Park (2017)                                 |\n",
            "|216372 |Adoring (2019)                                         |\n",
            "|292047 |Bamboo Doll of Echizen (1963)                          |\n",
            "|289251 |Cirque du Soleil: Saltimbanco (1997)                   |\n",
            "|200016 |The Nagano Tapes (2018)                                |\n",
            "|267948 |Christmas Cracker (1963)                               |\n",
            "|228813 |The Hero's Journey: The World of Joseph Campbell (1987)|\n",
            "|148084 |Emmanuelle in Soho (1981)                              |\n",
            "|233251 |Looking Up (2019)                                      |\n",
            "|221334 |Bavaria - A magical journey (2012)                     |\n",
            "|134346 |Samay: When Time Strikes (2003)                        |\n",
            "|254198 |Her Pen Pal (2021)                                     |\n",
            "|184915 |Daredevils of the Red Circle (1939)                    |\n",
            "|211680 |De Superjhemp Retörns (2018)                           |\n",
            "|276277 |Exploited (2022)                                       |\n",
            "|277798 |Frank & Zed (2020)                                     |\n",
            "+-------+-------------------------------------------------------+\n",
            "only showing top 20 rows\n",
            "\n"
          ]
        }
      ]
    },
    {
      "cell_type": "code",
      "source": [
        "total_users = movies_ratings_df.select('userId').distinct().count()\n",
        "print(total_users)"
      ],
      "metadata": {
        "id": "RaAoiAUJns59",
        "outputId": "be0c4b49-8687-43d5-a44e-bb327a5cb6d8",
        "colab": {
          "base_uri": "https://localhost:8080/"
        }
      },
      "execution_count": 32,
      "outputs": [
        {
          "output_type": "stream",
          "name": "stdout",
          "text": [
            "170081\n"
          ]
        }
      ]
    },
    {
      "cell_type": "code",
      "source": [
        "user_id_input = input('Enter user id')\n",
        "\n",
        "user_ratings = movies_ratings_df.filter(col('userId') == user_id_input).select('movieId','title')\n",
        "user_ratings.show(truncate = False)"
      ],
      "metadata": {
        "id": "Aav-nF2zl-TM",
        "outputId": "ed1bc288-b53f-4ea1-9b90-a771147e10af",
        "colab": {
          "base_uri": "https://localhost:8080/"
        }
      },
      "execution_count": 94,
      "outputs": [
        {
          "output_type": "stream",
          "name": "stdout",
          "text": [
            "Enter user id100\n",
            "+-------+--------------------------------------------------------------+\n",
            "|movieId|title                                                         |\n",
            "+-------+--------------------------------------------------------------+\n",
            "|1      |Toy Story (1995)                                              |\n",
            "|2      |Jumanji (1995)                                                |\n",
            "|5      |Father of the Bride Part II (1995)                            |\n",
            "|31     |Dangerous Minds (1995)                                        |\n",
            "|34     |Babe (1995)                                                   |\n",
            "|47     |Seven (a.k.a. Se7en) (1995)                                   |\n",
            "|50     |Usual Suspects, The (1995)                                    |\n",
            "|104    |Happy Gilmore (1996)                                          |\n",
            "|150    |Apollo 13 (1995)                                              |\n",
            "|165    |Die Hard: With a Vengeance (1995)                             |\n",
            "|260    |Star Wars: Episode IV - A New Hope (1977)                     |\n",
            "|293    |Léon: The Professional (a.k.a. The Professional) (Léon) (1994)|\n",
            "|296    |Pulp Fiction (1994)                                           |\n",
            "|318    |Shawshank Redemption, The (1994)                              |\n",
            "|356    |Forrest Gump (1994)                                           |\n",
            "|357    |Four Weddings and a Funeral (1994)                            |\n",
            "|364    |Lion King, The (1994)                                         |\n",
            "|377    |Speed (1994)                                                  |\n",
            "|480    |Jurassic Park (1993)                                          |\n",
            "|500    |Mrs. Doubtfire (1993)                                         |\n",
            "+-------+--------------------------------------------------------------+\n",
            "only showing top 20 rows\n",
            "\n"
          ]
        }
      ]
    },
    {
      "cell_type": "markdown",
      "source": [
        "\n",
        "The **left anti join** in PySpark is similar to the join functionality, but it returns only columns from the left DataFrame for non-matched records."
      ],
      "metadata": {
        "id": "dJo1yLfRrtdv"
      }
    },
    {
      "cell_type": "code",
      "source": [
        "recommended_movies_df = top_rated_movies.join(user_ratings, on='movieId', how='left_anti')\n",
        "recommended_movies_df.show(truncate = False)"
      ],
      "metadata": {
        "id": "xJJwmnnyqblL",
        "outputId": "dd4cefb7-386b-4f1c-f815-cc9f4e4165d8",
        "colab": {
          "base_uri": "https://localhost:8080/"
        }
      },
      "execution_count": 96,
      "outputs": [
        {
          "output_type": "stream",
          "name": "stdout",
          "text": [
            "+-------+---------------------------------------+\n",
            "|movieId|title                                  |\n",
            "+-------+---------------------------------------+\n",
            "|148114 |The Ties That Bind (2015)              |\n",
            "|210559 |Black Harvest (1992)                   |\n",
            "|254334 |Sweet Carolina (2021)                  |\n",
            "|289775 |Toma (2021)                            |\n",
            "|212947 |Uppity: The Willy T. Ribbs Story (2020)|\n",
            "|246168 |The Christmas Edition (2020)           |\n",
            "|268482 |'Tis the Season to be Merry (2021)     |\n",
            "|268488 |Runaway Christmas Bride (2017)         |\n",
            "|285265 |Love in Bloom (2022)                   |\n",
            "|218095 |Most Valuable Players (2009)           |\n",
            "|289861 |The Time of Secrets (2022)             |\n",
            "|171279 |Robin Williams - Off the Wall (1978)   |\n",
            "|281956 |ManFish (2022)                         |\n",
            "|137052 |A Job to Kill For (2006)               |\n",
            "|267940 |Silvery Moon (1933)                    |\n",
            "|204034 |The Scoundrel (1988)                   |\n",
            "|137032 |The Perfect Neighbor (2005)            |\n",
            "|171973 |In the Meantime, Darling (1944)        |\n",
            "|136878 |Paradh (2010)                          |\n",
            "|120204 |Fitzgerald (2002)                      |\n",
            "+-------+---------------------------------------+\n",
            "only showing top 20 rows\n",
            "\n"
          ]
        }
      ]
    },
    {
      "cell_type": "markdown",
      "source": [
        "left_anti join will keep only the movies that are not in the user’s rated movies list."
      ],
      "metadata": {
        "id": "ybIQKDcJr9Yc"
      }
    },
    {
      "cell_type": "markdown",
      "source": [
        "**Correlate Ratings and Release Year:**\n",
        "\n",
        "Analyze if there’s any correlation between the release year and the average rating of movies.\n"
      ],
      "metadata": {
        "id": "hSIlWQuGbeum"
      }
    },
    {
      "cell_type": "code",
      "source": [
        "avg_rating_year = movies_ratings_df.groupBy('year').agg(avg(col('rating')).alias('Avg_rating'))\n",
        "avg_rating_year.show(truncate = False)"
      ],
      "metadata": {
        "colab": {
          "base_uri": "https://localhost:8080/"
        },
        "id": "6KPIRsSPKZP-",
        "outputId": "e48c3c7e-a67a-4ffc-b957-6c502804d28f"
      },
      "execution_count": 95,
      "outputs": [
        {
          "output_type": "stream",
          "name": "stdout",
          "text": [
            "+----+------------------+\n",
            "|year|Avg_rating        |\n",
            "+----+------------------+\n",
            "|1959|3.8124824072510273|\n",
            "|1990|3.4511998418576675|\n",
            "|1896|2.895             |\n",
            "|1903|3.095622119815668 |\n",
            "|1975|3.882580279336278 |\n",
            "|1977|3.8249607945635127|\n",
            "|1888|2.596774193548387 |\n",
            "|1924|3.7569906790945407|\n",
            "|2003|3.4766174307820195|\n",
            "|2007|3.5071440157352596|\n",
            "|1892|2.1931818181818183|\n",
            "|2018|3.479722733282176 |\n",
            "|1974|3.894832976797762 |\n",
            "|2015|3.564475949876199 |\n",
            "|2023|3.3467310972143265|\n",
            "|1927|3.860412299091544 |\n",
            "|1955|3.723592937893098 |\n",
            "|1890|2.275             |\n",
            "|2006|3.555251218560976 |\n",
            "|1978|3.4619053148430763|\n",
            "+----+------------------+\n",
            "only showing top 20 rows\n",
            "\n"
          ]
        }
      ]
    },
    {
      "cell_type": "code",
      "source": [
        "avg_rating_year_pd = avg_rating_year.toPandas()\n",
        "correlation = avg_rating_year_pd['year'].astype(float).corr(avg_rating_year_pd['Avg_rating'])\n",
        "print(\"Correlation between release year and average rating: \",correlation)\n"
      ],
      "metadata": {
        "colab": {
          "base_uri": "https://localhost:8080/"
        },
        "id": "po0M4r6jKA4E",
        "outputId": "27db5ec7-86b2-4106-b65a-7fcbad49e481"
      },
      "execution_count": 99,
      "outputs": [
        {
          "output_type": "stream",
          "name": "stdout",
          "text": [
            "Correlation between release year and average rating:  0.46164532462049135\n"
          ]
        }
      ]
    },
    {
      "cell_type": "markdown",
      "source": [
        "In this we are caluclatuing Pearson correlation coefficient between the year and Avg_rating columns."
      ],
      "metadata": {
        "id": "omfJeuoAL6mC"
      }
    },
    {
      "cell_type": "markdown",
      "source": [
        "**Conclusion:** There appears to be a moderate trend where newer movies (those released more recently) tend to receive slightly higher average ratings than older movies as pearson correlation coefficient comes under moderate strength."
      ],
      "metadata": {
        "id": "xnfCd9lGMeYM"
      }
    },
    {
      "cell_type": "markdown",
      "source": [
        "**Genre Diversity in Top-Rated Movies:**\n",
        "\n",
        "Examine the genre diversity among the top 100 highest-rated movies."
      ],
      "metadata": {
        "id": "_ExUqekmbgqF"
      }
    },
    {
      "cell_type": "code",
      "source": [
        "top_rated_movies = movies_ratings_df.groupBy('movieId', 'title')\\\n",
        "    .agg(avg(col('rating')).alias('Avg_rating'))\\\n",
        "    .orderBy(col('Avg_rating').desc())\\\n",
        "    .limit(100)\\\n",
        "    .select('movieId','title')\n",
        "\n",
        "top_rated_movies.show(truncate = False)"
      ],
      "metadata": {
        "colab": {
          "base_uri": "https://localhost:8080/"
        },
        "id": "ZwOWTkRHM2KD",
        "outputId": "df352bd9-ce73-4ef7-d059-0f07cb08ad80"
      },
      "execution_count": 113,
      "outputs": [
        {
          "output_type": "stream",
          "name": "stdout",
          "text": [
            "+-------+-------------------------------------------------------+\n",
            "|movieId|title                                                  |\n",
            "+-------+-------------------------------------------------------+\n",
            "|137030 |Dangerous Child (2001)                                 |\n",
            "|171279 |Robin Williams - Off the Wall (1978)                   |\n",
            "|262795 |Kevin Pollak: The Littlest Suspect (2010)              |\n",
            "|248742 |Insignificant Details of the Accidental Episode (2011) |\n",
            "|216372 |Adoring (2019)                                         |\n",
            "|184887 |Meditation Park (2017)                                 |\n",
            "|289251 |Cirque du Soleil: Saltimbanco (1997)                   |\n",
            "|292047 |Bamboo Doll of Echizen (1963)                          |\n",
            "|267948 |Christmas Cracker (1963)                               |\n",
            "|200016 |The Nagano Tapes (2018)                                |\n",
            "|148084 |Emmanuelle in Soho (1981)                              |\n",
            "|228813 |The Hero's Journey: The World of Joseph Campbell (1987)|\n",
            "|221334 |Bavaria - A magical journey (2012)                     |\n",
            "|233251 |Looking Up (2019)                                      |\n",
            "|254198 |Her Pen Pal (2021)                                     |\n",
            "|134346 |Samay: When Time Strikes (2003)                        |\n",
            "|211680 |De Superjhemp Retörns (2018)                           |\n",
            "|184915 |Daredevils of the Red Circle (1939)                    |\n",
            "|277798 |Frank & Zed (2020)                                     |\n",
            "|276277 |Exploited (2022)                                       |\n",
            "+-------+-------------------------------------------------------+\n",
            "only showing top 20 rows\n",
            "\n"
          ]
        }
      ]
    },
    {
      "cell_type": "code",
      "source": [
        "from pyspark.sql.functions import explode,countDistinct"
      ],
      "metadata": {
        "id": "aUMxAAudOFYE"
      },
      "execution_count": 115,
      "outputs": []
    },
    {
      "cell_type": "code",
      "source": [
        "movies_df_aliased = movies_df.alias('m')\n",
        "top_rated_movies_aliased = top_rated_movies.alias('t')\n",
        "\n",
        "\n",
        "genres_split_df = movies_df_aliased.withColumn(\"genre\", explode(split(col(\"genres\"), \"\\\\|\"))) \\\n",
        "                                   .join(top_rated_movies_aliased, on=\"movieId\") \\\n",
        "                                   .select('m.title', 'genre')\n",
        "\n",
        "genres_split_df.show(truncate=False)\n"
      ],
      "metadata": {
        "colab": {
          "base_uri": "https://localhost:8080/"
        },
        "id": "2sUXzOlWO4kM",
        "outputId": "76951af1-9b59-4c60-ece8-5bbc1cb5c7be"
      },
      "execution_count": 116,
      "outputs": [
        {
          "output_type": "stream",
          "name": "stdout",
          "text": [
            "+-------------------------------+-----------+\n",
            "|title                          |genre      |\n",
            "+-------------------------------+-----------+\n",
            "|Fitzgerald (2002)              |Drama      |\n",
            "|The Seven Deadly Sins (1952)   |Drama      |\n",
            "|The Wrong Girl (1999)          |Drama      |\n",
            "|The Wrong Girl (1999)          |Thriller   |\n",
            "|The Perfect Neighbor (2005)    |Drama      |\n",
            "|The Perfect Neighbor (2005)    |Thriller   |\n",
            "|A Job to Kill For (2006)       |Drama      |\n",
            "|A Job to Kill For (2006)       |Thriller   |\n",
            "|Stranger in My House (1999)    |Thriller   |\n",
            "|Duel of Hearts (1992)          |Drama      |\n",
            "|Duel of Hearts (1992)          |Mystery    |\n",
            "|Duel of Hearts (1992)          |Romance    |\n",
            "|Unmatched (2010)               |Documentary|\n",
            "|Who Killed Chea Vichea? (2010) |Documentary|\n",
            "|Las Poquianchis (1976)         |Crime      |\n",
            "|Las Poquianchis (1976)         |Drama      |\n",
            "|Quax, der Bruchpilot (1941)    |Comedy     |\n",
            "|In the Meantime, Darling (1944)|Comedy     |\n",
            "|In the Meantime, Darling (1944)|War        |\n",
            "|Desirable (1934)               |Drama      |\n",
            "+-------------------------------+-----------+\n",
            "only showing top 20 rows\n",
            "\n"
          ]
        }
      ]
    },
    {
      "cell_type": "code",
      "source": [
        "# Count distinct genres\n",
        "genre_diversity = genres_split_df.groupBy(\"title\") \\\n",
        "                                .agg(countDistinct(\"genre\").alias(\"distinct_genres\"))\n",
        "genre_diversity = genre_diversity.orderBy(col('distinct_genres').desc())\n",
        "genre_diversity.show(truncate = False)"
      ],
      "metadata": {
        "colab": {
          "base_uri": "https://localhost:8080/"
        },
        "id": "9tb-1UVyOT2e",
        "outputId": "83e9a14b-e81e-4922-a919-eb16fb4c05e6"
      },
      "execution_count": 119,
      "outputs": [
        {
          "output_type": "stream",
          "name": "stdout",
          "text": [
            "+-------------------------------------+---------------+\n",
            "|title                                |distinct_genres|\n",
            "+-------------------------------------+---------------+\n",
            "|Eclectic Shorts by Eric Leiser (2006)|4              |\n",
            "|The Light in the Forest (1958)       |4              |\n",
            "|Hanukkah on Rye (2022)               |4              |\n",
            "|Where Is Anne Frank (2021)           |4              |\n",
            "|Duel of Hearts (1992)                |3              |\n",
            "|Silvery Moon (1933)                  |3              |\n",
            "|Christmas in the City (2013)         |3              |\n",
            "|Paper Marriage (1988)                |3              |\n",
            "|Pari (2018)                          |3              |\n",
            "|In Merry Measure (2022)              |3              |\n",
            "|The Thousand Faces of Dunjia (2017)  |3              |\n",
            "|Jingle Bell Princess (2021)          |3              |\n",
            "|Sweet Carolina (2021)                |3              |\n",
            "|Stars Fell on Alabama (2021)         |3              |\n",
            "|Ghosts of Christmas Always (2022)    |3              |\n",
            "|Lung (2016)                          |3              |\n",
            "|The Sauce of Love (2021)             |3              |\n",
            "|A Holiday Homecoming (2021)          |2              |\n",
            "|Looking Up (2019)                    |2              |\n",
            "|Daredevils of the Red Circle (1939)  |2              |\n",
            "+-------------------------------------+---------------+\n",
            "only showing top 20 rows\n",
            "\n"
          ]
        }
      ]
    },
    {
      "cell_type": "markdown",
      "source": [
        "**Total Genre Counts:**\n",
        "\n",
        "You might want to count how many times each genre appears across all the top 100 movies.\n"
      ],
      "metadata": {
        "id": "09F2dNP6S4Dx"
      }
    },
    {
      "cell_type": "code",
      "source": [
        "total_count = genres_split_df.groupBy('genre').agg(count(col('genre')).alias('No_of_count'))\n",
        "total_count = total_count.orderBy(col('No_of_count').desc())\n",
        "total_count.show(truncate = False)"
      ],
      "metadata": {
        "colab": {
          "base_uri": "https://localhost:8080/"
        },
        "id": "honA_vpPS-2b",
        "outputId": "75da16c8-e98b-4436-9757-bd665911f365"
      },
      "execution_count": 120,
      "outputs": [
        {
          "output_type": "stream",
          "name": "stdout",
          "text": [
            "+-----------+-----------+\n",
            "|genre      |No_of_count|\n",
            "+-----------+-----------+\n",
            "|Drama      |31         |\n",
            "|Romance    |27         |\n",
            "|Documentary|24         |\n",
            "|Comedy     |24         |\n",
            "|Children   |7          |\n",
            "|Thriller   |5          |\n",
            "|War        |5          |\n",
            "|Fantasy    |5          |\n",
            "|Animation  |4          |\n",
            "|Horror     |4          |\n",
            "|Action     |4          |\n",
            "|Adventure  |3          |\n",
            "|Mystery    |3          |\n",
            "|Crime      |2          |\n",
            "|Western    |1          |\n",
            "+-----------+-----------+\n",
            "\n"
          ]
        }
      ]
    },
    {
      "cell_type": "markdown",
      "source": [
        "**Percentage Representation:**\n",
        "\n",
        "Calculate the percentage representation of each genre among the top-rated movies to understand which genres dominate."
      ],
      "metadata": {
        "id": "-rY5JeNdS9e9"
      }
    },
    {
      "cell_type": "code",
      "source": [
        "from pyspark.sql.functions import round, col\n",
        "\n",
        "percentage_count = total_count.withColumn('percentage_out_of_5',(col('No_of_count') / 5) * 100)\n",
        "percentage_count.show(truncate=False)"
      ],
      "metadata": {
        "id": "19W52WlHTpik",
        "outputId": "4e916e89-95b8-4bd1-c3bf-335ced0e3531",
        "colab": {
          "base_uri": "https://localhost:8080/"
        }
      },
      "execution_count": 126,
      "outputs": [
        {
          "output_type": "stream",
          "name": "stdout",
          "text": [
            "+-----------+-----------+-------------------+\n",
            "|genre      |No_of_count|percentage_out_of_5|\n",
            "+-----------+-----------+-------------------+\n",
            "|Drama      |31         |620.0              |\n",
            "|Romance    |27         |540.0              |\n",
            "|Documentary|24         |480.0              |\n",
            "|Comedy     |24         |480.0              |\n",
            "|Children   |7          |140.0              |\n",
            "|Thriller   |5          |100.0              |\n",
            "|War        |5          |100.0              |\n",
            "|Fantasy    |5          |100.0              |\n",
            "|Animation  |4          |80.0               |\n",
            "|Horror     |4          |80.0               |\n",
            "|Action     |4          |80.0               |\n",
            "|Adventure  |3          |60.0               |\n",
            "|Mystery    |3          |60.0               |\n",
            "|Crime      |2          |40.0               |\n",
            "|Western    |1          |20.0               |\n",
            "+-----------+-----------+-------------------+\n",
            "\n"
          ]
        }
      ]
    },
    {
      "cell_type": "markdown",
      "source": [
        "**Step 5: Performance Optimization**\n"
      ],
      "metadata": {
        "id": "dghnTYxbbrpK"
      }
    },
    {
      "cell_type": "markdown",
      "source": [
        "**Cache and Persist:**\n",
        "\n",
        "Use caching and persistence in PySpark to optimize the performance of your queries.\n"
      ],
      "metadata": {
        "id": "_xkZ3HA1bzPS"
      }
    },
    {
      "cell_type": "markdown",
      "source": [
        "**Partitioning:**\n",
        "\n",
        "Apply partitioning to the data to improve the efficiency of operations, especially for large datasets.\n"
      ],
      "metadata": {
        "id": "9NqIhsoJb0Jt"
      }
    },
    {
      "cell_type": "markdown",
      "source": [
        "**Step 6: Visualization**\n",
        "\n",
        "**Visualize Data:**\n",
        "Use PySpark with an external library like Matplotlib, Seaborn, or even Power BI to create visualizations such as:\n",
        "Distribution of ratings.\n",
        "Average rating per genre.\n",
        "Trends in movie ratings over the years."
      ],
      "metadata": {
        "id": "TSK8gffbb30I"
      }
    }
  ],
  "metadata": {
    "colab": {
      "name": "Welcome To Colab",
      "provenance": [],
      "include_colab_link": true
    },
    "kernelspec": {
      "display_name": "Python 3",
      "name": "python3"
    }
  },
  "nbformat": 4,
  "nbformat_minor": 0
}