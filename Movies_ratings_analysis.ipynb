{
  "cells": [
    {
      "cell_type": "markdown",
      "metadata": {
        "id": "view-in-github",
        "colab_type": "text"
      },
      "source": [
        "<a href=\"https://colab.research.google.com/github/SrijaG29/Movie-Data-Analysis-and-Recommendations-Using-PySpark/blob/main/Movies_ratings_analysis.ipynb\" target=\"_parent\"><img src=\"https://colab.research.google.com/assets/colab-badge.svg\" alt=\"Open In Colab\"/></a>"
      ]
    },
    {
      "cell_type": "markdown",
      "source": [
        "To create a project using the movie and ratings datasets with PySpark, here’s a step-by-step guide along with some ideas for questions you can answer. This will help demonstrate your PySpark skills and data analysis capabilities on your resume.\n",
        "\n",
        "### Step 1: Data Exploration\n",
        "1. **Load the datasets into PySpark**:\n",
        "   - Load the movie dataset (`movies.csv`) and ratings dataset (`ratings.csv`) into PySpark DataFrames.\n",
        "\n",
        "2. **Inspect the Data**:\n",
        "   - Display the schema and first few rows of both DataFrames to understand the data structure.\n",
        "\n",
        "### Step 2: Data Cleaning and Preparation\n",
        "1. **Handle Missing Values**:\n",
        "   - Check for any missing values and decide how to handle them (e.g., drop rows, fill with default values).\n",
        "\n",
        "2. **Data Transformation**:\n",
        "   - Extract the year from the movie title and create a new column `year`.\n",
        "   - Split the `genres` column into an array of genres.\n",
        "\n",
        "3. **Join the Datasets**:\n",
        "   - Perform an inner join on the `movieId` column to combine the movie and ratings datasets.\n",
        "\n",
        "### Step 3: Data Analysis\n",
        "1. **Top-Rated Movies**:\n",
        "   - Find the top 10 movies with the highest average rating.\n",
        "\n",
        "2. **Popular Genres**:\n",
        "   - Identify the most popular genres based on the number of ratings.\n",
        "\n",
        "3. **User Behavior**:\n",
        "   - Analyze the distribution of ratings by users. For example, find how many movies each user has rated.\n",
        "\n",
        "4. **Yearly Trends**:\n",
        "   - Determine how the average movie rating has changed over the years.\n",
        "\n",
        "5. **Genre-Based Recommendations**:\n",
        "   - For a given genre, list the top 5 movies based on average ratings.\n",
        "\n",
        "6. **Movies with the Most Reviews**:\n",
        "   - Identify the movies with the highest number of ratings.\n",
        "\n",
        "### Step 4: Advanced Analysis\n",
        "1. **User-Specific Recommendations**:\n",
        "   - Build a basic recommendation system by suggesting top-rated movies that a user has not rated yet.\n",
        "\n",
        "2. **Correlate Ratings and Release Year**:\n",
        "   - Analyze if there’s any correlation between the release year and the average rating of movies.\n",
        "\n",
        "3. **Genre Diversity in Top-Rated Movies**:\n",
        "   - Examine the genre diversity among the top 100 highest-rated movies.\n",
        "\n",
        "### Step 5: Performance Optimization\n",
        "1. **Cache and Persist**:\n",
        "   - Use caching and persistence in PySpark to optimize the performance of your queries.\n",
        "\n",
        "2. **Partitioning**:\n",
        "   - Apply partitioning to the data to improve the efficiency of operations, especially for large datasets.\n",
        "\n",
        "### Step 6: Visualization\n",
        "1. **Visualize Data**:\n",
        "   - Use PySpark with an external library like Matplotlib, Seaborn, or even Power BI to create visualizations such as:\n",
        "     - Distribution of ratings.\n",
        "     - Average rating per genre.\n",
        "     - Trends in movie ratings over the years.\n",
        "\n",
        "### Conclusion\n",
        "This project structure not only demonstrates your technical ability to handle and analyze data using PySpark but also your ability to derive meaningful insights from complex datasets. Once complete, you can showcase this project in your portfolio or resume, highlighting key aspects such as data cleaning, transformation, analysis, and visualization."
      ],
      "metadata": {
        "id": "hv2_SgsjCy9-"
      }
    },
    {
      "cell_type": "code",
      "source": [
        "!pip install pyspark"
      ],
      "metadata": {
        "colab": {
          "base_uri": "https://localhost:8080/"
        },
        "id": "XIxLKTPjLB1H",
        "outputId": "469c2370-e1fe-47a5-dcf3-09ad52b629df"
      },
      "execution_count": 1,
      "outputs": [
        {
          "output_type": "stream",
          "name": "stdout",
          "text": [
            "Collecting pyspark\n",
            "  Downloading pyspark-3.5.2.tar.gz (317.3 MB)\n",
            "\u001b[2K     \u001b[90m━━━━━━━━━━━━━━━━━━━━━━━━━━━━━━━━━━━━━━━━\u001b[0m \u001b[32m317.3/317.3 MB\u001b[0m \u001b[31m4.5 MB/s\u001b[0m eta \u001b[36m0:00:00\u001b[0m\n",
            "\u001b[?25h  Preparing metadata (setup.py) ... \u001b[?25l\u001b[?25hdone\n",
            "Requirement already satisfied: py4j==0.10.9.7 in /usr/local/lib/python3.10/dist-packages (from pyspark) (0.10.9.7)\n",
            "Building wheels for collected packages: pyspark\n",
            "  Building wheel for pyspark (setup.py) ... \u001b[?25l\u001b[?25hdone\n",
            "  Created wheel for pyspark: filename=pyspark-3.5.2-py2.py3-none-any.whl size=317812365 sha256=f8096a052c068fd7887adb33f78a26ea9ad65c6b36e010f75f01fe9e8682f4e8\n",
            "  Stored in directory: /root/.cache/pip/wheels/34/34/bd/03944534c44b677cd5859f248090daa9fb27b3c8f8e5f49574\n",
            "Successfully built pyspark\n",
            "Installing collected packages: pyspark\n",
            "Successfully installed pyspark-3.5.2\n"
          ]
        }
      ]
    },
    {
      "cell_type": "code",
      "source": [
        "from pyspark.sql import SparkSession"
      ],
      "metadata": {
        "id": "O30ZFHRgLDVH"
      },
      "execution_count": 2,
      "outputs": []
    },
    {
      "cell_type": "code",
      "source": [
        "spark = (\n",
        "    SparkSession\n",
        "    .builder\n",
        "    .appName(\"Movie ratings\")\n",
        "    .master(\"local[*]\")\n",
        "    .getOrCreate()\n",
        ")"
      ],
      "metadata": {
        "id": "9vzD3nE_L0_S"
      },
      "execution_count": 3,
      "outputs": []
    },
    {
      "cell_type": "code",
      "source": [
        "spark"
      ],
      "metadata": {
        "id": "vPNQe1yDKYWX",
        "outputId": "0aeb2a58-2ce1-497a-87de-e1c44fc73aeb",
        "colab": {
          "base_uri": "https://localhost:8080/",
          "height": 219
        }
      },
      "execution_count": 40,
      "outputs": [
        {
          "output_type": "execute_result",
          "data": {
            "text/plain": [
              "<pyspark.sql.session.SparkSession at 0x7fc32b362ad0>"
            ],
            "text/html": [
              "\n",
              "            <div>\n",
              "                <p><b>SparkSession - in-memory</b></p>\n",
              "                \n",
              "        <div>\n",
              "            <p><b>SparkContext</b></p>\n",
              "\n",
              "            <p><a href=\"http://858514e60a7b:4040\">Spark UI</a></p>\n",
              "\n",
              "            <dl>\n",
              "              <dt>Version</dt>\n",
              "                <dd><code>v3.5.2</code></dd>\n",
              "              <dt>Master</dt>\n",
              "                <dd><code>local[*]</code></dd>\n",
              "              <dt>AppName</dt>\n",
              "                <dd><code>Movie ratings</code></dd>\n",
              "            </dl>\n",
              "        </div>\n",
              "        \n",
              "            </div>\n",
              "        "
            ]
          },
          "metadata": {},
          "execution_count": 40
        }
      ]
    },
    {
      "cell_type": "markdown",
      "source": [
        "**Step 1: Data Exploration**\n",
        "Load the datasets into PySpark session **\"spark\"**:\n",
        "\n",
        "Load the movie dataset (movies.csv) and ratings dataset (ratings.csv) into PySpark DataFrames.\n",
        "Inspect the Data:\n",
        "\n",
        "Display the schema and first few rows of both DataFrames to understand the data structure."
      ],
      "metadata": {
        "id": "xsL0AzuVQhvW"
      }
    },
    {
      "cell_type": "code",
      "source": [
        "movies_df = spark.read.format(\"csv\").option(\"header\",True).load(\"/content/movies.csv\")\n",
        "movies_df.show(truncate = False)"
      ],
      "metadata": {
        "colab": {
          "base_uri": "https://localhost:8080/"
        },
        "id": "wZiKaEPUMKNf",
        "outputId": "3cff7be4-6487-46c2-cfdc-65449c2b4af4"
      },
      "execution_count": 82,
      "outputs": [
        {
          "output_type": "stream",
          "name": "stdout",
          "text": [
            "+-------+-------------------------------------+-------------------------------------------+\n",
            "|movieId|title                                |genres                                     |\n",
            "+-------+-------------------------------------+-------------------------------------------+\n",
            "|1      |Toy Story (1995)                     |Adventure|Animation|Children|Comedy|Fantasy|\n",
            "|2      |Jumanji (1995)                       |Adventure|Children|Fantasy                 |\n",
            "|3      |Grumpier Old Men (1995)              |Comedy|Romance                             |\n",
            "|4      |Waiting to Exhale (1995)             |Comedy|Drama|Romance                       |\n",
            "|5      |Father of the Bride Part II (1995)   |Comedy                                     |\n",
            "|6      |Heat (1995)                          |Action|Crime|Thriller                      |\n",
            "|7      |Sabrina (1995)                       |Comedy|Romance                             |\n",
            "|8      |Tom and Huck (1995)                  |Adventure|Children                         |\n",
            "|9      |Sudden Death (1995)                  |Action                                     |\n",
            "|10     |GoldenEye (1995)                     |Action|Adventure|Thriller                  |\n",
            "|11     |American President, The (1995)       |Comedy|Drama|Romance                       |\n",
            "|12     |Dracula: Dead and Loving It (1995)   |Comedy|Horror                              |\n",
            "|13     |Balto (1995)                         |Adventure|Animation|Children               |\n",
            "|14     |Nixon (1995)                         |Drama                                      |\n",
            "|15     |Cutthroat Island (1995)              |Action|Adventure|Romance                   |\n",
            "|16     |Casino (1995)                        |Crime|Drama                                |\n",
            "|17     |Sense and Sensibility (1995)         |Drama|Romance                              |\n",
            "|18     |Four Rooms (1995)                    |Comedy                                     |\n",
            "|19     |Ace Ventura: When Nature Calls (1995)|Comedy                                     |\n",
            "|20     |Money Train (1995)                   |Action|Comedy|Crime|Drama|Thriller         |\n",
            "+-------+-------------------------------------+-------------------------------------------+\n",
            "only showing top 20 rows\n",
            "\n"
          ]
        }
      ]
    },
    {
      "cell_type": "code",
      "source": [
        "ratings_df = spark.read.format(\"csv\").option(\"header\",True).load(\"/content/ratings.csv\")\n",
        "ratings_df.show(truncate = False)"
      ],
      "metadata": {
        "colab": {
          "base_uri": "https://localhost:8080/"
        },
        "id": "KQQNT_c-MVTS",
        "outputId": "dff05603-b970-49ff-eab5-e991eab514da"
      },
      "execution_count": 5,
      "outputs": [
        {
          "output_type": "stream",
          "name": "stdout",
          "text": [
            "+------+-------+------+---------+\n",
            "|userId|movieId|rating|timestamp|\n",
            "+------+-------+------+---------+\n",
            "|1     |17     |4.0   |944249077|\n",
            "|1     |25     |1.0   |944250228|\n",
            "|1     |29     |2.0   |943230976|\n",
            "|1     |30     |5.0   |944249077|\n",
            "|1     |32     |5.0   |943228858|\n",
            "|1     |34     |2.0   |943228491|\n",
            "|1     |36     |1.0   |944249008|\n",
            "|1     |80     |5.0   |944248943|\n",
            "|1     |110    |3.0   |943231119|\n",
            "|1     |111    |5.0   |944249008|\n",
            "|1     |161    |1.0   |943231162|\n",
            "|1     |166    |5.0   |943228442|\n",
            "|1     |176    |4.0   |944079496|\n",
            "|1     |223    |3.0   |944082810|\n",
            "|1     |232    |5.0   |943228442|\n",
            "|1     |260    |5.0   |943228696|\n",
            "|1     |302    |4.0   |944253272|\n",
            "|1     |306    |5.0   |944248888|\n",
            "|1     |307    |5.0   |944253207|\n",
            "|1     |322    |4.0   |944053801|\n",
            "+------+-------+------+---------+\n",
            "only showing top 20 rows\n",
            "\n"
          ]
        }
      ]
    },
    {
      "cell_type": "markdown",
      "source": [
        "**Step 2: Data Cleaning and Preparation**"
      ],
      "metadata": {
        "id": "8cmtJIHUQtYc"
      }
    },
    {
      "cell_type": "markdown",
      "source": [
        "**Handle Missing Values:**\n",
        "\n",
        "Check for any missing values and decide how to handle them (e.g., drop rows, fill with default values)."
      ],
      "metadata": {
        "id": "wK_wVenGUoMQ"
      }
    },
    {
      "cell_type": "code",
      "source": [
        "from pyspark.sql.functions import sum,col,when,split"
      ],
      "metadata": {
        "id": "pjpOu0uERrQw"
      },
      "execution_count": 6,
      "outputs": []
    },
    {
      "cell_type": "code",
      "source": [
        "print(movies_df.dtypes)"
      ],
      "metadata": {
        "id": "QZdEgmidSigd",
        "outputId": "0d4cd647-2a02-45b0-a20f-53b78cad6a1b",
        "colab": {
          "base_uri": "https://localhost:8080/"
        }
      },
      "execution_count": 7,
      "outputs": [
        {
          "output_type": "stream",
          "name": "stdout",
          "text": [
            "[('movieId', 'string'), ('title', 'string'), ('genres', 'string')]\n"
          ]
        }
      ]
    },
    {
      "cell_type": "code",
      "source": [
        "print(ratings_df.dtypes)"
      ],
      "metadata": {
        "id": "bzpKw9mhSnfR",
        "outputId": "34e065a4-ba0d-40c2-c03f-46d4f52784f4",
        "colab": {
          "base_uri": "https://localhost:8080/"
        }
      },
      "execution_count": 8,
      "outputs": [
        {
          "output_type": "stream",
          "name": "stdout",
          "text": [
            "[('userId', 'string'), ('movieId', 'string'), ('rating', 'string'), ('timestamp', 'string')]\n"
          ]
        }
      ]
    },
    {
      "cell_type": "code",
      "source": [
        "# Create an empty list to hold column expressions for missing values\n",
        "missing_value_expressions_movies = []\n",
        "\n",
        "# Loop through each column in the DataFrame\n",
        "for column in movies_df.columns:\n",
        "    # Count the number of null values in the current column\n",
        "    missing_expr = sum(when(col(column).isNull(), 1).otherwise(0)).alias(column)\n",
        "    missing_value_expressions_movies.append(missing_expr)\n",
        "\n",
        "# Aggregate the missing value counts\n",
        "missing_movies_df = movies_df.agg(*missing_value_expressions_movies)\n",
        "\n",
        "# Show the results\n",
        "missing_movies_df.show()"
      ],
      "metadata": {
        "id": "tuurr3b5Q_MW",
        "outputId": "0d480a90-cafa-4776-f6f8-459a7631e53d",
        "colab": {
          "base_uri": "https://localhost:8080/"
        }
      },
      "execution_count": 9,
      "outputs": [
        {
          "output_type": "stream",
          "name": "stdout",
          "text": [
            "+-------+-----+------+\n",
            "|movieId|title|genres|\n",
            "+-------+-----+------+\n",
            "|      0|    0|     0|\n",
            "+-------+-----+------+\n",
            "\n"
          ]
        }
      ]
    },
    {
      "cell_type": "code",
      "source": [
        "# Create an empty list to hold column expressions for missing values\n",
        "missing_value_expressions_ratings = []\n",
        "\n",
        "# Loop through each column in the DataFrame\n",
        "for column in ratings_df.columns:\n",
        "    # Count the number of null values in the current column\n",
        "    missing_expr = sum(when(col(column).isNull(), 1).otherwise(0)).alias(column)\n",
        "    missing_value_expressions_ratings.append(missing_expr)\n",
        "\n",
        "# Aggregate the missing value counts\n",
        "missing_ratings_df = ratings_df.agg(*missing_value_expressions_ratings)\n",
        "\n",
        "# Show the results\n",
        "missing_ratings_df.show()"
      ],
      "metadata": {
        "id": "lOvr5VMhTJda",
        "outputId": "22250c9d-bdd1-4f9b-f39f-a8f995201fa0",
        "colab": {
          "base_uri": "https://localhost:8080/"
        }
      },
      "execution_count": 10,
      "outputs": [
        {
          "output_type": "stream",
          "name": "stdout",
          "text": [
            "+------+-------+------+---------+\n",
            "|userId|movieId|rating|timestamp|\n",
            "+------+-------+------+---------+\n",
            "|     0|      0|     0|        0|\n",
            "+------+-------+------+---------+\n",
            "\n"
          ]
        }
      ]
    },
    {
      "cell_type": "markdown",
      "source": [
        "**\" There are no null values in these datasets. \"**"
      ],
      "metadata": {
        "id": "8zzVU0unUdcm"
      }
    },
    {
      "cell_type": "markdown",
      "source": [
        "**Data Transformation:**\n",
        "\n",
        "Extract the year from the movie title and create a new column year. Split the genres column into an array of genres."
      ],
      "metadata": {
        "id": "RHbbgyjBUsev"
      }
    },
    {
      "cell_type": "code",
      "source": [
        "movies_df.show(truncate = False)"
      ],
      "metadata": {
        "id": "a0OKbuUMUHvw",
        "outputId": "0c20fc46-d57f-415c-afbb-f8435e356e6d",
        "colab": {
          "base_uri": "https://localhost:8080/"
        }
      },
      "execution_count": 11,
      "outputs": [
        {
          "output_type": "stream",
          "name": "stdout",
          "text": [
            "+-------+-------------------------------------+-------------------------------------------+\n",
            "|movieId|title                                |genres                                     |\n",
            "+-------+-------------------------------------+-------------------------------------------+\n",
            "|1      |Toy Story (1995)                     |Adventure|Animation|Children|Comedy|Fantasy|\n",
            "|2      |Jumanji (1995)                       |Adventure|Children|Fantasy                 |\n",
            "|3      |Grumpier Old Men (1995)              |Comedy|Romance                             |\n",
            "|4      |Waiting to Exhale (1995)             |Comedy|Drama|Romance                       |\n",
            "|5      |Father of the Bride Part II (1995)   |Comedy                                     |\n",
            "|6      |Heat (1995)                          |Action|Crime|Thriller                      |\n",
            "|7      |Sabrina (1995)                       |Comedy|Romance                             |\n",
            "|8      |Tom and Huck (1995)                  |Adventure|Children                         |\n",
            "|9      |Sudden Death (1995)                  |Action                                     |\n",
            "|10     |GoldenEye (1995)                     |Action|Adventure|Thriller                  |\n",
            "|11     |American President, The (1995)       |Comedy|Drama|Romance                       |\n",
            "|12     |Dracula: Dead and Loving It (1995)   |Comedy|Horror                              |\n",
            "|13     |Balto (1995)                         |Adventure|Animation|Children               |\n",
            "|14     |Nixon (1995)                         |Drama                                      |\n",
            "|15     |Cutthroat Island (1995)              |Action|Adventure|Romance                   |\n",
            "|16     |Casino (1995)                        |Crime|Drama                                |\n",
            "|17     |Sense and Sensibility (1995)         |Drama|Romance                              |\n",
            "|18     |Four Rooms (1995)                    |Comedy                                     |\n",
            "|19     |Ace Ventura: When Nature Calls (1995)|Comedy                                     |\n",
            "|20     |Money Train (1995)                   |Action|Comedy|Crime|Drama|Thriller         |\n",
            "+-------+-------------------------------------+-------------------------------------------+\n",
            "only showing top 20 rows\n",
            "\n"
          ]
        }
      ]
    },
    {
      "cell_type": "markdown",
      "source": [
        "Extracting year from title."
      ],
      "metadata": {
        "id": "1HNZXhKia0wg"
      }
    },
    {
      "cell_type": "code",
      "source": [
        "from pyspark.sql.functions import expr,trim"
      ],
      "metadata": {
        "id": "Y7fhCe2kTbD0"
      },
      "execution_count": 80,
      "outputs": []
    },
    {
      "cell_type": "code",
      "source": [
        "movies_df = movies_df.withColumn(\"movie_name\",split(col(\"title\"),\"\\\\(\").getItem(0))\\\n",
        "                     .withColumn(\"year\", expr(\"substring_index(title, '(', -1)\"))\\\n",
        "                     .withColumn(\"year\", trim(col(\"year\")).substr(1, 4))\n",
        "\n",
        "movies_df.show(truncate=False)"
      ],
      "metadata": {
        "id": "f13_qyxGTYHY",
        "outputId": "c2dad3c7-2388-4cdf-be76-1944a3f568f7",
        "colab": {
          "base_uri": "https://localhost:8080/"
        }
      },
      "execution_count": 83,
      "outputs": [
        {
          "output_type": "stream",
          "name": "stdout",
          "text": [
            "+-------+-------------------------------------+-------------------------------------------+-------------------------------+----+\n",
            "|movieId|title                                |genres                                     |movie_name                     |year|\n",
            "+-------+-------------------------------------+-------------------------------------------+-------------------------------+----+\n",
            "|1      |Toy Story (1995)                     |Adventure|Animation|Children|Comedy|Fantasy|Toy Story                      |1995|\n",
            "|2      |Jumanji (1995)                       |Adventure|Children|Fantasy                 |Jumanji                        |1995|\n",
            "|3      |Grumpier Old Men (1995)              |Comedy|Romance                             |Grumpier Old Men               |1995|\n",
            "|4      |Waiting to Exhale (1995)             |Comedy|Drama|Romance                       |Waiting to Exhale              |1995|\n",
            "|5      |Father of the Bride Part II (1995)   |Comedy                                     |Father of the Bride Part II    |1995|\n",
            "|6      |Heat (1995)                          |Action|Crime|Thriller                      |Heat                           |1995|\n",
            "|7      |Sabrina (1995)                       |Comedy|Romance                             |Sabrina                        |1995|\n",
            "|8      |Tom and Huck (1995)                  |Adventure|Children                         |Tom and Huck                   |1995|\n",
            "|9      |Sudden Death (1995)                  |Action                                     |Sudden Death                   |1995|\n",
            "|10     |GoldenEye (1995)                     |Action|Adventure|Thriller                  |GoldenEye                      |1995|\n",
            "|11     |American President, The (1995)       |Comedy|Drama|Romance                       |American President, The        |1995|\n",
            "|12     |Dracula: Dead and Loving It (1995)   |Comedy|Horror                              |Dracula: Dead and Loving It    |1995|\n",
            "|13     |Balto (1995)                         |Adventure|Animation|Children               |Balto                          |1995|\n",
            "|14     |Nixon (1995)                         |Drama                                      |Nixon                          |1995|\n",
            "|15     |Cutthroat Island (1995)              |Action|Adventure|Romance                   |Cutthroat Island               |1995|\n",
            "|16     |Casino (1995)                        |Crime|Drama                                |Casino                         |1995|\n",
            "|17     |Sense and Sensibility (1995)         |Drama|Romance                              |Sense and Sensibility          |1995|\n",
            "|18     |Four Rooms (1995)                    |Comedy                                     |Four Rooms                     |1995|\n",
            "|19     |Ace Ventura: When Nature Calls (1995)|Comedy                                     |Ace Ventura: When Nature Calls |1995|\n",
            "|20     |Money Train (1995)                   |Action|Comedy|Crime|Drama|Thriller         |Money Train                    |1995|\n",
            "+-------+-------------------------------------+-------------------------------------------+-------------------------------+----+\n",
            "only showing top 20 rows\n",
            "\n"
          ]
        }
      ]
    },
    {
      "cell_type": "markdown",
      "source": [
        "Here for some movies there is no year mentioned so I am deleting those rows."
      ],
      "metadata": {
        "id": "yrBfJKliU62V"
      }
    },
    {
      "cell_type": "code",
      "source": [
        "movies_df = movies_df.filter(col(\"year\").rlike(\"^[0-9]{4}$\"))\n",
        "movies_df.show()"
      ],
      "metadata": {
        "id": "IY6UibRQVCUp",
        "outputId": "96f6a80d-e706-4fea-b3e0-e74e65c1bba7",
        "colab": {
          "base_uri": "https://localhost:8080/"
        }
      },
      "execution_count": 85,
      "outputs": [
        {
          "output_type": "stream",
          "name": "stdout",
          "text": [
            "+-------+--------------------+--------------------+--------------------+----+\n",
            "|movieId|               title|              genres|          movie_name|year|\n",
            "+-------+--------------------+--------------------+--------------------+----+\n",
            "|      1|    Toy Story (1995)|Adventure|Animati...|          Toy Story |1995|\n",
            "|      2|      Jumanji (1995)|Adventure|Childre...|            Jumanji |1995|\n",
            "|      3|Grumpier Old Men ...|      Comedy|Romance|   Grumpier Old Men |1995|\n",
            "|      4|Waiting to Exhale...|Comedy|Drama|Romance|  Waiting to Exhale |1995|\n",
            "|      5|Father of the Bri...|              Comedy|Father of the Bri...|1995|\n",
            "|      6|         Heat (1995)|Action|Crime|Thri...|               Heat |1995|\n",
            "|      7|      Sabrina (1995)|      Comedy|Romance|            Sabrina |1995|\n",
            "|      8| Tom and Huck (1995)|  Adventure|Children|       Tom and Huck |1995|\n",
            "|      9| Sudden Death (1995)|              Action|       Sudden Death |1995|\n",
            "|     10|    GoldenEye (1995)|Action|Adventure|...|          GoldenEye |1995|\n",
            "|     11|American Presiden...|Comedy|Drama|Romance|American Presiden...|1995|\n",
            "|     12|Dracula: Dead and...|       Comedy|Horror|Dracula: Dead and...|1995|\n",
            "|     13|        Balto (1995)|Adventure|Animati...|              Balto |1995|\n",
            "|     14|        Nixon (1995)|               Drama|              Nixon |1995|\n",
            "|     15|Cutthroat Island ...|Action|Adventure|...|   Cutthroat Island |1995|\n",
            "|     16|       Casino (1995)|         Crime|Drama|             Casino |1995|\n",
            "|     17|Sense and Sensibi...|       Drama|Romance|Sense and Sensibi...|1995|\n",
            "|     18|   Four Rooms (1995)|              Comedy|         Four Rooms |1995|\n",
            "|     19|Ace Ventura: When...|              Comedy|Ace Ventura: When...|1995|\n",
            "|     20|  Money Train (1995)|Action|Comedy|Cri...|        Money Train |1995|\n",
            "+-------+--------------------+--------------------+--------------------+----+\n",
            "only showing top 20 rows\n",
            "\n"
          ]
        }
      ]
    },
    {
      "cell_type": "code",
      "source": [
        "# dropping the column title\n",
        "\n",
        "movies_df = movies_df.drop(movies_df.title)\n",
        "movies_df.show(truncate = False)"
      ],
      "metadata": {
        "id": "SVR0dz8AYj1h",
        "outputId": "73615e1e-10c1-4e35-b06e-a8387051f724",
        "colab": {
          "base_uri": "https://localhost:8080/"
        }
      },
      "execution_count": 86,
      "outputs": [
        {
          "output_type": "stream",
          "name": "stdout",
          "text": [
            "+-------+-------------------------------------------+-------------------------------+----+\n",
            "|movieId|genres                                     |movie_name                     |year|\n",
            "+-------+-------------------------------------------+-------------------------------+----+\n",
            "|1      |Adventure|Animation|Children|Comedy|Fantasy|Toy Story                      |1995|\n",
            "|2      |Adventure|Children|Fantasy                 |Jumanji                        |1995|\n",
            "|3      |Comedy|Romance                             |Grumpier Old Men               |1995|\n",
            "|4      |Comedy|Drama|Romance                       |Waiting to Exhale              |1995|\n",
            "|5      |Comedy                                     |Father of the Bride Part II    |1995|\n",
            "|6      |Action|Crime|Thriller                      |Heat                           |1995|\n",
            "|7      |Comedy|Romance                             |Sabrina                        |1995|\n",
            "|8      |Adventure|Children                         |Tom and Huck                   |1995|\n",
            "|9      |Action                                     |Sudden Death                   |1995|\n",
            "|10     |Action|Adventure|Thriller                  |GoldenEye                      |1995|\n",
            "|11     |Comedy|Drama|Romance                       |American President, The        |1995|\n",
            "|12     |Comedy|Horror                              |Dracula: Dead and Loving It    |1995|\n",
            "|13     |Adventure|Animation|Children               |Balto                          |1995|\n",
            "|14     |Drama                                      |Nixon                          |1995|\n",
            "|15     |Action|Adventure|Romance                   |Cutthroat Island               |1995|\n",
            "|16     |Crime|Drama                                |Casino                         |1995|\n",
            "|17     |Drama|Romance                              |Sense and Sensibility          |1995|\n",
            "|18     |Comedy                                     |Four Rooms                     |1995|\n",
            "|19     |Comedy                                     |Ace Ventura: When Nature Calls |1995|\n",
            "|20     |Action|Comedy|Crime|Drama|Thriller         |Money Train                    |1995|\n",
            "+-------+-------------------------------------------+-------------------------------+----+\n",
            "only showing top 20 rows\n",
            "\n"
          ]
        }
      ]
    },
    {
      "cell_type": "code",
      "source": [
        "genres_df = movies_df.select(movies_df.movieId,movies_df.genres)\n",
        "genres_df.show(truncate = False)"
      ],
      "metadata": {
        "id": "HNVEsYOdayY8",
        "outputId": "406abe6e-8b6d-4a18-878b-c065e4c8d111",
        "colab": {
          "base_uri": "https://localhost:8080/"
        }
      },
      "execution_count": 87,
      "outputs": [
        {
          "output_type": "stream",
          "name": "stdout",
          "text": [
            "+-------+-------------------------------------------+\n",
            "|movieId|genres                                     |\n",
            "+-------+-------------------------------------------+\n",
            "|1      |Adventure|Animation|Children|Comedy|Fantasy|\n",
            "|2      |Adventure|Children|Fantasy                 |\n",
            "|3      |Comedy|Romance                             |\n",
            "|4      |Comedy|Drama|Romance                       |\n",
            "|5      |Comedy                                     |\n",
            "|6      |Action|Crime|Thriller                      |\n",
            "|7      |Comedy|Romance                             |\n",
            "|8      |Adventure|Children                         |\n",
            "|9      |Action                                     |\n",
            "|10     |Action|Adventure|Thriller                  |\n",
            "|11     |Comedy|Drama|Romance                       |\n",
            "|12     |Comedy|Horror                              |\n",
            "|13     |Adventure|Animation|Children               |\n",
            "|14     |Drama                                      |\n",
            "|15     |Action|Adventure|Romance                   |\n",
            "|16     |Crime|Drama                                |\n",
            "|17     |Drama|Romance                              |\n",
            "|18     |Comedy                                     |\n",
            "|19     |Comedy                                     |\n",
            "|20     |Action|Comedy|Crime|Drama|Thriller         |\n",
            "+-------+-------------------------------------------+\n",
            "only showing top 20 rows\n",
            "\n"
          ]
        }
      ]
    },
    {
      "cell_type": "code",
      "source": [
        "genres_df = genres_df.withColumn(\"gener\",split(genres_df.genres,\"\\|\"))\n",
        "genres_df.show(truncate = False)"
      ],
      "metadata": {
        "id": "08z_LWsYbWfS",
        "outputId": "57c5e9a9-7c30-49f6-e81f-b6f710b386a7",
        "colab": {
          "base_uri": "https://localhost:8080/"
        }
      },
      "execution_count": 88,
      "outputs": [
        {
          "output_type": "stream",
          "name": "stdout",
          "text": [
            "+-------+-------------------------------------------+-------------------------------------------------+\n",
            "|movieId|genres                                     |gener                                            |\n",
            "+-------+-------------------------------------------+-------------------------------------------------+\n",
            "|1      |Adventure|Animation|Children|Comedy|Fantasy|[Adventure, Animation, Children, Comedy, Fantasy]|\n",
            "|2      |Adventure|Children|Fantasy                 |[Adventure, Children, Fantasy]                   |\n",
            "|3      |Comedy|Romance                             |[Comedy, Romance]                                |\n",
            "|4      |Comedy|Drama|Romance                       |[Comedy, Drama, Romance]                         |\n",
            "|5      |Comedy                                     |[Comedy]                                         |\n",
            "|6      |Action|Crime|Thriller                      |[Action, Crime, Thriller]                        |\n",
            "|7      |Comedy|Romance                             |[Comedy, Romance]                                |\n",
            "|8      |Adventure|Children                         |[Adventure, Children]                            |\n",
            "|9      |Action                                     |[Action]                                         |\n",
            "|10     |Action|Adventure|Thriller                  |[Action, Adventure, Thriller]                    |\n",
            "|11     |Comedy|Drama|Romance                       |[Comedy, Drama, Romance]                         |\n",
            "|12     |Comedy|Horror                              |[Comedy, Horror]                                 |\n",
            "|13     |Adventure|Animation|Children               |[Adventure, Animation, Children]                 |\n",
            "|14     |Drama                                      |[Drama]                                          |\n",
            "|15     |Action|Adventure|Romance                   |[Action, Adventure, Romance]                     |\n",
            "|16     |Crime|Drama                                |[Crime, Drama]                                   |\n",
            "|17     |Drama|Romance                              |[Drama, Romance]                                 |\n",
            "|18     |Comedy                                     |[Comedy]                                         |\n",
            "|19     |Comedy                                     |[Comedy]                                         |\n",
            "|20     |Action|Comedy|Crime|Drama|Thriller         |[Action, Comedy, Crime, Drama, Thriller]         |\n",
            "+-------+-------------------------------------------+-------------------------------------------------+\n",
            "only showing top 20 rows\n",
            "\n"
          ]
        }
      ]
    },
    {
      "cell_type": "code",
      "source": [
        "genres_df = genres_df.drop(genres_df.genres)\n",
        "genres_df.show(truncate = False)"
      ],
      "metadata": {
        "id": "2caCnEIJc7kt",
        "outputId": "3f0eb4d9-b0c8-47a6-e76f-eabb366eb744",
        "colab": {
          "base_uri": "https://localhost:8080/"
        }
      },
      "execution_count": 89,
      "outputs": [
        {
          "output_type": "stream",
          "name": "stdout",
          "text": [
            "+-------+-------------------------------------------------+\n",
            "|movieId|gener                                            |\n",
            "+-------+-------------------------------------------------+\n",
            "|1      |[Adventure, Animation, Children, Comedy, Fantasy]|\n",
            "|2      |[Adventure, Children, Fantasy]                   |\n",
            "|3      |[Comedy, Romance]                                |\n",
            "|4      |[Comedy, Drama, Romance]                         |\n",
            "|5      |[Comedy]                                         |\n",
            "|6      |[Action, Crime, Thriller]                        |\n",
            "|7      |[Comedy, Romance]                                |\n",
            "|8      |[Adventure, Children]                            |\n",
            "|9      |[Action]                                         |\n",
            "|10     |[Action, Adventure, Thriller]                    |\n",
            "|11     |[Comedy, Drama, Romance]                         |\n",
            "|12     |[Comedy, Horror]                                 |\n",
            "|13     |[Adventure, Animation, Children]                 |\n",
            "|14     |[Drama]                                          |\n",
            "|15     |[Action, Adventure, Romance]                     |\n",
            "|16     |[Crime, Drama]                                   |\n",
            "|17     |[Drama, Romance]                                 |\n",
            "|18     |[Comedy]                                         |\n",
            "|19     |[Comedy]                                         |\n",
            "|20     |[Action, Comedy, Crime, Drama, Thriller]         |\n",
            "+-------+-------------------------------------------------+\n",
            "only showing top 20 rows\n",
            "\n"
          ]
        }
      ]
    },
    {
      "cell_type": "markdown",
      "source": [
        "**Join the Datasets:**\n",
        "\n",
        "Perform an inner join on the movieId column to combine the movie and ratings datasets."
      ],
      "metadata": {
        "id": "TEe8gYDVUyL6"
      }
    },
    {
      "cell_type": "code",
      "source": [
        "movies_ratings_df = movies_df.join(ratings_df,on='movieId',how='inner')\n",
        "movies_ratings_df.show(truncate = False)"
      ],
      "metadata": {
        "id": "1Ouya_VFdNl4",
        "colab": {
          "base_uri": "https://localhost:8080/"
        },
        "outputId": "0744f7c6-8a83-47f8-9d45-10ab08c3c229"
      },
      "execution_count": 90,
      "outputs": [
        {
          "output_type": "stream",
          "name": "stdout",
          "text": [
            "+-------+--------------------------------------+-----------------------------------+----+------+------+---------+\n",
            "|movieId|genres                                |movie_name                         |year|userId|rating|timestamp|\n",
            "+-------+--------------------------------------+-----------------------------------+----+------+------+---------+\n",
            "|17     |Drama|Romance                         |Sense and Sensibility              |1995|1     |4.0   |944249077|\n",
            "|25     |Drama|Romance                         |Leaving Las Vegas                  |1995|1     |1.0   |944250228|\n",
            "|29     |Adventure|Drama|Fantasy|Mystery|Sci-Fi|City of Lost Children, The         |1995|1     |2.0   |943230976|\n",
            "|30     |Crime|Drama                           |Shanghai Triad                     |1995|1     |5.0   |944249077|\n",
            "|32     |Mystery|Sci-Fi|Thriller               |Twelve Monkeys                     |1995|1     |5.0   |943228858|\n",
            "|34     |Children|Drama                        |Babe                               |1995|1     |2.0   |943228491|\n",
            "|36     |Crime|Drama                           |Dead Man Walking                   |1995|1     |1.0   |944249008|\n",
            "|80     |Children|Drama                        |White Balloon, The                 |1995|1     |5.0   |944248943|\n",
            "|110    |Action|Drama|War                      |Braveheart                         |1995|1     |3.0   |943231119|\n",
            "|111    |Crime|Drama|Thriller                  |Taxi Driver                        |1976|1     |5.0   |944249008|\n",
            "|161    |Drama|Thriller|War                    |Crimson Tide                       |1995|1     |1.0   |943231162|\n",
            "|166    |Comedy|Crime|Drama                    |Doom Generation, The               |1995|1     |5.0   |943228442|\n",
            "|176    |Comedy                                |Living in Oblivion                 |1995|1     |4.0   |944079496|\n",
            "|223    |Comedy                                |Clerks                             |1994|1     |3.0   |944082810|\n",
            "|232    |Comedy|Drama|Romance                  |Eat Drink Man Woman                |1994|1     |5.0   |943228442|\n",
            "|260    |Action|Adventure|Sci-Fi               |Star Wars: Episode IV - A New Hope |1977|1     |5.0   |943228696|\n",
            "|302    |Drama|Romance                         |Queen Margot                       |1994|1     |4.0   |944253272|\n",
            "|306    |Drama                                 |Three Colors: Red                  |1994|1     |5.0   |944248888|\n",
            "|307    |Drama                                 |Three Colors: Blue                 |1993|1     |5.0   |944253207|\n",
            "|322    |Comedy|Drama                          |Swimming with Sharks               |1995|1     |4.0   |944053801|\n",
            "+-------+--------------------------------------+-----------------------------------+----+------+------+---------+\n",
            "only showing top 20 rows\n",
            "\n"
          ]
        }
      ]
    },
    {
      "cell_type": "markdown",
      "source": [
        "**Step 3: Data Analysis**\n",
        "\n"
      ],
      "metadata": {
        "id": "Qnoe8WBYC6FE"
      }
    },
    {
      "cell_type": "markdown",
      "source": [
        "**Top-Rated Movies:**\n",
        "\n",
        "Find the top 10 movies with the highest average rating."
      ],
      "metadata": {
        "id": "pSUxspUTDAf1"
      }
    },
    {
      "cell_type": "code",
      "source": [
        "from pyspark.sql.functions import avg,desc,asc\n",
        "top_ten_movies = movies_ratings_df.groupby('movieId','movie_name').agg(avg('rating').alias('Avg_rating'))\n",
        "top_ten_movies = top_ten_movies.orderBy(top_ten_movies.Avg_rating.desc())\n",
        "top_ten_movies.show(10,truncate = False)"
      ],
      "metadata": {
        "colab": {
          "base_uri": "https://localhost:8080/"
        },
        "id": "gXx-dL6tDU9t",
        "outputId": "49af17f8-9ad9-4860-9a41-28ee346ba0d6"
      },
      "execution_count": 91,
      "outputs": [
        {
          "output_type": "stream",
          "name": "stdout",
          "text": [
            "+-------+--------------------------------+----------+\n",
            "|movieId|movie_name                      |Avg_rating|\n",
            "+-------+--------------------------------+----------+\n",
            "|143061 |Don't Look Down                 |5.0       |\n",
            "|292047 |Bamboo Doll of Echizen          |5.0       |\n",
            "|173815 |Carnival                        |5.0       |\n",
            "|132150 |The 7 Grandmasters              |5.0       |\n",
            "|144058 |Territory                       |5.0       |\n",
            "|136878 |Paradh                          |5.0       |\n",
            "|199572 |Love+Sling                      |5.0       |\n",
            "|256477 |Justice League: Secret Origins  |5.0       |\n",
            "|141870 |One-Two, Soldiers Were Going... |5.0       |\n",
            "|203060 |Worlds of Ursula K. Le Guin     |5.0       |\n",
            "+-------+--------------------------------+----------+\n",
            "only showing top 10 rows\n",
            "\n"
          ]
        }
      ]
    },
    {
      "cell_type": "markdown",
      "source": [
        "**Popular Genres:**\n",
        "\n",
        "Identify the most popular genres based on the number of ratings.\n"
      ],
      "metadata": {
        "id": "GjPXt06ZDFyp"
      }
    },
    {
      "cell_type": "code",
      "source": [
        "from pyspark.sql.functions import count\n",
        "\n",
        "popular_genres = movies_ratings_df.groupBy('genres').agg(count('rating').alias('No_of_ratings'))\n",
        "popular_genres = popular_genres.sort(popular_genres.No_of_ratings.desc())\n",
        "popular_genres.show(truncate = False)"
      ],
      "metadata": {
        "colab": {
          "base_uri": "https://localhost:8080/"
        },
        "id": "VhxiSHmDFNTU",
        "outputId": "da87a702-86ba-4f8b-8f4c-51518404f828"
      },
      "execution_count": 92,
      "outputs": [
        {
          "output_type": "stream",
          "name": "stdout",
          "text": [
            "+--------------------------------+-------------+\n",
            "|genres                          |No_of_ratings|\n",
            "+--------------------------------+-------------+\n",
            "|Drama                           |233610       |\n",
            "|Comedy                          |194932       |\n",
            "|Comedy|Romance                  |112686       |\n",
            "|Drama|Romance                   |101327       |\n",
            "|Comedy|Drama                    |96340        |\n",
            "|Comedy|Drama|Romance            |90816        |\n",
            "|Action|Adventure|Sci-Fi         |82561        |\n",
            "|Crime|Drama                     |79742        |\n",
            "|Action|Crime|Thriller           |50769        |\n",
            "|Drama|Thriller                  |48991        |\n",
            "|Action|Adventure|Sci-Fi|Thriller|45753        |\n",
            "|Action|Adventure|Thriller       |43291        |\n",
            "|Action|Sci-Fi|Thriller          |41019        |\n",
            "|Crime|Drama|Thriller            |40916        |\n",
            "|Drama|War                       |36949        |\n",
            "|Action|Crime|Drama|Thriller     |34356        |\n",
            "|Action|Drama|War                |33745        |\n",
            "|Comedy|Crime                    |33440        |\n",
            "|Documentary                     |33153        |\n",
            "|Horror                          |28580        |\n",
            "+--------------------------------+-------------+\n",
            "only showing top 20 rows\n",
            "\n"
          ]
        }
      ]
    },
    {
      "cell_type": "markdown",
      "source": [
        "**User Behavior:**\n",
        "\n",
        "Analyze the distribution of ratings by users. For example, find how many movies each user has rated.\n"
      ],
      "metadata": {
        "id": "UZH5YsrYDLdS"
      }
    },
    {
      "cell_type": "code",
      "source": [
        "user_rating = movies_ratings_df.groupBy('userId').agg(count('userId').alias('No_of_ratings')).orderBy(movies_ratings_df.userId.asc())\n",
        "user_rating.show(truncate = False)"
      ],
      "metadata": {
        "colab": {
          "base_uri": "https://localhost:8080/"
        },
        "id": "OZ4lARQUG-uG",
        "outputId": "ae83a03a-75ff-4303-c3db-0b7a466ae289"
      },
      "execution_count": 93,
      "outputs": [
        {
          "output_type": "stream",
          "name": "stdout",
          "text": [
            "+------+-------------+\n",
            "|userId|No_of_ratings|\n",
            "+------+-------------+\n",
            "|1     |141          |\n",
            "|10    |660          |\n",
            "|100   |248          |\n",
            "|1000  |27           |\n",
            "|10000 |165          |\n",
            "|10001 |25           |\n",
            "|10002 |35           |\n",
            "|10003 |447          |\n",
            "|10004 |212          |\n",
            "|10005 |420          |\n",
            "|10006 |63           |\n",
            "|10007 |89           |\n",
            "|10008 |91           |\n",
            "|10009 |59           |\n",
            "|1001  |102          |\n",
            "|10010 |137          |\n",
            "|10011 |20           |\n",
            "|10012 |64           |\n",
            "|10013 |30           |\n",
            "|10014 |88           |\n",
            "+------+-------------+\n",
            "only showing top 20 rows\n",
            "\n"
          ]
        }
      ]
    },
    {
      "cell_type": "markdown",
      "source": [
        "**Yearly Trends:**\n",
        "\n",
        "Determine how the average movie rating has changed over the years.\n"
      ],
      "metadata": {
        "id": "_I27yDxmDOHR"
      }
    },
    {
      "cell_type": "code",
      "source": [
        "movies_ratings_df.select('year').show()"
      ],
      "metadata": {
        "id": "MRlwI14IR2pL",
        "outputId": "2e67c4e9-ecda-4e73-da2a-f684510cb17c",
        "colab": {
          "base_uri": "https://localhost:8080/"
        }
      },
      "execution_count": 94,
      "outputs": [
        {
          "output_type": "stream",
          "name": "stdout",
          "text": [
            "+----+\n",
            "|year|\n",
            "+----+\n",
            "|1995|\n",
            "|1995|\n",
            "|1995|\n",
            "|1995|\n",
            "|1995|\n",
            "|1995|\n",
            "|1995|\n",
            "|1995|\n",
            "|1995|\n",
            "|1976|\n",
            "|1995|\n",
            "|1995|\n",
            "|1995|\n",
            "|1994|\n",
            "|1994|\n",
            "|1977|\n",
            "|1994|\n",
            "|1994|\n",
            "|1993|\n",
            "|1995|\n",
            "+----+\n",
            "only showing top 20 rows\n",
            "\n"
          ]
        }
      ]
    },
    {
      "cell_type": "code",
      "source": [
        "avg_rating_year = movies_ratings_df.groupBy('year').agg(avg('rating').alias('Avg_rating'))\n",
        "avg_rating_year.show(truncate = False)"
      ],
      "metadata": {
        "id": "mfquYcqzLFg5",
        "outputId": "147a79fd-4468-4374-bd32-15650710fdd3",
        "colab": {
          "base_uri": "https://localhost:8080/"
        }
      },
      "execution_count": 95,
      "outputs": [
        {
          "output_type": "stream",
          "name": "stdout",
          "text": [
            "+----+------------------+\n",
            "|year|Avg_rating        |\n",
            "+----+------------------+\n",
            "|1953|3.7073750991276766|\n",
            "|1903|2.836206896551724 |\n",
            "|1957|4.027836857250094 |\n",
            "|1897|2.7857142857142856|\n",
            "|1987|3.55497074751517  |\n",
            "|1956|3.7286485218207415|\n",
            "|2016|3.5318225764614333|\n",
            "|1936|3.8399738732854343|\n",
            "|2012|3.523314898029727 |\n",
            "|2020|3.2318540977581773|\n",
            "|1958|3.8233293657541236|\n",
            "|1910|2.7               |\n",
            "|1943|3.6489776046738074|\n",
            "|1915|3.056338028169014 |\n",
            "|1972|3.9569477434679334|\n",
            "|1931|3.8992463308211027|\n",
            "|1988|3.5281829017228303|\n",
            "|1938|3.9044081228330856|\n",
            "|1926|3.803921568627451 |\n",
            "|1911|3.4285714285714284|\n",
            "+----+------------------+\n",
            "only showing top 20 rows\n",
            "\n"
          ]
        }
      ]
    },
    {
      "cell_type": "markdown",
      "source": [
        "**Genre-Based Recommendations:**\n",
        "\n",
        "For a given genre, list the top 5 movies based on average ratings.\n"
      ],
      "metadata": {
        "id": "VeuW6dMwDP1E"
      }
    },
    {
      "cell_type": "code",
      "source": [
        "genre_input = input(\"Enter the genre to filter movies: \")\n",
        "\n",
        "top_five_movies = (movies_ratings_df.filter(col('genres') == genre_input)\\\n",
        "                   .groupBy('movie_name')\\\n",
        "                   .agg(avg('rating').alias('Avg_rating'))\\\n",
        "                   .orderBy(col('Avg_rating').desc())\n",
        "                   .limit(5))\n",
        "top_five_movies.show(truncate = False)\n"
      ],
      "metadata": {
        "id": "qU5R0daGXmJi",
        "outputId": "c281f022-7541-4a84-82e4-6b2dacabd567",
        "colab": {
          "base_uri": "https://localhost:8080/"
        }
      },
      "execution_count": 98,
      "outputs": [
        {
          "output_type": "stream",
          "name": "stdout",
          "text": [
            "Enter the genre to filter movies: Action\n",
            "+----------------------------+----------+\n",
            "|movie_name                  |Avg_rating|\n",
            "+----------------------------+----------+\n",
            "|Drunken Master 3            |5.0       |\n",
            "|Dreadnaught                 |5.0       |\n",
            "|Buffalo Girls               |5.0       |\n",
            "|The 7 Grandmasters          |5.0       |\n",
            "|The Division: Agent Origins |5.0       |\n",
            "+----------------------------+----------+\n",
            "\n"
          ]
        }
      ]
    },
    {
      "cell_type": "code",
      "source": [
        "x = movies_df.filter(col(\"title\").like(\"%Dreadnaught%\"))\n",
        "x.select(x.genres).show()"
      ],
      "metadata": {
        "id": "dJRR51xpZWKS",
        "outputId": "6f67bcde-535d-466a-f6e7-2464d52a205b",
        "colab": {
          "base_uri": "https://localhost:8080/"
        }
      },
      "execution_count": 117,
      "outputs": [
        {
          "output_type": "stream",
          "name": "stdout",
          "text": [
            "+------+\n",
            "|genres|\n",
            "+------+\n",
            "|Action|\n",
            "+------+\n",
            "\n"
          ]
        }
      ]
    },
    {
      "cell_type": "markdown",
      "source": [
        "**Movies with the Most Reviews:**\n",
        "\n",
        "Identify the movies with the highest number of ratings."
      ],
      "metadata": {
        "id": "pST_IMd2DRj9"
      }
    },
    {
      "cell_type": "code",
      "source": [
        "from pyspark.sql.functions import desc"
      ],
      "metadata": {
        "id": "eaD9ciA3alvz"
      },
      "execution_count": 109,
      "outputs": []
    },
    {
      "cell_type": "code",
      "source": [
        "most_reviews = movies_ratings_df.groupBy('movieId','movie_name')\\\n",
        "              .agg(count(col('rating')).alias('No_of_reviews'))\\\n",
        "              .orderBy(col('No_of_reviews').desc())\\\n",
        "              .limit(1)\n",
        "most_reviews.show(truncate = False)"
      ],
      "metadata": {
        "id": "EvSoE32NZ6N9",
        "outputId": "7d12d613-e37f-401b-b1c9-cbaaae3f90ab",
        "colab": {
          "base_uri": "https://localhost:8080/"
        }
      },
      "execution_count": 112,
      "outputs": [
        {
          "output_type": "stream",
          "name": "stdout",
          "text": [
            "+-------+--------------------------+-------------+\n",
            "|movieId|movie_name                |No_of_reviews|\n",
            "+-------+--------------------------+-------------+\n",
            "|318    |Shawshank Redemption, The |10749        |\n",
            "+-------+--------------------------+-------------+\n",
            "\n"
          ]
        }
      ]
    },
    {
      "cell_type": "code",
      "source": [
        "x = movies_df.filter(col(\"title\").like(\"Shawshank Redemption%\"))\n",
        "x.show(truncate = False)"
      ],
      "metadata": {
        "id": "HnZpjosQbLq8",
        "outputId": "0962ced3-8d11-4e57-f8b3-14bbc2ec737a",
        "colab": {
          "base_uri": "https://localhost:8080/"
        }
      },
      "execution_count": 116,
      "outputs": [
        {
          "output_type": "stream",
          "name": "stdout",
          "text": [
            "+-------+-----------+--------------------------+----+\n",
            "|movieId|genres     |movie_name                |year|\n",
            "+-------+-----------+--------------------------+----+\n",
            "|318    |Crime|Drama|Shawshank Redemption, The |1994|\n",
            "+-------+-----------+--------------------------+----+\n",
            "\n"
          ]
        }
      ]
    },
    {
      "cell_type": "markdown",
      "source": [
        "**Step 4: Advanced Analysis**\n"
      ],
      "metadata": {
        "id": "PHgnTyYSbWfH"
      }
    },
    {
      "cell_type": "markdown",
      "source": [
        "**User-Specific Recommendations:**\n",
        "\n",
        "Build a basic recommendation system by suggesting top-rated movies that a user has not rated yet.\n"
      ],
      "metadata": {
        "id": "cloHEQ2Vbcrs"
      }
    },
    {
      "cell_type": "code",
      "source": [],
      "metadata": {
        "id": "1zGIhYDjbiLQ"
      },
      "execution_count": null,
      "outputs": []
    },
    {
      "cell_type": "markdown",
      "source": [
        "**Correlate Ratings and Release Year:**\n",
        "\n",
        "Analyze if there’s any correlation between the release year and the average rating of movies.\n"
      ],
      "metadata": {
        "id": "hSIlWQuGbeum"
      }
    },
    {
      "cell_type": "code",
      "source": [],
      "metadata": {
        "id": "TNxcejPtbilh"
      },
      "execution_count": null,
      "outputs": []
    },
    {
      "cell_type": "markdown",
      "source": [
        "**Genre Diversity in Top-Rated Movies:**\n",
        "\n",
        "Examine the genre diversity among the top 100 highest-rated movies."
      ],
      "metadata": {
        "id": "_ExUqekmbgqF"
      }
    },
    {
      "cell_type": "code",
      "source": [],
      "metadata": {
        "id": "Oal4Fluoagbe"
      },
      "execution_count": null,
      "outputs": []
    },
    {
      "cell_type": "markdown",
      "source": [
        "**Step 5: Performance Optimization**\n"
      ],
      "metadata": {
        "id": "dghnTYxbbrpK"
      }
    },
    {
      "cell_type": "markdown",
      "source": [
        "**Cache and Persist:**\n",
        "\n",
        "Use caching and persistence in PySpark to optimize the performance of your queries.\n"
      ],
      "metadata": {
        "id": "_xkZ3HA1bzPS"
      }
    },
    {
      "cell_type": "markdown",
      "source": [
        "**Partitioning:**\n",
        "\n",
        "Apply partitioning to the data to improve the efficiency of operations, especially for large datasets.\n"
      ],
      "metadata": {
        "id": "9NqIhsoJb0Jt"
      }
    },
    {
      "cell_type": "markdown",
      "source": [
        "**Step 6: Visualization**\n",
        "\n",
        "**Visualize Data:**\n",
        "Use PySpark with an external library like Matplotlib, Seaborn, or even Power BI to create visualizations such as:\n",
        "Distribution of ratings.\n",
        "Average rating per genre.\n",
        "Trends in movie ratings over the years."
      ],
      "metadata": {
        "id": "TSK8gffbb30I"
      }
    }
  ],
  "metadata": {
    "colab": {
      "name": "Welcome To Colab",
      "provenance": [],
      "include_colab_link": true
    },
    "kernelspec": {
      "display_name": "Python 3",
      "name": "python3"
    }
  },
  "nbformat": 4,
  "nbformat_minor": 0
}