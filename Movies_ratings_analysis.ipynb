{
  "cells": [
    {
      "cell_type": "markdown",
      "metadata": {
        "id": "view-in-github",
        "colab_type": "text"
      },
      "source": [
        "<a href=\"https://colab.research.google.com/github/SrijaG29/Movie-Data-Analysis-and-Recommendations-Using-PySpark/blob/main/Movies_ratings_analysis.ipynb\" target=\"_parent\"><img src=\"https://colab.research.google.com/assets/colab-badge.svg\" alt=\"Open In Colab\"/></a>"
      ]
    },
    {
      "cell_type": "markdown",
      "source": [
        "To create a project using the movie and ratings datasets with PySpark, here’s a step-by-step guide along with some ideas for questions you can answer. This will help demonstrate your PySpark skills and data analysis capabilities on your resume.\n",
        "\n",
        "### Step 1: Data Exploration\n",
        "1. **Load the datasets into PySpark**:\n",
        "   - Load the movie dataset (`movies.csv`) and ratings dataset (`ratings.csv`) into PySpark DataFrames.\n",
        "\n",
        "2. **Inspect the Data**:\n",
        "   - Display the schema and first few rows of both DataFrames to understand the data structure.\n",
        "\n",
        "### Step 2: Data Cleaning and Preparation\n",
        "1. **Handle Missing Values**:\n",
        "   - Check for any missing values and decide how to handle them (e.g., drop rows, fill with default values).\n",
        "\n",
        "2. **Data Transformation**:\n",
        "   - Extract the year from the movie title and create a new column `year`.\n",
        "   - Split the `genres` column into an array of genres.\n",
        "\n",
        "3. **Join the Datasets**:\n",
        "   - Perform an inner join on the `movieId` column to combine the movie and ratings datasets.\n",
        "\n",
        "### Step 3: Data Analysis\n",
        "1. **Top-Rated Movies**:\n",
        "   - Find the top 10 movies with the highest average rating.\n",
        "\n",
        "2. **Popular Genres**:\n",
        "   - Identify the most popular genres based on the number of ratings.\n",
        "\n",
        "3. **User Behavior**:\n",
        "   - Analyze the distribution of ratings by users. For example, find how many movies each user has rated.\n",
        "\n",
        "4. **Yearly Trends**:\n",
        "   - Determine how the average movie rating has changed over the years.\n",
        "\n",
        "5. **Genre-Based Recommendations**:\n",
        "   - For a given genre, list the top 5 movies based on average ratings.\n",
        "\n",
        "6. **Movies with the Most Reviews**:\n",
        "   - Identify the movies with the highest number of ratings.\n",
        "\n",
        "### Step 4: Advanced Analysis\n",
        "1. **User-Specific Recommendations**:\n",
        "   - Build a basic recommendation system by suggesting top-rated movies that a user has not rated yet.\n",
        "\n",
        "2. **Correlate Ratings and Release Year**:\n",
        "   - Analyze if there’s any correlation between the release year and the average rating of movies.\n",
        "\n",
        "3. **Genre Diversity in Top-Rated Movies**:\n",
        "   - Examine the genre diversity among the top 100 highest-rated movies.\n",
        "\n",
        "### Step 5: Performance Optimization\n",
        "1. **Cache and Persist**:\n",
        "   - Use caching and persistence in PySpark to optimize the performance of your queries.\n",
        "\n",
        "2. **Partitioning**:\n",
        "   - Apply partitioning to the data to improve the efficiency of operations, especially for large datasets.\n",
        "\n",
        "### Step 6: Visualization\n",
        "1. **Visualize Data**:\n",
        "   - Use PySpark with an external library like Matplotlib, Seaborn, or even Power BI to create visualizations such as:\n",
        "     - Distribution of ratings.\n",
        "     - Average rating per genre.\n",
        "     - Trends in movie ratings over the years.\n",
        "\n",
        "### Conclusion\n",
        "This project structure not only demonstrates your technical ability to handle and analyze data using PySpark but also your ability to derive meaningful insights from complex datasets. Once complete, you can showcase this project in your portfolio or resume, highlighting key aspects such as data cleaning, transformation, analysis, and visualization."
      ],
      "metadata": {
        "id": "hv2_SgsjCy9-"
      }
    },
    {
      "cell_type": "code",
      "source": [
        "!pip install pyspark"
      ],
      "metadata": {
        "colab": {
          "base_uri": "https://localhost:8080/"
        },
        "id": "XIxLKTPjLB1H",
        "outputId": "2a462c45-05f2-4830-a644-a7cbaa3e7ac5"
      },
      "execution_count": 71,
      "outputs": [
        {
          "output_type": "stream",
          "name": "stdout",
          "text": [
            "Requirement already satisfied: pyspark in /usr/local/lib/python3.10/dist-packages (3.5.2)\n",
            "Requirement already satisfied: py4j==0.10.9.7 in /usr/local/lib/python3.10/dist-packages (from pyspark) (0.10.9.7)\n"
          ]
        }
      ]
    },
    {
      "cell_type": "code",
      "source": [
        "from pyspark.sql import SparkSession"
      ],
      "metadata": {
        "id": "O30ZFHRgLDVH"
      },
      "execution_count": 72,
      "outputs": []
    },
    {
      "cell_type": "code",
      "source": [
        "spark = (\n",
        "    SparkSession\n",
        "    .builder\n",
        "    .appName(\"Movie ratings\")\n",
        "    .master(\"local[*]\")\n",
        "    .getOrCreate()\n",
        ")"
      ],
      "metadata": {
        "id": "9vzD3nE_L0_S"
      },
      "execution_count": 73,
      "outputs": []
    },
    {
      "cell_type": "code",
      "source": [
        "spark"
      ],
      "metadata": {
        "id": "vPNQe1yDKYWX",
        "outputId": "74e52feb-a083-449c-eb3d-55ba166e9317",
        "colab": {
          "base_uri": "https://localhost:8080/",
          "height": 219
        }
      },
      "execution_count": 74,
      "outputs": [
        {
          "output_type": "execute_result",
          "data": {
            "text/plain": [
              "<pyspark.sql.session.SparkSession at 0x7df064152c80>"
            ],
            "text/html": [
              "\n",
              "            <div>\n",
              "                <p><b>SparkSession - in-memory</b></p>\n",
              "                \n",
              "        <div>\n",
              "            <p><b>SparkContext</b></p>\n",
              "\n",
              "            <p><a href=\"http://e8ae035ae88f:4040\">Spark UI</a></p>\n",
              "\n",
              "            <dl>\n",
              "              <dt>Version</dt>\n",
              "                <dd><code>v3.5.2</code></dd>\n",
              "              <dt>Master</dt>\n",
              "                <dd><code>local[*]</code></dd>\n",
              "              <dt>AppName</dt>\n",
              "                <dd><code>Movie ratings</code></dd>\n",
              "            </dl>\n",
              "        </div>\n",
              "        \n",
              "            </div>\n",
              "        "
            ]
          },
          "metadata": {},
          "execution_count": 74
        }
      ]
    },
    {
      "cell_type": "markdown",
      "source": [
        "**Step 1: Data Exploration**\n",
        "Load the datasets into PySpark session **\"spark\"**:\n",
        "\n",
        "Load the movie dataset (movies.csv) and ratings dataset (ratings.csv) into PySpark DataFrames.\n",
        "Inspect the Data:\n",
        "\n",
        "Display the schema and first few rows of both DataFrames to understand the data structure."
      ],
      "metadata": {
        "id": "xsL0AzuVQhvW"
      }
    },
    {
      "cell_type": "code",
      "source": [
        "movies_df = spark.read.format(\"csv\").option(\"header\",True).load(\"/content/movies.csv\")\n",
        "movies_df.show(truncate = False)"
      ],
      "metadata": {
        "colab": {
          "base_uri": "https://localhost:8080/"
        },
        "id": "wZiKaEPUMKNf",
        "outputId": "7f699a60-5f32-4e14-882b-31712e1fd408"
      },
      "execution_count": 75,
      "outputs": [
        {
          "output_type": "stream",
          "name": "stdout",
          "text": [
            "+-------+-------------------------------------+-------------------------------------------+\n",
            "|movieId|title                                |genres                                     |\n",
            "+-------+-------------------------------------+-------------------------------------------+\n",
            "|1      |Toy Story (1995)                     |Adventure|Animation|Children|Comedy|Fantasy|\n",
            "|2      |Jumanji (1995)                       |Adventure|Children|Fantasy                 |\n",
            "|3      |Grumpier Old Men (1995)              |Comedy|Romance                             |\n",
            "|4      |Waiting to Exhale (1995)             |Comedy|Drama|Romance                       |\n",
            "|5      |Father of the Bride Part II (1995)   |Comedy                                     |\n",
            "|6      |Heat (1995)                          |Action|Crime|Thriller                      |\n",
            "|7      |Sabrina (1995)                       |Comedy|Romance                             |\n",
            "|8      |Tom and Huck (1995)                  |Adventure|Children                         |\n",
            "|9      |Sudden Death (1995)                  |Action                                     |\n",
            "|10     |GoldenEye (1995)                     |Action|Adventure|Thriller                  |\n",
            "|11     |American President, The (1995)       |Comedy|Drama|Romance                       |\n",
            "|12     |Dracula: Dead and Loving It (1995)   |Comedy|Horror                              |\n",
            "|13     |Balto (1995)                         |Adventure|Animation|Children               |\n",
            "|14     |Nixon (1995)                         |Drama                                      |\n",
            "|15     |Cutthroat Island (1995)              |Action|Adventure|Romance                   |\n",
            "|16     |Casino (1995)                        |Crime|Drama                                |\n",
            "|17     |Sense and Sensibility (1995)         |Drama|Romance                              |\n",
            "|18     |Four Rooms (1995)                    |Comedy                                     |\n",
            "|19     |Ace Ventura: When Nature Calls (1995)|Comedy                                     |\n",
            "|20     |Money Train (1995)                   |Action|Comedy|Crime|Drama|Thriller         |\n",
            "+-------+-------------------------------------+-------------------------------------------+\n",
            "only showing top 20 rows\n",
            "\n"
          ]
        }
      ]
    },
    {
      "cell_type": "code",
      "source": [
        "ratings_df = spark.read.format(\"csv\").option(\"header\",True).load(\"/content/ratings.csv\")\n",
        "ratings_df.show(truncate = False)"
      ],
      "metadata": {
        "colab": {
          "base_uri": "https://localhost:8080/"
        },
        "id": "KQQNT_c-MVTS",
        "outputId": "17bb3cfd-131d-445f-8a12-2ad7ddbd83a4"
      },
      "execution_count": 76,
      "outputs": [
        {
          "output_type": "stream",
          "name": "stdout",
          "text": [
            "+------+-------+------+---------+\n",
            "|userId|movieId|rating|timestamp|\n",
            "+------+-------+------+---------+\n",
            "|1     |17     |4.0   |944249077|\n",
            "|1     |25     |1.0   |944250228|\n",
            "|1     |29     |2.0   |943230976|\n",
            "|1     |30     |5.0   |944249077|\n",
            "|1     |32     |5.0   |943228858|\n",
            "|1     |34     |2.0   |943228491|\n",
            "|1     |36     |1.0   |944249008|\n",
            "|1     |80     |5.0   |944248943|\n",
            "|1     |110    |3.0   |943231119|\n",
            "|1     |111    |5.0   |944249008|\n",
            "|1     |161    |1.0   |943231162|\n",
            "|1     |166    |5.0   |943228442|\n",
            "|1     |176    |4.0   |944079496|\n",
            "|1     |223    |3.0   |944082810|\n",
            "|1     |232    |5.0   |943228442|\n",
            "|1     |260    |5.0   |943228696|\n",
            "|1     |302    |4.0   |944253272|\n",
            "|1     |306    |5.0   |944248888|\n",
            "|1     |307    |5.0   |944253207|\n",
            "|1     |322    |4.0   |944053801|\n",
            "+------+-------+------+---------+\n",
            "only showing top 20 rows\n",
            "\n"
          ]
        }
      ]
    },
    {
      "cell_type": "markdown",
      "source": [
        "**Step 2: Data Cleaning and Preparation**"
      ],
      "metadata": {
        "id": "8cmtJIHUQtYc"
      }
    },
    {
      "cell_type": "markdown",
      "source": [
        "**Handle Missing Values:**\n",
        "\n",
        "Check for any missing values and decide how to handle them (e.g., drop rows, fill with default values)."
      ],
      "metadata": {
        "id": "wK_wVenGUoMQ"
      }
    },
    {
      "cell_type": "code",
      "source": [
        "from pyspark.sql.functions import sum,col,when,split"
      ],
      "metadata": {
        "id": "pjpOu0uERrQw"
      },
      "execution_count": 77,
      "outputs": []
    },
    {
      "cell_type": "code",
      "source": [
        "print(movies_df.dtypes)"
      ],
      "metadata": {
        "id": "QZdEgmidSigd",
        "outputId": "ad2f15a9-8fc6-4d81-a4cd-cc094cbb3848",
        "colab": {
          "base_uri": "https://localhost:8080/"
        }
      },
      "execution_count": 78,
      "outputs": [
        {
          "output_type": "stream",
          "name": "stdout",
          "text": [
            "[('movieId', 'string'), ('title', 'string'), ('genres', 'string')]\n"
          ]
        }
      ]
    },
    {
      "cell_type": "code",
      "source": [
        "print(ratings_df.dtypes)"
      ],
      "metadata": {
        "id": "bzpKw9mhSnfR",
        "outputId": "7a88980e-45c1-4483-bf58-142cde57615b",
        "colab": {
          "base_uri": "https://localhost:8080/"
        }
      },
      "execution_count": 79,
      "outputs": [
        {
          "output_type": "stream",
          "name": "stdout",
          "text": [
            "[('userId', 'string'), ('movieId', 'string'), ('rating', 'string'), ('timestamp', 'string')]\n"
          ]
        }
      ]
    },
    {
      "cell_type": "code",
      "source": [
        "from pyspark.sql import functions as F\n",
        "\n",
        "# Create a list of expressions to count nulls in each column\n",
        "null_counts_expr = [F.count(F.when(F.col(c).isNull(), c)).alias(c) for c in movies_df.columns]\n",
        "\n",
        "# Use the list in select()\n",
        "null_counts = movies_df.select(*null_counts_expr)\n",
        "\n",
        "# Show the result\n",
        "null_counts.show()\n"
      ],
      "metadata": {
        "id": "anKOF0dxot23",
        "outputId": "17984aa2-3473-4c76-f942-c6de1f57ffdf",
        "colab": {
          "base_uri": "https://localhost:8080/"
        }
      },
      "execution_count": 80,
      "outputs": [
        {
          "output_type": "stream",
          "name": "stdout",
          "text": [
            "+-------+-----+------+\n",
            "|movieId|title|genres|\n",
            "+-------+-----+------+\n",
            "|      0|    0|     0|\n",
            "+-------+-----+------+\n",
            "\n"
          ]
        }
      ]
    },
    {
      "cell_type": "code",
      "source": [
        "# Create a list of expressions to count nulls in each column\n",
        "null_counts_expr = [F.count(F.when(F.col(c).isNull(), c)).alias(c) for c in ratings_df.columns]\n",
        "\n",
        "# Use the list in select()\n",
        "null_counts = ratings_df.select(*null_counts_expr)\n",
        "\n",
        "# Show the result\n",
        "null_counts.show()"
      ],
      "metadata": {
        "id": "lOvr5VMhTJda",
        "outputId": "317d09dd-b55d-4b0c-f63e-1591562a3439",
        "colab": {
          "base_uri": "https://localhost:8080/"
        }
      },
      "execution_count": 81,
      "outputs": [
        {
          "output_type": "stream",
          "name": "stdout",
          "text": [
            "+------+-------+------+---------+\n",
            "|userId|movieId|rating|timestamp|\n",
            "+------+-------+------+---------+\n",
            "|     0|      0|     0|        0|\n",
            "+------+-------+------+---------+\n",
            "\n"
          ]
        }
      ]
    },
    {
      "cell_type": "code",
      "source": [
        "ratings_df = ratings_df.dropna()"
      ],
      "metadata": {
        "id": "_I5RxsoVOxbN"
      },
      "execution_count": 82,
      "outputs": []
    },
    {
      "cell_type": "code",
      "source": [
        "null_count = ratings_df.filter(col(\"rating\").isNull()).count()\n",
        "print(null_count)"
      ],
      "metadata": {
        "id": "YOAZY_Gs8CEd",
        "outputId": "e1f2cbe6-0a20-45a2-a7b9-04939df49b37",
        "colab": {
          "base_uri": "https://localhost:8080/"
        }
      },
      "execution_count": 83,
      "outputs": [
        {
          "output_type": "stream",
          "name": "stdout",
          "text": [
            "0\n"
          ]
        }
      ]
    },
    {
      "cell_type": "code",
      "source": [
        "null_count = ratings_df.filter(col(\"timestamp\").isNull()).count()\n",
        "print(null_count)"
      ],
      "metadata": {
        "id": "Wcl0udYJOSPd",
        "outputId": "fc082172-8709-4bba-8b4a-40acb9b5440b",
        "colab": {
          "base_uri": "https://localhost:8080/"
        }
      },
      "execution_count": 84,
      "outputs": [
        {
          "output_type": "stream",
          "name": "stdout",
          "text": [
            "0\n"
          ]
        }
      ]
    },
    {
      "cell_type": "markdown",
      "source": [
        "**\" There are no null values in these datasets. \"**"
      ],
      "metadata": {
        "id": "8zzVU0unUdcm"
      }
    },
    {
      "cell_type": "markdown",
      "source": [
        "**Data Transformation:**\n",
        "\n",
        "Extract the year from the movie title and create a new column year. Split the genres column into an array of genres."
      ],
      "metadata": {
        "id": "RHbbgyjBUsev"
      }
    },
    {
      "cell_type": "code",
      "source": [
        "movies_df.show(truncate = False)"
      ],
      "metadata": {
        "id": "a0OKbuUMUHvw",
        "outputId": "2077676f-3de3-4110-a138-24cdb29f4734",
        "colab": {
          "base_uri": "https://localhost:8080/"
        }
      },
      "execution_count": 85,
      "outputs": [
        {
          "output_type": "stream",
          "name": "stdout",
          "text": [
            "+-------+-------------------------------------+-------------------------------------------+\n",
            "|movieId|title                                |genres                                     |\n",
            "+-------+-------------------------------------+-------------------------------------------+\n",
            "|1      |Toy Story (1995)                     |Adventure|Animation|Children|Comedy|Fantasy|\n",
            "|2      |Jumanji (1995)                       |Adventure|Children|Fantasy                 |\n",
            "|3      |Grumpier Old Men (1995)              |Comedy|Romance                             |\n",
            "|4      |Waiting to Exhale (1995)             |Comedy|Drama|Romance                       |\n",
            "|5      |Father of the Bride Part II (1995)   |Comedy                                     |\n",
            "|6      |Heat (1995)                          |Action|Crime|Thriller                      |\n",
            "|7      |Sabrina (1995)                       |Comedy|Romance                             |\n",
            "|8      |Tom and Huck (1995)                  |Adventure|Children                         |\n",
            "|9      |Sudden Death (1995)                  |Action                                     |\n",
            "|10     |GoldenEye (1995)                     |Action|Adventure|Thriller                  |\n",
            "|11     |American President, The (1995)       |Comedy|Drama|Romance                       |\n",
            "|12     |Dracula: Dead and Loving It (1995)   |Comedy|Horror                              |\n",
            "|13     |Balto (1995)                         |Adventure|Animation|Children               |\n",
            "|14     |Nixon (1995)                         |Drama                                      |\n",
            "|15     |Cutthroat Island (1995)              |Action|Adventure|Romance                   |\n",
            "|16     |Casino (1995)                        |Crime|Drama                                |\n",
            "|17     |Sense and Sensibility (1995)         |Drama|Romance                              |\n",
            "|18     |Four Rooms (1995)                    |Comedy                                     |\n",
            "|19     |Ace Ventura: When Nature Calls (1995)|Comedy                                     |\n",
            "|20     |Money Train (1995)                   |Action|Comedy|Crime|Drama|Thriller         |\n",
            "+-------+-------------------------------------+-------------------------------------------+\n",
            "only showing top 20 rows\n",
            "\n"
          ]
        }
      ]
    },
    {
      "cell_type": "code",
      "source": [
        "total_count = movies_df.count()\n",
        "print(total_count)"
      ],
      "metadata": {
        "id": "TJVeGUayrldw",
        "outputId": "0ef26140-82e7-449c-b735-a9ac1d39de09",
        "colab": {
          "base_uri": "https://localhost:8080/"
        }
      },
      "execution_count": 86,
      "outputs": [
        {
          "output_type": "stream",
          "name": "stdout",
          "text": [
            "87585\n"
          ]
        }
      ]
    },
    {
      "cell_type": "markdown",
      "source": [
        "Extracting year from title."
      ],
      "metadata": {
        "id": "1HNZXhKia0wg"
      }
    },
    {
      "cell_type": "code",
      "source": [
        "from pyspark.sql.functions import udf\n",
        "from pyspark.sql.types import IntegerType\n",
        "\n",
        "def year_extract(x):\n",
        "  try:\n",
        "    f = x.split('(')[-1].strip(')')\n",
        "    return int(f)\n",
        "  except:\n",
        "    return None\n",
        "\n",
        "x_udf = udf(year_extract,IntegerType())\n",
        "\n",
        "movies_df = movies_df.withColumn('year',x_udf(col('title')))\n",
        "movies_df.show(truncate = False)"
      ],
      "metadata": {
        "id": "epDPxEgXFA2T",
        "outputId": "7154cc56-e245-4615-bb67-cae93c953811",
        "colab": {
          "base_uri": "https://localhost:8080/"
        }
      },
      "execution_count": 87,
      "outputs": [
        {
          "output_type": "stream",
          "name": "stdout",
          "text": [
            "+-------+-------------------------------------+-------------------------------------------+----+\n",
            "|movieId|title                                |genres                                     |year|\n",
            "+-------+-------------------------------------+-------------------------------------------+----+\n",
            "|1      |Toy Story (1995)                     |Adventure|Animation|Children|Comedy|Fantasy|1995|\n",
            "|2      |Jumanji (1995)                       |Adventure|Children|Fantasy                 |1995|\n",
            "|3      |Grumpier Old Men (1995)              |Comedy|Romance                             |1995|\n",
            "|4      |Waiting to Exhale (1995)             |Comedy|Drama|Romance                       |1995|\n",
            "|5      |Father of the Bride Part II (1995)   |Comedy                                     |1995|\n",
            "|6      |Heat (1995)                          |Action|Crime|Thriller                      |1995|\n",
            "|7      |Sabrina (1995)                       |Comedy|Romance                             |1995|\n",
            "|8      |Tom and Huck (1995)                  |Adventure|Children                         |1995|\n",
            "|9      |Sudden Death (1995)                  |Action                                     |1995|\n",
            "|10     |GoldenEye (1995)                     |Action|Adventure|Thriller                  |1995|\n",
            "|11     |American President, The (1995)       |Comedy|Drama|Romance                       |1995|\n",
            "|12     |Dracula: Dead and Loving It (1995)   |Comedy|Horror                              |1995|\n",
            "|13     |Balto (1995)                         |Adventure|Animation|Children               |1995|\n",
            "|14     |Nixon (1995)                         |Drama                                      |1995|\n",
            "|15     |Cutthroat Island (1995)              |Action|Adventure|Romance                   |1995|\n",
            "|16     |Casino (1995)                        |Crime|Drama                                |1995|\n",
            "|17     |Sense and Sensibility (1995)         |Drama|Romance                              |1995|\n",
            "|18     |Four Rooms (1995)                    |Comedy                                     |1995|\n",
            "|19     |Ace Ventura: When Nature Calls (1995)|Comedy                                     |1995|\n",
            "|20     |Money Train (1995)                   |Action|Comedy|Crime|Drama|Thriller         |1995|\n",
            "+-------+-------------------------------------+-------------------------------------------+----+\n",
            "only showing top 20 rows\n",
            "\n"
          ]
        }
      ]
    },
    {
      "cell_type": "code",
      "source": [
        "total_count = movies_df.count()\n",
        "print(total_count)"
      ],
      "metadata": {
        "id": "lj-fKh_urxoe",
        "outputId": "4795e573-4c8c-4967-8c48-e6b2160c900f",
        "colab": {
          "base_uri": "https://localhost:8080/"
        }
      },
      "execution_count": 88,
      "outputs": [
        {
          "output_type": "stream",
          "name": "stdout",
          "text": [
            "87585\n"
          ]
        }
      ]
    },
    {
      "cell_type": "code",
      "source": [
        "from pyspark.sql.functions import asc\n",
        "# f = movies_df.orderBy(movies_df.year.desc())\n",
        "f = movies_df.orderBy(movies_df.year.asc())\n",
        "f.show(truncate = False)"
      ],
      "metadata": {
        "id": "YfU090p9sqTf",
        "outputId": "f35cfe59-40fd-47d1-a15f-35f7ac7b641c",
        "colab": {
          "base_uri": "https://localhost:8080/"
        }
      },
      "execution_count": 89,
      "outputs": [
        {
          "output_type": "stream",
          "name": "stdout",
          "text": [
            "+-------+--------------------------------------------------------------------------------+----------------------------+----+\n",
            "|movieId|title                                                                           |genres                      |year|\n",
            "+-------+--------------------------------------------------------------------------------+----------------------------+----+\n",
            "|290775 |Being Romanian: A Family Journal                                                |(no genres listed)          |NULL|\n",
            "|79607  |Millions Game, The (Das Millionenspiel)                                         |Action|Drama|Sci-Fi|Thriller|NULL|\n",
            "|290799 |\"Ordinary Men: The \"\"Forgotten Holocaust\"\" (2022)\"                              |Documentary                 |NULL|\n",
            "|87697  |Shoppen (2006)                                                                  |Comedy|Romance              |NULL|\n",
            "|291897 |The Green Oak Guardian                                                          |Comedy|Romance              |NULL|\n",
            "|80230  |Off and Running (2009)                                                          |Documentary                 |NULL|\n",
            "|43892  |Le créateur (1999)                                                              |Comedy                      |NULL|\n",
            "|80233  |Truth, The (2010)                                                               |Thriller                    |NULL|\n",
            "|7789   |\"11'09\"\"01 - September 11 (2002)\"                                               |Drama                       |NULL|\n",
            "|80235  |Wedding Song, The (2008)                                                        |Drama|War                   |NULL|\n",
            "|27189  |After the Rain (Ame agaru) (1999)                                               |Action|Drama                |NULL|\n",
            "|80271  |Four Stories of St. Julian (2010)                                               |Crime|Thriller              |NULL|\n",
            "|33092  |Acts of Worship (2001)                                                          |Drama                       |NULL|\n",
            "|87608  |Seconds Apart (2011)                                                            |Horror|Thriller             |NULL|\n",
            "|33755  |Godzilla vs. Biollante (Gojira vs. Biorante) (1989)                             |Action|Sci-Fi               |NULL|\n",
            "|87316  |Calvin Marshall (2009)                                                          |Comedy                      |NULL|\n",
            "|34057  |Godzilla vs. Hedorah (Gojira tai Hedorâ) (Godzilla vs. The Smog Monster) (1971) |Horror|Sci-Fi               |NULL|\n",
            "|52118  |R.S.V.P. (2002)                                                                 |Comedy|Crime|Horror         |NULL|\n",
            "|82606  |Life in Flight (2008)                                                           |Drama                       |NULL|\n",
            "|53373  |Godzilla vs. Destroyah (Gojira vs. Desutoroiâ) (1995)                           |Action|Sci-Fi               |NULL|\n",
            "+-------+--------------------------------------------------------------------------------+----------------------------+----+\n",
            "only showing top 20 rows\n",
            "\n"
          ]
        }
      ]
    },
    {
      "cell_type": "markdown",
      "source": [
        "Few columns are None so we will remove those columns."
      ],
      "metadata": {
        "id": "VaFZeCuDIQbq"
      }
    },
    {
      "cell_type": "code",
      "source": [
        "null_count = movies_df.filter(col(\"year\").isNull()).count()\n",
        "print(null_count)"
      ],
      "metadata": {
        "id": "mk0E5570JbWB",
        "outputId": "e378193f-7a6a-4349-f975-e61c6980c1ea",
        "colab": {
          "base_uri": "https://localhost:8080/"
        }
      },
      "execution_count": 90,
      "outputs": [
        {
          "output_type": "stream",
          "name": "stdout",
          "text": [
            "796\n"
          ]
        }
      ]
    },
    {
      "cell_type": "code",
      "source": [
        "movies_df = movies_df.dropna(subset=['year'])\n",
        "movies_df.show(truncate = False)"
      ],
      "metadata": {
        "id": "4fC2lGYhIMDx",
        "outputId": "4a706f2b-7667-48e2-a9ad-dbb2e642c2d2",
        "colab": {
          "base_uri": "https://localhost:8080/"
        }
      },
      "execution_count": 91,
      "outputs": [
        {
          "output_type": "stream",
          "name": "stdout",
          "text": [
            "+-------+-------------------------------------+-------------------------------------------+----+\n",
            "|movieId|title                                |genres                                     |year|\n",
            "+-------+-------------------------------------+-------------------------------------------+----+\n",
            "|1      |Toy Story (1995)                     |Adventure|Animation|Children|Comedy|Fantasy|1995|\n",
            "|2      |Jumanji (1995)                       |Adventure|Children|Fantasy                 |1995|\n",
            "|3      |Grumpier Old Men (1995)              |Comedy|Romance                             |1995|\n",
            "|4      |Waiting to Exhale (1995)             |Comedy|Drama|Romance                       |1995|\n",
            "|5      |Father of the Bride Part II (1995)   |Comedy                                     |1995|\n",
            "|6      |Heat (1995)                          |Action|Crime|Thriller                      |1995|\n",
            "|7      |Sabrina (1995)                       |Comedy|Romance                             |1995|\n",
            "|8      |Tom and Huck (1995)                  |Adventure|Children                         |1995|\n",
            "|9      |Sudden Death (1995)                  |Action                                     |1995|\n",
            "|10     |GoldenEye (1995)                     |Action|Adventure|Thriller                  |1995|\n",
            "|11     |American President, The (1995)       |Comedy|Drama|Romance                       |1995|\n",
            "|12     |Dracula: Dead and Loving It (1995)   |Comedy|Horror                              |1995|\n",
            "|13     |Balto (1995)                         |Adventure|Animation|Children               |1995|\n",
            "|14     |Nixon (1995)                         |Drama                                      |1995|\n",
            "|15     |Cutthroat Island (1995)              |Action|Adventure|Romance                   |1995|\n",
            "|16     |Casino (1995)                        |Crime|Drama                                |1995|\n",
            "|17     |Sense and Sensibility (1995)         |Drama|Romance                              |1995|\n",
            "|18     |Four Rooms (1995)                    |Comedy                                     |1995|\n",
            "|19     |Ace Ventura: When Nature Calls (1995)|Comedy                                     |1995|\n",
            "|20     |Money Train (1995)                   |Action|Comedy|Crime|Drama|Thriller         |1995|\n",
            "+-------+-------------------------------------+-------------------------------------------+----+\n",
            "only showing top 20 rows\n",
            "\n"
          ]
        }
      ]
    },
    {
      "cell_type": "code",
      "source": [
        "null_count = movies_df.filter(col(\"year\").isNull()).count()\n",
        "print(null_count)"
      ],
      "metadata": {
        "id": "SBoyeSA5JRPG",
        "outputId": "f93a72d1-17eb-40bf-a7b9-e8d11881cf31",
        "colab": {
          "base_uri": "https://localhost:8080/"
        }
      },
      "execution_count": 92,
      "outputs": [
        {
          "output_type": "stream",
          "name": "stdout",
          "text": [
            "0\n"
          ]
        }
      ]
    },
    {
      "cell_type": "code",
      "source": [
        "from pyspark.sql.functions import asc\n",
        "# f = movies_df.orderBy(movies_df.year.desc())\n",
        "f = movies_df.orderBy(movies_df.year.asc())\n",
        "f.show(truncate = False)"
      ],
      "metadata": {
        "id": "aUn076S_te0D",
        "outputId": "3664b357-0584-414b-c8d2-edecc128150c",
        "colab": {
          "base_uri": "https://localhost:8080/"
        }
      },
      "execution_count": 93,
      "outputs": [
        {
          "output_type": "stream",
          "name": "stdout",
          "text": [
            "+-------+------------------------------------------------------------------------------------+------------------+----+\n",
            "|movieId|title                                                                               |genres            |year|\n",
            "+-------+------------------------------------------------------------------------------------+------------------+----+\n",
            "|148054 |Passage de Venus (1874)                                                             |Documentary       |1874|\n",
            "|148048 |Sallie Gardner at a Gallop (1878)                                                   |(no genres listed)|1878|\n",
            "|275697 |The Magic Rosette (1878)                                                            |Animation         |1878|\n",
            "|202045 |Athlete Swinging a Pick (1880)                                                      |Documentary       |1880|\n",
            "|275699 |The Kiss (1882)                                                                     |Documentary       |1882|\n",
            "|166800 |Buffalo Running (1883)                                                              |(no genres listed)|1883|\n",
            "|275709 |L'Homme Machine (1885)                                                              |Animation         |1885|\n",
            "|148040 |Man Walking Around a Corner (1887)                                                  |(no genres listed)|1887|\n",
            "|275701 |Child Bringing Bouquet to Woman (1887)                                              |Documentary       |1887|\n",
            "|275703 |Boys Playing Leapfrog: Side View (1887)                                             |Documentary       |1887|\n",
            "|275705 |Semi-Nude Woman Hopping on Left Foot (1887)                                         |Documentary       |1887|\n",
            "|148042 |Accordion Player (1888)                                                             |Documentary       |1888|\n",
            "|148050 |Traffic Crossing Leeds Bridge (1888)                                                |Documentary       |1888|\n",
            "|176849 |Roundhay Garden Scene (1888)                                                        |Documentary       |1888|\n",
            "|180503 |Pferd und Reiter Springen Über ein Hindernis (1888)                                 |Documentary       |1888|\n",
            "|257811 |Leisurely Pedestrians, Open Topped Buses and Hansom Cabs with Trotting Horses (1889)|Documentary       |1889|\n",
            "|162398 |Monkeyshines, No. 3 (1890)                                                          |(no genres listed)|1890|\n",
            "|148044 |Monkeyshines, No. 1 (1890)                                                          |Comedy            |1890|\n",
            "|148046 |Monkeyshines, No. 2 (1890)                                                          |(no genres listed)|1890|\n",
            "|148052 |London's Trafalgar Square (1890)                                                    |(no genres listed)|1890|\n",
            "+-------+------------------------------------------------------------------------------------+------------------+----+\n",
            "only showing top 20 rows\n",
            "\n"
          ]
        }
      ]
    },
    {
      "cell_type": "code",
      "source": [
        "genres_df = movies_df.select(movies_df.movieId,movies_df.genres)\n",
        "genres_df.show(truncate = False)"
      ],
      "metadata": {
        "id": "HNVEsYOdayY8",
        "outputId": "18ec1afb-086e-4390-ab6a-a4dba62e10c1",
        "colab": {
          "base_uri": "https://localhost:8080/"
        }
      },
      "execution_count": 94,
      "outputs": [
        {
          "output_type": "stream",
          "name": "stdout",
          "text": [
            "+-------+-------------------------------------------+\n",
            "|movieId|genres                                     |\n",
            "+-------+-------------------------------------------+\n",
            "|1      |Adventure|Animation|Children|Comedy|Fantasy|\n",
            "|2      |Adventure|Children|Fantasy                 |\n",
            "|3      |Comedy|Romance                             |\n",
            "|4      |Comedy|Drama|Romance                       |\n",
            "|5      |Comedy                                     |\n",
            "|6      |Action|Crime|Thriller                      |\n",
            "|7      |Comedy|Romance                             |\n",
            "|8      |Adventure|Children                         |\n",
            "|9      |Action                                     |\n",
            "|10     |Action|Adventure|Thriller                  |\n",
            "|11     |Comedy|Drama|Romance                       |\n",
            "|12     |Comedy|Horror                              |\n",
            "|13     |Adventure|Animation|Children               |\n",
            "|14     |Drama                                      |\n",
            "|15     |Action|Adventure|Romance                   |\n",
            "|16     |Crime|Drama                                |\n",
            "|17     |Drama|Romance                              |\n",
            "|18     |Comedy                                     |\n",
            "|19     |Comedy                                     |\n",
            "|20     |Action|Comedy|Crime|Drama|Thriller         |\n",
            "+-------+-------------------------------------------+\n",
            "only showing top 20 rows\n",
            "\n"
          ]
        }
      ]
    },
    {
      "cell_type": "code",
      "source": [
        "genres_df = genres_df.withColumn(\"gener\",split(genres_df.genres,\"\\|\"))\n",
        "genres_df.show(truncate = False)"
      ],
      "metadata": {
        "id": "08z_LWsYbWfS",
        "outputId": "11ad8a54-251f-4beb-e9a4-b8a24fe2f33d",
        "colab": {
          "base_uri": "https://localhost:8080/"
        }
      },
      "execution_count": 95,
      "outputs": [
        {
          "output_type": "stream",
          "name": "stdout",
          "text": [
            "+-------+-------------------------------------------+-------------------------------------------------+\n",
            "|movieId|genres                                     |gener                                            |\n",
            "+-------+-------------------------------------------+-------------------------------------------------+\n",
            "|1      |Adventure|Animation|Children|Comedy|Fantasy|[Adventure, Animation, Children, Comedy, Fantasy]|\n",
            "|2      |Adventure|Children|Fantasy                 |[Adventure, Children, Fantasy]                   |\n",
            "|3      |Comedy|Romance                             |[Comedy, Romance]                                |\n",
            "|4      |Comedy|Drama|Romance                       |[Comedy, Drama, Romance]                         |\n",
            "|5      |Comedy                                     |[Comedy]                                         |\n",
            "|6      |Action|Crime|Thriller                      |[Action, Crime, Thriller]                        |\n",
            "|7      |Comedy|Romance                             |[Comedy, Romance]                                |\n",
            "|8      |Adventure|Children                         |[Adventure, Children]                            |\n",
            "|9      |Action                                     |[Action]                                         |\n",
            "|10     |Action|Adventure|Thriller                  |[Action, Adventure, Thriller]                    |\n",
            "|11     |Comedy|Drama|Romance                       |[Comedy, Drama, Romance]                         |\n",
            "|12     |Comedy|Horror                              |[Comedy, Horror]                                 |\n",
            "|13     |Adventure|Animation|Children               |[Adventure, Animation, Children]                 |\n",
            "|14     |Drama                                      |[Drama]                                          |\n",
            "|15     |Action|Adventure|Romance                   |[Action, Adventure, Romance]                     |\n",
            "|16     |Crime|Drama                                |[Crime, Drama]                                   |\n",
            "|17     |Drama|Romance                              |[Drama, Romance]                                 |\n",
            "|18     |Comedy                                     |[Comedy]                                         |\n",
            "|19     |Comedy                                     |[Comedy]                                         |\n",
            "|20     |Action|Comedy|Crime|Drama|Thriller         |[Action, Comedy, Crime, Drama, Thriller]         |\n",
            "+-------+-------------------------------------------+-------------------------------------------------+\n",
            "only showing top 20 rows\n",
            "\n"
          ]
        }
      ]
    },
    {
      "cell_type": "code",
      "source": [
        "genres_df = genres_df.drop(genres_df.genres)\n",
        "genres_df.show(truncate = False)"
      ],
      "metadata": {
        "id": "2caCnEIJc7kt",
        "outputId": "8c8de5bf-2759-4fb5-8ff9-7488001f8f10",
        "colab": {
          "base_uri": "https://localhost:8080/"
        }
      },
      "execution_count": 96,
      "outputs": [
        {
          "output_type": "stream",
          "name": "stdout",
          "text": [
            "+-------+-------------------------------------------------+\n",
            "|movieId|gener                                            |\n",
            "+-------+-------------------------------------------------+\n",
            "|1      |[Adventure, Animation, Children, Comedy, Fantasy]|\n",
            "|2      |[Adventure, Children, Fantasy]                   |\n",
            "|3      |[Comedy, Romance]                                |\n",
            "|4      |[Comedy, Drama, Romance]                         |\n",
            "|5      |[Comedy]                                         |\n",
            "|6      |[Action, Crime, Thriller]                        |\n",
            "|7      |[Comedy, Romance]                                |\n",
            "|8      |[Adventure, Children]                            |\n",
            "|9      |[Action]                                         |\n",
            "|10     |[Action, Adventure, Thriller]                    |\n",
            "|11     |[Comedy, Drama, Romance]                         |\n",
            "|12     |[Comedy, Horror]                                 |\n",
            "|13     |[Adventure, Animation, Children]                 |\n",
            "|14     |[Drama]                                          |\n",
            "|15     |[Action, Adventure, Romance]                     |\n",
            "|16     |[Crime, Drama]                                   |\n",
            "|17     |[Drama, Romance]                                 |\n",
            "|18     |[Comedy]                                         |\n",
            "|19     |[Comedy]                                         |\n",
            "|20     |[Action, Comedy, Crime, Drama, Thriller]         |\n",
            "+-------+-------------------------------------------------+\n",
            "only showing top 20 rows\n",
            "\n"
          ]
        }
      ]
    },
    {
      "cell_type": "markdown",
      "source": [
        "In movies_df there are rows in genre which have value like (no genre listed) so we will remove them."
      ],
      "metadata": {
        "id": "Lhd0oOEkO6mp"
      }
    },
    {
      "cell_type": "code",
      "source": [
        "from pyspark.sql.functions import udf, col\n",
        "from pyspark.sql.types import StringType\n",
        "\n",
        "def clean_genre(x):\n",
        "    if x != '(no genres listed)':\n",
        "        return x\n",
        "    else:\n",
        "        return None\n",
        "\n",
        "clean_genre_udf = udf(clean_genre, StringType())\n",
        "movies_df = movies_df.withColumn('genres', clean_genre_udf(col('genres')))\n",
        "movies_df.show(truncate=False)"
      ],
      "metadata": {
        "id": "gsjF2HdcPEyx",
        "outputId": "e106e415-6dc3-4d06-97df-af84938d68f9",
        "colab": {
          "base_uri": "https://localhost:8080/"
        }
      },
      "execution_count": 97,
      "outputs": [
        {
          "output_type": "stream",
          "name": "stdout",
          "text": [
            "+-------+-------------------------------------+-------------------------------------------+----+\n",
            "|movieId|title                                |genres                                     |year|\n",
            "+-------+-------------------------------------+-------------------------------------------+----+\n",
            "|1      |Toy Story (1995)                     |Adventure|Animation|Children|Comedy|Fantasy|1995|\n",
            "|2      |Jumanji (1995)                       |Adventure|Children|Fantasy                 |1995|\n",
            "|3      |Grumpier Old Men (1995)              |Comedy|Romance                             |1995|\n",
            "|4      |Waiting to Exhale (1995)             |Comedy|Drama|Romance                       |1995|\n",
            "|5      |Father of the Bride Part II (1995)   |Comedy                                     |1995|\n",
            "|6      |Heat (1995)                          |Action|Crime|Thriller                      |1995|\n",
            "|7      |Sabrina (1995)                       |Comedy|Romance                             |1995|\n",
            "|8      |Tom and Huck (1995)                  |Adventure|Children                         |1995|\n",
            "|9      |Sudden Death (1995)                  |Action                                     |1995|\n",
            "|10     |GoldenEye (1995)                     |Action|Adventure|Thriller                  |1995|\n",
            "|11     |American President, The (1995)       |Comedy|Drama|Romance                       |1995|\n",
            "|12     |Dracula: Dead and Loving It (1995)   |Comedy|Horror                              |1995|\n",
            "|13     |Balto (1995)                         |Adventure|Animation|Children               |1995|\n",
            "|14     |Nixon (1995)                         |Drama                                      |1995|\n",
            "|15     |Cutthroat Island (1995)              |Action|Adventure|Romance                   |1995|\n",
            "|16     |Casino (1995)                        |Crime|Drama                                |1995|\n",
            "|17     |Sense and Sensibility (1995)         |Drama|Romance                              |1995|\n",
            "|18     |Four Rooms (1995)                    |Comedy                                     |1995|\n",
            "|19     |Ace Ventura: When Nature Calls (1995)|Comedy                                     |1995|\n",
            "|20     |Money Train (1995)                   |Action|Comedy|Crime|Drama|Thriller         |1995|\n",
            "+-------+-------------------------------------+-------------------------------------------+----+\n",
            "only showing top 20 rows\n",
            "\n"
          ]
        }
      ]
    },
    {
      "cell_type": "markdown",
      "source": [
        "Checking for null values."
      ],
      "metadata": {
        "id": "8vcF9-nRQirG"
      }
    },
    {
      "cell_type": "code",
      "source": [
        "null_count = movies_df.filter(col(\"genres\").isNull()).count()\n",
        "print(null_count)"
      ],
      "metadata": {
        "id": "sE8r1bn-QgK6",
        "outputId": "13378200-2a02-49db-aa7b-c131c81f6b19",
        "colab": {
          "base_uri": "https://localhost:8080/"
        }
      },
      "execution_count": 98,
      "outputs": [
        {
          "output_type": "stream",
          "name": "stdout",
          "text": [
            "6702\n"
          ]
        }
      ]
    },
    {
      "cell_type": "code",
      "source": [
        "total_rows = movies_df.count()\n",
        "print(total_rows)"
      ],
      "metadata": {
        "id": "plTwafA1qkWr",
        "outputId": "7dedbf0d-3d6a-4219-81fd-3f57767e2cd1",
        "colab": {
          "base_uri": "https://localhost:8080/"
        }
      },
      "execution_count": 99,
      "outputs": [
        {
          "output_type": "stream",
          "name": "stdout",
          "text": [
            "86789\n"
          ]
        }
      ]
    },
    {
      "cell_type": "code",
      "source": [
        "movies_df = movies_df.filter(movies_df.genres.isNotNull())\n",
        "movies_df.show(truncate=False)"
      ],
      "metadata": {
        "id": "kTL7yHEbQq3h",
        "outputId": "2aca8774-961a-4877-d108-a8efd795d828",
        "colab": {
          "base_uri": "https://localhost:8080/"
        }
      },
      "execution_count": 100,
      "outputs": [
        {
          "output_type": "stream",
          "name": "stdout",
          "text": [
            "+-------+-------------------------------------+-------------------------------------------+----+\n",
            "|movieId|title                                |genres                                     |year|\n",
            "+-------+-------------------------------------+-------------------------------------------+----+\n",
            "|1      |Toy Story (1995)                     |Adventure|Animation|Children|Comedy|Fantasy|1995|\n",
            "|2      |Jumanji (1995)                       |Adventure|Children|Fantasy                 |1995|\n",
            "|3      |Grumpier Old Men (1995)              |Comedy|Romance                             |1995|\n",
            "|4      |Waiting to Exhale (1995)             |Comedy|Drama|Romance                       |1995|\n",
            "|5      |Father of the Bride Part II (1995)   |Comedy                                     |1995|\n",
            "|6      |Heat (1995)                          |Action|Crime|Thriller                      |1995|\n",
            "|7      |Sabrina (1995)                       |Comedy|Romance                             |1995|\n",
            "|8      |Tom and Huck (1995)                  |Adventure|Children                         |1995|\n",
            "|9      |Sudden Death (1995)                  |Action                                     |1995|\n",
            "|10     |GoldenEye (1995)                     |Action|Adventure|Thriller                  |1995|\n",
            "|11     |American President, The (1995)       |Comedy|Drama|Romance                       |1995|\n",
            "|12     |Dracula: Dead and Loving It (1995)   |Comedy|Horror                              |1995|\n",
            "|13     |Balto (1995)                         |Adventure|Animation|Children               |1995|\n",
            "|14     |Nixon (1995)                         |Drama                                      |1995|\n",
            "|15     |Cutthroat Island (1995)              |Action|Adventure|Romance                   |1995|\n",
            "|16     |Casino (1995)                        |Crime|Drama                                |1995|\n",
            "|17     |Sense and Sensibility (1995)         |Drama|Romance                              |1995|\n",
            "|18     |Four Rooms (1995)                    |Comedy                                     |1995|\n",
            "|19     |Ace Ventura: When Nature Calls (1995)|Comedy                                     |1995|\n",
            "|20     |Money Train (1995)                   |Action|Comedy|Crime|Drama|Thriller         |1995|\n",
            "+-------+-------------------------------------+-------------------------------------------+----+\n",
            "only showing top 20 rows\n",
            "\n"
          ]
        }
      ]
    },
    {
      "cell_type": "code",
      "source": [
        "null_count = movies_df.filter(col(\"genres\").isNull()).count()\n",
        "print(null_count)"
      ],
      "metadata": {
        "id": "l2jVJMcuQw37",
        "outputId": "4d6ad5d3-a92c-4dad-d99d-77126b9bf09c",
        "colab": {
          "base_uri": "https://localhost:8080/"
        }
      },
      "execution_count": 101,
      "outputs": [
        {
          "output_type": "stream",
          "name": "stdout",
          "text": [
            "0\n"
          ]
        }
      ]
    },
    {
      "cell_type": "code",
      "source": [
        "total_rows = movies_df.count()\n",
        "print(total_rows)"
      ],
      "metadata": {
        "id": "k1oqEDstq8QK",
        "outputId": "51c4a6f3-374f-4429-e233-8e86d802a5ed",
        "colab": {
          "base_uri": "https://localhost:8080/"
        }
      },
      "execution_count": 102,
      "outputs": [
        {
          "output_type": "stream",
          "name": "stdout",
          "text": [
            "80087\n"
          ]
        }
      ]
    },
    {
      "cell_type": "markdown",
      "source": [
        "**Join the Datasets:**\n",
        "\n",
        "Perform an inner join on the movieId column to combine the movie and ratings datasets."
      ],
      "metadata": {
        "id": "TEe8gYDVUyL6"
      }
    },
    {
      "cell_type": "code",
      "source": [
        "movies_ratings_df = movies_df.join(ratings_df,on='movieId',how='inner')\n",
        "movies_ratings_df.show(truncate = False)"
      ],
      "metadata": {
        "id": "1Ouya_VFdNl4",
        "colab": {
          "base_uri": "https://localhost:8080/"
        },
        "outputId": "a23166c4-1828-4b26-9d89-a05260e8efea"
      },
      "execution_count": 103,
      "outputs": [
        {
          "output_type": "stream",
          "name": "stdout",
          "text": [
            "+-------+---------------------------------------------------------------+--------------------------------------+----+------+------+---------+\n",
            "|movieId|title                                                          |genres                                |year|userId|rating|timestamp|\n",
            "+-------+---------------------------------------------------------------+--------------------------------------+----+------+------+---------+\n",
            "|17     |Sense and Sensibility (1995)                                   |Drama|Romance                         |1995|1     |4.0   |944249077|\n",
            "|25     |Leaving Las Vegas (1995)                                       |Drama|Romance                         |1995|1     |1.0   |944250228|\n",
            "|29     |City of Lost Children, The (Cité des enfants perdus, La) (1995)|Adventure|Drama|Fantasy|Mystery|Sci-Fi|1995|1     |2.0   |943230976|\n",
            "|30     |Shanghai Triad (Yao a yao yao dao waipo qiao) (1995)           |Crime|Drama                           |1995|1     |5.0   |944249077|\n",
            "|32     |Twelve Monkeys (a.k.a. 12 Monkeys) (1995)                      |Mystery|Sci-Fi|Thriller               |1995|1     |5.0   |943228858|\n",
            "|34     |Babe (1995)                                                    |Children|Drama                        |1995|1     |2.0   |943228491|\n",
            "|36     |Dead Man Walking (1995)                                        |Crime|Drama                           |1995|1     |1.0   |944249008|\n",
            "|80     |White Balloon, The (Badkonake sefid) (1995)                    |Children|Drama                        |1995|1     |5.0   |944248943|\n",
            "|110    |Braveheart (1995)                                              |Action|Drama|War                      |1995|1     |3.0   |943231119|\n",
            "|111    |Taxi Driver (1976)                                             |Crime|Drama|Thriller                  |1976|1     |5.0   |944249008|\n",
            "|161    |Crimson Tide (1995)                                            |Drama|Thriller|War                    |1995|1     |1.0   |943231162|\n",
            "|166    |Doom Generation, The (1995)                                    |Comedy|Crime|Drama                    |1995|1     |5.0   |943228442|\n",
            "|176    |Living in Oblivion (1995)                                      |Comedy                                |1995|1     |4.0   |944079496|\n",
            "|223    |Clerks (1994)                                                  |Comedy                                |1994|1     |3.0   |944082810|\n",
            "|232    |Eat Drink Man Woman (Yin shi nan nu) (1994)                    |Comedy|Drama|Romance                  |1994|1     |5.0   |943228442|\n",
            "|260    |Star Wars: Episode IV - A New Hope (1977)                      |Action|Adventure|Sci-Fi               |1977|1     |5.0   |943228696|\n",
            "|302    |Queen Margot (Reine Margot, La) (1994)                         |Drama|Romance                         |1994|1     |4.0   |944253272|\n",
            "|306    |Three Colors: Red (Trois couleurs: Rouge) (1994)               |Drama                                 |1994|1     |5.0   |944248888|\n",
            "|307    |Three Colors: Blue (Trois couleurs: Bleu) (1993)               |Drama                                 |1993|1     |5.0   |944253207|\n",
            "|322    |Swimming with Sharks (1995)                                    |Comedy|Drama                          |1995|1     |4.0   |944053801|\n",
            "+-------+---------------------------------------------------------------+--------------------------------------+----+------+------+---------+\n",
            "only showing top 20 rows\n",
            "\n"
          ]
        }
      ]
    },
    {
      "cell_type": "markdown",
      "source": [
        "Now we will change the data types of each column accordingly.\n",
        "\n",
        "movieId -> int\n",
        "\n",
        "userId -> int\n",
        "\n",
        "ratings -> Float"
      ],
      "metadata": {
        "id": "kZ-ihj27uPXy"
      }
    },
    {
      "cell_type": "code",
      "source": [
        "print(movies_ratings_df.dtypes)"
      ],
      "metadata": {
        "id": "Pa8soluQuFLc",
        "outputId": "9698e931-098a-48de-9a66-da4c7ece7084",
        "colab": {
          "base_uri": "https://localhost:8080/"
        }
      },
      "execution_count": 104,
      "outputs": [
        {
          "output_type": "stream",
          "name": "stdout",
          "text": [
            "[('movieId', 'string'), ('title', 'string'), ('genres', 'string'), ('year', 'int'), ('userId', 'string'), ('rating', 'string'), ('timestamp', 'string')]\n"
          ]
        }
      ]
    },
    {
      "cell_type": "code",
      "source": [
        "# Change the data types of multiple columns\n",
        "movies_ratings_df = movies_ratings_df.withColumn(\"movieId\", F.col(\"movieId\").cast(\"integer\")) \\\n",
        "                     .withColumn(\"rating\", F.col(\"rating\").cast(\"float\"))\\\n",
        "                     .withColumn(\"userId\", F.col(\"userId\").cast(\"integer\"))\n",
        "\n",
        "print(movies_ratings_df.dtypes)\n",
        "\n"
      ],
      "metadata": {
        "id": "w9D2j15XuUUi",
        "outputId": "55c53586-38ad-4ffc-d24e-384c5e5c2bf4",
        "colab": {
          "base_uri": "https://localhost:8080/"
        }
      },
      "execution_count": 105,
      "outputs": [
        {
          "output_type": "stream",
          "name": "stdout",
          "text": [
            "[('movieId', 'int'), ('title', 'string'), ('genres', 'string'), ('year', 'int'), ('userId', 'int'), ('rating', 'float'), ('timestamp', 'string')]\n"
          ]
        }
      ]
    },
    {
      "cell_type": "markdown",
      "source": [
        "**Step 3: Data Analysis**\n",
        "\n"
      ],
      "metadata": {
        "id": "Qnoe8WBYC6FE"
      }
    },
    {
      "cell_type": "markdown",
      "source": [
        "**Top-Rated Movies:**\n",
        "\n",
        "Find the top 10 movies with the highest average rating."
      ],
      "metadata": {
        "id": "pSUxspUTDAf1"
      }
    },
    {
      "cell_type": "code",
      "source": [
        "from pyspark.sql.functions import avg,desc,asc\n",
        "top_ten_movies = movies_ratings_df.groupby('movieId','title').agg(avg('rating').alias('Avg_rating'))\n",
        "top_ten_movies = top_ten_movies.orderBy(top_ten_movies.Avg_rating.desc())\n",
        "top_ten_movies.show(10,truncate = False)"
      ],
      "metadata": {
        "colab": {
          "base_uri": "https://localhost:8080/"
        },
        "id": "gXx-dL6tDU9t",
        "outputId": "a7af9fa1-27c9-4ea8-f23d-956648f1bcac"
      },
      "execution_count": 106,
      "outputs": [
        {
          "output_type": "stream",
          "name": "stdout",
          "text": [
            "+-------+-------------------------------------------------------+----------+\n",
            "|movieId|title                                                  |Avg_rating|\n",
            "+-------+-------------------------------------------------------+----------+\n",
            "|267928 |Unreal News Reel (1923)                                |5.0       |\n",
            "|189587 |The Idiot Cycle (2009)                                 |5.0       |\n",
            "|240070 |SpongeBob SquarePants: Heroes of Bikini Bottom (2011)  |5.0       |\n",
            "|266250 |Brian Wilson: I Just Wasn't Made for These Times (1995)|5.0       |\n",
            "|221334 |Bavaria - A magical journey (2012)                     |5.0       |\n",
            "|228813 |The Hero's Journey: The World of Joseph Campbell (1987)|5.0       |\n",
            "|287247 |The Beach Boys: Making Pet Sounds (2017)               |5.0       |\n",
            "|226832 |The Beast (2014)                                       |5.0       |\n",
            "|199756 |Zum Teufel mit der Penne (1968)                        |5.0       |\n",
            "|223908 |Lung (2016)                                            |5.0       |\n",
            "+-------+-------------------------------------------------------+----------+\n",
            "only showing top 10 rows\n",
            "\n"
          ]
        }
      ]
    },
    {
      "cell_type": "markdown",
      "source": [
        "**Popular Genres:**\n",
        "\n",
        "Identify the most popular genres based on the number of ratings.\n"
      ],
      "metadata": {
        "id": "GjPXt06ZDFyp"
      }
    },
    {
      "cell_type": "code",
      "source": [
        "from pyspark.sql.functions import count\n",
        "\n",
        "popular_genres = movies_ratings_df.groupBy('genres').agg(count('rating').alias('No_of_ratings'))\n",
        "popular_genres = popular_genres.sort(popular_genres.No_of_ratings.desc())\n",
        "popular_genres.show(truncate = False)"
      ],
      "metadata": {
        "colab": {
          "base_uri": "https://localhost:8080/"
        },
        "id": "VhxiSHmDFNTU",
        "outputId": "1227ac59-647c-4f1f-d119-f4a458675c21"
      },
      "execution_count": 107,
      "outputs": [
        {
          "output_type": "stream",
          "name": "stdout",
          "text": [
            "+--------------------------------+-------------+\n",
            "|genres                          |No_of_ratings|\n",
            "+--------------------------------+-------------+\n",
            "|Drama                           |2247114      |\n",
            "|Comedy                          |1876631      |\n",
            "|Comedy|Romance                  |1090830      |\n",
            "|Drama|Romance                   |978575       |\n",
            "|Comedy|Drama                    |919399       |\n",
            "|Comedy|Drama|Romance            |871837       |\n",
            "|Action|Adventure|Sci-Fi         |799753       |\n",
            "|Crime|Drama                     |762923       |\n",
            "|Action|Crime|Thriller           |482833       |\n",
            "|Drama|Thriller                  |464062       |\n",
            "|Action|Adventure|Sci-Fi|Thriller|438591       |\n",
            "|Action|Adventure|Thriller       |415166       |\n",
            "|Action|Sci-Fi|Thriller          |395940       |\n",
            "|Crime|Drama|Thriller            |387572       |\n",
            "|Drama|War                       |359478       |\n",
            "|Action|Crime|Drama|Thriller     |327357       |\n",
            "|Action|Drama|War                |325357       |\n",
            "|Comedy|Crime                    |321352       |\n",
            "|Documentary                     |314730       |\n",
            "|Horror                          |262108       |\n",
            "+--------------------------------+-------------+\n",
            "only showing top 20 rows\n",
            "\n"
          ]
        }
      ]
    },
    {
      "cell_type": "markdown",
      "source": [
        "**User Behavior:**\n",
        "\n",
        "Analyze the distribution of ratings by users. For example, find how many movies each user has rated.\n"
      ],
      "metadata": {
        "id": "UZH5YsrYDLdS"
      }
    },
    {
      "cell_type": "code",
      "source": [
        "user_rating = movies_ratings_df.groupBy('userId').agg(count('userId').alias('No_of_ratings')).orderBy(movies_ratings_df.userId.asc())\n",
        "user_rating.show(truncate = False)"
      ],
      "metadata": {
        "colab": {
          "base_uri": "https://localhost:8080/"
        },
        "id": "OZ4lARQUG-uG",
        "outputId": "632e9f46-627c-497e-8503-70d5395ceb4c"
      },
      "execution_count": 108,
      "outputs": [
        {
          "output_type": "stream",
          "name": "stdout",
          "text": [
            "+------+-------------+\n",
            "|userId|No_of_ratings|\n",
            "+------+-------------+\n",
            "|1     |141          |\n",
            "|2     |52           |\n",
            "|3     |147          |\n",
            "|4     |27           |\n",
            "|5     |33           |\n",
            "|6     |26           |\n",
            "|7     |44           |\n",
            "|8     |30           |\n",
            "|9     |58           |\n",
            "|10    |660          |\n",
            "|11    |20           |\n",
            "|12    |23           |\n",
            "|13    |65           |\n",
            "|14    |29           |\n",
            "|15    |82           |\n",
            "|16    |294          |\n",
            "|17    |86           |\n",
            "|18    |138          |\n",
            "|19    |47           |\n",
            "|20    |139          |\n",
            "+------+-------------+\n",
            "only showing top 20 rows\n",
            "\n"
          ]
        }
      ]
    },
    {
      "cell_type": "markdown",
      "source": [
        "**Yearly Trends:**\n",
        "\n",
        "Determine how the average movie rating has changed over the years.\n"
      ],
      "metadata": {
        "id": "_I27yDxmDOHR"
      }
    },
    {
      "cell_type": "code",
      "source": [
        "movies_ratings_df.select('year').show()"
      ],
      "metadata": {
        "id": "MRlwI14IR2pL",
        "outputId": "58333ad9-1734-4ca2-84e0-3db25972b827",
        "colab": {
          "base_uri": "https://localhost:8080/"
        }
      },
      "execution_count": 109,
      "outputs": [
        {
          "output_type": "stream",
          "name": "stdout",
          "text": [
            "+----+\n",
            "|year|\n",
            "+----+\n",
            "|1995|\n",
            "|1995|\n",
            "|1995|\n",
            "|1995|\n",
            "|1995|\n",
            "|1995|\n",
            "|1995|\n",
            "|1995|\n",
            "|1995|\n",
            "|1976|\n",
            "|1995|\n",
            "|1995|\n",
            "|1995|\n",
            "|1994|\n",
            "|1994|\n",
            "|1977|\n",
            "|1994|\n",
            "|1994|\n",
            "|1993|\n",
            "|1995|\n",
            "+----+\n",
            "only showing top 20 rows\n",
            "\n"
          ]
        }
      ]
    },
    {
      "cell_type": "code",
      "source": [
        "avg_rating_year = movies_ratings_df.groupBy('year').agg(avg('rating').alias('Avg_rating'))\n",
        "avg_rating_year.show(truncate = False)"
      ],
      "metadata": {
        "id": "mfquYcqzLFg5",
        "outputId": "4d9c853b-0d1b-4dee-a781-959919944efe",
        "colab": {
          "base_uri": "https://localhost:8080/"
        }
      },
      "execution_count": 110,
      "outputs": [
        {
          "output_type": "stream",
          "name": "stdout",
          "text": [
            "+----+------------------+\n",
            "|year|Avg_rating        |\n",
            "+----+------------------+\n",
            "|1959|3.8107774040575713|\n",
            "|1990|3.4513714113949603|\n",
            "|1896|2.9234972677595628|\n",
            "|1903|3.066532258064516 |\n",
            "|1975|3.8815535107687804|\n",
            "|1977|3.8233296303051407|\n",
            "|1888|2.577272727272727 |\n",
            "|1924|3.763372956909361 |\n",
            "|2003|3.47684039842985  |\n",
            "|2007|3.507449919061784 |\n",
            "|1892|2.7777777777777777|\n",
            "|2018|3.4762552780695954|\n",
            "|1974|3.8950891613262746|\n",
            "|2015|3.5664814492136325|\n",
            "|2023|3.345118898623279 |\n",
            "|1927|3.8604250713372035|\n",
            "|1955|3.719717275877964 |\n",
            "|1890|2.238095238095238 |\n",
            "|2006|3.555690373687808 |\n",
            "|1978|3.4619190067903967|\n",
            "+----+------------------+\n",
            "only showing top 20 rows\n",
            "\n"
          ]
        }
      ]
    },
    {
      "cell_type": "markdown",
      "source": [
        "**Genre-Based Recommendations:**\n",
        "\n",
        "For a given genre, list the top 5 movies based on average ratings.\n"
      ],
      "metadata": {
        "id": "VeuW6dMwDP1E"
      }
    },
    {
      "cell_type": "code",
      "source": [
        "genre_input = input(\"Enter the genre to filter movies: \")\n",
        "\n",
        "top_five_movies = (movies_ratings_df.filter(col('genres') == genre_input)\\\n",
        "                   .groupBy('title')\\\n",
        "                   .agg(avg('rating').alias('Avg_rating'))\\\n",
        "                   .orderBy(col('Avg_rating').desc())\n",
        "                   .limit(5))\n",
        "top_five_movies.show(truncate = False)\n"
      ],
      "metadata": {
        "id": "qU5R0daGXmJi",
        "outputId": "c300fb55-ad04-43a1-8a05-a8df509a8035",
        "colab": {
          "base_uri": "https://localhost:8080/"
        }
      },
      "execution_count": 111,
      "outputs": [
        {
          "output_type": "stream",
          "name": "stdout",
          "text": [
            "Enter the genre to filter movies: Action\n",
            "+--------------------------+----------+\n",
            "|title                     |Avg_rating|\n",
            "+--------------------------+----------+\n",
            "|Drunken Master 3 (1994)   |5.0       |\n",
            "|FB: Fighting Beat (2007)  |5.0       |\n",
            "|Legend of a Fighter (1982)|5.0       |\n",
            "|Shanghai 13 (1984)        |5.0       |\n",
            "|Street Level (2016)       |5.0       |\n",
            "+--------------------------+----------+\n",
            "\n"
          ]
        }
      ]
    },
    {
      "cell_type": "markdown",
      "source": [
        "**Movies with the Most Reviews:**\n",
        "\n",
        "Identify the movies with the highest number of ratings."
      ],
      "metadata": {
        "id": "pST_IMd2DRj9"
      }
    },
    {
      "cell_type": "code",
      "source": [
        "from pyspark.sql.functions import desc"
      ],
      "metadata": {
        "id": "eaD9ciA3alvz"
      },
      "execution_count": 112,
      "outputs": []
    },
    {
      "cell_type": "code",
      "source": [
        "most_reviews = movies_ratings_df.groupBy('movieId','title')\\\n",
        "              .agg(count(col('rating')).alias('No_of_reviews'))\\\n",
        "              .orderBy(col('No_of_reviews').desc())\\\n",
        "              .limit(1)\n",
        "most_reviews.show(truncate = False)"
      ],
      "metadata": {
        "id": "EvSoE32NZ6N9",
        "outputId": "d7a53f8d-46b9-4d9c-d07f-45a8bb1e82b2",
        "colab": {
          "base_uri": "https://localhost:8080/"
        }
      },
      "execution_count": 113,
      "outputs": [
        {
          "output_type": "stream",
          "name": "stdout",
          "text": [
            "+-------+--------------------------------+-------------+\n",
            "|movieId|title                           |No_of_reviews|\n",
            "+-------+--------------------------------+-------------+\n",
            "|318    |Shawshank Redemption, The (1994)|102929       |\n",
            "+-------+--------------------------------+-------------+\n",
            "\n"
          ]
        }
      ]
    },
    {
      "cell_type": "code",
      "source": [
        "x = movies_df.filter(col(\"title\").like(\"Shawshank Redemption%\"))\n",
        "x.show(truncate = False)"
      ],
      "metadata": {
        "id": "HnZpjosQbLq8",
        "outputId": "4bf9e736-b8b8-44d8-9a17-b6f0b28b3ed3",
        "colab": {
          "base_uri": "https://localhost:8080/"
        }
      },
      "execution_count": 114,
      "outputs": [
        {
          "output_type": "stream",
          "name": "stdout",
          "text": [
            "+-------+--------------------------------+-----------+----+\n",
            "|movieId|title                           |genres     |year|\n",
            "+-------+--------------------------------+-----------+----+\n",
            "|318    |Shawshank Redemption, The (1994)|Crime|Drama|1994|\n",
            "+-------+--------------------------------+-----------+----+\n",
            "\n"
          ]
        }
      ]
    },
    {
      "cell_type": "markdown",
      "source": [
        "**Step 4: Advanced Analysis**\n"
      ],
      "metadata": {
        "id": "PHgnTyYSbWfH"
      }
    },
    {
      "cell_type": "markdown",
      "source": [
        "**User-Specific Recommendations:**\n",
        "\n",
        "Build a basic recommendation system by suggesting top-rated movies that a user has not rated yet.\n"
      ],
      "metadata": {
        "id": "cloHEQ2Vbcrs"
      }
    },
    {
      "cell_type": "code",
      "source": [
        "top_rated_movies = movies_ratings_df.groupBy('movieId', 'title')\\\n",
        "    .agg(avg(col('rating')).alias('Avg_rating'))\\\n",
        "    .orderBy(col('Avg_rating').desc())\\\n",
        "    .limit(100)\\\n",
        "    .select('movieId','title')\n",
        "\n",
        "top_rated_movies.show(truncate = False)"
      ],
      "metadata": {
        "id": "1zGIhYDjbiLQ",
        "outputId": "a014bcc5-7764-4e2a-d09a-9eaa53c349fd",
        "colab": {
          "base_uri": "https://localhost:8080/"
        }
      },
      "execution_count": 115,
      "outputs": [
        {
          "output_type": "stream",
          "name": "stdout",
          "text": [
            "+-------+-------------------------------------------------------+\n",
            "|movieId|title                                                  |\n",
            "+-------+-------------------------------------------------------+\n",
            "|136996 |The Wrong Girl (1999)                                  |\n",
            "|117656 |Drunken Master 3 (1994)                                |\n",
            "|277798 |Frank & Zed (2020)                                     |\n",
            "|289775 |Toma (2021)                                            |\n",
            "|226640 |Zabardast (2018)                                       |\n",
            "|248740 |Legs - Atavism (2012)                                  |\n",
            "|226832 |The Beast (2014)                                       |\n",
            "|282565 |The Book of the Sea (2018)                             |\n",
            "|266250 |Brian Wilson: I Just Wasn't Made for These Times (1995)|\n",
            "|292047 |Bamboo Doll of Echizen (1963)                          |\n",
            "|289249 |Cirque du Soleil: Quidam (1999)                        |\n",
            "|267928 |Unreal News Reel (1923)                                |\n",
            "|137018 |A Sister's Revenge (2013)                              |\n",
            "|200016 |The Nagano Tapes (2018)                                |\n",
            "|216372 |Adoring (2019)                                         |\n",
            "|222374 |The Colossus of Destiny: A Melvins Tale (2016)         |\n",
            "|141064 |Uomo e galantuomo (1975)                               |\n",
            "|221334 |Bavaria - A magical journey (2012)                     |\n",
            "|282531 |A Night at the Kindergarten (2022)                     |\n",
            "|287247 |The Beach Boys: Making Pet Sounds (2017)               |\n",
            "+-------+-------------------------------------------------------+\n",
            "only showing top 20 rows\n",
            "\n"
          ]
        }
      ]
    },
    {
      "cell_type": "code",
      "source": [
        "total_users = movies_ratings_df.select('userId').distinct().count()\n",
        "print(total_users)"
      ],
      "metadata": {
        "id": "RaAoiAUJns59",
        "outputId": "23d38f8c-7bf6-40d6-cd51-e4c0b55e0b2d",
        "colab": {
          "base_uri": "https://localhost:8080/"
        }
      },
      "execution_count": 116,
      "outputs": [
        {
          "output_type": "stream",
          "name": "stdout",
          "text": [
            "200948\n"
          ]
        }
      ]
    },
    {
      "cell_type": "code",
      "source": [
        "distinct_user_ids = movies_ratings_df.select(movies_ratings_df.userId).distinct()\n",
        "distinct_user_ids.show(truncate = False)"
      ],
      "metadata": {
        "id": "CGHCumLU2UIB",
        "outputId": "9abcd568-a341-45f4-e0d4-d9a5f86e6e4e",
        "colab": {
          "base_uri": "https://localhost:8080/"
        }
      },
      "execution_count": 128,
      "outputs": [
        {
          "output_type": "stream",
          "name": "stdout",
          "text": [
            "+------+\n",
            "|userId|\n",
            "+------+\n",
            "|148   |\n",
            "|463   |\n",
            "|471   |\n",
            "|496   |\n",
            "|833   |\n",
            "|1088  |\n",
            "|1238  |\n",
            "|1342  |\n",
            "|1580  |\n",
            "|1591  |\n",
            "|1645  |\n",
            "|1829  |\n",
            "|1959  |\n",
            "|2122  |\n",
            "|2142  |\n",
            "|2366  |\n",
            "|2659  |\n",
            "|2866  |\n",
            "|3175  |\n",
            "|3749  |\n",
            "+------+\n",
            "only showing top 20 rows\n",
            "\n"
          ]
        }
      ]
    },
    {
      "cell_type": "code",
      "source": [
        "user_id_input = input('Enter user id')\n",
        "\n",
        "user_ratings = movies_ratings_df.filter(col('userId') == user_id_input).select('movieId','title')\n",
        "user_ratings.show(truncate = False)"
      ],
      "metadata": {
        "id": "Aav-nF2zl-TM",
        "outputId": "42294aea-bd6f-4993-d6bc-24bf677f379f",
        "colab": {
          "base_uri": "https://localhost:8080/"
        }
      },
      "execution_count": 117,
      "outputs": [
        {
          "output_type": "stream",
          "name": "stdout",
          "text": [
            "Enter user id1\n",
            "+-------+---------------------------------------------------------------+\n",
            "|movieId|title                                                          |\n",
            "+-------+---------------------------------------------------------------+\n",
            "|17     |Sense and Sensibility (1995)                                   |\n",
            "|25     |Leaving Las Vegas (1995)                                       |\n",
            "|29     |City of Lost Children, The (Cité des enfants perdus, La) (1995)|\n",
            "|30     |Shanghai Triad (Yao a yao yao dao waipo qiao) (1995)           |\n",
            "|32     |Twelve Monkeys (a.k.a. 12 Monkeys) (1995)                      |\n",
            "|34     |Babe (1995)                                                    |\n",
            "|36     |Dead Man Walking (1995)                                        |\n",
            "|80     |White Balloon, The (Badkonake sefid) (1995)                    |\n",
            "|110    |Braveheart (1995)                                              |\n",
            "|111    |Taxi Driver (1976)                                             |\n",
            "|161    |Crimson Tide (1995)                                            |\n",
            "|166    |Doom Generation, The (1995)                                    |\n",
            "|176    |Living in Oblivion (1995)                                      |\n",
            "|223    |Clerks (1994)                                                  |\n",
            "|232    |Eat Drink Man Woman (Yin shi nan nu) (1994)                    |\n",
            "|260    |Star Wars: Episode IV - A New Hope (1977)                      |\n",
            "|302    |Queen Margot (Reine Margot, La) (1994)                         |\n",
            "|306    |Three Colors: Red (Trois couleurs: Rouge) (1994)               |\n",
            "|307    |Three Colors: Blue (Trois couleurs: Bleu) (1993)               |\n",
            "|322    |Swimming with Sharks (1995)                                    |\n",
            "+-------+---------------------------------------------------------------+\n",
            "only showing top 20 rows\n",
            "\n"
          ]
        }
      ]
    },
    {
      "cell_type": "markdown",
      "source": [
        "\n",
        "The **left anti join** in PySpark is similar to the join functionality, but it returns only columns from the left DataFrame for non-matched records."
      ],
      "metadata": {
        "id": "dJo1yLfRrtdv"
      }
    },
    {
      "cell_type": "code",
      "source": [
        "recommended_movies_df = top_rated_movies.join(user_ratings, on='movieId', how='left_anti')\n",
        "recommended_movies_df.show(truncate = False)"
      ],
      "metadata": {
        "id": "xJJwmnnyqblL",
        "outputId": "fbbb83d1-1e5a-4a0b-a1df-ada23f8642a1",
        "colab": {
          "base_uri": "https://localhost:8080/"
        }
      },
      "execution_count": 118,
      "outputs": [
        {
          "output_type": "stream",
          "name": "stdout",
          "text": [
            "+-------+-------------------------------------------------------+\n",
            "|movieId|title                                                  |\n",
            "+-------+-------------------------------------------------------+\n",
            "|267948 |Christmas Cracker (1963)                               |\n",
            "|243480 |Jealousy Is My Middle Name (2002)                      |\n",
            "|247138 |The Science of Sleep (2016)                            |\n",
            "|172071 |Atelier Fontana (2011)                                 |\n",
            "|140369 |War Arrow (1954)                                       |\n",
            "|285265 |Love in Bloom (2022)                                   |\n",
            "|214182 |The Wedding Do Over (2018)                             |\n",
            "|289249 |Cirque du Soleil: Quidam (1999)                        |\n",
            "|257905 |The Sauce of Love (2021)                               |\n",
            "|228813 |The Hero's Journey: The World of Joseph Campbell (1987)|\n",
            "|143422 |2 (2007)                                               |\n",
            "|282531 |A Night at the Kindergarten (2022)                     |\n",
            "|267038 |Christmas in the Rockies (2021)                        |\n",
            "|267940 |Silvery Moon (1933)                                    |\n",
            "|237368 |Picture Perfect Royal Christmas (2019)                 |\n",
            "|226640 |Zabardast (2018)                                       |\n",
            "|290858 |The Wedding Veil Expectations (2023)                   |\n",
            "|137018 |A Sister's Revenge (2013)                              |\n",
            "|266054 |See You Next Christmas (2021)                          |\n",
            "|213177 |The Light in the Forest (1958)                         |\n",
            "+-------+-------------------------------------------------------+\n",
            "only showing top 20 rows\n",
            "\n"
          ]
        }
      ]
    },
    {
      "cell_type": "markdown",
      "source": [
        "left_anti join will keep only the movies that are not in the user’s rated movies list."
      ],
      "metadata": {
        "id": "ybIQKDcJr9Yc"
      }
    },
    {
      "cell_type": "markdown",
      "source": [
        "**Correlate Ratings and Release Year:**\n",
        "\n",
        "Analyze if there’s any correlation between the release year and the average rating of movies.\n"
      ],
      "metadata": {
        "id": "hSIlWQuGbeum"
      }
    },
    {
      "cell_type": "code",
      "source": [
        "avg_rating_year = movies_ratings_df.groupBy('year').agg(avg(col('rating')).alias('Avg_rating'))\n",
        "avg_rating_year.show(truncate = False)"
      ],
      "metadata": {
        "colab": {
          "base_uri": "https://localhost:8080/"
        },
        "id": "6KPIRsSPKZP-",
        "outputId": "585b225b-eed8-4912-9cda-79dfb5958454"
      },
      "execution_count": 119,
      "outputs": [
        {
          "output_type": "stream",
          "name": "stdout",
          "text": [
            "+----+------------------+\n",
            "|year|Avg_rating        |\n",
            "+----+------------------+\n",
            "|1959|3.8107774040575713|\n",
            "|1990|3.4513714113949603|\n",
            "|1896|2.9234972677595628|\n",
            "|1903|3.066532258064516 |\n",
            "|1975|3.8815535107687804|\n",
            "|1977|3.8233296303051407|\n",
            "|1888|2.577272727272727 |\n",
            "|1924|3.763372956909361 |\n",
            "|2003|3.47684039842985  |\n",
            "|2007|3.507449919061784 |\n",
            "|1892|2.7777777777777777|\n",
            "|2018|3.4762552780695954|\n",
            "|1974|3.8950891613262746|\n",
            "|2015|3.5664814492136325|\n",
            "|2023|3.345118898623279 |\n",
            "|1927|3.8604250713372035|\n",
            "|1955|3.719717275877964 |\n",
            "|1890|2.238095238095238 |\n",
            "|2006|3.555690373687808 |\n",
            "|1978|3.4619190067903967|\n",
            "+----+------------------+\n",
            "only showing top 20 rows\n",
            "\n"
          ]
        }
      ]
    },
    {
      "cell_type": "code",
      "source": [
        "avg_rating_year_pd = avg_rating_year.toPandas()\n",
        "correlation = avg_rating_year_pd['year'].astype(float).corr(avg_rating_year_pd['Avg_rating'])\n",
        "print(\"Correlation between release year and average rating: \",correlation)\n"
      ],
      "metadata": {
        "colab": {
          "base_uri": "https://localhost:8080/"
        },
        "id": "po0M4r6jKA4E",
        "outputId": "0aaf10d6-f388-4355-f1f4-65b42c8f1fef"
      },
      "execution_count": 120,
      "outputs": [
        {
          "output_type": "stream",
          "name": "stdout",
          "text": [
            "Correlation between release year and average rating:  0.3809941166120315\n"
          ]
        }
      ]
    },
    {
      "cell_type": "markdown",
      "source": [
        "In this we are caluclatuing Pearson correlation coefficient between the year and Avg_rating columns."
      ],
      "metadata": {
        "id": "omfJeuoAL6mC"
      }
    },
    {
      "cell_type": "markdown",
      "source": [
        "**Conclusion:** There appears to be a moderate trend where newer movies (those released more recently) tend to receive slightly higher average ratings than older movies as pearson correlation coefficient comes under moderate strength."
      ],
      "metadata": {
        "id": "xnfCd9lGMeYM"
      }
    },
    {
      "cell_type": "markdown",
      "source": [
        "**Genre Diversity in Top-Rated Movies:**\n",
        "\n",
        "Examine the genre diversity among the top 100 highest-rated movies."
      ],
      "metadata": {
        "id": "_ExUqekmbgqF"
      }
    },
    {
      "cell_type": "code",
      "source": [
        "top_rated_movies = movies_ratings_df.groupBy('movieId', 'title')\\\n",
        "    .agg(avg(col('rating')).alias('Avg_rating'))\\\n",
        "    .orderBy(col('Avg_rating').desc())\\\n",
        "    .limit(100)\\\n",
        "    .select('movieId','title')\n",
        "\n",
        "top_rated_movies.show(truncate = False)"
      ],
      "metadata": {
        "colab": {
          "base_uri": "https://localhost:8080/"
        },
        "id": "ZwOWTkRHM2KD",
        "outputId": "acf1dd67-4519-4884-e629-d4e7293c03cb"
      },
      "execution_count": 121,
      "outputs": [
        {
          "output_type": "stream",
          "name": "stdout",
          "text": [
            "+-------+-------------------------------------------------------+\n",
            "|movieId|title                                                  |\n",
            "+-------+-------------------------------------------------------+\n",
            "|136996 |The Wrong Girl (1999)                                  |\n",
            "|117656 |Drunken Master 3 (1994)                                |\n",
            "|277798 |Frank & Zed (2020)                                     |\n",
            "|289775 |Toma (2021)                                            |\n",
            "|226640 |Zabardast (2018)                                       |\n",
            "|248740 |Legs - Atavism (2012)                                  |\n",
            "|226832 |The Beast (2014)                                       |\n",
            "|282565 |The Book of the Sea (2018)                             |\n",
            "|266250 |Brian Wilson: I Just Wasn't Made for These Times (1995)|\n",
            "|292047 |Bamboo Doll of Echizen (1963)                          |\n",
            "|289249 |Cirque du Soleil: Quidam (1999)                        |\n",
            "|267928 |Unreal News Reel (1923)                                |\n",
            "|137018 |A Sister's Revenge (2013)                              |\n",
            "|200016 |The Nagano Tapes (2018)                                |\n",
            "|216372 |Adoring (2019)                                         |\n",
            "|222374 |The Colossus of Destiny: A Melvins Tale (2016)         |\n",
            "|141064 |Uomo e galantuomo (1975)                               |\n",
            "|221334 |Bavaria - A magical journey (2012)                     |\n",
            "|282531 |A Night at the Kindergarten (2022)                     |\n",
            "|287247 |The Beach Boys: Making Pet Sounds (2017)               |\n",
            "+-------+-------------------------------------------------------+\n",
            "only showing top 20 rows\n",
            "\n"
          ]
        }
      ]
    },
    {
      "cell_type": "code",
      "source": [
        "from pyspark.sql.functions import explode,countDistinct"
      ],
      "metadata": {
        "id": "aUMxAAudOFYE"
      },
      "execution_count": 122,
      "outputs": []
    },
    {
      "cell_type": "code",
      "source": [
        "movies_df_aliased = movies_df.alias('m')\n",
        "top_rated_movies_aliased = top_rated_movies.alias('t')\n",
        "\n",
        "\n",
        "genres_split_df = movies_df_aliased.withColumn(\"genre\", explode(split(col(\"genres\"), \"\\\\|\"))) \\\n",
        "                                   .join(top_rated_movies_aliased, on=\"movieId\") \\\n",
        "                                   .select('m.title', 'genre')\n",
        "\n",
        "genres_split_df.show(truncate=False)\n"
      ],
      "metadata": {
        "colab": {
          "base_uri": "https://localhost:8080/"
        },
        "id": "2sUXzOlWO4kM",
        "outputId": "c0ae4187-43a7-4bfe-8a6e-06d8bb95c8e8"
      },
      "execution_count": 123,
      "outputs": [
        {
          "metadata": {
            "tags": null
          },
          "name": "stdout",
          "output_type": "stream",
          "text": [
            "+------------------------------+-----------+\n",
            "|title                         |genre      |\n",
            "+------------------------------+-----------+\n",
            "|Fitzgerald (2002)             |Drama      |\n",
            "|Until They Sail (1957)        |Drama      |\n",
            "|Until They Sail (1957)        |Romance    |\n",
            "|Until They Sail (1957)        |War        |\n",
            "|A Sister's Revenge (2013)     |Drama      |\n",
            "|A Sister's Revenge (2013)     |Mystery    |\n",
            "|A Sister's Revenge (2013)     |Thriller   |\n",
            "|The Perfect Neighbor (2005)   |Drama      |\n",
            "|The Perfect Neighbor (2005)   |Thriller   |\n",
            "|War Arrow (1954)              |Adventure  |\n",
            "|War Arrow (1954)              |Drama      |\n",
            "|War Arrow (1954)              |Romance    |\n",
            "|War Arrow (1954)              |War        |\n",
            "|War Arrow (1954)              |Western    |\n",
            "|Uomo e galantuomo (1975)      |Comedy     |\n",
            "|2 (2007)                      |Drama      |\n",
            "|Tammy and the Doctor (1963)   |Comedy     |\n",
            "|Tammy and the Doctor (1963)   |Romance    |\n",
            "|Who Killed Chea Vichea? (2010)|Documentary|\n",
            "|The Far Pavilions (1984)      |Drama      |\n",
            "+------------------------------+-----------+\n",
            "only showing top 20 rows\n",
            "\n"
          ]
        }
      ]
    },
    {
      "cell_type": "code",
      "source": [
        "# Count distinct genres\n",
        "genre_diversity = genres_split_df.groupBy(\"title\") \\\n",
        "                                .agg(countDistinct(\"genre\").alias(\"distinct_genres\"))\n",
        "genre_diversity = genre_diversity.orderBy(col('distinct_genres').desc())\n",
        "genre_diversity.show(truncate = False)"
      ],
      "metadata": {
        "colab": {
          "base_uri": "https://localhost:8080/"
        },
        "id": "9tb-1UVyOT2e",
        "outputId": "09dd32f3-4548-4aae-d83c-35799e99c985"
      },
      "execution_count": 124,
      "outputs": [
        {
          "output_type": "stream",
          "name": "stdout",
          "text": [
            "+--------------------------------------------------+---------------+\n",
            "|title                                             |distinct_genres|\n",
            "+--------------------------------------------------+---------------+\n",
            "|War Arrow (1954)                                  |5              |\n",
            "|Christmas Cracker (1963)                          |4              |\n",
            "|The Light in the Forest (1958)                    |4              |\n",
            "|Me Sinto Bem com Você (2021)                      |3              |\n",
            "|Silvery Moon (1933)                               |3              |\n",
            "|Paper Marriage (1988)                             |3              |\n",
            "|Until They Sail (1957)                            |3              |\n",
            "|A Sister's Revenge (2013)                         |3              |\n",
            "|See You Next Christmas (2021)                     |3              |\n",
            "|Nico the Unicorn (1998)                           |3              |\n",
            "|The Final Exit of the Disciples of Ascensia (2019)|3              |\n",
            "|B&B Merry (2022)                                  |3              |\n",
            "|Lung (2016)                                       |3              |\n",
            "|The Beast (2014)                                  |3              |\n",
            "|The Sauce of Love (2021)                          |3              |\n",
            "|The Trouble with Mistletoe (2017)                 |2              |\n",
            "|The Wedding Veil Expectations (2023)              |2              |\n",
            "|Return to Christmas Creek (2018)                  |2              |\n",
            "|Alien Girl (2010)                                 |2              |\n",
            "|Daredevils of the Red Circle (1939)               |2              |\n",
            "+--------------------------------------------------+---------------+\n",
            "only showing top 20 rows\n",
            "\n"
          ]
        }
      ]
    },
    {
      "cell_type": "markdown",
      "source": [
        "**Total Genre Counts:**\n",
        "\n",
        "You might want to count how many times each genre appears across all the top 100 movies.\n"
      ],
      "metadata": {
        "id": "09F2dNP6S4Dx"
      }
    },
    {
      "cell_type": "code",
      "source": [
        "total_count = genres_split_df.groupBy('genre').agg(count(col('genre')).alias('No_of_count'))\n",
        "total_count = total_count.orderBy(col('No_of_count').desc())\n",
        "total_count.show(truncate = False)"
      ],
      "metadata": {
        "colab": {
          "base_uri": "https://localhost:8080/"
        },
        "id": "honA_vpPS-2b",
        "outputId": "b27b4a1b-e216-4a9f-ebff-96e23c55dd84"
      },
      "execution_count": 125,
      "outputs": [
        {
          "output_type": "stream",
          "name": "stdout",
          "text": [
            "+-----------+-----------+\n",
            "|genre      |No_of_count|\n",
            "+-----------+-----------+\n",
            "|Romance    |52         |\n",
            "|Comedy     |33         |\n",
            "|Drama      |31         |\n",
            "|Documentary|15         |\n",
            "|Animation  |6          |\n",
            "|Children   |5          |\n",
            "|Action     |5          |\n",
            "|Thriller   |4          |\n",
            "|War        |4          |\n",
            "|Horror     |4          |\n",
            "|Adventure  |3          |\n",
            "|Fantasy    |3          |\n",
            "|Mystery    |2          |\n",
            "|Western    |2          |\n",
            "|Crime      |1          |\n",
            "|Sci-Fi     |1          |\n",
            "+-----------+-----------+\n",
            "\n"
          ]
        }
      ]
    },
    {
      "cell_type": "markdown",
      "source": [
        "**Percentage Representation:**\n",
        "\n",
        "Calculate the percentage representation of each genre among the top-rated movies to understand which genres dominate."
      ],
      "metadata": {
        "id": "-rY5JeNdS9e9"
      }
    },
    {
      "cell_type": "code",
      "source": [
        "from pyspark.sql.functions import round, col\n",
        "\n",
        "percentage_count = total_count.withColumn('percentage_out_of_5',(col('No_of_count') / 5) * 100)\n",
        "percentage_count.show(truncate=False)"
      ],
      "metadata": {
        "id": "19W52WlHTpik",
        "outputId": "63f7fb81-0452-4e72-f66d-ffae2f093541",
        "colab": {
          "base_uri": "https://localhost:8080/"
        }
      },
      "execution_count": 126,
      "outputs": [
        {
          "output_type": "stream",
          "name": "stdout",
          "text": [
            "+-----------+-----------+-------------------+\n",
            "|genre      |No_of_count|percentage_out_of_5|\n",
            "+-----------+-----------+-------------------+\n",
            "|Romance    |52         |1040.0             |\n",
            "|Comedy     |33         |660.0              |\n",
            "|Drama      |31         |620.0              |\n",
            "|Documentary|15         |300.0              |\n",
            "|Animation  |6          |120.0              |\n",
            "|Children   |5          |100.0              |\n",
            "|Action     |5          |100.0              |\n",
            "|Thriller   |4          |80.0               |\n",
            "|War        |4          |80.0               |\n",
            "|Horror     |4          |80.0               |\n",
            "|Adventure  |3          |60.0               |\n",
            "|Fantasy    |3          |60.0               |\n",
            "|Mystery    |2          |40.0               |\n",
            "|Western    |2          |40.0               |\n",
            "|Crime      |1          |20.0               |\n",
            "|Sci-Fi     |1          |20.0               |\n",
            "+-----------+-----------+-------------------+\n",
            "\n"
          ]
        }
      ]
    },
    {
      "cell_type": "markdown",
      "source": [
        "**Step 5: Performance Optimization**\n"
      ],
      "metadata": {
        "id": "dghnTYxbbrpK"
      }
    },
    {
      "cell_type": "markdown",
      "source": [
        "**Cache and Persist:**\n",
        "\n",
        "Use caching and persistence in PySpark to optimize the performance of your queries.\n"
      ],
      "metadata": {
        "id": "_xkZ3HA1bzPS"
      }
    },
    {
      "cell_type": "markdown",
      "source": [
        "**Partitioning:**\n",
        "\n",
        "Apply partitioning to the data to improve the efficiency of operations, especially for large datasets.\n"
      ],
      "metadata": {
        "id": "9NqIhsoJb0Jt"
      }
    },
    {
      "cell_type": "markdown",
      "source": [
        "**Step 6: Visualization**\n",
        "\n",
        "**Visualize Data:**\n",
        "Use PySpark with an external library like Matplotlib, Seaborn, or even Power BI to create visualizations such as:\n",
        "Distribution of ratings.\n",
        "Average rating per genre.\n",
        "Trends in movie ratings over the years."
      ],
      "metadata": {
        "id": "TSK8gffbb30I"
      }
    }
  ],
  "metadata": {
    "colab": {
      "name": "Welcome To Colab",
      "provenance": [],
      "include_colab_link": true
    },
    "kernelspec": {
      "display_name": "Python 3",
      "name": "python3"
    }
  },
  "nbformat": 4,
  "nbformat_minor": 0
}